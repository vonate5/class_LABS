{
 "cells": [
  {
   "cell_type": "code",
   "execution_count": 1,
   "id": "5fe6a90b",
   "metadata": {},
   "outputs": [],
   "source": [
    "import pymysql\n",
    "from sqlalchemy import create_engine\n",
    "import pandas as pd"
   ]
  },
  {
   "cell_type": "code",
   "execution_count": 3,
   "id": "dd691a2c",
   "metadata": {},
   "outputs": [
    {
     "name": "stdout",
     "output_type": "stream",
     "text": [
      "········\n"
     ]
    }
   ],
   "source": [
    "import pymysql\n",
    "from sqlalchemy import create_engine\n",
    "import pandas as pd\n",
    "import getpass\n",
    "password = getpass.getpass()"
   ]
  },
  {
   "cell_type": "code",
   "execution_count": 4,
   "id": "30bf77aa",
   "metadata": {},
   "outputs": [],
   "source": [
    "connection_string = 'mysql+pymysql://root:' + password + '@localhost/sakila'\n",
    "engine = create_engine(connection_string)"
   ]
  },
  {
   "cell_type": "code",
   "execution_count": 7,
   "id": "73944137",
   "metadata": {},
   "outputs": [],
   "source": [
    "df = pd.read_sql_query('select * from film_rentals1', engine)"
   ]
  },
  {
   "cell_type": "code",
   "execution_count": 9,
   "id": "c55711c6",
   "metadata": {},
   "outputs": [
    {
     "data": {
      "text/html": [
       "<div>\n",
       "<style scoped>\n",
       "    .dataframe tbody tr th:only-of-type {\n",
       "        vertical-align: middle;\n",
       "    }\n",
       "\n",
       "    .dataframe tbody tr th {\n",
       "        vertical-align: top;\n",
       "    }\n",
       "\n",
       "    .dataframe thead th {\n",
       "        text-align: right;\n",
       "    }\n",
       "</style>\n",
       "<table border=\"1\" class=\"dataframe\">\n",
       "  <thead>\n",
       "    <tr style=\"text-align: right;\">\n",
       "      <th></th>\n",
       "      <th>title</th>\n",
       "      <th>Avg of Actual Days Rented</th>\n",
       "      <th>Date of Rental</th>\n",
       "      <th>rental_duration</th>\n",
       "      <th>AVG Rental Rate</th>\n",
       "      <th>Rent Frequency</th>\n",
       "      <th>inventory_id</th>\n",
       "    </tr>\n",
       "  </thead>\n",
       "  <tbody>\n",
       "    <tr>\n",
       "      <th>0</th>\n",
       "      <td>VIRGINIAN PLUTO</td>\n",
       "      <td>NaN</td>\n",
       "      <td>February-2006</td>\n",
       "      <td>5</td>\n",
       "      <td>0.99</td>\n",
       "      <td>1</td>\n",
       "      <td>4334</td>\n",
       "    </tr>\n",
       "    <tr>\n",
       "      <th>1</th>\n",
       "      <td>VIRGINIAN PLUTO</td>\n",
       "      <td>9.0</td>\n",
       "      <td>July-2005</td>\n",
       "      <td>5</td>\n",
       "      <td>0.99</td>\n",
       "      <td>1</td>\n",
       "      <td>4335</td>\n",
       "    </tr>\n",
       "    <tr>\n",
       "      <th>2</th>\n",
       "      <td>VIRGINIAN PLUTO</td>\n",
       "      <td>6.0</td>\n",
       "      <td>August-2005</td>\n",
       "      <td>5</td>\n",
       "      <td>0.99</td>\n",
       "      <td>1</td>\n",
       "      <td>4335</td>\n",
       "    </tr>\n",
       "    <tr>\n",
       "      <th>3</th>\n",
       "      <td>VIRGINIAN PLUTO</td>\n",
       "      <td>3.0</td>\n",
       "      <td>July-2005</td>\n",
       "      <td>5</td>\n",
       "      <td>0.99</td>\n",
       "      <td>1</td>\n",
       "      <td>4336</td>\n",
       "    </tr>\n",
       "    <tr>\n",
       "      <th>4</th>\n",
       "      <td>VIRGINIAN PLUTO</td>\n",
       "      <td>2.0</td>\n",
       "      <td>July-2005</td>\n",
       "      <td>5</td>\n",
       "      <td>0.99</td>\n",
       "      <td>1</td>\n",
       "      <td>4336</td>\n",
       "    </tr>\n",
       "  </tbody>\n",
       "</table>\n",
       "</div>"
      ],
      "text/plain": [
       "             title  Avg of Actual Days Rented Date of Rental  rental_duration  \\\n",
       "0  VIRGINIAN PLUTO                        NaN  February-2006                5   \n",
       "1  VIRGINIAN PLUTO                        9.0      July-2005                5   \n",
       "2  VIRGINIAN PLUTO                        6.0    August-2005                5   \n",
       "3  VIRGINIAN PLUTO                        3.0      July-2005                5   \n",
       "4  VIRGINIAN PLUTO                        2.0      July-2005                5   \n",
       "\n",
       "   AVG Rental Rate  Rent Frequency  inventory_id  \n",
       "0             0.99               1          4334  \n",
       "1             0.99               1          4335  \n",
       "2             0.99               1          4335  \n",
       "3             0.99               1          4336  \n",
       "4             0.99               1          4336  "
      ]
     },
     "execution_count": 9,
     "metadata": {},
     "output_type": "execute_result"
    }
   ],
   "source": [
    "df.head()"
   ]
  },
  {
   "cell_type": "code",
   "execution_count": 11,
   "id": "377cdb49",
   "metadata": {},
   "outputs": [
    {
     "name": "stdout",
     "output_type": "stream",
     "text": [
      "<class 'pandas.core.frame.DataFrame'>\n",
      "RangeIndex: 16045 entries, 0 to 16044\n",
      "Data columns (total 7 columns):\n",
      " #   Column                     Non-Null Count  Dtype  \n",
      "---  ------                     --------------  -----  \n",
      " 0   title                      16045 non-null  object \n",
      " 1   Avg of Actual Days Rented  15861 non-null  float64\n",
      " 2   Date of Rental             16045 non-null  object \n",
      " 3   rental_duration            16045 non-null  int64  \n",
      " 4   AVG Rental Rate            16045 non-null  float64\n",
      " 5   Rent Frequency             16045 non-null  int64  \n",
      " 6   inventory_id               16045 non-null  int64  \n",
      "dtypes: float64(2), int64(3), object(2)\n",
      "memory usage: 877.6+ KB\n"
     ]
    }
   ],
   "source": [
    "df.info()"
   ]
  },
  {
   "cell_type": "code",
   "execution_count": 14,
   "id": "91a17a8a",
   "metadata": {},
   "outputs": [],
   "source": [
    "data = df[~df['Avg of Actual Days Rented'].isna()]"
   ]
  },
  {
   "cell_type": "code",
   "execution_count": 15,
   "id": "ac6555c5",
   "metadata": {},
   "outputs": [
    {
     "data": {
      "text/plain": [
       "title                        0\n",
       "Avg of Actual Days Rented    0\n",
       "Date of Rental               0\n",
       "rental_duration              0\n",
       "AVG Rental Rate              0\n",
       "Rent Frequency               0\n",
       "inventory_id                 0\n",
       "dtype: int64"
      ]
     },
     "execution_count": 15,
     "metadata": {},
     "output_type": "execute_result"
    }
   ],
   "source": [
    "data.isna().sum()"
   ]
  },
  {
   "cell_type": "code",
   "execution_count": 16,
   "id": "a0b0db3e",
   "metadata": {},
   "outputs": [
    {
     "name": "stdout",
     "output_type": "stream",
     "text": [
      "<class 'pandas.core.frame.DataFrame'>\n",
      "Int64Index: 15861 entries, 1 to 16044\n",
      "Data columns (total 7 columns):\n",
      " #   Column                     Non-Null Count  Dtype  \n",
      "---  ------                     --------------  -----  \n",
      " 0   title                      15861 non-null  object \n",
      " 1   Avg of Actual Days Rented  15861 non-null  float64\n",
      " 2   Date of Rental             15861 non-null  object \n",
      " 3   rental_duration            15861 non-null  int64  \n",
      " 4   AVG Rental Rate            15861 non-null  float64\n",
      " 5   Rent Frequency             15861 non-null  int64  \n",
      " 6   inventory_id               15861 non-null  int64  \n",
      "dtypes: float64(2), int64(3), object(2)\n",
      "memory usage: 991.3+ KB\n"
     ]
    }
   ],
   "source": [
    "data.info()"
   ]
  },
  {
   "cell_type": "code",
   "execution_count": 23,
   "id": "91321c80",
   "metadata": {},
   "outputs": [
    {
     "name": "stderr",
     "output_type": "stream",
     "text": [
      "/Users/vonate/opt/anaconda3/lib/python3.8/site-packages/pandas/core/frame.py:4308: SettingWithCopyWarning: \n",
      "A value is trying to be set on a copy of a slice from a DataFrame\n",
      "\n",
      "See the caveats in the documentation: https://pandas.pydata.org/pandas-docs/stable/user_guide/indexing.html#returning-a-view-versus-a-copy\n",
      "  return super().drop(\n"
     ]
    }
   ],
   "source": [
    "data.drop(['Rent Frequency'], axis = 1, inplace = True) "
   ]
  },
  {
   "cell_type": "code",
   "execution_count": 24,
   "id": "1b3c570f",
   "metadata": {},
   "outputs": [],
   "source": [
    "import matplotlib.pyplot as plt\n",
    "import seaborn as sns"
   ]
  },
  {
   "cell_type": "code",
   "execution_count": 25,
   "id": "8ede789e",
   "metadata": {},
   "outputs": [],
   "source": [
    "corr_matrix = data.corr()"
   ]
  },
  {
   "cell_type": "code",
   "execution_count": 29,
   "id": "a8c86b93",
   "metadata": {},
   "outputs": [
    {
     "data": {
      "image/png": "[encoded data removed]",
      "text/plain": [
       "<Figure size 720x576 with 2 Axes>"
      ]
     },
     "metadata": {
      "needs_background": "light"
     },
     "output_type": "display_data"
    }
   ],
   "source": [
    "fig, ax = plt.subplots(figsize=(10,8))\n",
    "sns.heatmap(corr_matrix,\n",
    "           cmap='ocean',\n",
    "           center=0,\n",
    "           annot=True,\n",
    "           );"
   ]
  },
  {
   "cell_type": "code",
   "execution_count": null,
   "id": "926b829c",
   "metadata": {},
   "outputs": [],
   "source": []
  },
  {
   "cell_type": "code",
   "execution_count": null,
   "id": "c70c8773",
   "metadata": {},
   "outputs": [],
   "source": []
  },
  {
   "cell_type": "code",
   "execution_count": null,
   "id": "fad4e9ed",
   "metadata": {},
   "outputs": [],
   "source": []
  },
  {
   "cell_type": "code",
   "execution_count": null,
   "id": "03dd0bff",
   "metadata": {},
   "outputs": [],
   "source": []
  }
 ],
 "metadata": {
  "kernelspec": {
   "display_name": "Python 3",
   "language": "python",
   "name": "python3"
  },
  "language_info": {
   "codemirror_mode": {
    "name": "ipython",
    "version": 3
   },
   "file_extension": ".py",
   "mimetype": "text/x-python",
   "name": "python",
   "nbconvert_exporter": "python",
   "pygments_lexer": "ipython3",
   "version": "3.8.8"
  }
 },
 "nbformat": 4,
 "nbformat_minor": 5
}
