{
 "cells": [
  {
   "cell_type": "code",
   "execution_count": 2,
   "id": "eb3d5c3e",
   "metadata": {},
   "outputs": [],
   "source": [
    "import numpy as np\n",
    "import pandas as pd"
   ]
  },
  {
   "cell_type": "code",
   "execution_count": 3,
   "id": "8ef30d29",
   "metadata": {},
   "outputs": [
    {
     "name": "stdout",
     "output_type": "stream",
     "text": [
      "Lab | Imbalanced data.ipynb  customer_churn.txt\r\n"
     ]
    }
   ],
   "source": [
    "ls"
   ]
  },
  {
   "cell_type": "code",
   "execution_count": 4,
   "id": "a41da6fc",
   "metadata": {},
   "outputs": [],
   "source": [
    "df = pd.read_csv('customer_churn.txt', sep=\" \", header=None, names=[\"a\", \"b\", \"c\"])"
   ]
  },
  {
   "cell_type": "code",
   "execution_count": 6,
   "id": "03509ddc",
   "metadata": {},
   "outputs": [
    {
     "data": {
      "text/html": [
       "<div>\n",
       "<style scoped>\n",
       "    .dataframe tbody tr th:only-of-type {\n",
       "        vertical-align: middle;\n",
       "    }\n",
       "\n",
       "    .dataframe tbody tr th {\n",
       "        vertical-align: top;\n",
       "    }\n",
       "\n",
       "    .dataframe thead th {\n",
       "        text-align: right;\n",
       "    }\n",
       "</style>\n",
       "<table border=\"1\" class=\"dataframe\">\n",
       "  <thead>\n",
       "    <tr style=\"text-align: right;\">\n",
       "      <th></th>\n",
       "      <th>a</th>\n",
       "      <th>b</th>\n",
       "      <th>c</th>\n",
       "    </tr>\n",
       "  </thead>\n",
       "  <tbody>\n",
       "    <tr>\n",
       "      <th>0</th>\n",
       "      <td>customerID,gender,SeniorCitizen,Partner,Depend...</td>\n",
       "      <td>NaN</td>\n",
       "      <td>NaN</td>\n",
       "    </tr>\n",
       "    <tr>\n",
       "      <th>1</th>\n",
       "      <td>7590-VHVEG,Female,0,Yes,No,1,No,No</td>\n",
       "      <td>phone</td>\n",
       "      <td>service,DSL,No,Yes,No,No,No,No,Month-to-month,...</td>\n",
       "    </tr>\n",
       "    <tr>\n",
       "      <th>2</th>\n",
       "      <td>5575-GNVDE,Male,0,No,No,34,Yes,No,DSL,Yes,No,Y...</td>\n",
       "      <td>year,No,Mailed</td>\n",
       "      <td>check,56.95,1889.5,No</td>\n",
       "    </tr>\n",
       "    <tr>\n",
       "      <th>3</th>\n",
       "      <td>3668-QPYBK,Male,0,No,No,2,Yes,No,DSL,Yes,Yes,N...</td>\n",
       "      <td>check,53.85,108.15,Yes</td>\n",
       "      <td>NaN</td>\n",
       "    </tr>\n",
       "    <tr>\n",
       "      <th>4</th>\n",
       "      <td>7795-CFOCW,Male,0,No,No,45,No,No</td>\n",
       "      <td>phone</td>\n",
       "      <td>service,DSL,Yes,No,Yes,Yes,No,No,One</td>\n",
       "    </tr>\n",
       "  </tbody>\n",
       "</table>\n",
       "</div>"
      ],
      "text/plain": [
       "                                                   a                       b  \\\n",
       "0  customerID,gender,SeniorCitizen,Partner,Depend...                     NaN   \n",
       "1                 7590-VHVEG,Female,0,Yes,No,1,No,No                   phone   \n",
       "2  5575-GNVDE,Male,0,No,No,34,Yes,No,DSL,Yes,No,Y...          year,No,Mailed   \n",
       "3  3668-QPYBK,Male,0,No,No,2,Yes,No,DSL,Yes,Yes,N...  check,53.85,108.15,Yes   \n",
       "4                   7795-CFOCW,Male,0,No,No,45,No,No                   phone   \n",
       "\n",
       "                                                   c  \n",
       "0                                                NaN  \n",
       "1  service,DSL,No,Yes,No,No,No,No,Month-to-month,...  \n",
       "2                              check,56.95,1889.5,No  \n",
       "3                                                NaN  \n",
       "4               service,DSL,Yes,No,Yes,Yes,No,No,One  "
      ]
     },
     "execution_count": 6,
     "metadata": {},
     "output_type": "execute_result"
    }
   ],
   "source": [
    "df.head()"
   ]
  },
  {
   "cell_type": "code",
   "execution_count": null,
   "id": "b580a23e",
   "metadata": {},
   "outputs": [],
   "source": []
  }
 ],
 "metadata": {
  "kernelspec": {
   "display_name": "Python 3",
   "language": "python",
   "name": "python3"
  },
  "language_info": {
   "codemirror_mode": {
    "name": "ipython",
    "version": 3
   },
   "file_extension": ".py",
   "mimetype": "text/x-python",
   "name": "python",
   "nbconvert_exporter": "python",
   "pygments_lexer": "ipython3",
   "version": "3.8.8"
  }
 },
 "nbformat": 4,
 "nbformat_minor": 5
}
