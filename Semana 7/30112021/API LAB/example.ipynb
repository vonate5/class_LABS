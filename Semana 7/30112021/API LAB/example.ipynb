{
 "cells": [
  {
   "cell_type": "code",
   "execution_count": 1,
   "metadata": {},
   "outputs": [],
   "source": [
    "import pandas as pd\n",
    "import requests\n",
    "import json\n",
    "import matplotlib\n",
    "%matplotlib inline"
   ]
  },
  {
   "cell_type": "markdown",
   "metadata": {},
   "source": [
    "# Dogecoin and Bitcoin market value for last 30 days, vs. USD, deliver a DF and a Plot"
   ]
  },
  {
   "cell_type": "code",
   "execution_count": 2,
   "metadata": {},
   "outputs": [],
   "source": [
    "base = 'https://api.coingecko.com/api/v3/'"
   ]
  },
  {
   "cell_type": "code",
   "execution_count": 3,
   "metadata": {},
   "outputs": [],
   "source": [
    "url = base + 'coins/bitcoin/market_chart?vs_currency=usd&days=30'"
   ]
  },
  {
   "cell_type": "code",
   "execution_count": 4,
   "metadata": {},
   "outputs": [],
   "source": [
    "result = requests.get(url)\n",
    "j_bc = result.json()"
   ]
  },
  {
   "cell_type": "code",
   "execution_count": 5,
   "metadata": {},
   "outputs": [
    {
     "data": {
      "text/html": [
       "<div>\n",
       "<style scoped>\n",
       "    .dataframe tbody tr th:only-of-type {\n",
       "        vertical-align: middle;\n",
       "    }\n",
       "\n",
       "    .dataframe tbody tr th {\n",
       "        vertical-align: top;\n",
       "    }\n",
       "\n",
       "    .dataframe thead th {\n",
       "        text-align: right;\n",
       "    }\n",
       "</style>\n",
       "<table border=\"1\" class=\"dataframe\">\n",
       "  <thead>\n",
       "    <tr style=\"text-align: right;\">\n",
       "      <th></th>\n",
       "      <th>time</th>\n",
       "      <th>price</th>\n",
       "    </tr>\n",
       "  </thead>\n",
       "  <tbody>\n",
       "    <tr>\n",
       "      <th>0</th>\n",
       "      <td>1635699685680</td>\n",
       "      <td>60875.680565</td>\n",
       "    </tr>\n",
       "    <tr>\n",
       "      <th>1</th>\n",
       "      <td>1635703647083</td>\n",
       "      <td>60780.684005</td>\n",
       "    </tr>\n",
       "    <tr>\n",
       "      <th>2</th>\n",
       "      <td>1635706833298</td>\n",
       "      <td>60859.058541</td>\n",
       "    </tr>\n",
       "    <tr>\n",
       "      <th>3</th>\n",
       "      <td>1635710689232</td>\n",
       "      <td>60797.915285</td>\n",
       "    </tr>\n",
       "    <tr>\n",
       "      <th>4</th>\n",
       "      <td>1635714049109</td>\n",
       "      <td>61059.778572</td>\n",
       "    </tr>\n",
       "    <tr>\n",
       "      <th>5</th>\n",
       "      <td>1635717755725</td>\n",
       "      <td>61564.920919</td>\n",
       "    </tr>\n",
       "    <tr>\n",
       "      <th>6</th>\n",
       "      <td>1635721258788</td>\n",
       "      <td>61472.844726</td>\n",
       "    </tr>\n",
       "    <tr>\n",
       "      <th>7</th>\n",
       "      <td>1635725007402</td>\n",
       "      <td>61367.725644</td>\n",
       "    </tr>\n",
       "    <tr>\n",
       "      <th>8</th>\n",
       "      <td>1635728421286</td>\n",
       "      <td>61569.098571</td>\n",
       "    </tr>\n",
       "    <tr>\n",
       "      <th>9</th>\n",
       "      <td>1635732570710</td>\n",
       "      <td>61331.467774</td>\n",
       "    </tr>\n",
       "  </tbody>\n",
       "</table>\n",
       "</div>"
      ],
      "text/plain": [
       "            time         price\n",
       "0  1635699685680  60875.680565\n",
       "1  1635703647083  60780.684005\n",
       "2  1635706833298  60859.058541\n",
       "3  1635710689232  60797.915285\n",
       "4  1635714049109  61059.778572\n",
       "5  1635717755725  61564.920919\n",
       "6  1635721258788  61472.844726\n",
       "7  1635725007402  61367.725644\n",
       "8  1635728421286  61569.098571\n",
       "9  1635732570710  61331.467774"
      ]
     },
     "execution_count": 5,
     "metadata": {},
     "output_type": "execute_result"
    }
   ],
   "source": [
    "df_bc = pd.DataFrame(j_bc['prices'], columns=['time', 'price'])\n",
    "df_bc.head(10)"
   ]
  },
  {
   "cell_type": "code",
   "execution_count": 6,
   "metadata": {},
   "outputs": [],
   "source": [
    "url = base + 'coins/dogecoin/market_chart'\n"
   ]
  },
  {
   "cell_type": "code",
   "execution_count": 7,
   "metadata": {},
   "outputs": [],
   "source": [
    "param_dict = { 'id':'dogecoin', 'vs_currency':'usd', 'days':30}\n"
   ]
  },
  {
   "cell_type": "code",
   "execution_count": 8,
   "metadata": {},
   "outputs": [],
   "source": [
    "result = requests.get(url, params=param_dict)\n"
   ]
  },
  {
   "cell_type": "code",
   "execution_count": 9,
   "metadata": {},
   "outputs": [
    {
     "data": {
      "text/html": [
       "<div>\n",
       "<style scoped>\n",
       "    .dataframe tbody tr th:only-of-type {\n",
       "        vertical-align: middle;\n",
       "    }\n",
       "\n",
       "    .dataframe tbody tr th {\n",
       "        vertical-align: top;\n",
       "    }\n",
       "\n",
       "    .dataframe thead th {\n",
       "        text-align: right;\n",
       "    }\n",
       "</style>\n",
       "<table border=\"1\" class=\"dataframe\">\n",
       "  <thead>\n",
       "    <tr style=\"text-align: right;\">\n",
       "      <th></th>\n",
       "      <th>time</th>\n",
       "      <th>price</th>\n",
       "    </tr>\n",
       "  </thead>\n",
       "  <tbody>\n",
       "    <tr>\n",
       "      <th>0</th>\n",
       "      <td>1635700037947</td>\n",
       "      <td>0.263216</td>\n",
       "    </tr>\n",
       "    <tr>\n",
       "      <th>1</th>\n",
       "      <td>1635703310361</td>\n",
       "      <td>0.261953</td>\n",
       "    </tr>\n",
       "    <tr>\n",
       "      <th>2</th>\n",
       "      <td>1635707284764</td>\n",
       "      <td>0.274396</td>\n",
       "    </tr>\n",
       "    <tr>\n",
       "      <th>3</th>\n",
       "      <td>1635710747921</td>\n",
       "      <td>0.269643</td>\n",
       "    </tr>\n",
       "    <tr>\n",
       "      <th>4</th>\n",
       "      <td>1635714706183</td>\n",
       "      <td>0.273236</td>\n",
       "    </tr>\n",
       "    <tr>\n",
       "      <th>5</th>\n",
       "      <td>1635717652246</td>\n",
       "      <td>0.277282</td>\n",
       "    </tr>\n",
       "    <tr>\n",
       "      <th>6</th>\n",
       "      <td>1635721385339</td>\n",
       "      <td>0.277804</td>\n",
       "    </tr>\n",
       "    <tr>\n",
       "      <th>7</th>\n",
       "      <td>1635725032958</td>\n",
       "      <td>0.279767</td>\n",
       "    </tr>\n",
       "    <tr>\n",
       "      <th>8</th>\n",
       "      <td>1635728605113</td>\n",
       "      <td>0.280236</td>\n",
       "    </tr>\n",
       "    <tr>\n",
       "      <th>9</th>\n",
       "      <td>1635732585236</td>\n",
       "      <td>0.273735</td>\n",
       "    </tr>\n",
       "  </tbody>\n",
       "</table>\n",
       "</div>"
      ],
      "text/plain": [
       "            time     price\n",
       "0  1635700037947  0.263216\n",
       "1  1635703310361  0.261953\n",
       "2  1635707284764  0.274396\n",
       "3  1635710747921  0.269643\n",
       "4  1635714706183  0.273236\n",
       "5  1635717652246  0.277282\n",
       "6  1635721385339  0.277804\n",
       "7  1635725032958  0.279767\n",
       "8  1635728605113  0.280236\n",
       "9  1635732585236  0.273735"
      ]
     },
     "execution_count": 9,
     "metadata": {},
     "output_type": "execute_result"
    }
   ],
   "source": [
    "j_dc = result.json()\n",
    "df_dc = pd.DataFrame(j_dc['prices'], columns=['time', 'price'])\n",
    "df_dc.head(10)"
   ]
  },
  {
   "cell_type": "code",
   "execution_count": 10,
   "metadata": {},
   "outputs": [],
   "source": [
    "df_bc = pd.DataFrame(j_bc['prices'], columns=['time', 'price'])\n",
    "df_bc['time'] = pd.to_datetime(df_bc['time'], unit='ms')"
   ]
  },
  {
   "cell_type": "code",
   "execution_count": 11,
   "metadata": {},
   "outputs": [
    {
     "data": {
      "text/html": [
       "<div>\n",
       "<style scoped>\n",
       "    .dataframe tbody tr th:only-of-type {\n",
       "        vertical-align: middle;\n",
       "    }\n",
       "\n",
       "    .dataframe tbody tr th {\n",
       "        vertical-align: top;\n",
       "    }\n",
       "\n",
       "    .dataframe thead th {\n",
       "        text-align: right;\n",
       "    }\n",
       "</style>\n",
       "<table border=\"1\" class=\"dataframe\">\n",
       "  <thead>\n",
       "    <tr style=\"text-align: right;\">\n",
       "      <th></th>\n",
       "      <th>price</th>\n",
       "    </tr>\n",
       "    <tr>\n",
       "      <th>time</th>\n",
       "      <th></th>\n",
       "    </tr>\n",
       "  </thead>\n",
       "  <tbody>\n",
       "    <tr>\n",
       "      <th>2021-10-31 17:01:25.680</th>\n",
       "      <td>60875.680565</td>\n",
       "    </tr>\n",
       "    <tr>\n",
       "      <th>2021-10-31 18:07:27.083</th>\n",
       "      <td>60780.684005</td>\n",
       "    </tr>\n",
       "    <tr>\n",
       "      <th>2021-10-31 19:00:33.298</th>\n",
       "      <td>60859.058541</td>\n",
       "    </tr>\n",
       "    <tr>\n",
       "      <th>2021-10-31 20:04:49.232</th>\n",
       "      <td>60797.915285</td>\n",
       "    </tr>\n",
       "    <tr>\n",
       "      <th>2021-10-31 21:00:49.109</th>\n",
       "      <td>61059.778572</td>\n",
       "    </tr>\n",
       "    <tr>\n",
       "      <th>2021-10-31 22:02:35.725</th>\n",
       "      <td>61564.920919</td>\n",
       "    </tr>\n",
       "    <tr>\n",
       "      <th>2021-10-31 23:00:58.788</th>\n",
       "      <td>61472.844726</td>\n",
       "    </tr>\n",
       "    <tr>\n",
       "      <th>2021-11-01 00:03:27.402</th>\n",
       "      <td>61367.725644</td>\n",
       "    </tr>\n",
       "    <tr>\n",
       "      <th>2021-11-01 01:00:21.286</th>\n",
       "      <td>61569.098571</td>\n",
       "    </tr>\n",
       "    <tr>\n",
       "      <th>2021-11-01 02:09:30.710</th>\n",
       "      <td>61331.467774</td>\n",
       "    </tr>\n",
       "  </tbody>\n",
       "</table>\n",
       "</div>"
      ],
      "text/plain": [
       "                                price\n",
       "time                                 \n",
       "2021-10-31 17:01:25.680  60875.680565\n",
       "2021-10-31 18:07:27.083  60780.684005\n",
       "2021-10-31 19:00:33.298  60859.058541\n",
       "2021-10-31 20:04:49.232  60797.915285\n",
       "2021-10-31 21:00:49.109  61059.778572\n",
       "2021-10-31 22:02:35.725  61564.920919\n",
       "2021-10-31 23:00:58.788  61472.844726\n",
       "2021-11-01 00:03:27.402  61367.725644\n",
       "2021-11-01 01:00:21.286  61569.098571\n",
       "2021-11-01 02:09:30.710  61331.467774"
      ]
     },
     "execution_count": 11,
     "metadata": {},
     "output_type": "execute_result"
    }
   ],
   "source": [
    "df_bc.set_index('time', inplace=True)\n",
    "df_bc.head(10)"
   ]
  },
  {
   "cell_type": "code",
   "execution_count": 12,
   "metadata": {},
   "outputs": [
    {
     "data": {
      "text/html": [
       "<div>\n",
       "<style scoped>\n",
       "    .dataframe tbody tr th:only-of-type {\n",
       "        vertical-align: middle;\n",
       "    }\n",
       "\n",
       "    .dataframe tbody tr th {\n",
       "        vertical-align: top;\n",
       "    }\n",
       "\n",
       "    .dataframe thead th {\n",
       "        text-align: right;\n",
       "    }\n",
       "</style>\n",
       "<table border=\"1\" class=\"dataframe\">\n",
       "  <thead>\n",
       "    <tr style=\"text-align: right;\">\n",
       "      <th></th>\n",
       "      <th>price</th>\n",
       "    </tr>\n",
       "    <tr>\n",
       "      <th>time</th>\n",
       "      <th></th>\n",
       "    </tr>\n",
       "  </thead>\n",
       "  <tbody>\n",
       "    <tr>\n",
       "      <th>2021-10-31 17:07:17.947</th>\n",
       "      <td>0.263216</td>\n",
       "    </tr>\n",
       "    <tr>\n",
       "      <th>2021-10-31 18:01:50.361</th>\n",
       "      <td>0.261953</td>\n",
       "    </tr>\n",
       "    <tr>\n",
       "      <th>2021-10-31 19:08:04.764</th>\n",
       "      <td>0.274396</td>\n",
       "    </tr>\n",
       "    <tr>\n",
       "      <th>2021-10-31 20:05:47.921</th>\n",
       "      <td>0.269643</td>\n",
       "    </tr>\n",
       "    <tr>\n",
       "      <th>2021-10-31 21:11:46.183</th>\n",
       "      <td>0.273236</td>\n",
       "    </tr>\n",
       "    <tr>\n",
       "      <th>2021-10-31 22:00:52.246</th>\n",
       "      <td>0.277282</td>\n",
       "    </tr>\n",
       "    <tr>\n",
       "      <th>2021-10-31 23:03:05.339</th>\n",
       "      <td>0.277804</td>\n",
       "    </tr>\n",
       "    <tr>\n",
       "      <th>2021-11-01 00:03:52.958</th>\n",
       "      <td>0.279767</td>\n",
       "    </tr>\n",
       "    <tr>\n",
       "      <th>2021-11-01 01:03:25.113</th>\n",
       "      <td>0.280236</td>\n",
       "    </tr>\n",
       "    <tr>\n",
       "      <th>2021-11-01 02:09:45.236</th>\n",
       "      <td>0.273735</td>\n",
       "    </tr>\n",
       "  </tbody>\n",
       "</table>\n",
       "</div>"
      ],
      "text/plain": [
       "                            price\n",
       "time                             \n",
       "2021-10-31 17:07:17.947  0.263216\n",
       "2021-10-31 18:01:50.361  0.261953\n",
       "2021-10-31 19:08:04.764  0.274396\n",
       "2021-10-31 20:05:47.921  0.269643\n",
       "2021-10-31 21:11:46.183  0.273236\n",
       "2021-10-31 22:00:52.246  0.277282\n",
       "2021-10-31 23:03:05.339  0.277804\n",
       "2021-11-01 00:03:52.958  0.279767\n",
       "2021-11-01 01:03:25.113  0.280236\n",
       "2021-11-01 02:09:45.236  0.273735"
      ]
     },
     "execution_count": 12,
     "metadata": {},
     "output_type": "execute_result"
    }
   ],
   "source": [
    "df_dc = pd.DataFrame(j_dc['prices'], columns=['time', 'price'])\n",
    "df_dc['time'] = pd.to_datetime(df_dc['time'], unit='ms')\n",
    "\n",
    "df_dc.set_index('time', inplace=True)\n",
    "df_dc.head(10)"
   ]
  },
  {
   "cell_type": "code",
   "execution_count": 13,
   "metadata": {},
   "outputs": [
    {
     "data": {
      "text/plain": [
       "<AxesSubplot:xlabel='time'>"
      ]
     },
     "execution_count": 13,
     "metadata": {},
     "output_type": "execute_result"
    },
    {
     "data": {
      "image/png": "[encoded data removed]",
      "text/plain": [
       "<Figure size 432x288 with 1 Axes>"
      ]
     },
     "metadata": {
      "needs_background": "light"
     },
     "output_type": "display_data"
    }
   ],
   "source": [
    "df_bc.plot()"
   ]
  },
  {
   "cell_type": "markdown",
   "metadata": {},
   "source": [
    "![logo](Dogecoin_logo.png)"
   ]
  },
  {
   "cell_type": "code",
   "execution_count": 14,
   "metadata": {},
   "outputs": [
    {
     "data": {
      "text/plain": [
       "<AxesSubplot:xlabel='time'>"
      ]
     },
     "execution_count": 14,
     "metadata": {},
     "output_type": "execute_result"
    },
    {
     "data": {
      "image/png": "[encoded data removed]",
      "text/plain": [
       "<Figure size 432x288 with 1 Axes>"
      ]
     },
     "metadata": {
      "needs_background": "light"
     },
     "output_type": "display_data"
    }
   ],
   "source": [
    "df_dc.plot()"
   ]
  },
  {
   "cell_type": "markdown",
   "metadata": {},
   "source": [
    "# top ten coins report"
   ]
  },
  {
   "cell_type": "code",
   "execution_count": 15,
   "metadata": {},
   "outputs": [],
   "source": [
    "url = base + 'coins/list'"
   ]
  },
  {
   "cell_type": "code",
   "execution_count": 16,
   "metadata": {},
   "outputs": [
    {
     "data": {
      "text/html": [
       "<div>\n",
       "<style scoped>\n",
       "    .dataframe tbody tr th:only-of-type {\n",
       "        vertical-align: middle;\n",
       "    }\n",
       "\n",
       "    .dataframe tbody tr th {\n",
       "        vertical-align: top;\n",
       "    }\n",
       "\n",
       "    .dataframe thead th {\n",
       "        text-align: right;\n",
       "    }\n",
       "</style>\n",
       "<table border=\"1\" class=\"dataframe\">\n",
       "  <thead>\n",
       "    <tr style=\"text-align: right;\">\n",
       "      <th></th>\n",
       "      <th>id</th>\n",
       "      <th>symbol</th>\n",
       "      <th>name</th>\n",
       "    </tr>\n",
       "  </thead>\n",
       "  <tbody>\n",
       "    <tr>\n",
       "      <th>0</th>\n",
       "      <td>01coin</td>\n",
       "      <td>zoc</td>\n",
       "      <td>01coin</td>\n",
       "    </tr>\n",
       "    <tr>\n",
       "      <th>1</th>\n",
       "      <td>0-5x-long-algorand-token</td>\n",
       "      <td>algohalf</td>\n",
       "      <td>0.5X Long Algorand Token</td>\n",
       "    </tr>\n",
       "    <tr>\n",
       "      <th>2</th>\n",
       "      <td>0-5x-long-altcoin-index-token</td>\n",
       "      <td>althalf</td>\n",
       "      <td>0.5X Long Altcoin Index Token</td>\n",
       "    </tr>\n",
       "    <tr>\n",
       "      <th>3</th>\n",
       "      <td>0-5x-long-balancer-token</td>\n",
       "      <td>balhalf</td>\n",
       "      <td>0.5X Long Balancer Token</td>\n",
       "    </tr>\n",
       "    <tr>\n",
       "      <th>4</th>\n",
       "      <td>0-5x-long-bitcoin-cash-token</td>\n",
       "      <td>bchhalf</td>\n",
       "      <td>0.5X Long Bitcoin Cash Token</td>\n",
       "    </tr>\n",
       "    <tr>\n",
       "      <th>5</th>\n",
       "      <td>0-5x-long-bitcoin-sv-token</td>\n",
       "      <td>bsvhalf</td>\n",
       "      <td>0.5X Long Bitcoin SV Token</td>\n",
       "    </tr>\n",
       "    <tr>\n",
       "      <th>6</th>\n",
       "      <td>0-5x-long-bitcoin-token</td>\n",
       "      <td>half</td>\n",
       "      <td>0.5X Long Bitcoin Token</td>\n",
       "    </tr>\n",
       "    <tr>\n",
       "      <th>7</th>\n",
       "      <td>0-5x-long-cardano-token</td>\n",
       "      <td>adahalf</td>\n",
       "      <td>0.5X Long Cardano Token</td>\n",
       "    </tr>\n",
       "    <tr>\n",
       "      <th>8</th>\n",
       "      <td>0-5x-long-chainlink-token</td>\n",
       "      <td>linkhalf</td>\n",
       "      <td>0.5X Long Chainlink Token</td>\n",
       "    </tr>\n",
       "    <tr>\n",
       "      <th>9</th>\n",
       "      <td>0-5x-long-cosmos-token</td>\n",
       "      <td>atomhalf</td>\n",
       "      <td>0.5X Long Cosmos Token</td>\n",
       "    </tr>\n",
       "  </tbody>\n",
       "</table>\n",
       "</div>"
      ],
      "text/plain": [
       "                              id    symbol                           name\n",
       "0                         01coin       zoc                         01coin\n",
       "1       0-5x-long-algorand-token  algohalf       0.5X Long Algorand Token\n",
       "2  0-5x-long-altcoin-index-token   althalf  0.5X Long Altcoin Index Token\n",
       "3       0-5x-long-balancer-token   balhalf       0.5X Long Balancer Token\n",
       "4   0-5x-long-bitcoin-cash-token   bchhalf   0.5X Long Bitcoin Cash Token\n",
       "5     0-5x-long-bitcoin-sv-token   bsvhalf     0.5X Long Bitcoin SV Token\n",
       "6        0-5x-long-bitcoin-token      half        0.5X Long Bitcoin Token\n",
       "7        0-5x-long-cardano-token   adahalf        0.5X Long Cardano Token\n",
       "8      0-5x-long-chainlink-token  linkhalf      0.5X Long Chainlink Token\n",
       "9         0-5x-long-cosmos-token  atomhalf         0.5X Long Cosmos Token"
      ]
     },
     "execution_count": 16,
     "metadata": {},
     "output_type": "execute_result"
    }
   ],
   "source": [
    "result = requests.get(url)\n",
    "j = result.json()\n",
    "\n",
    "df_list = pd.DataFrame(j)\n",
    "df_list.head(10)"
   ]
  },
  {
   "cell_type": "code",
   "execution_count": 17,
   "metadata": {},
   "outputs": [
    {
     "data": {
      "text/plain": [
       "0                           01coin\n",
       "1         0-5x-long-algorand-token\n",
       "2    0-5x-long-altcoin-index-token\n",
       "3         0-5x-long-balancer-token\n",
       "4     0-5x-long-bitcoin-cash-token\n",
       "5       0-5x-long-bitcoin-sv-token\n",
       "6          0-5x-long-bitcoin-token\n",
       "7          0-5x-long-cardano-token\n",
       "8        0-5x-long-chainlink-token\n",
       "9           0-5x-long-cosmos-token\n",
       "Name: id, dtype: object"
      ]
     },
     "execution_count": 17,
     "metadata": {},
     "output_type": "execute_result"
    }
   ],
   "source": [
    "data_df = df_list.iloc[:10, 0]\n",
    "data_df"
   ]
  },
  {
   "cell_type": "code",
   "execution_count": 18,
   "metadata": {},
   "outputs": [
    {
     "data": {
      "text/html": [
       "<div>\n",
       "<style scoped>\n",
       "    .dataframe tbody tr th:only-of-type {\n",
       "        vertical-align: middle;\n",
       "    }\n",
       "\n",
       "    .dataframe tbody tr th {\n",
       "        vertical-align: top;\n",
       "    }\n",
       "\n",
       "    .dataframe thead th {\n",
       "        text-align: right;\n",
       "    }\n",
       "</style>\n",
       "<table border=\"1\" class=\"dataframe\">\n",
       "  <thead>\n",
       "    <tr style=\"text-align: right;\">\n",
       "      <th></th>\n",
       "      <th>date_time</th>\n",
       "      <th>price</th>\n",
       "      <th>file_name</th>\n",
       "    </tr>\n",
       "  </thead>\n",
       "  <tbody>\n",
       "    <tr>\n",
       "      <th>0</th>\n",
       "      <td>1612396800000</td>\n",
       "      <td>0.002553</td>\n",
       "      <td>01coin</td>\n",
       "    </tr>\n",
       "    <tr>\n",
       "      <th>1</th>\n",
       "      <td>1612483200000</td>\n",
       "      <td>0.003833</td>\n",
       "      <td>01coin</td>\n",
       "    </tr>\n",
       "    <tr>\n",
       "      <th>2</th>\n",
       "      <td>1612569600000</td>\n",
       "      <td>0.003272</td>\n",
       "      <td>01coin</td>\n",
       "    </tr>\n",
       "    <tr>\n",
       "      <th>3</th>\n",
       "      <td>1612656000000</td>\n",
       "      <td>0.003373</td>\n",
       "      <td>01coin</td>\n",
       "    </tr>\n",
       "    <tr>\n",
       "      <th>4</th>\n",
       "      <td>1612742400000</td>\n",
       "      <td>0.003425</td>\n",
       "      <td>01coin</td>\n",
       "    </tr>\n",
       "    <tr>\n",
       "      <th>...</th>\n",
       "      <td>...</td>\n",
       "      <td>...</td>\n",
       "      <td>...</td>\n",
       "    </tr>\n",
       "    <tr>\n",
       "      <th>234</th>\n",
       "      <td>1637366400000</td>\n",
       "      <td>23804.483136</td>\n",
       "      <td>0-5x-long-cosmos-token</td>\n",
       "    </tr>\n",
       "    <tr>\n",
       "      <th>235</th>\n",
       "      <td>1637452800000</td>\n",
       "      <td>25345.034909</td>\n",
       "      <td>0-5x-long-cosmos-token</td>\n",
       "    </tr>\n",
       "    <tr>\n",
       "      <th>236</th>\n",
       "      <td>1637539200000</td>\n",
       "      <td>25345.034909</td>\n",
       "      <td>0-5x-long-cosmos-token</td>\n",
       "    </tr>\n",
       "    <tr>\n",
       "      <th>237</th>\n",
       "      <td>1637623895000</td>\n",
       "      <td>25457.603518</td>\n",
       "      <td>0-5x-long-cosmos-token</td>\n",
       "    </tr>\n",
       "    <tr>\n",
       "      <th>238</th>\n",
       "      <td>1637625600000</td>\n",
       "      <td>25457.603518</td>\n",
       "      <td>0-5x-long-cosmos-token</td>\n",
       "    </tr>\n",
       "  </tbody>\n",
       "</table>\n",
       "<p>2164 rows × 3 columns</p>\n",
       "</div>"
      ],
      "text/plain": [
       "         date_time         price               file_name\n",
       "0    1612396800000      0.002553                  01coin\n",
       "1    1612483200000      0.003833                  01coin\n",
       "2    1612569600000      0.003272                  01coin\n",
       "3    1612656000000      0.003373                  01coin\n",
       "4    1612742400000      0.003425                  01coin\n",
       "..             ...           ...                     ...\n",
       "234  1637366400000  23804.483136  0-5x-long-cosmos-token\n",
       "235  1637452800000  25345.034909  0-5x-long-cosmos-token\n",
       "236  1637539200000  25345.034909  0-5x-long-cosmos-token\n",
       "237  1637623895000  25457.603518  0-5x-long-cosmos-token\n",
       "238  1637625600000  25457.603518  0-5x-long-cosmos-token\n",
       "\n",
       "[2164 rows x 3 columns]"
      ]
     },
     "execution_count": 18,
     "metadata": {},
     "output_type": "execute_result"
    }
   ],
   "source": [
    "data_list = []\n",
    "\n",
    "for i in data_df:\n",
    "    base = \"http://api.coingecko.com/api/v3/coins/\"\n",
    "    url = base + i + \"/market_chart?vs_currency=usd&days=300\"\n",
    "    result = requests.get(url)\n",
    "    data = result.json()\n",
    "    data_df = pd.DataFrame(data['prices'], columns = ['date_time','price'])\n",
    "    data_df[\"file_name\"] = i\n",
    "    data_list.append(data_df)\n",
    "\n",
    "data_report = pd.concat(data_list)\n",
    "data_report"
   ]
  },
  {
   "cell_type": "code",
   "execution_count": 19,
   "metadata": {},
   "outputs": [
    {
     "data": {
      "text/html": [
       "<div>\n",
       "<style scoped>\n",
       "    .dataframe tbody tr th:only-of-type {\n",
       "        vertical-align: middle;\n",
       "    }\n",
       "\n",
       "    .dataframe tbody tr th {\n",
       "        vertical-align: top;\n",
       "    }\n",
       "\n",
       "    .dataframe thead th {\n",
       "        text-align: right;\n",
       "    }\n",
       "</style>\n",
       "<table border=\"1\" class=\"dataframe\">\n",
       "  <thead>\n",
       "    <tr style=\"text-align: right;\">\n",
       "      <th></th>\n",
       "      <th>price</th>\n",
       "      <th>file_name</th>\n",
       "    </tr>\n",
       "    <tr>\n",
       "      <th>date_time</th>\n",
       "      <th></th>\n",
       "      <th></th>\n",
       "    </tr>\n",
       "  </thead>\n",
       "  <tbody>\n",
       "    <tr>\n",
       "      <th>1612396800000</th>\n",
       "      <td>0.002553</td>\n",
       "      <td>01coin</td>\n",
       "    </tr>\n",
       "    <tr>\n",
       "      <th>1612483200000</th>\n",
       "      <td>0.003833</td>\n",
       "      <td>01coin</td>\n",
       "    </tr>\n",
       "    <tr>\n",
       "      <th>1612569600000</th>\n",
       "      <td>0.003272</td>\n",
       "      <td>01coin</td>\n",
       "    </tr>\n",
       "    <tr>\n",
       "      <th>1612656000000</th>\n",
       "      <td>0.003373</td>\n",
       "      <td>01coin</td>\n",
       "    </tr>\n",
       "    <tr>\n",
       "      <th>1612742400000</th>\n",
       "      <td>0.003425</td>\n",
       "      <td>01coin</td>\n",
       "    </tr>\n",
       "  </tbody>\n",
       "</table>\n",
       "</div>"
      ],
      "text/plain": [
       "                  price file_name\n",
       "date_time                        \n",
       "1612396800000  0.002553    01coin\n",
       "1612483200000  0.003833    01coin\n",
       "1612569600000  0.003272    01coin\n",
       "1612656000000  0.003373    01coin\n",
       "1612742400000  0.003425    01coin"
      ]
     },
     "execution_count": 19,
     "metadata": {},
     "output_type": "execute_result"
    }
   ],
   "source": [
    "data_report = data_report.set_index('date_time')\n",
    "\n",
    "data_report.head()"
   ]
  },
  {
   "cell_type": "code",
   "execution_count": 20,
   "metadata": {},
   "outputs": [],
   "source": [
    "data_report.to_csv('top_ten_report.csv')"
   ]
  },
  {
   "cell_type": "code",
   "execution_count": 21,
   "metadata": {},
   "outputs": [
    {
     "data": {
      "text/html": [
       "<div>\n",
       "<style scoped>\n",
       "    .dataframe tbody tr th:only-of-type {\n",
       "        vertical-align: middle;\n",
       "    }\n",
       "\n",
       "    .dataframe tbody tr th {\n",
       "        vertical-align: top;\n",
       "    }\n",
       "\n",
       "    .dataframe thead th {\n",
       "        text-align: right;\n",
       "    }\n",
       "</style>\n",
       "<table border=\"1\" class=\"dataframe\">\n",
       "  <thead>\n",
       "    <tr style=\"text-align: right;\">\n",
       "      <th></th>\n",
       "      <th>date_time</th>\n",
       "      <th>price</th>\n",
       "      <th>file_name</th>\n",
       "    </tr>\n",
       "  </thead>\n",
       "  <tbody>\n",
       "    <tr>\n",
       "      <th>0</th>\n",
       "      <td>1612396800000</td>\n",
       "      <td>0.002553</td>\n",
       "      <td>01coin</td>\n",
       "    </tr>\n",
       "    <tr>\n",
       "      <th>1</th>\n",
       "      <td>1612483200000</td>\n",
       "      <td>0.003833</td>\n",
       "      <td>01coin</td>\n",
       "    </tr>\n",
       "    <tr>\n",
       "      <th>2</th>\n",
       "      <td>1612569600000</td>\n",
       "      <td>0.003272</td>\n",
       "      <td>01coin</td>\n",
       "    </tr>\n",
       "    <tr>\n",
       "      <th>3</th>\n",
       "      <td>1612656000000</td>\n",
       "      <td>0.003373</td>\n",
       "      <td>01coin</td>\n",
       "    </tr>\n",
       "    <tr>\n",
       "      <th>4</th>\n",
       "      <td>1612742400000</td>\n",
       "      <td>0.003425</td>\n",
       "      <td>01coin</td>\n",
       "    </tr>\n",
       "    <tr>\n",
       "      <th>...</th>\n",
       "      <td>...</td>\n",
       "      <td>...</td>\n",
       "      <td>...</td>\n",
       "    </tr>\n",
       "    <tr>\n",
       "      <th>2159</th>\n",
       "      <td>1637366400000</td>\n",
       "      <td>23804.483136</td>\n",
       "      <td>0-5x-long-cosmos-token</td>\n",
       "    </tr>\n",
       "    <tr>\n",
       "      <th>2160</th>\n",
       "      <td>1637452800000</td>\n",
       "      <td>25345.034909</td>\n",
       "      <td>0-5x-long-cosmos-token</td>\n",
       "    </tr>\n",
       "    <tr>\n",
       "      <th>2161</th>\n",
       "      <td>1637539200000</td>\n",
       "      <td>25345.034909</td>\n",
       "      <td>0-5x-long-cosmos-token</td>\n",
       "    </tr>\n",
       "    <tr>\n",
       "      <th>2162</th>\n",
       "      <td>1637623895000</td>\n",
       "      <td>25457.603518</td>\n",
       "      <td>0-5x-long-cosmos-token</td>\n",
       "    </tr>\n",
       "    <tr>\n",
       "      <th>2163</th>\n",
       "      <td>1637625600000</td>\n",
       "      <td>25457.603518</td>\n",
       "      <td>0-5x-long-cosmos-token</td>\n",
       "    </tr>\n",
       "  </tbody>\n",
       "</table>\n",
       "<p>2164 rows × 3 columns</p>\n",
       "</div>"
      ],
      "text/plain": [
       "          date_time         price               file_name\n",
       "0     1612396800000      0.002553                  01coin\n",
       "1     1612483200000      0.003833                  01coin\n",
       "2     1612569600000      0.003272                  01coin\n",
       "3     1612656000000      0.003373                  01coin\n",
       "4     1612742400000      0.003425                  01coin\n",
       "...             ...           ...                     ...\n",
       "2159  1637366400000  23804.483136  0-5x-long-cosmos-token\n",
       "2160  1637452800000  25345.034909  0-5x-long-cosmos-token\n",
       "2161  1637539200000  25345.034909  0-5x-long-cosmos-token\n",
       "2162  1637623895000  25457.603518  0-5x-long-cosmos-token\n",
       "2163  1637625600000  25457.603518  0-5x-long-cosmos-token\n",
       "\n",
       "[2164 rows x 3 columns]"
      ]
     },
     "execution_count": 21,
     "metadata": {},
     "output_type": "execute_result"
    }
   ],
   "source": [
    "check = pd.read_csv('top_ten_report.csv')\n",
    "check"
   ]
  },
  {
   "cell_type": "code",
   "execution_count": null,
   "metadata": {},
   "outputs": [],
   "source": []
  }
 ],
 "metadata": {
  "kernelspec": {
   "display_name": "Python 3",
   "language": "python",
   "name": "python3"
  },
  "language_info": {
   "codemirror_mode": {
    "name": "ipython",
    "version": 3
   },
   "file_extension": ".py",
   "mimetype": "text/x-python",
   "name": "python",
   "nbconvert_exporter": "python",
   "pygments_lexer": "ipython3",
   "version": "3.8.8"
  }
 },
 "nbformat": 4,
 "nbformat_minor": 4
}
