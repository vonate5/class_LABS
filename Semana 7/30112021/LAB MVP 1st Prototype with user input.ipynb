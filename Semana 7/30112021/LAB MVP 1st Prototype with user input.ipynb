{
 "cells": [
  {
   "cell_type": "markdown",
   "id": "f2ac0fcd",
   "metadata": {},
   "source": [
    "### From a URL create a Dataframe"
   ]
  },
  {
   "cell_type": "code",
   "execution_count": 1,
   "id": "f1810fb5",
   "metadata": {},
   "outputs": [],
   "source": [
    "import pandas as pd\n",
    "from bs4 import BeautifulSoup\n",
    "import re\n",
    "import requests\n",
    "from tqdm.notebook import tqdm\n",
    "import random"
   ]
  },
  {
   "cell_type": "code",
   "execution_count": 2,
   "id": "332cfeb3",
   "metadata": {},
   "outputs": [],
   "source": [
    "url = \"https://www.billboard.com/charts/hot-100/\""
   ]
  },
  {
   "cell_type": "code",
   "execution_count": 3,
   "id": "70b959aa",
   "metadata": {},
   "outputs": [],
   "source": [
    "top100 = requests.get(url)"
   ]
  },
  {
   "cell_type": "code",
   "execution_count": 4,
   "id": "8dcb7736",
   "metadata": {},
   "outputs": [
    {
     "data": {
      "text/plain": [
       "200"
      ]
     },
     "execution_count": 4,
     "metadata": {},
     "output_type": "execute_result"
    }
   ],
   "source": [
    "top100.status_code"
   ]
  },
  {
   "cell_type": "markdown",
   "id": "9ac7148f",
   "metadata": {},
   "source": [
    "### Search for the songs in the URL"
   ]
  },
  {
   "cell_type": "code",
   "execution_count": 5,
   "id": "bd5ade8a",
   "metadata": {},
   "outputs": [],
   "source": [
    "soup=BeautifulSoup(top100.content,'html.parser')"
   ]
  },
  {
   "cell_type": "code",
   "execution_count": 6,
   "id": "b4ee8491",
   "metadata": {},
   "outputs": [
    {
     "data": {
      "text/plain": [
       "'\\nEasy On Me\\n'"
      ]
     },
     "execution_count": 6,
     "metadata": {},
     "output_type": "execute_result"
    }
   ],
   "source": [
    "soup.select('h3.c-title.a-no-trucate')[0].text"
   ]
  },
  {
   "cell_type": "code",
   "execution_count": 7,
   "id": "58ee8ca3",
   "metadata": {},
   "outputs": [],
   "source": [
    "top100=len(soup.select('h3.c-title.a-no-trucate'))"
   ]
  },
  {
   "cell_type": "code",
   "execution_count": 8,
   "id": "893ef0cc",
   "metadata": {},
   "outputs": [
    {
     "data": {
      "text/plain": [
       "100"
      ]
     },
     "execution_count": 8,
     "metadata": {},
     "output_type": "execute_result"
    }
   ],
   "source": [
    "top100"
   ]
  },
  {
   "cell_type": "code",
   "execution_count": 9,
   "id": "e3074cf7",
   "metadata": {},
   "outputs": [],
   "source": [
    "index = soup.select('h3.c-title.a-no-trucate')[0].get_text(strip=True)"
   ]
  },
  {
   "cell_type": "code",
   "execution_count": 10,
   "id": "a37422cd",
   "metadata": {},
   "outputs": [
    {
     "data": {
      "text/plain": [
       "'Easy On Me'"
      ]
     },
     "execution_count": 10,
     "metadata": {},
     "output_type": "execute_result"
    }
   ],
   "source": [
    "index"
   ]
  },
  {
   "cell_type": "markdown",
   "id": "c4a368f6",
   "metadata": {},
   "source": [
    "### Search for the artists in the URL"
   ]
  },
  {
   "cell_type": "code",
   "execution_count": 11,
   "id": "b724976d",
   "metadata": {},
   "outputs": [
    {
     "data": {
      "text/plain": [
       "'Adele'"
      ]
     },
     "execution_count": 11,
     "metadata": {},
     "output_type": "execute_result"
    }
   ],
   "source": [
    "soup.select('span.c-label.a-no-trucate')[0].get_text(strip=True)"
   ]
  },
  {
   "cell_type": "code",
   "execution_count": 12,
   "id": "c1b293dd",
   "metadata": {},
   "outputs": [
    {
     "data": {
      "text/plain": [
       "'The Weeknd'"
      ]
     },
     "execution_count": 12,
     "metadata": {},
     "output_type": "execute_result"
    }
   ],
   "source": [
    "soup.select('span.c-label.a-no-trucate')[99].get_text(strip=True)"
   ]
  },
  {
   "cell_type": "markdown",
   "id": "7a802b8b",
   "metadata": {},
   "source": [
    "### Create a DataFrame"
   ]
  },
  {
   "cell_type": "code",
   "execution_count": 13,
   "id": "c7df5684",
   "metadata": {},
   "outputs": [],
   "source": [
    "title = []\n",
    "artist = []"
   ]
  },
  {
   "cell_type": "code",
   "execution_count": 14,
   "id": "d4688d6d",
   "metadata": {},
   "outputs": [
    {
     "data": {
      "application/vnd.jupyter.widget-view+json": {
       "model_id": "e0659d7567554bc18e45df15835d4bdb",
       "version_major": 2,
       "version_minor": 0
      },
      "text/plain": [
       "  0%|          | 0/100 [00:00<?, ?it/s]"
      ]
     },
     "metadata": {},
     "output_type": "display_data"
    }
   ],
   "source": [
    "for i in tqdm(range(top100)):\n",
    "    title.append(soup.select('h3.c-title.a-no-trucate')[i].get_text(strip=True))\n",
    "    artist.append(soup.select('span.c-label.a-no-trucate')[i].get_text(strip=True))"
   ]
  },
  {
   "cell_type": "code",
   "execution_count": 15,
   "id": "e07db8a7",
   "metadata": {},
   "outputs": [],
   "source": [
    "songs_top100=pd.DataFrame({'Title':title,'Artist':artist})"
   ]
  },
  {
   "cell_type": "code",
   "execution_count": 16,
   "id": "9fd834c0",
   "metadata": {},
   "outputs": [
    {
     "data": {
      "text/html": [
       "<div>\n",
       "<style scoped>\n",
       "    .dataframe tbody tr th:only-of-type {\n",
       "        vertical-align: middle;\n",
       "    }\n",
       "\n",
       "    .dataframe tbody tr th {\n",
       "        vertical-align: top;\n",
       "    }\n",
       "\n",
       "    .dataframe thead th {\n",
       "        text-align: right;\n",
       "    }\n",
       "</style>\n",
       "<table border=\"1\" class=\"dataframe\">\n",
       "  <thead>\n",
       "    <tr style=\"text-align: right;\">\n",
       "      <th></th>\n",
       "      <th>Title</th>\n",
       "      <th>Artist</th>\n",
       "    </tr>\n",
       "  </thead>\n",
       "  <tbody>\n",
       "    <tr>\n",
       "      <th>0</th>\n",
       "      <td>Easy On Me</td>\n",
       "      <td>Adele</td>\n",
       "    </tr>\n",
       "    <tr>\n",
       "      <th>1</th>\n",
       "      <td>Stay</td>\n",
       "      <td>The Kid LAROI &amp; Justin Bieber</td>\n",
       "    </tr>\n",
       "    <tr>\n",
       "      <th>2</th>\n",
       "      <td>Industry Baby</td>\n",
       "      <td>Lil Nas X &amp; Jack Harlow</td>\n",
       "    </tr>\n",
       "    <tr>\n",
       "      <th>3</th>\n",
       "      <td>All Too Well (Taylor's Version)</td>\n",
       "      <td>Taylor Swift</td>\n",
       "    </tr>\n",
       "    <tr>\n",
       "      <th>4</th>\n",
       "      <td>Oh My God</td>\n",
       "      <td>Adele</td>\n",
       "    </tr>\n",
       "    <tr>\n",
       "      <th>...</th>\n",
       "      <td>...</td>\n",
       "      <td>...</td>\n",
       "    </tr>\n",
       "    <tr>\n",
       "      <th>95</th>\n",
       "      <td>Too Easy</td>\n",
       "      <td>Gunna &amp; Future</td>\n",
       "    </tr>\n",
       "    <tr>\n",
       "      <th>96</th>\n",
       "      <td>Escape Plan</td>\n",
       "      <td>Travis Scott</td>\n",
       "    </tr>\n",
       "    <tr>\n",
       "      <th>97</th>\n",
       "      <td>Who's In Your Head</td>\n",
       "      <td>Jonas Brothers</td>\n",
       "    </tr>\n",
       "    <tr>\n",
       "      <th>98</th>\n",
       "      <td>Jugaste y Sufri</td>\n",
       "      <td>Eslabon Armado Featuring DannyLux</td>\n",
       "    </tr>\n",
       "    <tr>\n",
       "      <th>99</th>\n",
       "      <td>Take My Breath</td>\n",
       "      <td>The Weeknd</td>\n",
       "    </tr>\n",
       "  </tbody>\n",
       "</table>\n",
       "<p>100 rows × 2 columns</p>\n",
       "</div>"
      ],
      "text/plain": [
       "                              Title                             Artist\n",
       "0                        Easy On Me                              Adele\n",
       "1                              Stay      The Kid LAROI & Justin Bieber\n",
       "2                     Industry Baby            Lil Nas X & Jack Harlow\n",
       "3   All Too Well (Taylor's Version)                       Taylor Swift\n",
       "4                         Oh My God                              Adele\n",
       "..                              ...                                ...\n",
       "95                         Too Easy                     Gunna & Future\n",
       "96                      Escape Plan                       Travis Scott\n",
       "97               Who's In Your Head                     Jonas Brothers\n",
       "98                  Jugaste y Sufri  Eslabon Armado Featuring DannyLux\n",
       "99                   Take My Breath                         The Weeknd\n",
       "\n",
       "[100 rows x 2 columns]"
      ]
     },
     "execution_count": 16,
     "metadata": {},
     "output_type": "execute_result"
    }
   ],
   "source": [
    "songs_top100"
   ]
  },
  {
   "cell_type": "code",
   "execution_count": 17,
   "id": "4691f235",
   "metadata": {},
   "outputs": [
    {
     "data": {
      "text/html": [
       "<div>\n",
       "<style scoped>\n",
       "    .dataframe tbody tr th:only-of-type {\n",
       "        vertical-align: middle;\n",
       "    }\n",
       "\n",
       "    .dataframe tbody tr th {\n",
       "        vertical-align: top;\n",
       "    }\n",
       "\n",
       "    .dataframe thead th {\n",
       "        text-align: right;\n",
       "    }\n",
       "</style>\n",
       "<table border=\"1\" class=\"dataframe\">\n",
       "  <thead>\n",
       "    <tr style=\"text-align: right;\">\n",
       "      <th></th>\n",
       "      <th>Title</th>\n",
       "      <th>Artist</th>\n",
       "    </tr>\n",
       "  </thead>\n",
       "  <tbody>\n",
       "    <tr>\n",
       "      <th>92</th>\n",
       "      <td>Volvi</td>\n",
       "      <td>Aventura x Bad Bunny</td>\n",
       "    </tr>\n",
       "    <tr>\n",
       "      <th>93</th>\n",
       "      <td>Maybach</td>\n",
       "      <td>42 Dugg Featuring Future</td>\n",
       "    </tr>\n",
       "    <tr>\n",
       "      <th>94</th>\n",
       "      <td>Baddest</td>\n",
       "      <td>Yung Bleu, Chris Brown &amp; 2 Chainz</td>\n",
       "    </tr>\n",
       "    <tr>\n",
       "      <th>95</th>\n",
       "      <td>Too Easy</td>\n",
       "      <td>Gunna &amp; Future</td>\n",
       "    </tr>\n",
       "    <tr>\n",
       "      <th>96</th>\n",
       "      <td>Escape Plan</td>\n",
       "      <td>Travis Scott</td>\n",
       "    </tr>\n",
       "    <tr>\n",
       "      <th>97</th>\n",
       "      <td>Who's In Your Head</td>\n",
       "      <td>Jonas Brothers</td>\n",
       "    </tr>\n",
       "    <tr>\n",
       "      <th>98</th>\n",
       "      <td>Jugaste y Sufri</td>\n",
       "      <td>Eslabon Armado Featuring DannyLux</td>\n",
       "    </tr>\n",
       "    <tr>\n",
       "      <th>99</th>\n",
       "      <td>Take My Breath</td>\n",
       "      <td>The Weeknd</td>\n",
       "    </tr>\n",
       "  </tbody>\n",
       "</table>\n",
       "</div>"
      ],
      "text/plain": [
       "                 Title                             Artist\n",
       "92               Volvi               Aventura x Bad Bunny\n",
       "93             Maybach           42 Dugg Featuring Future\n",
       "94             Baddest  Yung Bleu, Chris Brown & 2 Chainz\n",
       "95            Too Easy                     Gunna & Future\n",
       "96         Escape Plan                       Travis Scott\n",
       "97  Who's In Your Head                     Jonas Brothers\n",
       "98     Jugaste y Sufri  Eslabon Armado Featuring DannyLux\n",
       "99      Take My Breath                         The Weeknd"
      ]
     },
     "execution_count": 17,
     "metadata": {},
     "output_type": "execute_result"
    }
   ],
   "source": [
    "songs_top100[92:]"
   ]
  },
  {
   "cell_type": "markdown",
   "id": "c6e83fed",
   "metadata": {},
   "source": [
    "### Create a prototype where:\n",
    "- The user can ask for one song and see if its in the playlist Top hot 100 songs\n",
    "- Returns a new song if the first one is in the playlist"
   ]
  },
  {
   "cell_type": "code",
   "execution_count": 18,
   "id": "ca35724c",
   "metadata": {},
   "outputs": [
    {
     "name": "stdout",
     "output_type": "stream",
     "text": [
      "Give us a song name to get a recommendation!: la fama\n"
     ]
    }
   ],
   "source": [
    "song= input(\"Give us a song name to get a recommendation!: \")"
   ]
  },
  {
   "cell_type": "code",
   "execution_count": 27,
   "id": "fbb0b476",
   "metadata": {},
   "outputs": [],
   "source": [
    "check = songs_top100[songs_top100['Title'].str.lower().str.replace(\" \",\" \").str.contains(song)]"
   ]
  },
  {
   "cell_type": "code",
   "execution_count": 20,
   "id": "86933b3a",
   "metadata": {},
   "outputs": [],
   "source": [
    "index = check.index.tolist()"
   ]
  },
  {
   "cell_type": "code",
   "execution_count": 24,
   "id": "8ecf6bf4",
   "metadata": {},
   "outputs": [],
   "source": [
    "def recommendation_engine():\n",
    "    recommendation_engine()"
   ]
  },
  {
   "cell_type": "code",
   "execution_count": 44,
   "id": "4d53152b",
   "metadata": {
    "scrolled": true
   },
   "outputs": [
    {
     "name": "stdout",
     "output_type": "stream",
     "text": [
      "Give us a song name to get a recommendation!: stay\n",
      "Do you mean Stay by The Kid LAROI & Justin Bieber?no\n",
      "that song is not in the playlist, try another song!\n"
     ]
    }
   ],
   "source": [
    "song= input(\"Give us a song name to get a recommendation!: \")\n",
    "\n",
    "check = songs_top100[songs_top100['Title'].str.lower().str.replace(\" \",\" \").str.contains(song)]\n",
    "index = check.index.tolist()\n",
    "\n",
    "if len(index) == 0:\n",
    "    print(\"This song is not on the Top 100 hot playlist! \")\n",
    "else:\n",
    "    answer = input(\"Do you mean \" + songs_top100.Title[index].values[0] + \" by \" + songs_top100.Artist[index].values[0] + \"?\")\n",
    "\n",
    "    if answer.lower() == 'yes':\n",
    "        suggestion = songs_top100.sample().index.tolist()\n",
    "        print(\"Nice! This is a hot song! You might also like \" + songs_top100['Title'][suggestion].item() + \" by \" + songs_top100['Artist'][suggestion].item())\n",
    "\n",
    "    else:\n",
    "        print(\"that song is not in the playlist, try another song!\")\n",
    "    \n",
    "    "
   ]
  },
  {
   "cell_type": "code",
   "execution_count": null,
   "id": "53713654",
   "metadata": {},
   "outputs": [],
   "source": []
  },
  {
   "cell_type": "code",
   "execution_count": null,
   "id": "a66607b1",
   "metadata": {},
   "outputs": [],
   "source": []
  }
 ],
 "metadata": {
  "kernelspec": {
   "display_name": "Python 3",
   "language": "python",
   "name": "python3"
  },
  "language_info": {
   "codemirror_mode": {
    "name": "ipython",
    "version": 3
   },
   "file_extension": ".py",
   "mimetype": "text/x-python",
   "name": "python",
   "nbconvert_exporter": "python",
   "pygments_lexer": "ipython3",
   "version": "3.8.8"
  }
 },
 "nbformat": 4,
 "nbformat_minor": 5
}
