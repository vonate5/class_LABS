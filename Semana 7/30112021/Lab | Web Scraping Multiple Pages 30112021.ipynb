{
 "cells": [
  {
   "cell_type": "markdown",
   "id": "a8d617e0",
   "metadata": {},
   "source": [
    "# LAB"
   ]
  },
  {
   "cell_type": "code",
   "execution_count": 1,
   "id": "f8abe174",
   "metadata": {},
   "outputs": [],
   "source": [
    "import pandas as pd\n",
    "from bs4 import BeautifulSoup\n",
    "import re\n",
    "import requests\n",
    "from tqdm.notebook import tqdm\n",
    "import random"
   ]
  },
  {
   "cell_type": "code",
   "execution_count": 2,
   "id": "5968018e",
   "metadata": {},
   "outputs": [],
   "source": [
    "url = \"https://www.billboard.com/charts/hot-100/\""
   ]
  },
  {
   "cell_type": "code",
   "execution_count": 3,
   "id": "95b571e9",
   "metadata": {},
   "outputs": [],
   "source": [
    "top100 = requests.get(url)"
   ]
  },
  {
   "cell_type": "code",
   "execution_count": 4,
   "id": "42d6a9d9",
   "metadata": {},
   "outputs": [
    {
     "data": {
      "text/plain": [
       "200"
      ]
     },
     "execution_count": 4,
     "metadata": {},
     "output_type": "execute_result"
    }
   ],
   "source": [
    "top100.status_code"
   ]
  },
  {
   "cell_type": "code",
   "execution_count": 5,
   "id": "f6d5931e",
   "metadata": {},
   "outputs": [],
   "source": [
    "soup=BeautifulSoup(top100.content,'html.parser')"
   ]
  },
  {
   "cell_type": "markdown",
   "id": "c4786bf7",
   "metadata": {},
   "source": [
    "## Songs"
   ]
  },
  {
   "cell_type": "code",
   "execution_count": 6,
   "id": "f4784a2e",
   "metadata": {},
   "outputs": [
    {
     "data": {
      "text/plain": [
       "'\\nEasy On Me\\n'"
      ]
     },
     "execution_count": 6,
     "metadata": {},
     "output_type": "execute_result"
    }
   ],
   "source": [
    "soup.select('h3.c-title.a-no-trucate')[0].text\n",
    "\n"
   ]
  },
  {
   "cell_type": "code",
   "execution_count": 7,
   "id": "1b69ebe9",
   "metadata": {},
   "outputs": [],
   "source": [
    "top100=len(soup.select('h3.c-title.a-no-trucate'))"
   ]
  },
  {
   "cell_type": "code",
   "execution_count": 8,
   "id": "e8cf79ee",
   "metadata": {},
   "outputs": [
    {
     "data": {
      "text/plain": [
       "100"
      ]
     },
     "execution_count": 8,
     "metadata": {},
     "output_type": "execute_result"
    }
   ],
   "source": [
    "top100"
   ]
  },
  {
   "cell_type": "code",
   "execution_count": 9,
   "id": "823ad12f",
   "metadata": {},
   "outputs": [],
   "source": [
    "index = soup.select('h3.c-title.a-no-trucate')[0].get_text(strip=True)\n"
   ]
  },
  {
   "cell_type": "code",
   "execution_count": 10,
   "id": "3d670e85",
   "metadata": {},
   "outputs": [
    {
     "data": {
      "text/plain": [
       "'Easy On Me'"
      ]
     },
     "execution_count": 10,
     "metadata": {},
     "output_type": "execute_result"
    }
   ],
   "source": [
    "index"
   ]
  },
  {
   "cell_type": "markdown",
   "id": "e9784f0e",
   "metadata": {},
   "source": [
    "## Artist"
   ]
  },
  {
   "cell_type": "code",
   "execution_count": 11,
   "id": "559b98ea",
   "metadata": {},
   "outputs": [
    {
     "data": {
      "text/plain": [
       "'Adele'"
      ]
     },
     "execution_count": 11,
     "metadata": {},
     "output_type": "execute_result"
    }
   ],
   "source": [
    "soup.select('span.c-label.a-no-trucate')[0].get_text(strip=True)"
   ]
  },
  {
   "cell_type": "code",
   "execution_count": 12,
   "id": "46dcb2f9",
   "metadata": {},
   "outputs": [
    {
     "data": {
      "text/plain": [
       "'The Weeknd'"
      ]
     },
     "execution_count": 12,
     "metadata": {},
     "output_type": "execute_result"
    }
   ],
   "source": [
    "soup.select('span.c-label.a-no-trucate')[99].get_text(strip=True)"
   ]
  },
  {
   "cell_type": "markdown",
   "id": "dd65b205",
   "metadata": {},
   "source": [
    "## DataFrame"
   ]
  },
  {
   "cell_type": "code",
   "execution_count": 13,
   "id": "b1a274c2",
   "metadata": {},
   "outputs": [],
   "source": [
    "title = []\n",
    "artist = []"
   ]
  },
  {
   "cell_type": "code",
   "execution_count": 14,
   "id": "747f2fd0",
   "metadata": {},
   "outputs": [
    {
     "data": {
      "application/vnd.jupyter.widget-view+json": {
       "model_id": "8e8f1fe3a4e0456a9d0264134ba76020",
       "version_major": 2,
       "version_minor": 0
      },
      "text/plain": [
       "  0%|          | 0/100 [00:00<?, ?it/s]"
      ]
     },
     "metadata": {},
     "output_type": "display_data"
    }
   ],
   "source": [
    "for i in tqdm(range(top100)):\n",
    "    title.append(soup.select('h3.c-title.a-no-trucate')[i].get_text(strip=True))\n",
    "    artist.append(soup.select('span.c-label.a-no-trucate')[i].get_text(strip=True))"
   ]
  },
  {
   "cell_type": "code",
   "execution_count": 15,
   "id": "4e892976",
   "metadata": {},
   "outputs": [],
   "source": [
    "songs_top100=pd.DataFrame({'Title':title,'Artist':artist})"
   ]
  },
  {
   "cell_type": "code",
   "execution_count": 52,
   "id": "fe958f45",
   "metadata": {},
   "outputs": [
    {
     "data": {
      "text/html": [
       "<div>\n",
       "<style scoped>\n",
       "    .dataframe tbody tr th:only-of-type {\n",
       "        vertical-align: middle;\n",
       "    }\n",
       "\n",
       "    .dataframe tbody tr th {\n",
       "        vertical-align: top;\n",
       "    }\n",
       "\n",
       "    .dataframe thead th {\n",
       "        text-align: right;\n",
       "    }\n",
       "</style>\n",
       "<table border=\"1\" class=\"dataframe\">\n",
       "  <thead>\n",
       "    <tr style=\"text-align: right;\">\n",
       "      <th></th>\n",
       "      <th>Title</th>\n",
       "      <th>Artist</th>\n",
       "    </tr>\n",
       "  </thead>\n",
       "  <tbody>\n",
       "    <tr>\n",
       "      <th>94</th>\n",
       "      <td>Baddest</td>\n",
       "      <td>Yung Bleu, Chris Brown &amp; 2 Chainz</td>\n",
       "    </tr>\n",
       "    <tr>\n",
       "      <th>95</th>\n",
       "      <td>Too Easy</td>\n",
       "      <td>Gunna &amp; Future</td>\n",
       "    </tr>\n",
       "    <tr>\n",
       "      <th>96</th>\n",
       "      <td>Escape Plan</td>\n",
       "      <td>Travis Scott</td>\n",
       "    </tr>\n",
       "    <tr>\n",
       "      <th>97</th>\n",
       "      <td>Who's In Your Head</td>\n",
       "      <td>Jonas Brothers</td>\n",
       "    </tr>\n",
       "    <tr>\n",
       "      <th>98</th>\n",
       "      <td>Jugaste y Sufri</td>\n",
       "      <td>Eslabon Armado Featuring DannyLux</td>\n",
       "    </tr>\n",
       "    <tr>\n",
       "      <th>99</th>\n",
       "      <td>Take My Breath</td>\n",
       "      <td>The Weeknd</td>\n",
       "    </tr>\n",
       "  </tbody>\n",
       "</table>\n",
       "</div>"
      ],
      "text/plain": [
       "                 Title                             Artist\n",
       "94             Baddest  Yung Bleu, Chris Brown & 2 Chainz\n",
       "95            Too Easy                     Gunna & Future\n",
       "96         Escape Plan                       Travis Scott\n",
       "97  Who's In Your Head                     Jonas Brothers\n",
       "98     Jugaste y Sufri  Eslabon Armado Featuring DannyLux\n",
       "99      Take My Breath                         The Weeknd"
      ]
     },
     "execution_count": 52,
     "metadata": {},
     "output_type": "execute_result"
    }
   ],
   "source": [
    "songs_top100[94:]"
   ]
  },
  {
   "cell_type": "markdown",
   "id": "abd5b57f",
   "metadata": {},
   "source": [
    "# Asking for one song that you like and replying with other one of the playlist"
   ]
  },
  {
   "cell_type": "code",
   "execution_count": 18,
   "id": "e242f3e6",
   "metadata": {},
   "outputs": [
    {
     "name": "stdout",
     "output_type": "stream",
     "text": [
      "What is the song name to get a recommendation?: stay\n"
     ]
    }
   ],
   "source": [
    "song= input(\"What is the song name to get a recommendation?: \")"
   ]
  },
  {
   "cell_type": "code",
   "execution_count": 25,
   "id": "a1ab82c5",
   "metadata": {},
   "outputs": [],
   "source": [
    "check = songs_top100[songs_top100['Title'].str.lower().str.replace(\" \",\"\").str.contains(song)]"
   ]
  },
  {
   "cell_type": "code",
   "execution_count": 26,
   "id": "3feea3f3",
   "metadata": {},
   "outputs": [],
   "source": [
    "index = check.index.tolist()"
   ]
  },
  {
   "cell_type": "code",
   "execution_count": 27,
   "id": "7f6b4de7",
   "metadata": {},
   "outputs": [
    {
     "ename": "IndexError",
     "evalue": "index 0 is out of bounds for axis 0 with size 0",
     "output_type": "error",
     "traceback": [
      "\u001b[0;31m---------------------------------------------------------------------------\u001b[0m",
      "\u001b[0;31mIndexError\u001b[0m                                Traceback (most recent call last)",
      "\u001b[0;32m<ipython-input-27-bc35a3e67fbf>\u001b[0m in \u001b[0;36m<module>\u001b[0;34m\u001b[0m\n\u001b[0;32m----> 1\u001b[0;31m \u001b[0msongs_top100\u001b[0m\u001b[0;34m.\u001b[0m\u001b[0mTitle\u001b[0m\u001b[0;34m[\u001b[0m\u001b[0mindex\u001b[0m\u001b[0;34m]\u001b[0m\u001b[0;34m.\u001b[0m\u001b[0mvalues\u001b[0m\u001b[0;34m[\u001b[0m\u001b[0;36m0\u001b[0m\u001b[0;34m]\u001b[0m\u001b[0;34m\u001b[0m\u001b[0;34m\u001b[0m\u001b[0m\n\u001b[0m",
      "\u001b[0;31mIndexError\u001b[0m: index 0 is out of bounds for axis 0 with size 0"
     ]
    }
   ],
   "source": [
    "songs_top100.Title[index].values[0]"
   ]
  },
  {
   "cell_type": "code",
   "execution_count": null,
   "id": "81effe79",
   "metadata": {},
   "outputs": [],
   "source": [
    "# check if the check has returned a value or not (is the song hot or not?)\n",
    "if len(check) == 0:\n",
    "    print(\"Not saying you have a bad taste, but it ain't hot.\")\n",
    "else:\n",
    "    answer = input(\"Do you mean \" + songs_top100.Title[index].values[0] + \" by \" + songs_top100.Artist[index].values[0] + \"?\")\n",
    "# provide a suggestion in case the song is the list    \n",
    "    if answer.lower() == 'yes':\n",
    "        suggestion = songs_top100.sample().index.tolist()\n",
    "        print(\"Nice! This is a hot song! You might also like \" + songs_top100['Title'][suggestion].item() + \" by \" + songs_top100['Artist'][suggestion].item())\n",
    "    else:\n",
    "        print(\"Well, not so hot after all. We were thinking about different tracks.\")"
   ]
  },
  {
   "cell_type": "code",
   "execution_count": 53,
   "id": "16be3db1",
   "metadata": {},
   "outputs": [
    {
     "name": "stdout",
     "output_type": "stream",
     "text": [
      "What is the song name to get a recommendation?: baddest\n",
      "Do you mean Baddest by Yung Bleu, Chris Brown & 2 Chainz?yes\n",
      "Nice! This is a hot song! You might also like Heat Waves by Glass Animals\n"
     ]
    }
   ],
   "source": [
    "## ALL CODE IN ONE\n",
    "song= input(\"What is the song name to get a recommendation?: \")\n",
    "\n",
    "def recommendation_engine():\n",
    "    song= input(\"Give us a song name to get a recommendation!: \")\n",
    "\n",
    "check = songs_top100[songs_top100['Title'].str.lower().str.contains(song)]\n",
    "index = check.index.tolist()\n",
    "\n",
    "if len(check) == 0:\n",
    "    print(\"This song is not on the Top 100 hot playlist!.\")\n",
    "else:\n",
    "    answer = input(\"Do you mean \" + songs_top100.Title[index].values[0] + \" by \" + songs_top100.Artist[index].values[0] + \"?\")\n",
    "\n",
    "    if answer.lower() == 'yes':\n",
    "        suggestion = songs_top100.sample().index.tolist()\n",
    "        print(\"Nice! This is a hot song! You might also like \" + songs_top100['Title'][suggestion].item() + \" by \" + songs_top100['Artist'][suggestion].item())\n",
    "\n",
    "    else:\n",
    "        print(\"Well, not so hot after all. We were thinking about different songs.\")\n",
    "    \n",
    "    "
   ]
  },
  {
   "cell_type": "code",
   "execution_count": null,
   "id": "3f44446c",
   "metadata": {},
   "outputs": [],
   "source": []
  },
  {
   "cell_type": "code",
   "execution_count": null,
   "id": "3b1fbbe3",
   "metadata": {},
   "outputs": [],
   "source": []
  },
  {
   "cell_type": "code",
   "execution_count": null,
   "id": "0b1b9583",
   "metadata": {},
   "outputs": [],
   "source": []
  },
  {
   "cell_type": "markdown",
   "id": "d0474fa8",
   "metadata": {},
   "source": [
    "# Lab | Web Scraping Multiple Pages starts here"
   ]
  },
  {
   "cell_type": "markdown",
   "id": "bb1312c2",
   "metadata": {},
   "source": [
    "# Adding a second webpage\n",
    "- **Top 100 POP songs in 2021**"
   ]
  },
  {
   "cell_type": "code",
   "execution_count": null,
   "id": "ae80f2da",
   "metadata": {},
   "outputs": [],
   "source": [
    "from bs4 import BeautifulSoup\n",
    "import requests"
   ]
  },
  {
   "cell_type": "code",
   "execution_count": null,
   "id": "4ebf9bad",
   "metadata": {},
   "outputs": [],
   "source": [
    "# import the second url\n",
    "url = \"http://www.popvortex.com/music/charts/top-pop-songs.php\""
   ]
  },
  {
   "cell_type": "code",
   "execution_count": null,
   "id": "fb86a731",
   "metadata": {},
   "outputs": [],
   "source": [
    "response=requests.get(url)\n",
    "response.status_code"
   ]
  },
  {
   "cell_type": "code",
   "execution_count": null,
   "id": "50d32081",
   "metadata": {},
   "outputs": [],
   "source": [
    "soup1=BeautifulSoup(response.content, \"html.parser\")\n"
   ]
  },
  {
   "cell_type": "code",
   "execution_count": null,
   "id": "7fc419a7",
   "metadata": {},
   "outputs": [],
   "source": [
    "## getting the artist\n",
    "soup1.select('p.title-artist em')[0].get_text(strip=True)"
   ]
  },
  {
   "cell_type": "code",
   "execution_count": null,
   "id": "ba67f1f6",
   "metadata": {},
   "outputs": [],
   "source": [
    "## getting the artist\n",
    "soup1.select('p.title-artist em')[10].get_text(strip=True)"
   ]
  },
  {
   "cell_type": "code",
   "execution_count": null,
   "id": "89e1039e",
   "metadata": {},
   "outputs": [],
   "source": [
    "## getting the songs\n",
    "soup1.select('p.title-artist cite')[0].get_text(strip=True)"
   ]
  },
  {
   "cell_type": "code",
   "execution_count": null,
   "id": "83a74fa4",
   "metadata": {},
   "outputs": [],
   "source": [
    "## getting the songs\n",
    "soup1.select('p.title-artist cite')[10].get_text(strip=True)"
   ]
  },
  {
   "cell_type": "code",
   "execution_count": null,
   "id": "8e4509a2",
   "metadata": {},
   "outputs": [],
   "source": [
    "popsong=[]\n",
    "popartist=[]\n",
    "\n",
    "len_popsongs=len(soup1.select('p.title-artist'))"
   ]
  },
  {
   "cell_type": "code",
   "execution_count": null,
   "id": "0311f5db",
   "metadata": {},
   "outputs": [],
   "source": [
    "len_popsongs"
   ]
  },
  {
   "cell_type": "code",
   "execution_count": null,
   "id": "67068471",
   "metadata": {},
   "outputs": [],
   "source": [
    "for i in tqdm(range(len_popsongs)):\n",
    "    popsong.append(soup1.select('p.title-artist cite')[i].get_text(strip=True))\n",
    "    popartist.append(soup1.select('p.title-artist em')[i].get_text(strip=True))"
   ]
  },
  {
   "cell_type": "code",
   "execution_count": null,
   "id": "f3ef149e",
   "metadata": {},
   "outputs": [],
   "source": [
    "popsongs_top100=pd.DataFrame({'Title':popsong,'Artist':popartist})"
   ]
  },
  {
   "cell_type": "code",
   "execution_count": null,
   "id": "17b12f0e",
   "metadata": {},
   "outputs": [],
   "source": [
    "popsongs_top100"
   ]
  },
  {
   "cell_type": "markdown",
   "id": "eabf89cf",
   "metadata": {},
   "source": [
    "### **Summery at this point**\n",
    "- We have two Dataframes from two different websites\n",
    "- The first dataframe (songs_top100) are the top 100 songs for 2021\n",
    "- The second dataframe (popsongs_top100) are the top 100 POP songs for 2021"
   ]
  },
  {
   "cell_type": "code",
   "execution_count": null,
   "id": "3a30af4b",
   "metadata": {},
   "outputs": [],
   "source": [
    "songs_top100"
   ]
  },
  {
   "cell_type": "code",
   "execution_count": null,
   "id": "5ecdeaee",
   "metadata": {},
   "outputs": [],
   "source": [
    "popsongs_top100"
   ]
  },
  {
   "cell_type": "markdown",
   "id": "8703d43f",
   "metadata": {},
   "source": [
    "## Adding more playlists"
   ]
  },
  {
   "cell_type": "code",
   "execution_count": null,
   "id": "18868513",
   "metadata": {},
   "outputs": [],
   "source": [
    "# import the url\n",
    "url1 = \"https://www.officialcharts.com/charts/\""
   ]
  },
  {
   "cell_type": "code",
   "execution_count": null,
   "id": "d9bb986b",
   "metadata": {},
   "outputs": [],
   "source": [
    "response=requests.get(url1)\n",
    "response.status_code"
   ]
  },
  {
   "cell_type": "code",
   "execution_count": null,
   "id": "c5979eca",
   "metadata": {},
   "outputs": [],
   "source": [
    "# import the url\n",
    "url2 = \"https://www.officialcharts.com/charts/uk-top-40-singles-chart/\""
   ]
  },
  {
   "cell_type": "code",
   "execution_count": null,
   "id": "e5df624e",
   "metadata": {},
   "outputs": [],
   "source": [
    "response=requests.get(url2)\n",
    "response.status_code"
   ]
  },
  {
   "cell_type": "code",
   "execution_count": null,
   "id": "a2b5871f",
   "metadata": {},
   "outputs": [],
   "source": [
    "# import the url\n",
    "url3 = \"https://www.officialcharts.com/charts/country-artists-albums-chart/\""
   ]
  },
  {
   "cell_type": "code",
   "execution_count": null,
   "id": "6199b159",
   "metadata": {},
   "outputs": [],
   "source": [
    "response=requests.get(url3)\n",
    "response.status_code"
   ]
  },
  {
   "cell_type": "code",
   "execution_count": null,
   "id": "1717b3bc",
   "metadata": {},
   "outputs": [],
   "source": [
    "# import the url\n",
    "url4 = \"https://www.officialcharts.com/charts/dance-singles-chart/\""
   ]
  },
  {
   "cell_type": "code",
   "execution_count": null,
   "id": "3e21ee03",
   "metadata": {},
   "outputs": [],
   "source": [
    "response=requests.get(url4)\n",
    "response.status_code"
   ]
  },
  {
   "cell_type": "code",
   "execution_count": null,
   "id": "9995126a",
   "metadata": {},
   "outputs": [],
   "source": [
    "# import the url\n",
    "url5 = \"https://www.officialcharts.com/charts/end-of-year-singles-chart/\""
   ]
  },
  {
   "cell_type": "code",
   "execution_count": null,
   "id": "0fb93823",
   "metadata": {},
   "outputs": [],
   "source": [
    "response=requests.get(url5)\n",
    "response.status_code"
   ]
  },
  {
   "cell_type": "code",
   "execution_count": null,
   "id": "967b028d",
   "metadata": {},
   "outputs": [],
   "source": [
    "# import the url\n",
    "url6 = \"https://www.officialcharts.com/charts/billboard-200/\""
   ]
  },
  {
   "cell_type": "code",
   "execution_count": null,
   "id": "44061a5f",
   "metadata": {},
   "outputs": [],
   "source": [
    "response=requests.get(url6)\n",
    "response.status_code"
   ]
  },
  {
   "cell_type": "code",
   "execution_count": null,
   "id": "887f36b3",
   "metadata": {},
   "outputs": [],
   "source": [
    "# import the url\n",
    "url7 = \"https://www.officialcharts.com/charts/independent-singles-chart/\""
   ]
  },
  {
   "cell_type": "code",
   "execution_count": null,
   "id": "119cd4ea",
   "metadata": {},
   "outputs": [],
   "source": [
    "response=requests.get(url7)\n",
    "response.status_code"
   ]
  },
  {
   "cell_type": "code",
   "execution_count": null,
   "id": "f2788592",
   "metadata": {},
   "outputs": [],
   "source": [
    "# import the url\n",
    "url8 = \"https://www.officialcharts.com/charts/independent-singles-breakers-chart/\""
   ]
  },
  {
   "cell_type": "code",
   "execution_count": null,
   "id": "54692aa9",
   "metadata": {},
   "outputs": [],
   "source": [
    "response=requests.get(url8)\n",
    "response.status_code"
   ]
  },
  {
   "cell_type": "code",
   "execution_count": null,
   "id": "e0cb63b2",
   "metadata": {},
   "outputs": [],
   "source": [
    "# import the url\n",
    "url9 = \"https://www.officialcharts.com/charts/soundtrack-albums-chart/\""
   ]
  },
  {
   "cell_type": "code",
   "execution_count": null,
   "id": "def54e48",
   "metadata": {},
   "outputs": [],
   "source": [
    "response=requests.get(url9)\n",
    "response.status_code"
   ]
  },
  {
   "cell_type": "code",
   "execution_count": null,
   "id": "451cc1c6",
   "metadata": {},
   "outputs": [],
   "source": [
    "# import the url\n",
    "url10 = \"https://www.officialcharts.com/charts/singles-sales-chart/\""
   ]
  },
  {
   "cell_type": "code",
   "execution_count": null,
   "id": "c7af206a",
   "metadata": {},
   "outputs": [],
   "source": [
    "response=requests.get(url10)\n",
    "response.status_code"
   ]
  },
  {
   "cell_type": "code",
   "execution_count": null,
   "id": "fa760ce3",
   "metadata": {},
   "outputs": [],
   "source": [
    "url = \"https://www.billboard.com/charts/hot-100/\"\n",
    "\n",
    "url1 = \"https://www.officialcharts.com/charts/\"\n",
    "url2 = \"https://www.officialcharts.com/charts/uk-top-40-singles-chart/\"\n",
    "url3 = \"https://www.officialcharts.com/charts/country-artists-albums-chart/\"\n",
    "url4 = \"https://www.officialcharts.com/charts/dance-singles-chart/\"\n",
    "url5 = \"https://www.officialcharts.com/charts/end-of-year-singles-chart/\"\n",
    "url6 = \"https://www.officialcharts.com/charts/billboard-200/\"\n",
    "url7 = \"https://www.officialcharts.com/charts/independent-singles-chart/\"\n",
    "url8 = \"https://www.officialcharts.com/charts/independent-singles-breakers-chart/\"\n",
    "url9 = \"https://www.officialcharts.com/charts/soundtrack-albums-chart/\"\n",
    "url10 = \"https://www.officialcharts.com/charts/singles-sales-chart/\""
   ]
  },
  {
   "cell_type": "code",
   "execution_count": null,
   "id": "4378c4fd",
   "metadata": {},
   "outputs": [],
   "source": []
  },
  {
   "cell_type": "code",
   "execution_count": null,
   "id": "3540e82f",
   "metadata": {},
   "outputs": [],
   "source": []
  },
  {
   "cell_type": "code",
   "execution_count": null,
   "id": "6e47594f",
   "metadata": {},
   "outputs": [],
   "source": []
  },
  {
   "cell_type": "code",
   "execution_count": null,
   "id": "08df1ee2",
   "metadata": {},
   "outputs": [],
   "source": []
  },
  {
   "cell_type": "code",
   "execution_count": null,
   "id": "98ff734b",
   "metadata": {},
   "outputs": [],
   "source": []
  },
  {
   "cell_type": "code",
   "execution_count": null,
   "id": "46e0bf24",
   "metadata": {},
   "outputs": [],
   "source": []
  },
  {
   "cell_type": "markdown",
   "id": "3422ebcd",
   "metadata": {},
   "source": [
    "### merging the two tables, then drop the nulls and see which of them are in common so we know how many POP songs are in total in the global 100 2021 top songs"
   ]
  },
  {
   "cell_type": "code",
   "execution_count": null,
   "id": "f9fa2b00",
   "metadata": {},
   "outputs": [],
   "source": [
    "df_new = pd.merge(songs_top100, popsongs_top100, on='Title', how='outer')"
   ]
  },
  {
   "cell_type": "code",
   "execution_count": null,
   "id": "34124eaf",
   "metadata": {},
   "outputs": [],
   "source": [
    "df_new"
   ]
  },
  {
   "cell_type": "code",
   "execution_count": null,
   "id": "9fa632c9",
   "metadata": {},
   "outputs": [],
   "source": [
    "df_new2=df_new.dropna()"
   ]
  },
  {
   "cell_type": "code",
   "execution_count": null,
   "id": "b6719092",
   "metadata": {},
   "outputs": [],
   "source": [
    "df_new2"
   ]
  },
  {
   "cell_type": "code",
   "execution_count": null,
   "id": "42987106",
   "metadata": {},
   "outputs": [],
   "source": [
    "# the ones left are pop, so we add the colunm pop\n",
    "df_new2.insert(3, 'Genre', 'pop') "
   ]
  },
  {
   "cell_type": "code",
   "execution_count": null,
   "id": "dbf18db2",
   "metadata": {},
   "outputs": [],
   "source": [
    "df_new2.info()"
   ]
  },
  {
   "cell_type": "code",
   "execution_count": null,
   "id": "47890817",
   "metadata": {},
   "outputs": [],
   "source": [
    "df_new2"
   ]
  },
  {
   "cell_type": "code",
   "execution_count": null,
   "id": "37e810b2",
   "metadata": {},
   "outputs": [],
   "source": [
    "# dropping the artist_y column\n",
    "df_new2.drop(['Artist_y'], axis = 1, inplace = True) "
   ]
  },
  {
   "cell_type": "code",
   "execution_count": null,
   "id": "0430be8c",
   "metadata": {},
   "outputs": [],
   "source": [
    "df_new2"
   ]
  },
  {
   "cell_type": "code",
   "execution_count": null,
   "id": "ab307411",
   "metadata": {},
   "outputs": [],
   "source": [
    "# renaming\n",
    "df_new2.rename(columns={'Artist_x': 'Pop Artist',\n",
    "                   },\n",
    "          inplace=True, errors='raise')"
   ]
  },
  {
   "cell_type": "code",
   "execution_count": null,
   "id": "4feb8b1e",
   "metadata": {
    "scrolled": true
   },
   "outputs": [],
   "source": [
    "df_new2"
   ]
  },
  {
   "cell_type": "code",
   "execution_count": null,
   "id": "b82f2351",
   "metadata": {},
   "outputs": [],
   "source": [
    "# dropping duplicate\n",
    "df_new2 = df_new2.drop_duplicates()"
   ]
  },
  {
   "cell_type": "code",
   "execution_count": null,
   "id": "e5cbbb37",
   "metadata": {},
   "outputs": [],
   "source": [
    "df_new2"
   ]
  },
  {
   "cell_type": "markdown",
   "id": "359eb142",
   "metadata": {},
   "source": [
    "### In the last Dataframe we obtain the Pop artist that appear in the \"All genres Top 100 playlist\""
   ]
  },
  {
   "cell_type": "code",
   "execution_count": null,
   "id": "e8338482",
   "metadata": {},
   "outputs": [],
   "source": []
  }
 ],
 "metadata": {
  "kernelspec": {
   "display_name": "Python 3",
   "language": "python",
   "name": "python3"
  },
  "language_info": {
   "codemirror_mode": {
    "name": "ipython",
    "version": 3
   },
   "file_extension": ".py",
   "mimetype": "text/x-python",
   "name": "python",
   "nbconvert_exporter": "python",
   "pygments_lexer": "ipython3",
   "version": "3.8.8"
  }
 },
 "nbformat": 4,
 "nbformat_minor": 5
}
