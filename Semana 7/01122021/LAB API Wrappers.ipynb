{
 "cells": [
  {
   "cell_type": "markdown",
   "id": "880c2cd3",
   "metadata": {},
   "source": [
    "### From a URL create a Dataframe"
   ]
  },
  {
   "cell_type": "code",
   "execution_count": 1,
   "id": "444745d6",
   "metadata": {},
   "outputs": [],
   "source": [
    "import pandas as pd\n",
    "from bs4 import BeautifulSoup\n",
    "import re\n",
    "import requests\n",
    "from tqdm.notebook import tqdm\n",
    "import random"
   ]
  },
  {
   "cell_type": "code",
   "execution_count": 2,
   "id": "627f3588",
   "metadata": {},
   "outputs": [],
   "source": [
    "url = \"https://www.billboard.com/charts/hot-100/\""
   ]
  },
  {
   "cell_type": "code",
   "execution_count": 3,
   "id": "b0af26b7",
   "metadata": {},
   "outputs": [],
   "source": [
    "top100 = requests.get(url)"
   ]
  },
  {
   "cell_type": "code",
   "execution_count": 4,
   "id": "ebc7cd9b",
   "metadata": {},
   "outputs": [
    {
     "data": {
      "text/plain": [
       "200"
      ]
     },
     "execution_count": 4,
     "metadata": {},
     "output_type": "execute_result"
    }
   ],
   "source": [
    "top100.status_code"
   ]
  },
  {
   "cell_type": "markdown",
   "id": "6f45ba7f",
   "metadata": {},
   "source": [
    "### Search for the songs in the URL"
   ]
  },
  {
   "cell_type": "code",
   "execution_count": 5,
   "id": "7eeefbf1",
   "metadata": {},
   "outputs": [],
   "source": [
    "soup=BeautifulSoup(top100.content,'html.parser')"
   ]
  },
  {
   "cell_type": "code",
   "execution_count": 6,
   "id": "1df54b59",
   "metadata": {},
   "outputs": [
    {
     "data": {
      "text/plain": [
       "'\\nEasy On Me\\n'"
      ]
     },
     "execution_count": 6,
     "metadata": {},
     "output_type": "execute_result"
    }
   ],
   "source": [
    "soup.select('h3.c-title.a-no-trucate')[0].text"
   ]
  },
  {
   "cell_type": "code",
   "execution_count": 7,
   "id": "2119faf1",
   "metadata": {},
   "outputs": [],
   "source": [
    "top100=len(soup.select('h3.c-title.a-no-trucate'))"
   ]
  },
  {
   "cell_type": "code",
   "execution_count": 8,
   "id": "65e66515",
   "metadata": {},
   "outputs": [
    {
     "data": {
      "text/plain": [
       "100"
      ]
     },
     "execution_count": 8,
     "metadata": {},
     "output_type": "execute_result"
    }
   ],
   "source": [
    "top100"
   ]
  },
  {
   "cell_type": "code",
   "execution_count": 9,
   "id": "81fd0bf2",
   "metadata": {},
   "outputs": [],
   "source": [
    "index = soup.select('h3.c-title.a-no-trucate')[0].get_text(strip=True)"
   ]
  },
  {
   "cell_type": "code",
   "execution_count": 10,
   "id": "85116bdc",
   "metadata": {},
   "outputs": [
    {
     "data": {
      "text/plain": [
       "'Easy On Me'"
      ]
     },
     "execution_count": 10,
     "metadata": {},
     "output_type": "execute_result"
    }
   ],
   "source": [
    "index"
   ]
  },
  {
   "cell_type": "markdown",
   "id": "d2eda3d3",
   "metadata": {},
   "source": [
    "### Search for the artists in the URL"
   ]
  },
  {
   "cell_type": "code",
   "execution_count": 11,
   "id": "d534481b",
   "metadata": {},
   "outputs": [
    {
     "data": {
      "text/plain": [
       "'Adele'"
      ]
     },
     "execution_count": 11,
     "metadata": {},
     "output_type": "execute_result"
    }
   ],
   "source": [
    "soup.select('span.c-label.a-no-trucate')[0].get_text(strip=True)"
   ]
  },
  {
   "cell_type": "code",
   "execution_count": 12,
   "id": "e80758eb",
   "metadata": {},
   "outputs": [
    {
     "data": {
      "text/plain": [
       "'The Weeknd'"
      ]
     },
     "execution_count": 12,
     "metadata": {},
     "output_type": "execute_result"
    }
   ],
   "source": [
    "soup.select('span.c-label.a-no-trucate')[99].get_text(strip=True)"
   ]
  },
  {
   "cell_type": "markdown",
   "id": "1675510f",
   "metadata": {},
   "source": [
    "### Create a DataFrame"
   ]
  },
  {
   "cell_type": "code",
   "execution_count": 13,
   "id": "513ca28d",
   "metadata": {},
   "outputs": [],
   "source": [
    "title = []\n",
    "artist = []"
   ]
  },
  {
   "cell_type": "code",
   "execution_count": 14,
   "id": "52027921",
   "metadata": {},
   "outputs": [
    {
     "data": {
      "application/vnd.jupyter.widget-view+json": {
       "model_id": "4a214fc6622a4e13b900d4f86ad867b0",
       "version_major": 2,
       "version_minor": 0
      },
      "text/plain": [
       "  0%|          | 0/100 [00:00<?, ?it/s]"
      ]
     },
     "metadata": {},
     "output_type": "display_data"
    }
   ],
   "source": [
    "for i in tqdm(range(top100)):\n",
    "    title.append(soup.select('h3.c-title.a-no-trucate')[i].get_text(strip=True))\n",
    "    artist.append(soup.select('span.c-label.a-no-trucate')[i].get_text(strip=True))"
   ]
  },
  {
   "cell_type": "code",
   "execution_count": 15,
   "id": "325b53c6",
   "metadata": {},
   "outputs": [],
   "source": [
    "songs_top100=pd.DataFrame({'Title':title,'Artist':artist})"
   ]
  },
  {
   "cell_type": "code",
   "execution_count": 16,
   "id": "51971a1a",
   "metadata": {},
   "outputs": [
    {
     "data": {
      "text/html": [
       "<div>\n",
       "<style scoped>\n",
       "    .dataframe tbody tr th:only-of-type {\n",
       "        vertical-align: middle;\n",
       "    }\n",
       "\n",
       "    .dataframe tbody tr th {\n",
       "        vertical-align: top;\n",
       "    }\n",
       "\n",
       "    .dataframe thead th {\n",
       "        text-align: right;\n",
       "    }\n",
       "</style>\n",
       "<table border=\"1\" class=\"dataframe\">\n",
       "  <thead>\n",
       "    <tr style=\"text-align: right;\">\n",
       "      <th></th>\n",
       "      <th>Title</th>\n",
       "      <th>Artist</th>\n",
       "    </tr>\n",
       "  </thead>\n",
       "  <tbody>\n",
       "    <tr>\n",
       "      <th>0</th>\n",
       "      <td>Easy On Me</td>\n",
       "      <td>Adele</td>\n",
       "    </tr>\n",
       "    <tr>\n",
       "      <th>1</th>\n",
       "      <td>Stay</td>\n",
       "      <td>The Kid LAROI &amp; Justin Bieber</td>\n",
       "    </tr>\n",
       "    <tr>\n",
       "      <th>2</th>\n",
       "      <td>Industry Baby</td>\n",
       "      <td>Lil Nas X &amp; Jack Harlow</td>\n",
       "    </tr>\n",
       "    <tr>\n",
       "      <th>3</th>\n",
       "      <td>All Too Well (Taylor's Version)</td>\n",
       "      <td>Taylor Swift</td>\n",
       "    </tr>\n",
       "    <tr>\n",
       "      <th>4</th>\n",
       "      <td>Oh My God</td>\n",
       "      <td>Adele</td>\n",
       "    </tr>\n",
       "    <tr>\n",
       "      <th>...</th>\n",
       "      <td>...</td>\n",
       "      <td>...</td>\n",
       "    </tr>\n",
       "    <tr>\n",
       "      <th>95</th>\n",
       "      <td>Too Easy</td>\n",
       "      <td>Gunna &amp; Future</td>\n",
       "    </tr>\n",
       "    <tr>\n",
       "      <th>96</th>\n",
       "      <td>Escape Plan</td>\n",
       "      <td>Travis Scott</td>\n",
       "    </tr>\n",
       "    <tr>\n",
       "      <th>97</th>\n",
       "      <td>Who's In Your Head</td>\n",
       "      <td>Jonas Brothers</td>\n",
       "    </tr>\n",
       "    <tr>\n",
       "      <th>98</th>\n",
       "      <td>Jugaste y Sufri</td>\n",
       "      <td>Eslabon Armado Featuring DannyLux</td>\n",
       "    </tr>\n",
       "    <tr>\n",
       "      <th>99</th>\n",
       "      <td>Take My Breath</td>\n",
       "      <td>The Weeknd</td>\n",
       "    </tr>\n",
       "  </tbody>\n",
       "</table>\n",
       "<p>100 rows × 2 columns</p>\n",
       "</div>"
      ],
      "text/plain": [
       "                              Title                             Artist\n",
       "0                        Easy On Me                              Adele\n",
       "1                              Stay      The Kid LAROI & Justin Bieber\n",
       "2                     Industry Baby            Lil Nas X & Jack Harlow\n",
       "3   All Too Well (Taylor's Version)                       Taylor Swift\n",
       "4                         Oh My God                              Adele\n",
       "..                              ...                                ...\n",
       "95                         Too Easy                     Gunna & Future\n",
       "96                      Escape Plan                       Travis Scott\n",
       "97               Who's In Your Head                     Jonas Brothers\n",
       "98                  Jugaste y Sufri  Eslabon Armado Featuring DannyLux\n",
       "99                   Take My Breath                         The Weeknd\n",
       "\n",
       "[100 rows x 2 columns]"
      ]
     },
     "execution_count": 16,
     "metadata": {},
     "output_type": "execute_result"
    }
   ],
   "source": [
    "songs_top100"
   ]
  },
  {
   "cell_type": "code",
   "execution_count": 17,
   "id": "d24c733a",
   "metadata": {},
   "outputs": [
    {
     "data": {
      "text/html": [
       "<div>\n",
       "<style scoped>\n",
       "    .dataframe tbody tr th:only-of-type {\n",
       "        vertical-align: middle;\n",
       "    }\n",
       "\n",
       "    .dataframe tbody tr th {\n",
       "        vertical-align: top;\n",
       "    }\n",
       "\n",
       "    .dataframe thead th {\n",
       "        text-align: right;\n",
       "    }\n",
       "</style>\n",
       "<table border=\"1\" class=\"dataframe\">\n",
       "  <thead>\n",
       "    <tr style=\"text-align: right;\">\n",
       "      <th></th>\n",
       "      <th>Title</th>\n",
       "      <th>Artist</th>\n",
       "    </tr>\n",
       "  </thead>\n",
       "  <tbody>\n",
       "    <tr>\n",
       "      <th>92</th>\n",
       "      <td>Volvi</td>\n",
       "      <td>Aventura x Bad Bunny</td>\n",
       "    </tr>\n",
       "    <tr>\n",
       "      <th>93</th>\n",
       "      <td>Maybach</td>\n",
       "      <td>42 Dugg Featuring Future</td>\n",
       "    </tr>\n",
       "    <tr>\n",
       "      <th>94</th>\n",
       "      <td>Baddest</td>\n",
       "      <td>Yung Bleu, Chris Brown &amp; 2 Chainz</td>\n",
       "    </tr>\n",
       "    <tr>\n",
       "      <th>95</th>\n",
       "      <td>Too Easy</td>\n",
       "      <td>Gunna &amp; Future</td>\n",
       "    </tr>\n",
       "    <tr>\n",
       "      <th>96</th>\n",
       "      <td>Escape Plan</td>\n",
       "      <td>Travis Scott</td>\n",
       "    </tr>\n",
       "    <tr>\n",
       "      <th>97</th>\n",
       "      <td>Who's In Your Head</td>\n",
       "      <td>Jonas Brothers</td>\n",
       "    </tr>\n",
       "    <tr>\n",
       "      <th>98</th>\n",
       "      <td>Jugaste y Sufri</td>\n",
       "      <td>Eslabon Armado Featuring DannyLux</td>\n",
       "    </tr>\n",
       "    <tr>\n",
       "      <th>99</th>\n",
       "      <td>Take My Breath</td>\n",
       "      <td>The Weeknd</td>\n",
       "    </tr>\n",
       "  </tbody>\n",
       "</table>\n",
       "</div>"
      ],
      "text/plain": [
       "                 Title                             Artist\n",
       "92               Volvi               Aventura x Bad Bunny\n",
       "93             Maybach           42 Dugg Featuring Future\n",
       "94             Baddest  Yung Bleu, Chris Brown & 2 Chainz\n",
       "95            Too Easy                     Gunna & Future\n",
       "96         Escape Plan                       Travis Scott\n",
       "97  Who's In Your Head                     Jonas Brothers\n",
       "98     Jugaste y Sufri  Eslabon Armado Featuring DannyLux\n",
       "99      Take My Breath                         The Weeknd"
      ]
     },
     "execution_count": 17,
     "metadata": {},
     "output_type": "execute_result"
    }
   ],
   "source": [
    "songs_top100[92:]"
   ]
  },
  {
   "cell_type": "markdown",
   "id": "cf9e7d25",
   "metadata": {},
   "source": [
    "### Create a prototype where:\n",
    "- The user can ask for one song and see if its in the playlist Top hot 100 songs\n",
    "- Returns a new song if the first one is in the playlist"
   ]
  },
  {
   "cell_type": "code",
   "execution_count": 18,
   "id": "55c9909e",
   "metadata": {},
   "outputs": [
    {
     "name": "stdout",
     "output_type": "stream",
     "text": [
      "Give us a song name to get a recommendation!: stay\n"
     ]
    }
   ],
   "source": [
    "song= input(\"Give us a song name to get a recommendation!: \")"
   ]
  },
  {
   "cell_type": "code",
   "execution_count": 19,
   "id": "203da336",
   "metadata": {},
   "outputs": [],
   "source": [
    "check = songs_top100[songs_top100['Title'].str.lower().str.replace(\" \",\" \").str.contains(song)]"
   ]
  },
  {
   "cell_type": "code",
   "execution_count": 20,
   "id": "448da2f6",
   "metadata": {},
   "outputs": [],
   "source": [
    "index = check.index.tolist()"
   ]
  },
  {
   "cell_type": "code",
   "execution_count": 21,
   "id": "9cde5981",
   "metadata": {},
   "outputs": [],
   "source": [
    "def recommendation_engine():\n",
    "    recommendation_engine()"
   ]
  },
  {
   "cell_type": "code",
   "execution_count": 22,
   "id": "74505150",
   "metadata": {},
   "outputs": [
    {
     "name": "stdout",
     "output_type": "stream",
     "text": [
      "Give us a song name to get a recommendation!: stay\n",
      "Do you mean Stay by The Kid LAROI & Justin Bieber?yes\n",
      "Nice! This is a hot song! You might also like God's Country by State Of Mine & Drew Jacobs\n"
     ]
    }
   ],
   "source": [
    "song= input(\"Give us a song name to get a recommendation!: \")\n",
    "\n",
    "check = songs_top100[songs_top100['Title'].str.lower().str.replace(\" \",\" \").str.contains(song)]\n",
    "index = check.index.tolist()\n",
    "\n",
    "if len(index) == 0:\n",
    "    print(\"This song is not on the Top 100 hot playlist! \")\n",
    "else:\n",
    "    answer = input(\"Do you mean \" + songs_top100.Title[index].values[0] + \" by \" + songs_top100.Artist[index].values[0] + \"?\")\n",
    "\n",
    "    if answer.lower() == 'yes':\n",
    "        suggestion = songs_top100.sample().index.tolist()\n",
    "        print(\"Nice! This is a hot song! You might also like \" + songs_top100['Title'][suggestion].item() + \" by \" + songs_top100['Artist'][suggestion].item())\n",
    "\n",
    "    else:\n",
    "        print(\"that song is not in the playlist, try another song!\")\n",
    "    \n",
    "    "
   ]
  },
  {
   "cell_type": "markdown",
   "id": "1bf7d31e",
   "metadata": {},
   "source": [
    "# Import Spotify"
   ]
  },
  {
   "cell_type": "code",
   "execution_count": 23,
   "id": "4e14ba66",
   "metadata": {},
   "outputs": [],
   "source": [
    "import spotipy\n",
    "from spotipy.oauth2 import SpotifyClientCredentials"
   ]
  },
  {
   "cell_type": "markdown",
   "id": "55637038",
   "metadata": {},
   "source": [
    "### Credentials"
   ]
  },
  {
   "cell_type": "code",
   "execution_count": 24,
   "id": "a48e7eb1",
   "metadata": {},
   "outputs": [
    {
     "name": "stdout",
     "output_type": "stream",
     "text": [
      "client_id?········\n",
      "client_secret?········\n"
     ]
    }
   ],
   "source": [
    "import getpass\n",
    "\n",
    "client_id=str(getpass.getpass('client_id?'))\n",
    "client_secret=str(getpass.getpass('client_secret?'))"
   ]
  },
  {
   "cell_type": "code",
   "execution_count": 25,
   "id": "4c341d69",
   "metadata": {},
   "outputs": [],
   "source": [
    "# embedding our getpass credentials in the access key\n",
    "\n",
    "sp= spotipy.Spotify(auth_manager=SpotifyClientCredentials(client_id=client_id, client_secret=client_secret))"
   ]
  },
  {
   "cell_type": "markdown",
   "id": "735e7ab8",
   "metadata": {},
   "source": [
    "## Import playlists by genre\n",
    "- I will first import a POP playlist"
   ]
  },
  {
   "cell_type": "code",
   "execution_count": 26,
   "id": "17ed1421",
   "metadata": {},
   "outputs": [],
   "source": [
    "## https://open.spotify.com/playlist/37i9dQZF1DX1ngEVM0lKrb?si=332a03edd1db4135\n",
    "## 37i9dQZF1DX1ngEVM0lKrb"
   ]
  },
  {
   "cell_type": "code",
   "execution_count": 27,
   "id": "8bc53433",
   "metadata": {},
   "outputs": [],
   "source": [
    "pop_playlist = sp.user_playlist_tracks(\"Sarah Eringaard\", \"1HWoagBCUTlqigP88enL5r\")"
   ]
  },
  {
   "cell_type": "raw",
   "id": "ea5078f1",
   "metadata": {},
   "source": [
    "pop_playlist"
   ]
  },
  {
   "cell_type": "code",
   "execution_count": 29,
   "id": "bc900bcd",
   "metadata": {},
   "outputs": [
    {
     "data": {
      "text/plain": [
       "dict_keys(['href', 'items', 'limit', 'next', 'offset', 'previous', 'total'])"
      ]
     },
     "execution_count": 29,
     "metadata": {},
     "output_type": "execute_result"
    }
   ],
   "source": [
    "pop_playlist.keys()"
   ]
  },
  {
   "cell_type": "raw",
   "id": "a1d48fe5",
   "metadata": {},
   "source": [
    "pop_playlist['items'][3]"
   ]
  },
  {
   "cell_type": "code",
   "execution_count": 31,
   "id": "061ca757",
   "metadata": {},
   "outputs": [
    {
     "data": {
      "text/plain": [
       "100"
      ]
     },
     "execution_count": 31,
     "metadata": {},
     "output_type": "execute_result"
    }
   ],
   "source": [
    "len(pop_playlist['items'])"
   ]
  },
  {
   "cell_type": "code",
   "execution_count": 32,
   "id": "62ae49d1",
   "metadata": {},
   "outputs": [],
   "source": [
    "def get_playlist_tracks(user_id, playlist_id):\n",
    "    results=sp.user_playlist_tracks(user_id, playlist_id)\n",
    "    tracks=results['items']\n",
    "    while results['next']:\n",
    "        results= sp.next(results)\n",
    "        tracks.extend(results['items'])\n",
    "    return tracks"
   ]
  },
  {
   "cell_type": "code",
   "execution_count": 33,
   "id": "8c647e35",
   "metadata": {},
   "outputs": [],
   "source": [
    "results2=get_playlist_tracks(\"Sarah Eringaard\", \"1HWoagBCUTlqigP88enL5r\")"
   ]
  },
  {
   "cell_type": "code",
   "execution_count": 34,
   "id": "a74e7713",
   "metadata": {},
   "outputs": [
    {
     "data": {
      "text/plain": [
       "473"
      ]
     },
     "execution_count": 34,
     "metadata": {},
     "output_type": "execute_result"
    }
   ],
   "source": [
    "len(results2)"
   ]
  },
  {
   "cell_type": "code",
   "execution_count": 35,
   "id": "a37320f7",
   "metadata": {},
   "outputs": [
    {
     "data": {
      "text/plain": [
       "dict_keys(['album', 'artists', 'available_markets', 'disc_number', 'duration_ms', 'episode', 'explicit', 'external_ids', 'external_urls', 'href', 'id', 'is_local', 'name', 'popularity', 'preview_url', 'track', 'track_number', 'type', 'uri'])"
      ]
     },
     "execution_count": 35,
     "metadata": {},
     "output_type": "execute_result"
    }
   ],
   "source": [
    "results2[0]['track'].keys()"
   ]
  },
  {
   "cell_type": "code",
   "execution_count": 36,
   "id": "5b790b34",
   "metadata": {},
   "outputs": [
    {
     "data": {
      "text/plain": [
       "['spotify:track', '04aAxqtGp5pv12UXAg4pkq']"
      ]
     },
     "execution_count": 36,
     "metadata": {},
     "output_type": "execute_result"
    }
   ],
   "source": [
    "results2[0]['track'][\"uri\"].rsplit(':',1)"
   ]
  },
  {
   "cell_type": "code",
   "execution_count": 37,
   "id": "58169277",
   "metadata": {},
   "outputs": [
    {
     "data": {
      "text/plain": [
       "dict_keys(['external_urls', 'href', 'id', 'name', 'type', 'uri'])"
      ]
     },
     "execution_count": 37,
     "metadata": {},
     "output_type": "execute_result"
    }
   ],
   "source": [
    "results2[0]['track'][\"artists\"][0].keys()"
   ]
  },
  {
   "cell_type": "code",
   "execution_count": 38,
   "id": "9d674cc7",
   "metadata": {},
   "outputs": [],
   "source": [
    "song_name=[]\n",
    "song_URI=[]\n",
    "song_ID=[]\n",
    "song_artist=[]\n",
    "playlist=results2"
   ]
  },
  {
   "cell_type": "code",
   "execution_count": 39,
   "id": "e656fcea",
   "metadata": {},
   "outputs": [],
   "source": [
    "for r in results2:\n",
    "    song_URI.append(r[\"track\"][\"uri\"])"
   ]
  },
  {
   "cell_type": "code",
   "execution_count": 40,
   "id": "f97ee549",
   "metadata": {},
   "outputs": [],
   "source": [
    "for r in results2: \n",
    "    song_ID.append(r[\"track\"][\"id\"])"
   ]
  },
  {
   "cell_type": "code",
   "execution_count": 41,
   "id": "b16cb9e3",
   "metadata": {},
   "outputs": [],
   "source": [
    "for r in results2: \n",
    "    song_name.append(r[\"track\"][\"name\"])"
   ]
  },
  {
   "cell_type": "code",
   "execution_count": 42,
   "id": "f2d8db9f",
   "metadata": {},
   "outputs": [],
   "source": [
    "for r in results2: \n",
    "    song_artist.append(r[\"track\"][\"artists\"][0][\"name\"])"
   ]
  },
  {
   "cell_type": "code",
   "execution_count": 43,
   "id": "f09fadaf",
   "metadata": {},
   "outputs": [],
   "source": [
    "import pandas as pd"
   ]
  },
  {
   "cell_type": "code",
   "execution_count": 44,
   "id": "6ea0069a",
   "metadata": {},
   "outputs": [],
   "source": [
    "playlist_pop_info=pd.DataFrame({\"song_name\":song_name,\"song_ID\":song_ID,\"song_artist\":song_artist})\n"
   ]
  },
  {
   "cell_type": "code",
   "execution_count": 45,
   "id": "b99fbe10",
   "metadata": {},
   "outputs": [
    {
     "data": {
      "text/html": [
       "<div>\n",
       "<style scoped>\n",
       "    .dataframe tbody tr th:only-of-type {\n",
       "        vertical-align: middle;\n",
       "    }\n",
       "\n",
       "    .dataframe tbody tr th {\n",
       "        vertical-align: top;\n",
       "    }\n",
       "\n",
       "    .dataframe thead th {\n",
       "        text-align: right;\n",
       "    }\n",
       "</style>\n",
       "<table border=\"1\" class=\"dataframe\">\n",
       "  <thead>\n",
       "    <tr style=\"text-align: right;\">\n",
       "      <th></th>\n",
       "      <th>song_name</th>\n",
       "      <th>song_ID</th>\n",
       "      <th>song_artist</th>\n",
       "    </tr>\n",
       "  </thead>\n",
       "  <tbody>\n",
       "    <tr>\n",
       "      <th>0</th>\n",
       "      <td>Centuries</td>\n",
       "      <td>04aAxqtGp5pv12UXAg4pkq</td>\n",
       "      <td>Fall Out Boy</td>\n",
       "    </tr>\n",
       "    <tr>\n",
       "      <th>1</th>\n",
       "      <td>Counting Stars</td>\n",
       "      <td>6sy3LkhNFjJWlaeSMNwQ62</td>\n",
       "      <td>OneRepublic</td>\n",
       "    </tr>\n",
       "    <tr>\n",
       "      <th>2</th>\n",
       "      <td>Animals</td>\n",
       "      <td>16pwlVsypm4aDKMhXdOuXg</td>\n",
       "      <td>Maroon 5</td>\n",
       "    </tr>\n",
       "    <tr>\n",
       "      <th>3</th>\n",
       "      <td>Take Me to Church</td>\n",
       "      <td>0aOluBqXYd0rFSCsgDyAWX</td>\n",
       "      <td>Hozier</td>\n",
       "    </tr>\n",
       "    <tr>\n",
       "      <th>4</th>\n",
       "      <td>Rude</td>\n",
       "      <td>6RtPijgfPKROxEzTHNRiDp</td>\n",
       "      <td>MAGIC!</td>\n",
       "    </tr>\n",
       "    <tr>\n",
       "      <th>...</th>\n",
       "      <td>...</td>\n",
       "      <td>...</td>\n",
       "      <td>...</td>\n",
       "    </tr>\n",
       "    <tr>\n",
       "      <th>468</th>\n",
       "      <td>Jenny</td>\n",
       "      <td>2rpVmxAGGc18wpBREaoE0R</td>\n",
       "      <td>Studio Killers</td>\n",
       "    </tr>\n",
       "    <tr>\n",
       "      <th>469</th>\n",
       "      <td>I'm Gonna Be (500 Miles)</td>\n",
       "      <td>66S14BkJDxgkYxLl5DCqOz</td>\n",
       "      <td>The Proclaimers</td>\n",
       "    </tr>\n",
       "    <tr>\n",
       "      <th>470</th>\n",
       "      <td>My Humps</td>\n",
       "      <td>19JdbdEwQI7bCxefMokZO8</td>\n",
       "      <td>Black Eyed Peas</td>\n",
       "    </tr>\n",
       "    <tr>\n",
       "      <th>471</th>\n",
       "      <td>I Just Wanna Run</td>\n",
       "      <td>3WLLJzllBEgPiSA0qd3BN3</td>\n",
       "      <td>The Downtown Fiction</td>\n",
       "    </tr>\n",
       "    <tr>\n",
       "      <th>472</th>\n",
       "      <td>Dream On</td>\n",
       "      <td>5MxNLUsfh7uzROypsoO5qe</td>\n",
       "      <td>Aerosmith</td>\n",
       "    </tr>\n",
       "  </tbody>\n",
       "</table>\n",
       "<p>473 rows × 3 columns</p>\n",
       "</div>"
      ],
      "text/plain": [
       "                    song_name                 song_ID           song_artist\n",
       "0                   Centuries  04aAxqtGp5pv12UXAg4pkq          Fall Out Boy\n",
       "1              Counting Stars  6sy3LkhNFjJWlaeSMNwQ62           OneRepublic\n",
       "2                     Animals  16pwlVsypm4aDKMhXdOuXg              Maroon 5\n",
       "3           Take Me to Church  0aOluBqXYd0rFSCsgDyAWX                Hozier\n",
       "4                        Rude  6RtPijgfPKROxEzTHNRiDp                MAGIC!\n",
       "..                        ...                     ...                   ...\n",
       "468                     Jenny  2rpVmxAGGc18wpBREaoE0R        Studio Killers\n",
       "469  I'm Gonna Be (500 Miles)  66S14BkJDxgkYxLl5DCqOz       The Proclaimers\n",
       "470                  My Humps  19JdbdEwQI7bCxefMokZO8       Black Eyed Peas\n",
       "471          I Just Wanna Run  3WLLJzllBEgPiSA0qd3BN3  The Downtown Fiction\n",
       "472                  Dream On  5MxNLUsfh7uzROypsoO5qe             Aerosmith\n",
       "\n",
       "[473 rows x 3 columns]"
      ]
     },
     "execution_count": 45,
     "metadata": {},
     "output_type": "execute_result"
    }
   ],
   "source": [
    "playlist_pop_info"
   ]
  },
  {
   "cell_type": "markdown",
   "id": "eab120a5",
   "metadata": {},
   "source": [
    "### Add a new column for genre in playlist_pop_info"
   ]
  },
  {
   "cell_type": "code",
   "execution_count": 46,
   "id": "bbc64b0a",
   "metadata": {},
   "outputs": [],
   "source": [
    "playlist_pop_info.insert(3, 'Genre', 'Pop') "
   ]
  },
  {
   "cell_type": "code",
   "execution_count": 47,
   "id": "dc88eabf",
   "metadata": {},
   "outputs": [
    {
     "data": {
      "text/html": [
       "<div>\n",
       "<style scoped>\n",
       "    .dataframe tbody tr th:only-of-type {\n",
       "        vertical-align: middle;\n",
       "    }\n",
       "\n",
       "    .dataframe tbody tr th {\n",
       "        vertical-align: top;\n",
       "    }\n",
       "\n",
       "    .dataframe thead th {\n",
       "        text-align: right;\n",
       "    }\n",
       "</style>\n",
       "<table border=\"1\" class=\"dataframe\">\n",
       "  <thead>\n",
       "    <tr style=\"text-align: right;\">\n",
       "      <th></th>\n",
       "      <th>song_name</th>\n",
       "      <th>song_ID</th>\n",
       "      <th>song_artist</th>\n",
       "      <th>Genre</th>\n",
       "    </tr>\n",
       "  </thead>\n",
       "  <tbody>\n",
       "    <tr>\n",
       "      <th>0</th>\n",
       "      <td>Centuries</td>\n",
       "      <td>04aAxqtGp5pv12UXAg4pkq</td>\n",
       "      <td>Fall Out Boy</td>\n",
       "      <td>Pop</td>\n",
       "    </tr>\n",
       "    <tr>\n",
       "      <th>1</th>\n",
       "      <td>Counting Stars</td>\n",
       "      <td>6sy3LkhNFjJWlaeSMNwQ62</td>\n",
       "      <td>OneRepublic</td>\n",
       "      <td>Pop</td>\n",
       "    </tr>\n",
       "    <tr>\n",
       "      <th>2</th>\n",
       "      <td>Animals</td>\n",
       "      <td>16pwlVsypm4aDKMhXdOuXg</td>\n",
       "      <td>Maroon 5</td>\n",
       "      <td>Pop</td>\n",
       "    </tr>\n",
       "    <tr>\n",
       "      <th>3</th>\n",
       "      <td>Take Me to Church</td>\n",
       "      <td>0aOluBqXYd0rFSCsgDyAWX</td>\n",
       "      <td>Hozier</td>\n",
       "      <td>Pop</td>\n",
       "    </tr>\n",
       "    <tr>\n",
       "      <th>4</th>\n",
       "      <td>Rude</td>\n",
       "      <td>6RtPijgfPKROxEzTHNRiDp</td>\n",
       "      <td>MAGIC!</td>\n",
       "      <td>Pop</td>\n",
       "    </tr>\n",
       "    <tr>\n",
       "      <th>...</th>\n",
       "      <td>...</td>\n",
       "      <td>...</td>\n",
       "      <td>...</td>\n",
       "      <td>...</td>\n",
       "    </tr>\n",
       "    <tr>\n",
       "      <th>468</th>\n",
       "      <td>Jenny</td>\n",
       "      <td>2rpVmxAGGc18wpBREaoE0R</td>\n",
       "      <td>Studio Killers</td>\n",
       "      <td>Pop</td>\n",
       "    </tr>\n",
       "    <tr>\n",
       "      <th>469</th>\n",
       "      <td>I'm Gonna Be (500 Miles)</td>\n",
       "      <td>66S14BkJDxgkYxLl5DCqOz</td>\n",
       "      <td>The Proclaimers</td>\n",
       "      <td>Pop</td>\n",
       "    </tr>\n",
       "    <tr>\n",
       "      <th>470</th>\n",
       "      <td>My Humps</td>\n",
       "      <td>19JdbdEwQI7bCxefMokZO8</td>\n",
       "      <td>Black Eyed Peas</td>\n",
       "      <td>Pop</td>\n",
       "    </tr>\n",
       "    <tr>\n",
       "      <th>471</th>\n",
       "      <td>I Just Wanna Run</td>\n",
       "      <td>3WLLJzllBEgPiSA0qd3BN3</td>\n",
       "      <td>The Downtown Fiction</td>\n",
       "      <td>Pop</td>\n",
       "    </tr>\n",
       "    <tr>\n",
       "      <th>472</th>\n",
       "      <td>Dream On</td>\n",
       "      <td>5MxNLUsfh7uzROypsoO5qe</td>\n",
       "      <td>Aerosmith</td>\n",
       "      <td>Pop</td>\n",
       "    </tr>\n",
       "  </tbody>\n",
       "</table>\n",
       "<p>473 rows × 4 columns</p>\n",
       "</div>"
      ],
      "text/plain": [
       "                    song_name                 song_ID           song_artist  \\\n",
       "0                   Centuries  04aAxqtGp5pv12UXAg4pkq          Fall Out Boy   \n",
       "1              Counting Stars  6sy3LkhNFjJWlaeSMNwQ62           OneRepublic   \n",
       "2                     Animals  16pwlVsypm4aDKMhXdOuXg              Maroon 5   \n",
       "3           Take Me to Church  0aOluBqXYd0rFSCsgDyAWX                Hozier   \n",
       "4                        Rude  6RtPijgfPKROxEzTHNRiDp                MAGIC!   \n",
       "..                        ...                     ...                   ...   \n",
       "468                     Jenny  2rpVmxAGGc18wpBREaoE0R        Studio Killers   \n",
       "469  I'm Gonna Be (500 Miles)  66S14BkJDxgkYxLl5DCqOz       The Proclaimers   \n",
       "470                  My Humps  19JdbdEwQI7bCxefMokZO8       Black Eyed Peas   \n",
       "471          I Just Wanna Run  3WLLJzllBEgPiSA0qd3BN3  The Downtown Fiction   \n",
       "472                  Dream On  5MxNLUsfh7uzROypsoO5qe             Aerosmith   \n",
       "\n",
       "    Genre  \n",
       "0     Pop  \n",
       "1     Pop  \n",
       "2     Pop  \n",
       "3     Pop  \n",
       "4     Pop  \n",
       "..    ...  \n",
       "468   Pop  \n",
       "469   Pop  \n",
       "470   Pop  \n",
       "471   Pop  \n",
       "472   Pop  \n",
       "\n",
       "[473 rows x 4 columns]"
      ]
     },
     "execution_count": 47,
     "metadata": {},
     "output_type": "execute_result"
    }
   ],
   "source": [
    "playlist_pop_info"
   ]
  },
  {
   "cell_type": "markdown",
   "id": "6cc84bf3",
   "metadata": {},
   "source": [
    "## Import playlists by genre\n",
    "- I will import now a INDIE playlist"
   ]
  },
  {
   "cell_type": "code",
   "execution_count": 48,
   "id": "a728e24a",
   "metadata": {},
   "outputs": [],
   "source": [
    "## https://open.spotify.com/playlist/7lnCgcTxLTTcOqvgoS80sC?si=923d97089cf041ea\n",
    "## oceanify"
   ]
  },
  {
   "cell_type": "code",
   "execution_count": 49,
   "id": "955e6e36",
   "metadata": {},
   "outputs": [],
   "source": [
    "indie_playlist = sp.user_playlist_tracks(\"oceanify\", \"7lnCgcTxLTTcOqvgoS80sC\")"
   ]
  },
  {
   "cell_type": "raw",
   "id": "587c86a6",
   "metadata": {},
   "source": [
    "indie_playlist"
   ]
  },
  {
   "cell_type": "code",
   "execution_count": 51,
   "id": "83149cfd",
   "metadata": {},
   "outputs": [
    {
     "data": {
      "text/plain": [
       "dict_keys(['href', 'items', 'limit', 'next', 'offset', 'previous', 'total'])"
      ]
     },
     "execution_count": 51,
     "metadata": {},
     "output_type": "execute_result"
    }
   ],
   "source": [
    "indie_playlist.keys()"
   ]
  },
  {
   "cell_type": "raw",
   "id": "5018912b",
   "metadata": {},
   "source": [
    "indie_playlist['items'][3]"
   ]
  },
  {
   "cell_type": "code",
   "execution_count": 53,
   "id": "1875f0c7",
   "metadata": {},
   "outputs": [
    {
     "data": {
      "text/plain": [
       "100"
      ]
     },
     "execution_count": 53,
     "metadata": {},
     "output_type": "execute_result"
    }
   ],
   "source": [
    "len(indie_playlist['items'])"
   ]
  },
  {
   "cell_type": "code",
   "execution_count": 54,
   "id": "b1e43b81",
   "metadata": {},
   "outputs": [],
   "source": [
    "def get_playlist_tracks1(user_id, playlist_id):\n",
    "    results=sp.user_playlist_tracks(user_id, playlist_id)\n",
    "    tracks=results['items']\n",
    "    while results['next']:\n",
    "        results= sp.next(results)\n",
    "        tracks.extend(results['items'])\n",
    "    return tracks"
   ]
  },
  {
   "cell_type": "code",
   "execution_count": 55,
   "id": "d1b72873",
   "metadata": {},
   "outputs": [],
   "source": [
    "results3=get_playlist_tracks1(\"oceanify\", \"7lnCgcTxLTTcOqvgoS80sC\")"
   ]
  },
  {
   "cell_type": "code",
   "execution_count": 56,
   "id": "8a72c687",
   "metadata": {},
   "outputs": [
    {
     "data": {
      "text/plain": [
       "166"
      ]
     },
     "execution_count": 56,
     "metadata": {},
     "output_type": "execute_result"
    }
   ],
   "source": [
    "len(results3)"
   ]
  },
  {
   "cell_type": "code",
   "execution_count": 57,
   "id": "a62a4b45",
   "metadata": {},
   "outputs": [
    {
     "data": {
      "text/plain": [
       "dict_keys(['album', 'artists', 'available_markets', 'disc_number', 'duration_ms', 'episode', 'explicit', 'external_ids', 'external_urls', 'href', 'id', 'is_local', 'name', 'popularity', 'preview_url', 'track', 'track_number', 'type', 'uri'])"
      ]
     },
     "execution_count": 57,
     "metadata": {},
     "output_type": "execute_result"
    }
   ],
   "source": [
    "results3[0]['track'].keys()"
   ]
  },
  {
   "cell_type": "code",
   "execution_count": 58,
   "id": "80d2b897",
   "metadata": {},
   "outputs": [
    {
     "data": {
      "text/plain": [
       "['spotify:track', '3Wrjm47oTz2sjIgck11l5e']"
      ]
     },
     "execution_count": 58,
     "metadata": {},
     "output_type": "execute_result"
    }
   ],
   "source": [
    "results3[0]['track'][\"uri\"].rsplit(':',1)"
   ]
  },
  {
   "cell_type": "code",
   "execution_count": 59,
   "id": "9f3cb986",
   "metadata": {},
   "outputs": [
    {
     "data": {
      "text/plain": [
       "dict_keys(['external_urls', 'href', 'id', 'name', 'type', 'uri'])"
      ]
     },
     "execution_count": 59,
     "metadata": {},
     "output_type": "execute_result"
    }
   ],
   "source": [
    "results3[0]['track'][\"artists\"][0].keys()"
   ]
  },
  {
   "cell_type": "code",
   "execution_count": 60,
   "id": "5ad27e7b",
   "metadata": {},
   "outputs": [],
   "source": [
    "song_name=[]\n",
    "song_URI=[]\n",
    "song_ID=[]\n",
    "song_artist=[]\n",
    "playlist=results3"
   ]
  },
  {
   "cell_type": "code",
   "execution_count": 61,
   "id": "f07b550f",
   "metadata": {},
   "outputs": [],
   "source": [
    "for r in results3:\n",
    "    song_URI.append(r[\"track\"][\"uri\"])\n",
    "    \n",
    "for r in results3: \n",
    "    song_ID.append(r[\"track\"][\"id\"])\n",
    "    \n",
    "for r in results3: \n",
    "    song_name.append(r[\"track\"][\"name\"])\n",
    "    \n",
    "for r in results3: \n",
    "    song_artist.append(r[\"track\"][\"artists\"][0][\"name\"])"
   ]
  },
  {
   "cell_type": "code",
   "execution_count": 62,
   "id": "9114f63e",
   "metadata": {},
   "outputs": [],
   "source": [
    "playlist_indie_info=pd.DataFrame({\"song_name\":song_name,\"song_ID\":song_ID,\"song_artist\":song_artist})\n"
   ]
  },
  {
   "cell_type": "code",
   "execution_count": 63,
   "id": "da49d3ca",
   "metadata": {},
   "outputs": [
    {
     "data": {
      "text/html": [
       "<div>\n",
       "<style scoped>\n",
       "    .dataframe tbody tr th:only-of-type {\n",
       "        vertical-align: middle;\n",
       "    }\n",
       "\n",
       "    .dataframe tbody tr th {\n",
       "        vertical-align: top;\n",
       "    }\n",
       "\n",
       "    .dataframe thead th {\n",
       "        text-align: right;\n",
       "    }\n",
       "</style>\n",
       "<table border=\"1\" class=\"dataframe\">\n",
       "  <thead>\n",
       "    <tr style=\"text-align: right;\">\n",
       "      <th></th>\n",
       "      <th>song_name</th>\n",
       "      <th>song_ID</th>\n",
       "      <th>song_artist</th>\n",
       "    </tr>\n",
       "  </thead>\n",
       "  <tbody>\n",
       "    <tr>\n",
       "      <th>0</th>\n",
       "      <td>Beggin'</td>\n",
       "      <td>3Wrjm47oTz2sjIgck11l5e</td>\n",
       "      <td>Måneskin</td>\n",
       "    </tr>\n",
       "    <tr>\n",
       "      <th>1</th>\n",
       "      <td>The Less I Know The Better</td>\n",
       "      <td>4g3Ax56IslQkI6XVfYKVc5</td>\n",
       "      <td>Tame Impala</td>\n",
       "    </tr>\n",
       "    <tr>\n",
       "      <th>2</th>\n",
       "      <td>Mr. Brightside</td>\n",
       "      <td>3n3Ppam7vgaVa1iaRUc9Lp</td>\n",
       "      <td>The Killers</td>\n",
       "    </tr>\n",
       "    <tr>\n",
       "      <th>3</th>\n",
       "      <td>Boys Don't Cry</td>\n",
       "      <td>1QFh8OH1e78dGd3VyJZCAC</td>\n",
       "      <td>The Cure</td>\n",
       "    </tr>\n",
       "    <tr>\n",
       "      <th>4</th>\n",
       "      <td>A-Punk</td>\n",
       "      <td>5dKBaysNJtfpyNTRa5lqDb</td>\n",
       "      <td>Vampire Weekend</td>\n",
       "    </tr>\n",
       "    <tr>\n",
       "      <th>...</th>\n",
       "      <td>...</td>\n",
       "      <td>...</td>\n",
       "      <td>...</td>\n",
       "    </tr>\n",
       "    <tr>\n",
       "      <th>161</th>\n",
       "      <td>Maybe - Extended Version</td>\n",
       "      <td>5M9FFdvLfKPkORIRERHzKY</td>\n",
       "      <td>Elizabeth Cuite</td>\n",
       "    </tr>\n",
       "    <tr>\n",
       "      <th>162</th>\n",
       "      <td>Deja Vu</td>\n",
       "      <td>5PWT6FhFPn2E5dv5tUuqNE</td>\n",
       "      <td>Luvlee</td>\n",
       "    </tr>\n",
       "    <tr>\n",
       "      <th>163</th>\n",
       "      <td>One in a Million</td>\n",
       "      <td>0B2gr2o765XiWU6dGKmktU</td>\n",
       "      <td>Will Whisson</td>\n",
       "    </tr>\n",
       "    <tr>\n",
       "      <th>164</th>\n",
       "      <td>Comin’ Home (Stewart Sullivan Mix)</td>\n",
       "      <td>49FulGQwWUrWVVB69TfHAr</td>\n",
       "      <td>Dominoe</td>\n",
       "    </tr>\n",
       "    <tr>\n",
       "      <th>165</th>\n",
       "      <td>What Are You Afraid of?</td>\n",
       "      <td>3p02WDxfbVpTRVe1PmAMJL</td>\n",
       "      <td>Chxrlotte</td>\n",
       "    </tr>\n",
       "  </tbody>\n",
       "</table>\n",
       "<p>166 rows × 3 columns</p>\n",
       "</div>"
      ],
      "text/plain": [
       "                              song_name                 song_ID  \\\n",
       "0                               Beggin'  3Wrjm47oTz2sjIgck11l5e   \n",
       "1            The Less I Know The Better  4g3Ax56IslQkI6XVfYKVc5   \n",
       "2                        Mr. Brightside  3n3Ppam7vgaVa1iaRUc9Lp   \n",
       "3                        Boys Don't Cry  1QFh8OH1e78dGd3VyJZCAC   \n",
       "4                                A-Punk  5dKBaysNJtfpyNTRa5lqDb   \n",
       "..                                  ...                     ...   \n",
       "161            Maybe - Extended Version  5M9FFdvLfKPkORIRERHzKY   \n",
       "162                             Deja Vu  5PWT6FhFPn2E5dv5tUuqNE   \n",
       "163                    One in a Million  0B2gr2o765XiWU6dGKmktU   \n",
       "164  Comin’ Home (Stewart Sullivan Mix)  49FulGQwWUrWVVB69TfHAr   \n",
       "165             What Are You Afraid of?  3p02WDxfbVpTRVe1PmAMJL   \n",
       "\n",
       "         song_artist  \n",
       "0           Måneskin  \n",
       "1        Tame Impala  \n",
       "2        The Killers  \n",
       "3           The Cure  \n",
       "4    Vampire Weekend  \n",
       "..               ...  \n",
       "161  Elizabeth Cuite  \n",
       "162           Luvlee  \n",
       "163     Will Whisson  \n",
       "164          Dominoe  \n",
       "165        Chxrlotte  \n",
       "\n",
       "[166 rows x 3 columns]"
      ]
     },
     "execution_count": 63,
     "metadata": {},
     "output_type": "execute_result"
    }
   ],
   "source": [
    "playlist_indie_info"
   ]
  },
  {
   "cell_type": "markdown",
   "id": "d9c023ac",
   "metadata": {},
   "source": [
    "### Add a new column for genre in playlist_indie_info"
   ]
  },
  {
   "cell_type": "code",
   "execution_count": 64,
   "id": "789e6230",
   "metadata": {},
   "outputs": [],
   "source": [
    "playlist_indie_info.insert(3, 'Genre', 'Indie') "
   ]
  },
  {
   "cell_type": "code",
   "execution_count": 65,
   "id": "19afae06",
   "metadata": {
    "scrolled": true
   },
   "outputs": [
    {
     "data": {
      "text/html": [
       "<div>\n",
       "<style scoped>\n",
       "    .dataframe tbody tr th:only-of-type {\n",
       "        vertical-align: middle;\n",
       "    }\n",
       "\n",
       "    .dataframe tbody tr th {\n",
       "        vertical-align: top;\n",
       "    }\n",
       "\n",
       "    .dataframe thead th {\n",
       "        text-align: right;\n",
       "    }\n",
       "</style>\n",
       "<table border=\"1\" class=\"dataframe\">\n",
       "  <thead>\n",
       "    <tr style=\"text-align: right;\">\n",
       "      <th></th>\n",
       "      <th>song_name</th>\n",
       "      <th>song_ID</th>\n",
       "      <th>song_artist</th>\n",
       "      <th>Genre</th>\n",
       "    </tr>\n",
       "  </thead>\n",
       "  <tbody>\n",
       "    <tr>\n",
       "      <th>0</th>\n",
       "      <td>Beggin'</td>\n",
       "      <td>3Wrjm47oTz2sjIgck11l5e</td>\n",
       "      <td>Måneskin</td>\n",
       "      <td>Indie</td>\n",
       "    </tr>\n",
       "    <tr>\n",
       "      <th>1</th>\n",
       "      <td>The Less I Know The Better</td>\n",
       "      <td>4g3Ax56IslQkI6XVfYKVc5</td>\n",
       "      <td>Tame Impala</td>\n",
       "      <td>Indie</td>\n",
       "    </tr>\n",
       "    <tr>\n",
       "      <th>2</th>\n",
       "      <td>Mr. Brightside</td>\n",
       "      <td>3n3Ppam7vgaVa1iaRUc9Lp</td>\n",
       "      <td>The Killers</td>\n",
       "      <td>Indie</td>\n",
       "    </tr>\n",
       "    <tr>\n",
       "      <th>3</th>\n",
       "      <td>Boys Don't Cry</td>\n",
       "      <td>1QFh8OH1e78dGd3VyJZCAC</td>\n",
       "      <td>The Cure</td>\n",
       "      <td>Indie</td>\n",
       "    </tr>\n",
       "    <tr>\n",
       "      <th>4</th>\n",
       "      <td>A-Punk</td>\n",
       "      <td>5dKBaysNJtfpyNTRa5lqDb</td>\n",
       "      <td>Vampire Weekend</td>\n",
       "      <td>Indie</td>\n",
       "    </tr>\n",
       "    <tr>\n",
       "      <th>...</th>\n",
       "      <td>...</td>\n",
       "      <td>...</td>\n",
       "      <td>...</td>\n",
       "      <td>...</td>\n",
       "    </tr>\n",
       "    <tr>\n",
       "      <th>161</th>\n",
       "      <td>Maybe - Extended Version</td>\n",
       "      <td>5M9FFdvLfKPkORIRERHzKY</td>\n",
       "      <td>Elizabeth Cuite</td>\n",
       "      <td>Indie</td>\n",
       "    </tr>\n",
       "    <tr>\n",
       "      <th>162</th>\n",
       "      <td>Deja Vu</td>\n",
       "      <td>5PWT6FhFPn2E5dv5tUuqNE</td>\n",
       "      <td>Luvlee</td>\n",
       "      <td>Indie</td>\n",
       "    </tr>\n",
       "    <tr>\n",
       "      <th>163</th>\n",
       "      <td>One in a Million</td>\n",
       "      <td>0B2gr2o765XiWU6dGKmktU</td>\n",
       "      <td>Will Whisson</td>\n",
       "      <td>Indie</td>\n",
       "    </tr>\n",
       "    <tr>\n",
       "      <th>164</th>\n",
       "      <td>Comin’ Home (Stewart Sullivan Mix)</td>\n",
       "      <td>49FulGQwWUrWVVB69TfHAr</td>\n",
       "      <td>Dominoe</td>\n",
       "      <td>Indie</td>\n",
       "    </tr>\n",
       "    <tr>\n",
       "      <th>165</th>\n",
       "      <td>What Are You Afraid of?</td>\n",
       "      <td>3p02WDxfbVpTRVe1PmAMJL</td>\n",
       "      <td>Chxrlotte</td>\n",
       "      <td>Indie</td>\n",
       "    </tr>\n",
       "  </tbody>\n",
       "</table>\n",
       "<p>166 rows × 4 columns</p>\n",
       "</div>"
      ],
      "text/plain": [
       "                              song_name                 song_ID  \\\n",
       "0                               Beggin'  3Wrjm47oTz2sjIgck11l5e   \n",
       "1            The Less I Know The Better  4g3Ax56IslQkI6XVfYKVc5   \n",
       "2                        Mr. Brightside  3n3Ppam7vgaVa1iaRUc9Lp   \n",
       "3                        Boys Don't Cry  1QFh8OH1e78dGd3VyJZCAC   \n",
       "4                                A-Punk  5dKBaysNJtfpyNTRa5lqDb   \n",
       "..                                  ...                     ...   \n",
       "161            Maybe - Extended Version  5M9FFdvLfKPkORIRERHzKY   \n",
       "162                             Deja Vu  5PWT6FhFPn2E5dv5tUuqNE   \n",
       "163                    One in a Million  0B2gr2o765XiWU6dGKmktU   \n",
       "164  Comin’ Home (Stewart Sullivan Mix)  49FulGQwWUrWVVB69TfHAr   \n",
       "165             What Are You Afraid of?  3p02WDxfbVpTRVe1PmAMJL   \n",
       "\n",
       "         song_artist  Genre  \n",
       "0           Måneskin  Indie  \n",
       "1        Tame Impala  Indie  \n",
       "2        The Killers  Indie  \n",
       "3           The Cure  Indie  \n",
       "4    Vampire Weekend  Indie  \n",
       "..               ...    ...  \n",
       "161  Elizabeth Cuite  Indie  \n",
       "162           Luvlee  Indie  \n",
       "163     Will Whisson  Indie  \n",
       "164          Dominoe  Indie  \n",
       "165        Chxrlotte  Indie  \n",
       "\n",
       "[166 rows x 4 columns]"
      ]
     },
     "execution_count": 65,
     "metadata": {},
     "output_type": "execute_result"
    }
   ],
   "source": [
    "playlist_indie_info"
   ]
  },
  {
   "cell_type": "markdown",
   "id": "3d8ffd54",
   "metadata": {},
   "source": [
    "## Import playlists by genre\n",
    "- I will import now a ROCK playlist"
   ]
  },
  {
   "cell_type": "code",
   "execution_count": 66,
   "id": "af04ae64",
   "metadata": {},
   "outputs": [],
   "source": [
    "## https://open.spotify.com/playlist/37i9dQZF1DWXRqgorJj26U?si=6870797da01948f7\n",
    "## Spotify"
   ]
  },
  {
   "cell_type": "code",
   "execution_count": 67,
   "id": "d37546bb",
   "metadata": {},
   "outputs": [],
   "source": [
    "rock_playlist = sp.user_playlist_tracks(\"Spotify\", \"37i9dQZF1DWXRqgorJj26U\")"
   ]
  },
  {
   "cell_type": "raw",
   "id": "a3536018",
   "metadata": {},
   "source": [
    "rock_playlist"
   ]
  },
  {
   "cell_type": "code",
   "execution_count": 69,
   "id": "0db7d4b1",
   "metadata": {},
   "outputs": [
    {
     "data": {
      "text/plain": [
       "dict_keys(['href', 'items', 'limit', 'next', 'offset', 'previous', 'total'])"
      ]
     },
     "execution_count": 69,
     "metadata": {},
     "output_type": "execute_result"
    }
   ],
   "source": [
    "rock_playlist.keys()"
   ]
  },
  {
   "cell_type": "raw",
   "id": "ec602b9e",
   "metadata": {},
   "source": [
    "rock_playlist['items'][3]"
   ]
  },
  {
   "cell_type": "code",
   "execution_count": 71,
   "id": "ae3b7fd7",
   "metadata": {},
   "outputs": [
    {
     "data": {
      "text/plain": [
       "100"
      ]
     },
     "execution_count": 71,
     "metadata": {},
     "output_type": "execute_result"
    }
   ],
   "source": [
    "len(rock_playlist['items'])"
   ]
  },
  {
   "cell_type": "code",
   "execution_count": 72,
   "id": "adacbf28",
   "metadata": {},
   "outputs": [],
   "source": [
    "def get_playlist_tracks2(user_id, playlist_id):\n",
    "    results=sp.user_playlist_tracks(user_id, playlist_id)\n",
    "    tracks=results['items']\n",
    "    while results['next']:\n",
    "        results= sp.next(results)\n",
    "        tracks.extend(results['items'])\n",
    "    return tracks"
   ]
  },
  {
   "cell_type": "code",
   "execution_count": 73,
   "id": "9f72dd81",
   "metadata": {},
   "outputs": [],
   "source": [
    "results4=get_playlist_tracks2(\"Spotify\", \"37i9dQZF1DWXRqgorJj26U\")"
   ]
  },
  {
   "cell_type": "code",
   "execution_count": 74,
   "id": "800d77db",
   "metadata": {},
   "outputs": [
    {
     "data": {
      "text/plain": [
       "166"
      ]
     },
     "execution_count": 74,
     "metadata": {},
     "output_type": "execute_result"
    }
   ],
   "source": [
    "len(results4)"
   ]
  },
  {
   "cell_type": "code",
   "execution_count": 75,
   "id": "1a09568a",
   "metadata": {},
   "outputs": [
    {
     "data": {
      "text/plain": [
       "dict_keys(['album', 'artists', 'available_markets', 'disc_number', 'duration_ms', 'episode', 'explicit', 'external_ids', 'external_urls', 'href', 'id', 'is_local', 'name', 'popularity', 'preview_url', 'track', 'track_number', 'type', 'uri'])"
      ]
     },
     "execution_count": 75,
     "metadata": {},
     "output_type": "execute_result"
    }
   ],
   "source": [
    "results4[0]['track'].keys()"
   ]
  },
  {
   "cell_type": "code",
   "execution_count": 76,
   "id": "dbe22dae",
   "metadata": {},
   "outputs": [
    {
     "data": {
      "text/plain": [
       "['spotify:track', '57JVGBtBLCfHw2muk5416J']"
      ]
     },
     "execution_count": 76,
     "metadata": {},
     "output_type": "execute_result"
    }
   ],
   "source": [
    "results4[0]['track'][\"uri\"].rsplit(':',1)"
   ]
  },
  {
   "cell_type": "code",
   "execution_count": 77,
   "id": "5469f82d",
   "metadata": {},
   "outputs": [
    {
     "data": {
      "text/plain": [
       "dict_keys(['external_urls', 'href', 'id', 'name', 'type', 'uri'])"
      ]
     },
     "execution_count": 77,
     "metadata": {},
     "output_type": "execute_result"
    }
   ],
   "source": [
    "results4[0]['track'][\"artists\"][0].keys()"
   ]
  },
  {
   "cell_type": "code",
   "execution_count": 78,
   "id": "c0a9175d",
   "metadata": {},
   "outputs": [],
   "source": [
    "song_name=[]\n",
    "song_URI=[]\n",
    "song_ID=[]\n",
    "song_artist=[]\n",
    "playlist=results4"
   ]
  },
  {
   "cell_type": "code",
   "execution_count": 79,
   "id": "83e2680e",
   "metadata": {},
   "outputs": [],
   "source": [
    "for r in results4:\n",
    "    song_URI.append(r[\"track\"][\"uri\"])\n",
    "    \n",
    "for r in results4: \n",
    "    song_ID.append(r[\"track\"][\"id\"])\n",
    "    \n",
    "for r in results4: \n",
    "    song_name.append(r[\"track\"][\"name\"])\n",
    "    \n",
    "for r in results4: \n",
    "    song_artist.append(r[\"track\"][\"artists\"][0][\"name\"])"
   ]
  },
  {
   "cell_type": "code",
   "execution_count": 80,
   "id": "ff724820",
   "metadata": {},
   "outputs": [],
   "source": [
    "playlist_rock_info=pd.DataFrame({\"song_name\":song_name,\"song_ID\":song_ID,\"song_artist\":song_artist})"
   ]
  },
  {
   "cell_type": "code",
   "execution_count": 81,
   "id": "4c2f1022",
   "metadata": {},
   "outputs": [
    {
     "data": {
      "text/html": [
       "<div>\n",
       "<style scoped>\n",
       "    .dataframe tbody tr th:only-of-type {\n",
       "        vertical-align: middle;\n",
       "    }\n",
       "\n",
       "    .dataframe tbody tr th {\n",
       "        vertical-align: top;\n",
       "    }\n",
       "\n",
       "    .dataframe thead th {\n",
       "        text-align: right;\n",
       "    }\n",
       "</style>\n",
       "<table border=\"1\" class=\"dataframe\">\n",
       "  <thead>\n",
       "    <tr style=\"text-align: right;\">\n",
       "      <th></th>\n",
       "      <th>song_name</th>\n",
       "      <th>song_ID</th>\n",
       "      <th>song_artist</th>\n",
       "    </tr>\n",
       "  </thead>\n",
       "  <tbody>\n",
       "    <tr>\n",
       "      <th>0</th>\n",
       "      <td>Another One Bites The Dust - Remastered 2011</td>\n",
       "      <td>57JVGBtBLCfHw2muk5416J</td>\n",
       "      <td>Queen</td>\n",
       "    </tr>\n",
       "    <tr>\n",
       "      <th>1</th>\n",
       "      <td>Paradise City</td>\n",
       "      <td>3YBZIN3rekqsKxbJc9FZko</td>\n",
       "      <td>Guns N' Roses</td>\n",
       "    </tr>\n",
       "    <tr>\n",
       "      <th>2</th>\n",
       "      <td>Black Dog - Remaster</td>\n",
       "      <td>3qT4bUD1MaWpGrTwcvguhb</td>\n",
       "      <td>Led Zeppelin</td>\n",
       "    </tr>\n",
       "    <tr>\n",
       "      <th>3</th>\n",
       "      <td>Highway to Hell</td>\n",
       "      <td>2zYzyRzz6pRmhPzyfMEC8s</td>\n",
       "      <td>AC/DC</td>\n",
       "    </tr>\n",
       "    <tr>\n",
       "      <th>4</th>\n",
       "      <td>Dream On</td>\n",
       "      <td>5MxNLUsfh7uzROypsoO5qe</td>\n",
       "      <td>Aerosmith</td>\n",
       "    </tr>\n",
       "    <tr>\n",
       "      <th>...</th>\n",
       "      <td>...</td>\n",
       "      <td>...</td>\n",
       "      <td>...</td>\n",
       "    </tr>\n",
       "    <tr>\n",
       "      <th>161</th>\n",
       "      <td>Ramble On - 1990 Remaster</td>\n",
       "      <td>3MODES4TNtygekLl146Dxd</td>\n",
       "      <td>Led Zeppelin</td>\n",
       "    </tr>\n",
       "    <tr>\n",
       "      <th>162</th>\n",
       "      <td>Crazy On You</td>\n",
       "      <td>5zH710lFSLtkHbMkslLDjR</td>\n",
       "      <td>Heart</td>\n",
       "    </tr>\n",
       "    <tr>\n",
       "      <th>163</th>\n",
       "      <td>Foreplay / Long Time</td>\n",
       "      <td>5UYPZZDQfpCE7A0FDDqv4k</td>\n",
       "      <td>Boston</td>\n",
       "    </tr>\n",
       "    <tr>\n",
       "      <th>164</th>\n",
       "      <td>My Generation - Mono Version</td>\n",
       "      <td>45s88Xopo6KvHc0PQ05aGg</td>\n",
       "      <td>The Who</td>\n",
       "    </tr>\n",
       "    <tr>\n",
       "      <th>165</th>\n",
       "      <td>Light My Fire</td>\n",
       "      <td>5uvosCdMlFdTXhoazkTI5R</td>\n",
       "      <td>The Doors</td>\n",
       "    </tr>\n",
       "  </tbody>\n",
       "</table>\n",
       "<p>166 rows × 3 columns</p>\n",
       "</div>"
      ],
      "text/plain": [
       "                                        song_name                 song_ID  \\\n",
       "0    Another One Bites The Dust - Remastered 2011  57JVGBtBLCfHw2muk5416J   \n",
       "1                                   Paradise City  3YBZIN3rekqsKxbJc9FZko   \n",
       "2                            Black Dog - Remaster  3qT4bUD1MaWpGrTwcvguhb   \n",
       "3                                 Highway to Hell  2zYzyRzz6pRmhPzyfMEC8s   \n",
       "4                                        Dream On  5MxNLUsfh7uzROypsoO5qe   \n",
       "..                                            ...                     ...   \n",
       "161                     Ramble On - 1990 Remaster  3MODES4TNtygekLl146Dxd   \n",
       "162                                  Crazy On You  5zH710lFSLtkHbMkslLDjR   \n",
       "163                          Foreplay / Long Time  5UYPZZDQfpCE7A0FDDqv4k   \n",
       "164                  My Generation - Mono Version  45s88Xopo6KvHc0PQ05aGg   \n",
       "165                                 Light My Fire  5uvosCdMlFdTXhoazkTI5R   \n",
       "\n",
       "       song_artist  \n",
       "0            Queen  \n",
       "1    Guns N' Roses  \n",
       "2     Led Zeppelin  \n",
       "3            AC/DC  \n",
       "4        Aerosmith  \n",
       "..             ...  \n",
       "161   Led Zeppelin  \n",
       "162          Heart  \n",
       "163         Boston  \n",
       "164        The Who  \n",
       "165      The Doors  \n",
       "\n",
       "[166 rows x 3 columns]"
      ]
     },
     "execution_count": 81,
     "metadata": {},
     "output_type": "execute_result"
    }
   ],
   "source": [
    "playlist_rock_info"
   ]
  },
  {
   "cell_type": "markdown",
   "id": "feb4e871",
   "metadata": {},
   "source": [
    "### Add a new column for genre in playlist_rock_info"
   ]
  },
  {
   "cell_type": "code",
   "execution_count": 82,
   "id": "71158b48",
   "metadata": {},
   "outputs": [],
   "source": [
    "playlist_rock_info.insert(3, 'Genre', 'Rock') "
   ]
  },
  {
   "cell_type": "code",
   "execution_count": 83,
   "id": "9be13217",
   "metadata": {},
   "outputs": [
    {
     "data": {
      "text/html": [
       "<div>\n",
       "<style scoped>\n",
       "    .dataframe tbody tr th:only-of-type {\n",
       "        vertical-align: middle;\n",
       "    }\n",
       "\n",
       "    .dataframe tbody tr th {\n",
       "        vertical-align: top;\n",
       "    }\n",
       "\n",
       "    .dataframe thead th {\n",
       "        text-align: right;\n",
       "    }\n",
       "</style>\n",
       "<table border=\"1\" class=\"dataframe\">\n",
       "  <thead>\n",
       "    <tr style=\"text-align: right;\">\n",
       "      <th></th>\n",
       "      <th>song_name</th>\n",
       "      <th>song_ID</th>\n",
       "      <th>song_artist</th>\n",
       "      <th>Genre</th>\n",
       "    </tr>\n",
       "  </thead>\n",
       "  <tbody>\n",
       "    <tr>\n",
       "      <th>0</th>\n",
       "      <td>Another One Bites The Dust - Remastered 2011</td>\n",
       "      <td>57JVGBtBLCfHw2muk5416J</td>\n",
       "      <td>Queen</td>\n",
       "      <td>Rock</td>\n",
       "    </tr>\n",
       "    <tr>\n",
       "      <th>1</th>\n",
       "      <td>Paradise City</td>\n",
       "      <td>3YBZIN3rekqsKxbJc9FZko</td>\n",
       "      <td>Guns N' Roses</td>\n",
       "      <td>Rock</td>\n",
       "    </tr>\n",
       "    <tr>\n",
       "      <th>2</th>\n",
       "      <td>Black Dog - Remaster</td>\n",
       "      <td>3qT4bUD1MaWpGrTwcvguhb</td>\n",
       "      <td>Led Zeppelin</td>\n",
       "      <td>Rock</td>\n",
       "    </tr>\n",
       "    <tr>\n",
       "      <th>3</th>\n",
       "      <td>Highway to Hell</td>\n",
       "      <td>2zYzyRzz6pRmhPzyfMEC8s</td>\n",
       "      <td>AC/DC</td>\n",
       "      <td>Rock</td>\n",
       "    </tr>\n",
       "    <tr>\n",
       "      <th>4</th>\n",
       "      <td>Dream On</td>\n",
       "      <td>5MxNLUsfh7uzROypsoO5qe</td>\n",
       "      <td>Aerosmith</td>\n",
       "      <td>Rock</td>\n",
       "    </tr>\n",
       "    <tr>\n",
       "      <th>...</th>\n",
       "      <td>...</td>\n",
       "      <td>...</td>\n",
       "      <td>...</td>\n",
       "      <td>...</td>\n",
       "    </tr>\n",
       "    <tr>\n",
       "      <th>161</th>\n",
       "      <td>Ramble On - 1990 Remaster</td>\n",
       "      <td>3MODES4TNtygekLl146Dxd</td>\n",
       "      <td>Led Zeppelin</td>\n",
       "      <td>Rock</td>\n",
       "    </tr>\n",
       "    <tr>\n",
       "      <th>162</th>\n",
       "      <td>Crazy On You</td>\n",
       "      <td>5zH710lFSLtkHbMkslLDjR</td>\n",
       "      <td>Heart</td>\n",
       "      <td>Rock</td>\n",
       "    </tr>\n",
       "    <tr>\n",
       "      <th>163</th>\n",
       "      <td>Foreplay / Long Time</td>\n",
       "      <td>5UYPZZDQfpCE7A0FDDqv4k</td>\n",
       "      <td>Boston</td>\n",
       "      <td>Rock</td>\n",
       "    </tr>\n",
       "    <tr>\n",
       "      <th>164</th>\n",
       "      <td>My Generation - Mono Version</td>\n",
       "      <td>45s88Xopo6KvHc0PQ05aGg</td>\n",
       "      <td>The Who</td>\n",
       "      <td>Rock</td>\n",
       "    </tr>\n",
       "    <tr>\n",
       "      <th>165</th>\n",
       "      <td>Light My Fire</td>\n",
       "      <td>5uvosCdMlFdTXhoazkTI5R</td>\n",
       "      <td>The Doors</td>\n",
       "      <td>Rock</td>\n",
       "    </tr>\n",
       "  </tbody>\n",
       "</table>\n",
       "<p>166 rows × 4 columns</p>\n",
       "</div>"
      ],
      "text/plain": [
       "                                        song_name                 song_ID  \\\n",
       "0    Another One Bites The Dust - Remastered 2011  57JVGBtBLCfHw2muk5416J   \n",
       "1                                   Paradise City  3YBZIN3rekqsKxbJc9FZko   \n",
       "2                            Black Dog - Remaster  3qT4bUD1MaWpGrTwcvguhb   \n",
       "3                                 Highway to Hell  2zYzyRzz6pRmhPzyfMEC8s   \n",
       "4                                        Dream On  5MxNLUsfh7uzROypsoO5qe   \n",
       "..                                            ...                     ...   \n",
       "161                     Ramble On - 1990 Remaster  3MODES4TNtygekLl146Dxd   \n",
       "162                                  Crazy On You  5zH710lFSLtkHbMkslLDjR   \n",
       "163                          Foreplay / Long Time  5UYPZZDQfpCE7A0FDDqv4k   \n",
       "164                  My Generation - Mono Version  45s88Xopo6KvHc0PQ05aGg   \n",
       "165                                 Light My Fire  5uvosCdMlFdTXhoazkTI5R   \n",
       "\n",
       "       song_artist Genre  \n",
       "0            Queen  Rock  \n",
       "1    Guns N' Roses  Rock  \n",
       "2     Led Zeppelin  Rock  \n",
       "3            AC/DC  Rock  \n",
       "4        Aerosmith  Rock  \n",
       "..             ...   ...  \n",
       "161   Led Zeppelin  Rock  \n",
       "162          Heart  Rock  \n",
       "163         Boston  Rock  \n",
       "164        The Who  Rock  \n",
       "165      The Doors  Rock  \n",
       "\n",
       "[166 rows x 4 columns]"
      ]
     },
     "execution_count": 83,
     "metadata": {},
     "output_type": "execute_result"
    }
   ],
   "source": [
    "playlist_rock_info"
   ]
  },
  {
   "cell_type": "markdown",
   "id": "f3ba6a2c",
   "metadata": {},
   "source": [
    "## Import playlists by genre\n",
    "- I will import now a TROPICAL HOUSE playlist"
   ]
  },
  {
   "cell_type": "code",
   "execution_count": 84,
   "id": "fb793d0c",
   "metadata": {},
   "outputs": [],
   "source": [
    "## https://open.spotify.com/playlist/37i9dQZF1DX0AMssoUKCz7?si=8509345b0f7b4117\n",
    "## Spotify"
   ]
  },
  {
   "cell_type": "code",
   "execution_count": 85,
   "id": "e8b046ba",
   "metadata": {},
   "outputs": [],
   "source": [
    "tropical_playlist = sp.user_playlist_tracks(\"Spotify\", \"37i9dQZF1DX0AMssoUKCz7\")"
   ]
  },
  {
   "cell_type": "raw",
   "id": "f785f7fb",
   "metadata": {},
   "source": [
    "tropical_playlist"
   ]
  },
  {
   "cell_type": "code",
   "execution_count": 87,
   "id": "58ab4603",
   "metadata": {},
   "outputs": [
    {
     "data": {
      "text/plain": [
       "dict_keys(['href', 'items', 'limit', 'next', 'offset', 'previous', 'total'])"
      ]
     },
     "execution_count": 87,
     "metadata": {},
     "output_type": "execute_result"
    }
   ],
   "source": [
    "tropical_playlist.keys()"
   ]
  },
  {
   "cell_type": "raw",
   "id": "fcc5deb3",
   "metadata": {},
   "source": [
    "tropical_playlist['items'][3]"
   ]
  },
  {
   "cell_type": "code",
   "execution_count": 89,
   "id": "d8149f09",
   "metadata": {},
   "outputs": [
    {
     "data": {
      "text/plain": [
       "100"
      ]
     },
     "execution_count": 89,
     "metadata": {},
     "output_type": "execute_result"
    }
   ],
   "source": [
    "len(tropical_playlist['items'])"
   ]
  },
  {
   "cell_type": "code",
   "execution_count": 90,
   "id": "dbcaa063",
   "metadata": {},
   "outputs": [],
   "source": [
    "def get_playlist_tracks3(user_id, playlist_id):\n",
    "    results=sp.user_playlist_tracks(user_id, playlist_id)\n",
    "    tracks=results['items']\n",
    "    while results['next']:\n",
    "        results= sp.next(results)\n",
    "        tracks.extend(results['items'])\n",
    "    return tracks"
   ]
  },
  {
   "cell_type": "code",
   "execution_count": 91,
   "id": "0379932d",
   "metadata": {},
   "outputs": [],
   "source": [
    "results5=get_playlist_tracks3(\"Spotify\", \"37i9dQZF1DX0AMssoUKCz7\")"
   ]
  },
  {
   "cell_type": "code",
   "execution_count": 92,
   "id": "63352cc9",
   "metadata": {},
   "outputs": [
    {
     "data": {
      "text/plain": [
       "200"
      ]
     },
     "execution_count": 92,
     "metadata": {},
     "output_type": "execute_result"
    }
   ],
   "source": [
    "len(results5)"
   ]
  },
  {
   "cell_type": "code",
   "execution_count": 93,
   "id": "4cf0886d",
   "metadata": {},
   "outputs": [
    {
     "data": {
      "text/plain": [
       "dict_keys(['album', 'artists', 'available_markets', 'disc_number', 'duration_ms', 'episode', 'explicit', 'external_ids', 'external_urls', 'href', 'id', 'is_local', 'name', 'popularity', 'preview_url', 'track', 'track_number', 'type', 'uri'])"
      ]
     },
     "execution_count": 93,
     "metadata": {},
     "output_type": "execute_result"
    }
   ],
   "source": [
    "results5[0]['track'].keys()"
   ]
  },
  {
   "cell_type": "code",
   "execution_count": 94,
   "id": "ee62491d",
   "metadata": {},
   "outputs": [
    {
     "data": {
      "text/plain": [
       "['spotify:track', '1c1sdxrYLIiuJOlE7PPttb']"
      ]
     },
     "execution_count": 94,
     "metadata": {},
     "output_type": "execute_result"
    }
   ],
   "source": [
    "results5[0]['track'][\"uri\"].rsplit(':',1)"
   ]
  },
  {
   "cell_type": "code",
   "execution_count": 95,
   "id": "4e63a7b3",
   "metadata": {},
   "outputs": [
    {
     "data": {
      "text/plain": [
       "dict_keys(['external_urls', 'href', 'id', 'name', 'type', 'uri'])"
      ]
     },
     "execution_count": 95,
     "metadata": {},
     "output_type": "execute_result"
    }
   ],
   "source": [
    "results5[0]['track'][\"artists\"][0].keys()"
   ]
  },
  {
   "cell_type": "code",
   "execution_count": 96,
   "id": "edd1b7ab",
   "metadata": {},
   "outputs": [],
   "source": [
    "song_name=[]\n",
    "song_URI=[]\n",
    "song_ID=[]\n",
    "song_artist=[]\n",
    "playlist=results5"
   ]
  },
  {
   "cell_type": "code",
   "execution_count": 97,
   "id": "7fd61ec8",
   "metadata": {},
   "outputs": [],
   "source": [
    "for r in results5:\n",
    "    song_URI.append(r[\"track\"][\"uri\"])\n",
    "    \n",
    "for r in results5: \n",
    "    song_ID.append(r[\"track\"][\"id\"])\n",
    "    \n",
    "for r in results5: \n",
    "    song_name.append(r[\"track\"][\"name\"])\n",
    "    \n",
    "for r in results5: \n",
    "    song_artist.append(r[\"track\"][\"artists\"][0][\"name\"])"
   ]
  },
  {
   "cell_type": "code",
   "execution_count": 98,
   "id": "c3a4c669",
   "metadata": {},
   "outputs": [],
   "source": [
    "playlist_tropical_info=pd.DataFrame({\"song_name\":song_name,\"song_ID\":song_ID,\"song_artist\":song_artist})"
   ]
  },
  {
   "cell_type": "code",
   "execution_count": 99,
   "id": "95bd60a6",
   "metadata": {},
   "outputs": [
    {
     "data": {
      "text/html": [
       "<div>\n",
       "<style scoped>\n",
       "    .dataframe tbody tr th:only-of-type {\n",
       "        vertical-align: middle;\n",
       "    }\n",
       "\n",
       "    .dataframe tbody tr th {\n",
       "        vertical-align: top;\n",
       "    }\n",
       "\n",
       "    .dataframe thead th {\n",
       "        text-align: right;\n",
       "    }\n",
       "</style>\n",
       "<table border=\"1\" class=\"dataframe\">\n",
       "  <thead>\n",
       "    <tr style=\"text-align: right;\">\n",
       "      <th></th>\n",
       "      <th>song_name</th>\n",
       "      <th>song_ID</th>\n",
       "      <th>song_artist</th>\n",
       "    </tr>\n",
       "  </thead>\n",
       "  <tbody>\n",
       "    <tr>\n",
       "      <th>0</th>\n",
       "      <td>Love Me Now (feat. Zoe Wees)</td>\n",
       "      <td>1c1sdxrYLIiuJOlE7PPttb</td>\n",
       "      <td>Kygo</td>\n",
       "    </tr>\n",
       "    <tr>\n",
       "      <th>1</th>\n",
       "      <td>Skinny Dip (Komodo) [feat. Philip Strand]</td>\n",
       "      <td>79m1I109FyZMx3VwQZAEQM</td>\n",
       "      <td>Deepend</td>\n",
       "    </tr>\n",
       "    <tr>\n",
       "      <th>2</th>\n",
       "      <td>Summer Feeling</td>\n",
       "      <td>793OuR8rJ0zpVp708ONAxO</td>\n",
       "      <td>Matoma</td>\n",
       "    </tr>\n",
       "    <tr>\n",
       "      <th>3</th>\n",
       "      <td>Ride</td>\n",
       "      <td>4C020pCjavabKAGmjZZRmh</td>\n",
       "      <td>Madism</td>\n",
       "    </tr>\n",
       "    <tr>\n",
       "      <th>4</th>\n",
       "      <td>Call On Me (feat. Georgia Ku)</td>\n",
       "      <td>3pBv3LfvfPft2TqHleqKHo</td>\n",
       "      <td>Sam Feldt</td>\n",
       "    </tr>\n",
       "    <tr>\n",
       "      <th>...</th>\n",
       "      <td>...</td>\n",
       "      <td>...</td>\n",
       "      <td>...</td>\n",
       "    </tr>\n",
       "    <tr>\n",
       "      <th>195</th>\n",
       "      <td>Sunset</td>\n",
       "      <td>5jUgFofZJCuSQjcYao0VMv</td>\n",
       "      <td>A-SHO</td>\n",
       "    </tr>\n",
       "    <tr>\n",
       "      <th>196</th>\n",
       "      <td>Riptide - FlicFlac Remix</td>\n",
       "      <td>5K9AcgSi8DK4lZKM2LpFu8</td>\n",
       "      <td>Vance Joy</td>\n",
       "    </tr>\n",
       "    <tr>\n",
       "      <th>197</th>\n",
       "      <td>High And Low</td>\n",
       "      <td>4PwXNVqkIM8KBuEgYFqDiE</td>\n",
       "      <td>Sam Feldt</td>\n",
       "    </tr>\n",
       "    <tr>\n",
       "      <th>198</th>\n",
       "      <td>Beat the Sunrise</td>\n",
       "      <td>7th2B8tA26On1RAt2WmnMI</td>\n",
       "      <td>SNBRN</td>\n",
       "    </tr>\n",
       "    <tr>\n",
       "      <th>199</th>\n",
       "      <td>Catch &amp; Release (Deepend remix)</td>\n",
       "      <td>4FqrgfKej2jv450UFW6PP8</td>\n",
       "      <td>Matt Simons</td>\n",
       "    </tr>\n",
       "  </tbody>\n",
       "</table>\n",
       "<p>200 rows × 3 columns</p>\n",
       "</div>"
      ],
      "text/plain": [
       "                                     song_name                 song_ID  \\\n",
       "0                 Love Me Now (feat. Zoe Wees)  1c1sdxrYLIiuJOlE7PPttb   \n",
       "1    Skinny Dip (Komodo) [feat. Philip Strand]  79m1I109FyZMx3VwQZAEQM   \n",
       "2                               Summer Feeling  793OuR8rJ0zpVp708ONAxO   \n",
       "3                                         Ride  4C020pCjavabKAGmjZZRmh   \n",
       "4                Call On Me (feat. Georgia Ku)  3pBv3LfvfPft2TqHleqKHo   \n",
       "..                                         ...                     ...   \n",
       "195                                     Sunset  5jUgFofZJCuSQjcYao0VMv   \n",
       "196                   Riptide - FlicFlac Remix  5K9AcgSi8DK4lZKM2LpFu8   \n",
       "197                               High And Low  4PwXNVqkIM8KBuEgYFqDiE   \n",
       "198                           Beat the Sunrise  7th2B8tA26On1RAt2WmnMI   \n",
       "199            Catch & Release (Deepend remix)  4FqrgfKej2jv450UFW6PP8   \n",
       "\n",
       "     song_artist  \n",
       "0           Kygo  \n",
       "1        Deepend  \n",
       "2         Matoma  \n",
       "3         Madism  \n",
       "4      Sam Feldt  \n",
       "..           ...  \n",
       "195        A-SHO  \n",
       "196    Vance Joy  \n",
       "197    Sam Feldt  \n",
       "198        SNBRN  \n",
       "199  Matt Simons  \n",
       "\n",
       "[200 rows x 3 columns]"
      ]
     },
     "execution_count": 99,
     "metadata": {},
     "output_type": "execute_result"
    }
   ],
   "source": [
    "playlist_tropical_info"
   ]
  },
  {
   "cell_type": "markdown",
   "id": "3f233933",
   "metadata": {},
   "source": [
    "### Add a new column for genre in playlist_tropical_info"
   ]
  },
  {
   "cell_type": "code",
   "execution_count": 100,
   "id": "ea4d0ff2",
   "metadata": {
    "scrolled": true
   },
   "outputs": [],
   "source": [
    "playlist_tropical_info.insert(3, 'Genre', 'Tropical') "
   ]
  },
  {
   "cell_type": "code",
   "execution_count": 101,
   "id": "75c1ef74",
   "metadata": {},
   "outputs": [
    {
     "data": {
      "text/html": [
       "<div>\n",
       "<style scoped>\n",
       "    .dataframe tbody tr th:only-of-type {\n",
       "        vertical-align: middle;\n",
       "    }\n",
       "\n",
       "    .dataframe tbody tr th {\n",
       "        vertical-align: top;\n",
       "    }\n",
       "\n",
       "    .dataframe thead th {\n",
       "        text-align: right;\n",
       "    }\n",
       "</style>\n",
       "<table border=\"1\" class=\"dataframe\">\n",
       "  <thead>\n",
       "    <tr style=\"text-align: right;\">\n",
       "      <th></th>\n",
       "      <th>song_name</th>\n",
       "      <th>song_ID</th>\n",
       "      <th>song_artist</th>\n",
       "      <th>Genre</th>\n",
       "    </tr>\n",
       "  </thead>\n",
       "  <tbody>\n",
       "    <tr>\n",
       "      <th>0</th>\n",
       "      <td>Love Me Now (feat. Zoe Wees)</td>\n",
       "      <td>1c1sdxrYLIiuJOlE7PPttb</td>\n",
       "      <td>Kygo</td>\n",
       "      <td>Tropical</td>\n",
       "    </tr>\n",
       "    <tr>\n",
       "      <th>1</th>\n",
       "      <td>Skinny Dip (Komodo) [feat. Philip Strand]</td>\n",
       "      <td>79m1I109FyZMx3VwQZAEQM</td>\n",
       "      <td>Deepend</td>\n",
       "      <td>Tropical</td>\n",
       "    </tr>\n",
       "    <tr>\n",
       "      <th>2</th>\n",
       "      <td>Summer Feeling</td>\n",
       "      <td>793OuR8rJ0zpVp708ONAxO</td>\n",
       "      <td>Matoma</td>\n",
       "      <td>Tropical</td>\n",
       "    </tr>\n",
       "    <tr>\n",
       "      <th>3</th>\n",
       "      <td>Ride</td>\n",
       "      <td>4C020pCjavabKAGmjZZRmh</td>\n",
       "      <td>Madism</td>\n",
       "      <td>Tropical</td>\n",
       "    </tr>\n",
       "    <tr>\n",
       "      <th>4</th>\n",
       "      <td>Call On Me (feat. Georgia Ku)</td>\n",
       "      <td>3pBv3LfvfPft2TqHleqKHo</td>\n",
       "      <td>Sam Feldt</td>\n",
       "      <td>Tropical</td>\n",
       "    </tr>\n",
       "    <tr>\n",
       "      <th>...</th>\n",
       "      <td>...</td>\n",
       "      <td>...</td>\n",
       "      <td>...</td>\n",
       "      <td>...</td>\n",
       "    </tr>\n",
       "    <tr>\n",
       "      <th>195</th>\n",
       "      <td>Sunset</td>\n",
       "      <td>5jUgFofZJCuSQjcYao0VMv</td>\n",
       "      <td>A-SHO</td>\n",
       "      <td>Tropical</td>\n",
       "    </tr>\n",
       "    <tr>\n",
       "      <th>196</th>\n",
       "      <td>Riptide - FlicFlac Remix</td>\n",
       "      <td>5K9AcgSi8DK4lZKM2LpFu8</td>\n",
       "      <td>Vance Joy</td>\n",
       "      <td>Tropical</td>\n",
       "    </tr>\n",
       "    <tr>\n",
       "      <th>197</th>\n",
       "      <td>High And Low</td>\n",
       "      <td>4PwXNVqkIM8KBuEgYFqDiE</td>\n",
       "      <td>Sam Feldt</td>\n",
       "      <td>Tropical</td>\n",
       "    </tr>\n",
       "    <tr>\n",
       "      <th>198</th>\n",
       "      <td>Beat the Sunrise</td>\n",
       "      <td>7th2B8tA26On1RAt2WmnMI</td>\n",
       "      <td>SNBRN</td>\n",
       "      <td>Tropical</td>\n",
       "    </tr>\n",
       "    <tr>\n",
       "      <th>199</th>\n",
       "      <td>Catch &amp; Release (Deepend remix)</td>\n",
       "      <td>4FqrgfKej2jv450UFW6PP8</td>\n",
       "      <td>Matt Simons</td>\n",
       "      <td>Tropical</td>\n",
       "    </tr>\n",
       "  </tbody>\n",
       "</table>\n",
       "<p>200 rows × 4 columns</p>\n",
       "</div>"
      ],
      "text/plain": [
       "                                     song_name                 song_ID  \\\n",
       "0                 Love Me Now (feat. Zoe Wees)  1c1sdxrYLIiuJOlE7PPttb   \n",
       "1    Skinny Dip (Komodo) [feat. Philip Strand]  79m1I109FyZMx3VwQZAEQM   \n",
       "2                               Summer Feeling  793OuR8rJ0zpVp708ONAxO   \n",
       "3                                         Ride  4C020pCjavabKAGmjZZRmh   \n",
       "4                Call On Me (feat. Georgia Ku)  3pBv3LfvfPft2TqHleqKHo   \n",
       "..                                         ...                     ...   \n",
       "195                                     Sunset  5jUgFofZJCuSQjcYao0VMv   \n",
       "196                   Riptide - FlicFlac Remix  5K9AcgSi8DK4lZKM2LpFu8   \n",
       "197                               High And Low  4PwXNVqkIM8KBuEgYFqDiE   \n",
       "198                           Beat the Sunrise  7th2B8tA26On1RAt2WmnMI   \n",
       "199            Catch & Release (Deepend remix)  4FqrgfKej2jv450UFW6PP8   \n",
       "\n",
       "     song_artist     Genre  \n",
       "0           Kygo  Tropical  \n",
       "1        Deepend  Tropical  \n",
       "2         Matoma  Tropical  \n",
       "3         Madism  Tropical  \n",
       "4      Sam Feldt  Tropical  \n",
       "..           ...       ...  \n",
       "195        A-SHO  Tropical  \n",
       "196    Vance Joy  Tropical  \n",
       "197    Sam Feldt  Tropical  \n",
       "198        SNBRN  Tropical  \n",
       "199  Matt Simons  Tropical  \n",
       "\n",
       "[200 rows x 4 columns]"
      ]
     },
     "execution_count": 101,
     "metadata": {},
     "output_type": "execute_result"
    }
   ],
   "source": [
    "playlist_tropical_info"
   ]
  },
  {
   "cell_type": "markdown",
   "id": "25fea039",
   "metadata": {},
   "source": [
    "## Import playlists by genre\n",
    "- I will import now a HIPHOP playlist"
   ]
  },
  {
   "cell_type": "code",
   "execution_count": 102,
   "id": "b1363e55",
   "metadata": {},
   "outputs": [],
   "source": [
    "## https://open.spotify.com/playlist/33I6RpefRQcRh69xEczaKT?si=8bc85c31fb894e45\n",
    "## Leon Bouw"
   ]
  },
  {
   "cell_type": "code",
   "execution_count": 103,
   "id": "73ad238f",
   "metadata": {},
   "outputs": [],
   "source": [
    "hiphop_playlist = sp.user_playlist_tracks(\"Leon Bouw\", \"33I6RpefRQcRh69xEczaKT\")"
   ]
  },
  {
   "cell_type": "raw",
   "id": "673756bd",
   "metadata": {},
   "source": [
    "hiphop_playlist"
   ]
  },
  {
   "cell_type": "code",
   "execution_count": 105,
   "id": "4d9032aa",
   "metadata": {},
   "outputs": [
    {
     "data": {
      "text/plain": [
       "dict_keys(['href', 'items', 'limit', 'next', 'offset', 'previous', 'total'])"
      ]
     },
     "execution_count": 105,
     "metadata": {},
     "output_type": "execute_result"
    }
   ],
   "source": [
    "hiphop_playlist.keys()"
   ]
  },
  {
   "cell_type": "raw",
   "id": "2f7ff329",
   "metadata": {},
   "source": [
    "hiphop_playlist['items'][3]"
   ]
  },
  {
   "cell_type": "code",
   "execution_count": 107,
   "id": "e7c0461a",
   "metadata": {},
   "outputs": [
    {
     "data": {
      "text/plain": [
       "100"
      ]
     },
     "execution_count": 107,
     "metadata": {},
     "output_type": "execute_result"
    }
   ],
   "source": [
    "len(hiphop_playlist['items'])"
   ]
  },
  {
   "cell_type": "code",
   "execution_count": 108,
   "id": "ae294836",
   "metadata": {},
   "outputs": [],
   "source": [
    "def get_playlist_tracks4(user_id, playlist_id):\n",
    "    results=sp.user_playlist_tracks(user_id, playlist_id)\n",
    "    tracks=results['items']\n",
    "    while results['next']:\n",
    "        results= sp.next(results)\n",
    "        tracks.extend(results['items'])\n",
    "    return tracks"
   ]
  },
  {
   "cell_type": "code",
   "execution_count": 109,
   "id": "9ca45f55",
   "metadata": {},
   "outputs": [],
   "source": [
    "results6=get_playlist_tracks3(\"Leon Bouw\", \"33I6RpefRQcRh69xEczaKT\")"
   ]
  },
  {
   "cell_type": "code",
   "execution_count": 110,
   "id": "1284e656",
   "metadata": {},
   "outputs": [
    {
     "data": {
      "text/plain": [
       "265"
      ]
     },
     "execution_count": 110,
     "metadata": {},
     "output_type": "execute_result"
    }
   ],
   "source": [
    "len(results6)"
   ]
  },
  {
   "cell_type": "code",
   "execution_count": 111,
   "id": "e10cd8f3",
   "metadata": {},
   "outputs": [
    {
     "data": {
      "text/plain": [
       "dict_keys(['album', 'artists', 'available_markets', 'disc_number', 'duration_ms', 'episode', 'explicit', 'external_ids', 'external_urls', 'href', 'id', 'is_local', 'name', 'popularity', 'preview_url', 'track', 'track_number', 'type', 'uri'])"
      ]
     },
     "execution_count": 111,
     "metadata": {},
     "output_type": "execute_result"
    }
   ],
   "source": [
    "results6[0]['track'].keys()"
   ]
  },
  {
   "cell_type": "code",
   "execution_count": 112,
   "id": "9187164e",
   "metadata": {},
   "outputs": [
    {
     "data": {
      "text/plain": [
       "['spotify:track', '1YrHyDbH17btvI2rFTkbCQ']"
      ]
     },
     "execution_count": 112,
     "metadata": {},
     "output_type": "execute_result"
    }
   ],
   "source": [
    "results6[0]['track'][\"uri\"].rsplit(':',1)"
   ]
  },
  {
   "cell_type": "code",
   "execution_count": 113,
   "id": "637494e9",
   "metadata": {},
   "outputs": [],
   "source": [
    "song_name=[]\n",
    "song_URI=[]\n",
    "song_ID=[]\n",
    "song_artist=[]\n",
    "playlist=results6"
   ]
  },
  {
   "cell_type": "code",
   "execution_count": 114,
   "id": "4b27121c",
   "metadata": {},
   "outputs": [],
   "source": [
    "for r in results6:\n",
    "    song_URI.append(r[\"track\"][\"uri\"])\n",
    "    \n",
    "for r in results6: \n",
    "    song_ID.append(r[\"track\"][\"id\"])\n",
    "    \n",
    "for r in results6: \n",
    "    song_name.append(r[\"track\"][\"name\"])\n",
    "    \n",
    "for r in results6: \n",
    "    song_artist.append(r[\"track\"][\"artists\"][0][\"name\"])"
   ]
  },
  {
   "cell_type": "code",
   "execution_count": 115,
   "id": "f19eedc9",
   "metadata": {},
   "outputs": [],
   "source": [
    "playlist_hiphop_info=pd.DataFrame({\"song_name\":song_name,\"song_ID\":song_ID,\"song_artist\":song_artist})"
   ]
  },
  {
   "cell_type": "code",
   "execution_count": 116,
   "id": "a3ceaba7",
   "metadata": {},
   "outputs": [
    {
     "data": {
      "text/html": [
       "<div>\n",
       "<style scoped>\n",
       "    .dataframe tbody tr th:only-of-type {\n",
       "        vertical-align: middle;\n",
       "    }\n",
       "\n",
       "    .dataframe tbody tr th {\n",
       "        vertical-align: top;\n",
       "    }\n",
       "\n",
       "    .dataframe thead th {\n",
       "        text-align: right;\n",
       "    }\n",
       "</style>\n",
       "<table border=\"1\" class=\"dataframe\">\n",
       "  <thead>\n",
       "    <tr style=\"text-align: right;\">\n",
       "      <th></th>\n",
       "      <th>song_name</th>\n",
       "      <th>song_ID</th>\n",
       "      <th>song_artist</th>\n",
       "    </tr>\n",
       "  </thead>\n",
       "  <tbody>\n",
       "    <tr>\n",
       "      <th>0</th>\n",
       "      <td>Bitch Please</td>\n",
       "      <td>1YrHyDbH17btvI2rFTkbCQ</td>\n",
       "      <td>Snoop Dogg</td>\n",
       "    </tr>\n",
       "    <tr>\n",
       "      <th>1</th>\n",
       "      <td>How We Do</td>\n",
       "      <td>6mZcNu9i8uhOYMiEAyEx81</td>\n",
       "      <td>The Game</td>\n",
       "    </tr>\n",
       "    <tr>\n",
       "      <th>2</th>\n",
       "      <td>No Hands (feat. Roscoe Dash &amp; Wale)</td>\n",
       "      <td>6GgPsuz0HEO0nrO2T0QhDv</td>\n",
       "      <td>Waka Flocka Flame</td>\n",
       "    </tr>\n",
       "    <tr>\n",
       "      <th>3</th>\n",
       "      <td>Gorgeous</td>\n",
       "      <td>1yhQGEykn7ZTNLwcIjOAwZ</td>\n",
       "      <td>Kanye West</td>\n",
       "    </tr>\n",
       "    <tr>\n",
       "      <th>4</th>\n",
       "      <td>99 Problems</td>\n",
       "      <td>4HsL5A46wa0O2jQ0ngj3H7</td>\n",
       "      <td>JAY-Z</td>\n",
       "    </tr>\n",
       "    <tr>\n",
       "      <th>...</th>\n",
       "      <td>...</td>\n",
       "      <td>...</td>\n",
       "      <td>...</td>\n",
       "    </tr>\n",
       "    <tr>\n",
       "      <th>260</th>\n",
       "      <td>Yo Sassy Ways</td>\n",
       "      <td>0J1siBLQBHYgYKeFgu7RAY</td>\n",
       "      <td>Warren G</td>\n",
       "    </tr>\n",
       "    <tr>\n",
       "      <th>261</th>\n",
       "      <td>Cisco Kid</td>\n",
       "      <td>0CJ3Y3V6UQn5X7IjXDO3IO</td>\n",
       "      <td>Redman</td>\n",
       "    </tr>\n",
       "    <tr>\n",
       "      <th>262</th>\n",
       "      <td>Woah! - Radio Mix</td>\n",
       "      <td>5fZjSIReYPJIPwpvrsyW3o</td>\n",
       "      <td>Black Rob</td>\n",
       "    </tr>\n",
       "    <tr>\n",
       "      <th>263</th>\n",
       "      <td>I Don't Wanna Care Right Now (feat. MDMA)</td>\n",
       "      <td>5yhXLtQL9waNMjgkl8MsMP</td>\n",
       "      <td>Lupe Fiasco</td>\n",
       "    </tr>\n",
       "    <tr>\n",
       "      <th>264</th>\n",
       "      <td>The Potion</td>\n",
       "      <td>4zXMw51RgLPRE3vPDuqBvt</td>\n",
       "      <td>Ludacris</td>\n",
       "    </tr>\n",
       "  </tbody>\n",
       "</table>\n",
       "<p>265 rows × 3 columns</p>\n",
       "</div>"
      ],
      "text/plain": [
       "                                     song_name                 song_ID  \\\n",
       "0                                 Bitch Please  1YrHyDbH17btvI2rFTkbCQ   \n",
       "1                                    How We Do  6mZcNu9i8uhOYMiEAyEx81   \n",
       "2          No Hands (feat. Roscoe Dash & Wale)  6GgPsuz0HEO0nrO2T0QhDv   \n",
       "3                                     Gorgeous  1yhQGEykn7ZTNLwcIjOAwZ   \n",
       "4                                  99 Problems  4HsL5A46wa0O2jQ0ngj3H7   \n",
       "..                                         ...                     ...   \n",
       "260                              Yo Sassy Ways  0J1siBLQBHYgYKeFgu7RAY   \n",
       "261                                  Cisco Kid  0CJ3Y3V6UQn5X7IjXDO3IO   \n",
       "262                          Woah! - Radio Mix  5fZjSIReYPJIPwpvrsyW3o   \n",
       "263  I Don't Wanna Care Right Now (feat. MDMA)  5yhXLtQL9waNMjgkl8MsMP   \n",
       "264                                 The Potion  4zXMw51RgLPRE3vPDuqBvt   \n",
       "\n",
       "           song_artist  \n",
       "0           Snoop Dogg  \n",
       "1             The Game  \n",
       "2    Waka Flocka Flame  \n",
       "3           Kanye West  \n",
       "4                JAY-Z  \n",
       "..                 ...  \n",
       "260           Warren G  \n",
       "261             Redman  \n",
       "262          Black Rob  \n",
       "263        Lupe Fiasco  \n",
       "264           Ludacris  \n",
       "\n",
       "[265 rows x 3 columns]"
      ]
     },
     "execution_count": 116,
     "metadata": {},
     "output_type": "execute_result"
    }
   ],
   "source": [
    "playlist_hiphop_info"
   ]
  },
  {
   "cell_type": "markdown",
   "id": "6188ef8b",
   "metadata": {},
   "source": [
    "### Add a new column for genre in playlist_hiphop_info"
   ]
  },
  {
   "cell_type": "code",
   "execution_count": 117,
   "id": "a1e78025",
   "metadata": {},
   "outputs": [],
   "source": [
    "playlist_hiphop_info.insert(3, 'Genre', 'HipHop') "
   ]
  },
  {
   "cell_type": "code",
   "execution_count": 118,
   "id": "4d7d12be",
   "metadata": {},
   "outputs": [
    {
     "data": {
      "text/html": [
       "<div>\n",
       "<style scoped>\n",
       "    .dataframe tbody tr th:only-of-type {\n",
       "        vertical-align: middle;\n",
       "    }\n",
       "\n",
       "    .dataframe tbody tr th {\n",
       "        vertical-align: top;\n",
       "    }\n",
       "\n",
       "    .dataframe thead th {\n",
       "        text-align: right;\n",
       "    }\n",
       "</style>\n",
       "<table border=\"1\" class=\"dataframe\">\n",
       "  <thead>\n",
       "    <tr style=\"text-align: right;\">\n",
       "      <th></th>\n",
       "      <th>song_name</th>\n",
       "      <th>song_ID</th>\n",
       "      <th>song_artist</th>\n",
       "      <th>Genre</th>\n",
       "    </tr>\n",
       "  </thead>\n",
       "  <tbody>\n",
       "    <tr>\n",
       "      <th>0</th>\n",
       "      <td>Bitch Please</td>\n",
       "      <td>1YrHyDbH17btvI2rFTkbCQ</td>\n",
       "      <td>Snoop Dogg</td>\n",
       "      <td>HipHop</td>\n",
       "    </tr>\n",
       "    <tr>\n",
       "      <th>1</th>\n",
       "      <td>How We Do</td>\n",
       "      <td>6mZcNu9i8uhOYMiEAyEx81</td>\n",
       "      <td>The Game</td>\n",
       "      <td>HipHop</td>\n",
       "    </tr>\n",
       "    <tr>\n",
       "      <th>2</th>\n",
       "      <td>No Hands (feat. Roscoe Dash &amp; Wale)</td>\n",
       "      <td>6GgPsuz0HEO0nrO2T0QhDv</td>\n",
       "      <td>Waka Flocka Flame</td>\n",
       "      <td>HipHop</td>\n",
       "    </tr>\n",
       "    <tr>\n",
       "      <th>3</th>\n",
       "      <td>Gorgeous</td>\n",
       "      <td>1yhQGEykn7ZTNLwcIjOAwZ</td>\n",
       "      <td>Kanye West</td>\n",
       "      <td>HipHop</td>\n",
       "    </tr>\n",
       "    <tr>\n",
       "      <th>4</th>\n",
       "      <td>99 Problems</td>\n",
       "      <td>4HsL5A46wa0O2jQ0ngj3H7</td>\n",
       "      <td>JAY-Z</td>\n",
       "      <td>HipHop</td>\n",
       "    </tr>\n",
       "    <tr>\n",
       "      <th>...</th>\n",
       "      <td>...</td>\n",
       "      <td>...</td>\n",
       "      <td>...</td>\n",
       "      <td>...</td>\n",
       "    </tr>\n",
       "    <tr>\n",
       "      <th>260</th>\n",
       "      <td>Yo Sassy Ways</td>\n",
       "      <td>0J1siBLQBHYgYKeFgu7RAY</td>\n",
       "      <td>Warren G</td>\n",
       "      <td>HipHop</td>\n",
       "    </tr>\n",
       "    <tr>\n",
       "      <th>261</th>\n",
       "      <td>Cisco Kid</td>\n",
       "      <td>0CJ3Y3V6UQn5X7IjXDO3IO</td>\n",
       "      <td>Redman</td>\n",
       "      <td>HipHop</td>\n",
       "    </tr>\n",
       "    <tr>\n",
       "      <th>262</th>\n",
       "      <td>Woah! - Radio Mix</td>\n",
       "      <td>5fZjSIReYPJIPwpvrsyW3o</td>\n",
       "      <td>Black Rob</td>\n",
       "      <td>HipHop</td>\n",
       "    </tr>\n",
       "    <tr>\n",
       "      <th>263</th>\n",
       "      <td>I Don't Wanna Care Right Now (feat. MDMA)</td>\n",
       "      <td>5yhXLtQL9waNMjgkl8MsMP</td>\n",
       "      <td>Lupe Fiasco</td>\n",
       "      <td>HipHop</td>\n",
       "    </tr>\n",
       "    <tr>\n",
       "      <th>264</th>\n",
       "      <td>The Potion</td>\n",
       "      <td>4zXMw51RgLPRE3vPDuqBvt</td>\n",
       "      <td>Ludacris</td>\n",
       "      <td>HipHop</td>\n",
       "    </tr>\n",
       "  </tbody>\n",
       "</table>\n",
       "<p>265 rows × 4 columns</p>\n",
       "</div>"
      ],
      "text/plain": [
       "                                     song_name                 song_ID  \\\n",
       "0                                 Bitch Please  1YrHyDbH17btvI2rFTkbCQ   \n",
       "1                                    How We Do  6mZcNu9i8uhOYMiEAyEx81   \n",
       "2          No Hands (feat. Roscoe Dash & Wale)  6GgPsuz0HEO0nrO2T0QhDv   \n",
       "3                                     Gorgeous  1yhQGEykn7ZTNLwcIjOAwZ   \n",
       "4                                  99 Problems  4HsL5A46wa0O2jQ0ngj3H7   \n",
       "..                                         ...                     ...   \n",
       "260                              Yo Sassy Ways  0J1siBLQBHYgYKeFgu7RAY   \n",
       "261                                  Cisco Kid  0CJ3Y3V6UQn5X7IjXDO3IO   \n",
       "262                          Woah! - Radio Mix  5fZjSIReYPJIPwpvrsyW3o   \n",
       "263  I Don't Wanna Care Right Now (feat. MDMA)  5yhXLtQL9waNMjgkl8MsMP   \n",
       "264                                 The Potion  4zXMw51RgLPRE3vPDuqBvt   \n",
       "\n",
       "           song_artist   Genre  \n",
       "0           Snoop Dogg  HipHop  \n",
       "1             The Game  HipHop  \n",
       "2    Waka Flocka Flame  HipHop  \n",
       "3           Kanye West  HipHop  \n",
       "4                JAY-Z  HipHop  \n",
       "..                 ...     ...  \n",
       "260           Warren G  HipHop  \n",
       "261             Redman  HipHop  \n",
       "262          Black Rob  HipHop  \n",
       "263        Lupe Fiasco  HipHop  \n",
       "264           Ludacris  HipHop  \n",
       "\n",
       "[265 rows x 4 columns]"
      ]
     },
     "execution_count": 118,
     "metadata": {},
     "output_type": "execute_result"
    }
   ],
   "source": [
    "playlist_hiphop_info"
   ]
  },
  {
   "cell_type": "markdown",
   "id": "239707da",
   "metadata": {},
   "source": [
    "## Import playlists by genre\n",
    "- I will import now a LATIN playlist"
   ]
  },
  {
   "cell_type": "code",
   "execution_count": 119,
   "id": "8e1ab6fc",
   "metadata": {},
   "outputs": [],
   "source": [
    "## https://open.spotify.com/playlist/4DLmZ0UM8TH0UXRfI0Mvu6?si=138328e1e1b44091\n",
    "## MiKeL"
   ]
  },
  {
   "cell_type": "code",
   "execution_count": 120,
   "id": "0f5071fa",
   "metadata": {},
   "outputs": [],
   "source": [
    "latin_playlist = sp.user_playlist_tracks(\"MiKeL\", \"4DLmZ0UM8TH0UXRfI0Mvu6\")"
   ]
  },
  {
   "cell_type": "raw",
   "id": "385755ae",
   "metadata": {},
   "source": [
    "latin_playlist"
   ]
  },
  {
   "cell_type": "code",
   "execution_count": 122,
   "id": "75993d80",
   "metadata": {},
   "outputs": [
    {
     "data": {
      "text/plain": [
       "dict_keys(['href', 'items', 'limit', 'next', 'offset', 'previous', 'total'])"
      ]
     },
     "execution_count": 122,
     "metadata": {},
     "output_type": "execute_result"
    }
   ],
   "source": [
    "latin_playlist.keys()"
   ]
  },
  {
   "cell_type": "raw",
   "id": "82f9e83d",
   "metadata": {},
   "source": [
    "latin_playlist['items'][3]"
   ]
  },
  {
   "cell_type": "code",
   "execution_count": 124,
   "id": "c0ee3722",
   "metadata": {},
   "outputs": [
    {
     "data": {
      "text/plain": [
       "100"
      ]
     },
     "execution_count": 124,
     "metadata": {},
     "output_type": "execute_result"
    }
   ],
   "source": [
    "len(latin_playlist['items'])"
   ]
  },
  {
   "cell_type": "code",
   "execution_count": 125,
   "id": "08f4d245",
   "metadata": {},
   "outputs": [],
   "source": [
    "def get_playlist_tracks5(user_id, playlist_id):\n",
    "    results=sp.user_playlist_tracks(user_id, playlist_id)\n",
    "    tracks=results['items']\n",
    "    while results['next']:\n",
    "        results= sp.next(results)\n",
    "        tracks.extend(results['items'])\n",
    "    return tracks"
   ]
  },
  {
   "cell_type": "code",
   "execution_count": 126,
   "id": "226ad822",
   "metadata": {},
   "outputs": [],
   "source": [
    "results7=get_playlist_tracks5(\"MiKeL\", \"4DLmZ0UM8TH0UXRfI0Mvu6\")"
   ]
  },
  {
   "cell_type": "code",
   "execution_count": 127,
   "id": "b78a5213",
   "metadata": {},
   "outputs": [
    {
     "data": {
      "text/plain": [
       "269"
      ]
     },
     "execution_count": 127,
     "metadata": {},
     "output_type": "execute_result"
    }
   ],
   "source": [
    "len(results7)"
   ]
  },
  {
   "cell_type": "code",
   "execution_count": 128,
   "id": "4b8eab8f",
   "metadata": {},
   "outputs": [
    {
     "data": {
      "text/plain": [
       "dict_keys(['album', 'artists', 'available_markets', 'disc_number', 'duration_ms', 'episode', 'explicit', 'external_ids', 'external_urls', 'href', 'id', 'is_local', 'name', 'popularity', 'preview_url', 'track', 'track_number', 'type', 'uri'])"
      ]
     },
     "execution_count": 128,
     "metadata": {},
     "output_type": "execute_result"
    }
   ],
   "source": [
    "results7[0]['track'].keys()"
   ]
  },
  {
   "cell_type": "code",
   "execution_count": 129,
   "id": "30e75bec",
   "metadata": {},
   "outputs": [
    {
     "data": {
      "text/plain": [
       "['spotify:track', '1ZcrHpBbILPNfhBtPhQVHh']"
      ]
     },
     "execution_count": 129,
     "metadata": {},
     "output_type": "execute_result"
    }
   ],
   "source": [
    "results7[0]['track'][\"uri\"].rsplit(':',1)"
   ]
  },
  {
   "cell_type": "code",
   "execution_count": 130,
   "id": "dfb872a3",
   "metadata": {},
   "outputs": [],
   "source": [
    "song_name=[]\n",
    "song_URI=[]\n",
    "song_ID=[]\n",
    "song_artist=[]\n",
    "playlist=results7"
   ]
  },
  {
   "cell_type": "code",
   "execution_count": 131,
   "id": "1a787208",
   "metadata": {},
   "outputs": [],
   "source": [
    "for r in results7:\n",
    "    song_URI.append(r[\"track\"][\"uri\"])\n",
    "    \n",
    "for r in results7: \n",
    "    song_ID.append(r[\"track\"][\"id\"])\n",
    "    \n",
    "for r in results7: \n",
    "    song_name.append(r[\"track\"][\"name\"])\n",
    "    \n",
    "for r in results7: \n",
    "    song_artist.append(r[\"track\"][\"artists\"][0][\"name\"])"
   ]
  },
  {
   "cell_type": "code",
   "execution_count": 132,
   "id": "b23b733c",
   "metadata": {},
   "outputs": [],
   "source": [
    "playlist_latin_info=pd.DataFrame({\"song_name\":song_name,\"song_ID\":song_ID,\"song_artist\":song_artist})"
   ]
  },
  {
   "cell_type": "code",
   "execution_count": 133,
   "id": "31dcf10f",
   "metadata": {},
   "outputs": [
    {
     "data": {
      "text/html": [
       "<div>\n",
       "<style scoped>\n",
       "    .dataframe tbody tr th:only-of-type {\n",
       "        vertical-align: middle;\n",
       "    }\n",
       "\n",
       "    .dataframe tbody tr th {\n",
       "        vertical-align: top;\n",
       "    }\n",
       "\n",
       "    .dataframe thead th {\n",
       "        text-align: right;\n",
       "    }\n",
       "</style>\n",
       "<table border=\"1\" class=\"dataframe\">\n",
       "  <thead>\n",
       "    <tr style=\"text-align: right;\">\n",
       "      <th></th>\n",
       "      <th>song_name</th>\n",
       "      <th>song_ID</th>\n",
       "      <th>song_artist</th>\n",
       "    </tr>\n",
       "  </thead>\n",
       "  <tbody>\n",
       "    <tr>\n",
       "      <th>0</th>\n",
       "      <td>Se Menea</td>\n",
       "      <td>1ZcrHpBbILPNfhBtPhQVHh</td>\n",
       "      <td>Don Omar</td>\n",
       "    </tr>\n",
       "    <tr>\n",
       "      <th>1</th>\n",
       "      <td>Una Vaina Loca</td>\n",
       "      <td>2qEoAz0i6yEz5dPggABcLH</td>\n",
       "      <td>Fuego</td>\n",
       "    </tr>\n",
       "    <tr>\n",
       "      <th>2</th>\n",
       "      <td>Señor Juez</td>\n",
       "      <td>2PH533J1xudlfZ5GaHAdVX</td>\n",
       "      <td>Ozuna</td>\n",
       "    </tr>\n",
       "    <tr>\n",
       "      <th>3</th>\n",
       "      <td>Ella - Remix</td>\n",
       "      <td>7iHHlCbsFou5DZSW5HCPfs</td>\n",
       "      <td>Boza</td>\n",
       "    </tr>\n",
       "    <tr>\n",
       "      <th>4</th>\n",
       "      <td>Unfollow</td>\n",
       "      <td>6GsD646HrIDJJpzoY9T1Rt</td>\n",
       "      <td>Duki</td>\n",
       "    </tr>\n",
       "    <tr>\n",
       "      <th>...</th>\n",
       "      <td>...</td>\n",
       "      <td>...</td>\n",
       "      <td>...</td>\n",
       "    </tr>\n",
       "    <tr>\n",
       "      <th>264</th>\n",
       "      <td>Ay Vamos</td>\n",
       "      <td>6Ges5C2IE738iJh4HyQizQ</td>\n",
       "      <td>J Balvin</td>\n",
       "    </tr>\n",
       "    <tr>\n",
       "      <th>265</th>\n",
       "      <td>Love Not War (The Tampa Beat)</td>\n",
       "      <td>4Lt6GXGzYsa1tgkv3nGSTm</td>\n",
       "      <td>Jason Derulo</td>\n",
       "    </tr>\n",
       "    <tr>\n",
       "      <th>266</th>\n",
       "      <td>BICHOTA</td>\n",
       "      <td>7vrJn5hDSXRmdXoR30KgF1</td>\n",
       "      <td>KAROL G</td>\n",
       "    </tr>\n",
       "    <tr>\n",
       "      <th>267</th>\n",
       "      <td>Hey DJ</td>\n",
       "      <td>1XgpK29CGGjZnxPYkiRbh4</td>\n",
       "      <td>CNCO</td>\n",
       "    </tr>\n",
       "    <tr>\n",
       "      <th>268</th>\n",
       "      <td>Danza Kuduro</td>\n",
       "      <td>4sCSUQnWQ6HJsOMjfPicdn</td>\n",
       "      <td>Don Omar</td>\n",
       "    </tr>\n",
       "  </tbody>\n",
       "</table>\n",
       "<p>269 rows × 3 columns</p>\n",
       "</div>"
      ],
      "text/plain": [
       "                         song_name                 song_ID   song_artist\n",
       "0                         Se Menea  1ZcrHpBbILPNfhBtPhQVHh      Don Omar\n",
       "1                   Una Vaina Loca  2qEoAz0i6yEz5dPggABcLH         Fuego\n",
       "2                       Señor Juez  2PH533J1xudlfZ5GaHAdVX         Ozuna\n",
       "3                     Ella - Remix  7iHHlCbsFou5DZSW5HCPfs          Boza\n",
       "4                         Unfollow  6GsD646HrIDJJpzoY9T1Rt          Duki\n",
       "..                             ...                     ...           ...\n",
       "264                       Ay Vamos  6Ges5C2IE738iJh4HyQizQ      J Balvin\n",
       "265  Love Not War (The Tampa Beat)  4Lt6GXGzYsa1tgkv3nGSTm  Jason Derulo\n",
       "266                        BICHOTA  7vrJn5hDSXRmdXoR30KgF1       KAROL G\n",
       "267                         Hey DJ  1XgpK29CGGjZnxPYkiRbh4          CNCO\n",
       "268                   Danza Kuduro  4sCSUQnWQ6HJsOMjfPicdn      Don Omar\n",
       "\n",
       "[269 rows x 3 columns]"
      ]
     },
     "execution_count": 133,
     "metadata": {},
     "output_type": "execute_result"
    }
   ],
   "source": [
    "playlist_latin_info"
   ]
  },
  {
   "cell_type": "markdown",
   "id": "c52c72a9",
   "metadata": {},
   "source": [
    "### Add a new column for genre in playlist_latin_info"
   ]
  },
  {
   "cell_type": "code",
   "execution_count": 134,
   "id": "5b8560c3",
   "metadata": {},
   "outputs": [],
   "source": [
    "playlist_latin_info.insert(3, 'Genre', 'Latin') "
   ]
  },
  {
   "cell_type": "code",
   "execution_count": 135,
   "id": "5b46c8db",
   "metadata": {},
   "outputs": [
    {
     "data": {
      "text/html": [
       "<div>\n",
       "<style scoped>\n",
       "    .dataframe tbody tr th:only-of-type {\n",
       "        vertical-align: middle;\n",
       "    }\n",
       "\n",
       "    .dataframe tbody tr th {\n",
       "        vertical-align: top;\n",
       "    }\n",
       "\n",
       "    .dataframe thead th {\n",
       "        text-align: right;\n",
       "    }\n",
       "</style>\n",
       "<table border=\"1\" class=\"dataframe\">\n",
       "  <thead>\n",
       "    <tr style=\"text-align: right;\">\n",
       "      <th></th>\n",
       "      <th>song_name</th>\n",
       "      <th>song_ID</th>\n",
       "      <th>song_artist</th>\n",
       "      <th>Genre</th>\n",
       "    </tr>\n",
       "  </thead>\n",
       "  <tbody>\n",
       "    <tr>\n",
       "      <th>0</th>\n",
       "      <td>Se Menea</td>\n",
       "      <td>1ZcrHpBbILPNfhBtPhQVHh</td>\n",
       "      <td>Don Omar</td>\n",
       "      <td>Latin</td>\n",
       "    </tr>\n",
       "    <tr>\n",
       "      <th>1</th>\n",
       "      <td>Una Vaina Loca</td>\n",
       "      <td>2qEoAz0i6yEz5dPggABcLH</td>\n",
       "      <td>Fuego</td>\n",
       "      <td>Latin</td>\n",
       "    </tr>\n",
       "    <tr>\n",
       "      <th>2</th>\n",
       "      <td>Señor Juez</td>\n",
       "      <td>2PH533J1xudlfZ5GaHAdVX</td>\n",
       "      <td>Ozuna</td>\n",
       "      <td>Latin</td>\n",
       "    </tr>\n",
       "    <tr>\n",
       "      <th>3</th>\n",
       "      <td>Ella - Remix</td>\n",
       "      <td>7iHHlCbsFou5DZSW5HCPfs</td>\n",
       "      <td>Boza</td>\n",
       "      <td>Latin</td>\n",
       "    </tr>\n",
       "    <tr>\n",
       "      <th>4</th>\n",
       "      <td>Unfollow</td>\n",
       "      <td>6GsD646HrIDJJpzoY9T1Rt</td>\n",
       "      <td>Duki</td>\n",
       "      <td>Latin</td>\n",
       "    </tr>\n",
       "    <tr>\n",
       "      <th>...</th>\n",
       "      <td>...</td>\n",
       "      <td>...</td>\n",
       "      <td>...</td>\n",
       "      <td>...</td>\n",
       "    </tr>\n",
       "    <tr>\n",
       "      <th>264</th>\n",
       "      <td>Ay Vamos</td>\n",
       "      <td>6Ges5C2IE738iJh4HyQizQ</td>\n",
       "      <td>J Balvin</td>\n",
       "      <td>Latin</td>\n",
       "    </tr>\n",
       "    <tr>\n",
       "      <th>265</th>\n",
       "      <td>Love Not War (The Tampa Beat)</td>\n",
       "      <td>4Lt6GXGzYsa1tgkv3nGSTm</td>\n",
       "      <td>Jason Derulo</td>\n",
       "      <td>Latin</td>\n",
       "    </tr>\n",
       "    <tr>\n",
       "      <th>266</th>\n",
       "      <td>BICHOTA</td>\n",
       "      <td>7vrJn5hDSXRmdXoR30KgF1</td>\n",
       "      <td>KAROL G</td>\n",
       "      <td>Latin</td>\n",
       "    </tr>\n",
       "    <tr>\n",
       "      <th>267</th>\n",
       "      <td>Hey DJ</td>\n",
       "      <td>1XgpK29CGGjZnxPYkiRbh4</td>\n",
       "      <td>CNCO</td>\n",
       "      <td>Latin</td>\n",
       "    </tr>\n",
       "    <tr>\n",
       "      <th>268</th>\n",
       "      <td>Danza Kuduro</td>\n",
       "      <td>4sCSUQnWQ6HJsOMjfPicdn</td>\n",
       "      <td>Don Omar</td>\n",
       "      <td>Latin</td>\n",
       "    </tr>\n",
       "  </tbody>\n",
       "</table>\n",
       "<p>269 rows × 4 columns</p>\n",
       "</div>"
      ],
      "text/plain": [
       "                         song_name                 song_ID   song_artist  \\\n",
       "0                         Se Menea  1ZcrHpBbILPNfhBtPhQVHh      Don Omar   \n",
       "1                   Una Vaina Loca  2qEoAz0i6yEz5dPggABcLH         Fuego   \n",
       "2                       Señor Juez  2PH533J1xudlfZ5GaHAdVX         Ozuna   \n",
       "3                     Ella - Remix  7iHHlCbsFou5DZSW5HCPfs          Boza   \n",
       "4                         Unfollow  6GsD646HrIDJJpzoY9T1Rt          Duki   \n",
       "..                             ...                     ...           ...   \n",
       "264                       Ay Vamos  6Ges5C2IE738iJh4HyQizQ      J Balvin   \n",
       "265  Love Not War (The Tampa Beat)  4Lt6GXGzYsa1tgkv3nGSTm  Jason Derulo   \n",
       "266                        BICHOTA  7vrJn5hDSXRmdXoR30KgF1       KAROL G   \n",
       "267                         Hey DJ  1XgpK29CGGjZnxPYkiRbh4          CNCO   \n",
       "268                   Danza Kuduro  4sCSUQnWQ6HJsOMjfPicdn      Don Omar   \n",
       "\n",
       "     Genre  \n",
       "0    Latin  \n",
       "1    Latin  \n",
       "2    Latin  \n",
       "3    Latin  \n",
       "4    Latin  \n",
       "..     ...  \n",
       "264  Latin  \n",
       "265  Latin  \n",
       "266  Latin  \n",
       "267  Latin  \n",
       "268  Latin  \n",
       "\n",
       "[269 rows x 4 columns]"
      ]
     },
     "execution_count": 135,
     "metadata": {},
     "output_type": "execute_result"
    }
   ],
   "source": [
    "playlist_latin_info"
   ]
  },
  {
   "cell_type": "markdown",
   "id": "00f1c978",
   "metadata": {},
   "source": [
    "## Import playlists by genre\n",
    "- I will import now a SPANISH playlist"
   ]
  },
  {
   "cell_type": "code",
   "execution_count": 136,
   "id": "69cf548b",
   "metadata": {},
   "outputs": [],
   "source": [
    "## https://open.spotify.com/playlist/1oUJ31mriViDmfMliMXRRZ?si=c25b5ae7a9d546cb\n",
    "## Gr Fausto"
   ]
  },
  {
   "cell_type": "code",
   "execution_count": 137,
   "id": "41a9eab6",
   "metadata": {},
   "outputs": [],
   "source": [
    "spanish_playlist = sp.user_playlist_tracks(\"Gr Fausto\", \"1oUJ31mriViDmfMliMXRRZ\")"
   ]
  },
  {
   "cell_type": "raw",
   "id": "1a12e7e4",
   "metadata": {},
   "source": [
    "spanish_playlist"
   ]
  },
  {
   "cell_type": "code",
   "execution_count": 139,
   "id": "5cd6fe29",
   "metadata": {},
   "outputs": [
    {
     "data": {
      "text/plain": [
       "dict_keys(['href', 'items', 'limit', 'next', 'offset', 'previous', 'total'])"
      ]
     },
     "execution_count": 139,
     "metadata": {},
     "output_type": "execute_result"
    }
   ],
   "source": [
    "spanish_playlist.keys()"
   ]
  },
  {
   "cell_type": "raw",
   "id": "68026ee1",
   "metadata": {},
   "source": [
    "spanish_playlist['items'][3]"
   ]
  },
  {
   "cell_type": "code",
   "execution_count": 141,
   "id": "0d51db41",
   "metadata": {},
   "outputs": [
    {
     "data": {
      "text/plain": [
       "100"
      ]
     },
     "execution_count": 141,
     "metadata": {},
     "output_type": "execute_result"
    }
   ],
   "source": [
    "len(spanish_playlist['items'])"
   ]
  },
  {
   "cell_type": "code",
   "execution_count": 142,
   "id": "5fbd2d74",
   "metadata": {},
   "outputs": [],
   "source": [
    "def get_playlist_tracks6(user_id, playlist_id):\n",
    "    results=sp.user_playlist_tracks(user_id, playlist_id)\n",
    "    tracks=results['items']\n",
    "    while results['next']:\n",
    "        results= sp.next(results)\n",
    "        tracks.extend(results['items'])\n",
    "    return tracks"
   ]
  },
  {
   "cell_type": "code",
   "execution_count": 143,
   "id": "224b8af4",
   "metadata": {},
   "outputs": [],
   "source": [
    "results8=get_playlist_tracks6(\"Gr Fausto\", \"1oUJ31mriViDmfMliMXRRZ\")"
   ]
  },
  {
   "cell_type": "code",
   "execution_count": 144,
   "id": "3a3fe8d3",
   "metadata": {},
   "outputs": [
    {
     "data": {
      "text/plain": [
       "597"
      ]
     },
     "execution_count": 144,
     "metadata": {},
     "output_type": "execute_result"
    }
   ],
   "source": [
    "len(results8)"
   ]
  },
  {
   "cell_type": "code",
   "execution_count": 145,
   "id": "6e1bd310",
   "metadata": {},
   "outputs": [
    {
     "data": {
      "text/plain": [
       "dict_keys(['album', 'artists', 'available_markets', 'disc_number', 'duration_ms', 'episode', 'explicit', 'external_ids', 'external_urls', 'href', 'id', 'is_local', 'name', 'popularity', 'preview_url', 'track', 'track_number', 'type', 'uri'])"
      ]
     },
     "execution_count": 145,
     "metadata": {},
     "output_type": "execute_result"
    }
   ],
   "source": [
    "results8[0]['track'].keys()"
   ]
  },
  {
   "cell_type": "code",
   "execution_count": 146,
   "id": "d4ac76d0",
   "metadata": {},
   "outputs": [
    {
     "data": {
      "text/plain": [
       "['spotify:track', '3v1dCP3hk2djfWryqfp7sx']"
      ]
     },
     "execution_count": 146,
     "metadata": {},
     "output_type": "execute_result"
    }
   ],
   "source": [
    "results8[0]['track'][\"uri\"].rsplit(':',1)"
   ]
  },
  {
   "cell_type": "code",
   "execution_count": 147,
   "id": "7a443cf3",
   "metadata": {},
   "outputs": [],
   "source": [
    "song_name=[]\n",
    "song_URI=[]\n",
    "song_ID=[]\n",
    "song_artist=[]\n",
    "playlist=results8"
   ]
  },
  {
   "cell_type": "code",
   "execution_count": 148,
   "id": "426619f2",
   "metadata": {},
   "outputs": [],
   "source": [
    "for r in results8:\n",
    "    song_URI.append(r[\"track\"][\"uri\"])\n",
    "    \n",
    "for r in results8: \n",
    "    song_ID.append(r[\"track\"][\"id\"])\n",
    "    \n",
    "for r in results8: \n",
    "    song_name.append(r[\"track\"][\"name\"])\n",
    "    \n",
    "for r in results8: \n",
    "    song_artist.append(r[\"track\"][\"artists\"][0][\"name\"])"
   ]
  },
  {
   "cell_type": "code",
   "execution_count": 149,
   "id": "3890a1e0",
   "metadata": {},
   "outputs": [],
   "source": [
    "playlist_spanish_info=pd.DataFrame({\"song_name\":song_name,\"song_ID\":song_ID,\"song_artist\":song_artist})"
   ]
  },
  {
   "cell_type": "code",
   "execution_count": 150,
   "id": "2fa797f5",
   "metadata": {},
   "outputs": [
    {
     "data": {
      "text/html": [
       "<div>\n",
       "<style scoped>\n",
       "    .dataframe tbody tr th:only-of-type {\n",
       "        vertical-align: middle;\n",
       "    }\n",
       "\n",
       "    .dataframe tbody tr th {\n",
       "        vertical-align: top;\n",
       "    }\n",
       "\n",
       "    .dataframe thead th {\n",
       "        text-align: right;\n",
       "    }\n",
       "</style>\n",
       "<table border=\"1\" class=\"dataframe\">\n",
       "  <thead>\n",
       "    <tr style=\"text-align: right;\">\n",
       "      <th></th>\n",
       "      <th>song_name</th>\n",
       "      <th>song_ID</th>\n",
       "      <th>song_artist</th>\n",
       "    </tr>\n",
       "  </thead>\n",
       "  <tbody>\n",
       "    <tr>\n",
       "      <th>0</th>\n",
       "      <td>Caminando por la vida</td>\n",
       "      <td>3v1dCP3hk2djfWryqfp7sx</td>\n",
       "      <td>Melendi</td>\n",
       "    </tr>\n",
       "    <tr>\n",
       "      <th>1</th>\n",
       "      <td>Soldadito marinero</td>\n",
       "      <td>0eVborSuxUeSg0meWYd9dZ</td>\n",
       "      <td>Fito y Fitipaldis</td>\n",
       "    </tr>\n",
       "    <tr>\n",
       "      <th>2</th>\n",
       "      <td>Walter Palmeras</td>\n",
       "      <td>58UxBSr2y1b7gun2Vjt8dg</td>\n",
       "      <td>Taburete</td>\n",
       "    </tr>\n",
       "    <tr>\n",
       "      <th>3</th>\n",
       "      <td>Caminito A Motel</td>\n",
       "      <td>3VptrSkImJN0c5KCEBHE65</td>\n",
       "      <td>Taburete</td>\n",
       "    </tr>\n",
       "    <tr>\n",
       "      <th>4</th>\n",
       "      <td>Amos del Piano Bar</td>\n",
       "      <td>5wnIjet6vh2BaIX2gl4Mgz</td>\n",
       "      <td>Taburete</td>\n",
       "    </tr>\n",
       "    <tr>\n",
       "      <th>...</th>\n",
       "      <td>...</td>\n",
       "      <td>...</td>\n",
       "      <td>...</td>\n",
       "    </tr>\n",
       "    <tr>\n",
       "      <th>592</th>\n",
       "      <td>Cuando Brille el Sol (with Manuel Espana)</td>\n",
       "      <td>2T0hFOkypPat3w4K5mc7fc</td>\n",
       "      <td>Melocos</td>\n",
       "    </tr>\n",
       "    <tr>\n",
       "      <th>593</th>\n",
       "      <td>Yo no te pido la luna</td>\n",
       "      <td>1hI1st8dvPmr1S55XDkavG</td>\n",
       "      <td>Sergio Dalma</td>\n",
       "    </tr>\n",
       "    <tr>\n",
       "      <th>594</th>\n",
       "      <td>A Mi Manera</td>\n",
       "      <td>5yY2UPVQ9EBKBXh2dGtU6U</td>\n",
       "      <td>Siempre Asi</td>\n",
       "    </tr>\n",
       "    <tr>\n",
       "      <th>595</th>\n",
       "      <td>Sopa fría</td>\n",
       "      <td>1zLJEnxuZBgPbwMrDMiZAf</td>\n",
       "      <td>M-Clan</td>\n",
       "    </tr>\n",
       "    <tr>\n",
       "      <th>596</th>\n",
       "      <td>La Ciudad</td>\n",
       "      <td>7gG0XWjEAStM49hdEYsySn</td>\n",
       "      <td>Club 28</td>\n",
       "    </tr>\n",
       "  </tbody>\n",
       "</table>\n",
       "<p>597 rows × 3 columns</p>\n",
       "</div>"
      ],
      "text/plain": [
       "                                     song_name                 song_ID  \\\n",
       "0                        Caminando por la vida  3v1dCP3hk2djfWryqfp7sx   \n",
       "1                           Soldadito marinero  0eVborSuxUeSg0meWYd9dZ   \n",
       "2                              Walter Palmeras  58UxBSr2y1b7gun2Vjt8dg   \n",
       "3                             Caminito A Motel  3VptrSkImJN0c5KCEBHE65   \n",
       "4                           Amos del Piano Bar  5wnIjet6vh2BaIX2gl4Mgz   \n",
       "..                                         ...                     ...   \n",
       "592  Cuando Brille el Sol (with Manuel Espana)  2T0hFOkypPat3w4K5mc7fc   \n",
       "593                      Yo no te pido la luna  1hI1st8dvPmr1S55XDkavG   \n",
       "594                                A Mi Manera  5yY2UPVQ9EBKBXh2dGtU6U   \n",
       "595                                  Sopa fría  1zLJEnxuZBgPbwMrDMiZAf   \n",
       "596                                  La Ciudad  7gG0XWjEAStM49hdEYsySn   \n",
       "\n",
       "           song_artist  \n",
       "0              Melendi  \n",
       "1    Fito y Fitipaldis  \n",
       "2             Taburete  \n",
       "3             Taburete  \n",
       "4             Taburete  \n",
       "..                 ...  \n",
       "592            Melocos  \n",
       "593       Sergio Dalma  \n",
       "594        Siempre Asi  \n",
       "595             M-Clan  \n",
       "596            Club 28  \n",
       "\n",
       "[597 rows x 3 columns]"
      ]
     },
     "execution_count": 150,
     "metadata": {},
     "output_type": "execute_result"
    }
   ],
   "source": [
    "playlist_spanish_info"
   ]
  },
  {
   "cell_type": "markdown",
   "id": "16982d58",
   "metadata": {},
   "source": [
    "### Add a new column for genre in playlist_spanish_info"
   ]
  },
  {
   "cell_type": "code",
   "execution_count": 151,
   "id": "c889bfad",
   "metadata": {},
   "outputs": [],
   "source": [
    "playlist_spanish_info.insert(3, 'Genre', 'Spanish') "
   ]
  },
  {
   "cell_type": "code",
   "execution_count": 152,
   "id": "a4f40504",
   "metadata": {},
   "outputs": [
    {
     "data": {
      "text/html": [
       "<div>\n",
       "<style scoped>\n",
       "    .dataframe tbody tr th:only-of-type {\n",
       "        vertical-align: middle;\n",
       "    }\n",
       "\n",
       "    .dataframe tbody tr th {\n",
       "        vertical-align: top;\n",
       "    }\n",
       "\n",
       "    .dataframe thead th {\n",
       "        text-align: right;\n",
       "    }\n",
       "</style>\n",
       "<table border=\"1\" class=\"dataframe\">\n",
       "  <thead>\n",
       "    <tr style=\"text-align: right;\">\n",
       "      <th></th>\n",
       "      <th>song_name</th>\n",
       "      <th>song_ID</th>\n",
       "      <th>song_artist</th>\n",
       "      <th>Genre</th>\n",
       "    </tr>\n",
       "  </thead>\n",
       "  <tbody>\n",
       "    <tr>\n",
       "      <th>0</th>\n",
       "      <td>Caminando por la vida</td>\n",
       "      <td>3v1dCP3hk2djfWryqfp7sx</td>\n",
       "      <td>Melendi</td>\n",
       "      <td>Spanish</td>\n",
       "    </tr>\n",
       "    <tr>\n",
       "      <th>1</th>\n",
       "      <td>Soldadito marinero</td>\n",
       "      <td>0eVborSuxUeSg0meWYd9dZ</td>\n",
       "      <td>Fito y Fitipaldis</td>\n",
       "      <td>Spanish</td>\n",
       "    </tr>\n",
       "    <tr>\n",
       "      <th>2</th>\n",
       "      <td>Walter Palmeras</td>\n",
       "      <td>58UxBSr2y1b7gun2Vjt8dg</td>\n",
       "      <td>Taburete</td>\n",
       "      <td>Spanish</td>\n",
       "    </tr>\n",
       "    <tr>\n",
       "      <th>3</th>\n",
       "      <td>Caminito A Motel</td>\n",
       "      <td>3VptrSkImJN0c5KCEBHE65</td>\n",
       "      <td>Taburete</td>\n",
       "      <td>Spanish</td>\n",
       "    </tr>\n",
       "    <tr>\n",
       "      <th>4</th>\n",
       "      <td>Amos del Piano Bar</td>\n",
       "      <td>5wnIjet6vh2BaIX2gl4Mgz</td>\n",
       "      <td>Taburete</td>\n",
       "      <td>Spanish</td>\n",
       "    </tr>\n",
       "    <tr>\n",
       "      <th>...</th>\n",
       "      <td>...</td>\n",
       "      <td>...</td>\n",
       "      <td>...</td>\n",
       "      <td>...</td>\n",
       "    </tr>\n",
       "    <tr>\n",
       "      <th>592</th>\n",
       "      <td>Cuando Brille el Sol (with Manuel Espana)</td>\n",
       "      <td>2T0hFOkypPat3w4K5mc7fc</td>\n",
       "      <td>Melocos</td>\n",
       "      <td>Spanish</td>\n",
       "    </tr>\n",
       "    <tr>\n",
       "      <th>593</th>\n",
       "      <td>Yo no te pido la luna</td>\n",
       "      <td>1hI1st8dvPmr1S55XDkavG</td>\n",
       "      <td>Sergio Dalma</td>\n",
       "      <td>Spanish</td>\n",
       "    </tr>\n",
       "    <tr>\n",
       "      <th>594</th>\n",
       "      <td>A Mi Manera</td>\n",
       "      <td>5yY2UPVQ9EBKBXh2dGtU6U</td>\n",
       "      <td>Siempre Asi</td>\n",
       "      <td>Spanish</td>\n",
       "    </tr>\n",
       "    <tr>\n",
       "      <th>595</th>\n",
       "      <td>Sopa fría</td>\n",
       "      <td>1zLJEnxuZBgPbwMrDMiZAf</td>\n",
       "      <td>M-Clan</td>\n",
       "      <td>Spanish</td>\n",
       "    </tr>\n",
       "    <tr>\n",
       "      <th>596</th>\n",
       "      <td>La Ciudad</td>\n",
       "      <td>7gG0XWjEAStM49hdEYsySn</td>\n",
       "      <td>Club 28</td>\n",
       "      <td>Spanish</td>\n",
       "    </tr>\n",
       "  </tbody>\n",
       "</table>\n",
       "<p>597 rows × 4 columns</p>\n",
       "</div>"
      ],
      "text/plain": [
       "                                     song_name                 song_ID  \\\n",
       "0                        Caminando por la vida  3v1dCP3hk2djfWryqfp7sx   \n",
       "1                           Soldadito marinero  0eVborSuxUeSg0meWYd9dZ   \n",
       "2                              Walter Palmeras  58UxBSr2y1b7gun2Vjt8dg   \n",
       "3                             Caminito A Motel  3VptrSkImJN0c5KCEBHE65   \n",
       "4                           Amos del Piano Bar  5wnIjet6vh2BaIX2gl4Mgz   \n",
       "..                                         ...                     ...   \n",
       "592  Cuando Brille el Sol (with Manuel Espana)  2T0hFOkypPat3w4K5mc7fc   \n",
       "593                      Yo no te pido la luna  1hI1st8dvPmr1S55XDkavG   \n",
       "594                                A Mi Manera  5yY2UPVQ9EBKBXh2dGtU6U   \n",
       "595                                  Sopa fría  1zLJEnxuZBgPbwMrDMiZAf   \n",
       "596                                  La Ciudad  7gG0XWjEAStM49hdEYsySn   \n",
       "\n",
       "           song_artist    Genre  \n",
       "0              Melendi  Spanish  \n",
       "1    Fito y Fitipaldis  Spanish  \n",
       "2             Taburete  Spanish  \n",
       "3             Taburete  Spanish  \n",
       "4             Taburete  Spanish  \n",
       "..                 ...      ...  \n",
       "592            Melocos  Spanish  \n",
       "593       Sergio Dalma  Spanish  \n",
       "594        Siempre Asi  Spanish  \n",
       "595             M-Clan  Spanish  \n",
       "596            Club 28  Spanish  \n",
       "\n",
       "[597 rows x 4 columns]"
      ]
     },
     "execution_count": 152,
     "metadata": {},
     "output_type": "execute_result"
    }
   ],
   "source": [
    "playlist_spanish_info"
   ]
  },
  {
   "cell_type": "markdown",
   "id": "d001544d",
   "metadata": {},
   "source": [
    "## Import playlists by genre\n",
    "- I will import now a JAZZ playlist"
   ]
  },
  {
   "cell_type": "code",
   "execution_count": 153,
   "id": "55a8a604",
   "metadata": {},
   "outputs": [],
   "source": [
    "## https://open.spotify.com/playlist/37i9dQZF1DX0SM0LYsmbMT?si=a455c71c0ea24707\n",
    "## Spotify"
   ]
  },
  {
   "cell_type": "code",
   "execution_count": 154,
   "id": "64a83dd0",
   "metadata": {},
   "outputs": [],
   "source": [
    "jazz_playlist = sp.user_playlist_tracks(\"Spotify\", \"37i9dQZF1DX0SM0LYsmbMT\")"
   ]
  },
  {
   "cell_type": "raw",
   "id": "03221488",
   "metadata": {},
   "source": [
    "jazz_playlist"
   ]
  },
  {
   "cell_type": "code",
   "execution_count": 156,
   "id": "c59eae29",
   "metadata": {},
   "outputs": [
    {
     "data": {
      "text/plain": [
       "dict_keys(['href', 'items', 'limit', 'next', 'offset', 'previous', 'total'])"
      ]
     },
     "execution_count": 156,
     "metadata": {},
     "output_type": "execute_result"
    }
   ],
   "source": [
    "jazz_playlist.keys()"
   ]
  },
  {
   "cell_type": "raw",
   "id": "f2cd65d9",
   "metadata": {},
   "source": [
    "jazz_playlist['items'][3]"
   ]
  },
  {
   "cell_type": "code",
   "execution_count": 158,
   "id": "f54dc05a",
   "metadata": {},
   "outputs": [
    {
     "data": {
      "text/plain": [
       "100"
      ]
     },
     "execution_count": 158,
     "metadata": {},
     "output_type": "execute_result"
    }
   ],
   "source": [
    "len(jazz_playlist['items'])"
   ]
  },
  {
   "cell_type": "code",
   "execution_count": 159,
   "id": "cdb30ed4",
   "metadata": {},
   "outputs": [],
   "source": [
    "def get_playlist_tracks7(user_id, playlist_id):\n",
    "    results=sp.user_playlist_tracks(user_id, playlist_id)\n",
    "    tracks=results['items']\n",
    "    while results['next']:\n",
    "        results= sp.next(results)\n",
    "        tracks.extend(results['items'])\n",
    "    return tracks"
   ]
  },
  {
   "cell_type": "code",
   "execution_count": 160,
   "id": "d59f0454",
   "metadata": {},
   "outputs": [],
   "source": [
    "results9=get_playlist_tracks7(\"Spotify\", \"37i9dQZF1DX0SM0LYsmbMT\")"
   ]
  },
  {
   "cell_type": "code",
   "execution_count": 161,
   "id": "802d7751",
   "metadata": {},
   "outputs": [
    {
     "data": {
      "text/plain": [
       "300"
      ]
     },
     "execution_count": 161,
     "metadata": {},
     "output_type": "execute_result"
    }
   ],
   "source": [
    "len(results9)"
   ]
  },
  {
   "cell_type": "code",
   "execution_count": 162,
   "id": "2c947c8a",
   "metadata": {},
   "outputs": [
    {
     "data": {
      "text/plain": [
       "dict_keys(['album', 'artists', 'available_markets', 'disc_number', 'duration_ms', 'episode', 'explicit', 'external_ids', 'external_urls', 'href', 'id', 'is_local', 'name', 'popularity', 'preview_url', 'track', 'track_number', 'type', 'uri'])"
      ]
     },
     "execution_count": 162,
     "metadata": {},
     "output_type": "execute_result"
    }
   ],
   "source": [
    "results9[0]['track'].keys()"
   ]
  },
  {
   "cell_type": "code",
   "execution_count": 163,
   "id": "f320f69c",
   "metadata": {},
   "outputs": [
    {
     "data": {
      "text/plain": [
       "['spotify:track', '6p8cuVRnfBv4C6dhvYua5i']"
      ]
     },
     "execution_count": 163,
     "metadata": {},
     "output_type": "execute_result"
    }
   ],
   "source": [
    "results9[0]['track'][\"uri\"].rsplit(':',1)"
   ]
  },
  {
   "cell_type": "code",
   "execution_count": 164,
   "id": "df0bf336",
   "metadata": {},
   "outputs": [],
   "source": [
    "song_name=[]\n",
    "song_URI=[]\n",
    "song_ID=[]\n",
    "song_artist=[]\n",
    "playlist=results9"
   ]
  },
  {
   "cell_type": "code",
   "execution_count": 165,
   "id": "0cb6aeb1",
   "metadata": {},
   "outputs": [],
   "source": [
    "for r in results9:\n",
    "    song_URI.append(r[\"track\"][\"uri\"])\n",
    "    \n",
    "for r in results9: \n",
    "    song_ID.append(r[\"track\"][\"id\"])\n",
    "    \n",
    "for r in results9: \n",
    "    song_name.append(r[\"track\"][\"name\"])\n",
    "    \n",
    "for r in results9: \n",
    "    song_artist.append(r[\"track\"][\"artists\"][0][\"name\"])"
   ]
  },
  {
   "cell_type": "code",
   "execution_count": 166,
   "id": "47dc7a6c",
   "metadata": {},
   "outputs": [],
   "source": [
    "playlist_jazz_info=pd.DataFrame({\"song_name\":song_name,\"song_ID\":song_ID,\"song_artist\":song_artist})"
   ]
  },
  {
   "cell_type": "code",
   "execution_count": 167,
   "id": "6ba9bba5",
   "metadata": {},
   "outputs": [
    {
     "data": {
      "text/html": [
       "<div>\n",
       "<style scoped>\n",
       "    .dataframe tbody tr th:only-of-type {\n",
       "        vertical-align: middle;\n",
       "    }\n",
       "\n",
       "    .dataframe tbody tr th {\n",
       "        vertical-align: top;\n",
       "    }\n",
       "\n",
       "    .dataframe thead th {\n",
       "        text-align: right;\n",
       "    }\n",
       "</style>\n",
       "<table border=\"1\" class=\"dataframe\">\n",
       "  <thead>\n",
       "    <tr style=\"text-align: right;\">\n",
       "      <th></th>\n",
       "      <th>song_name</th>\n",
       "      <th>song_ID</th>\n",
       "      <th>song_artist</th>\n",
       "    </tr>\n",
       "  </thead>\n",
       "  <tbody>\n",
       "    <tr>\n",
       "      <th>0</th>\n",
       "      <td>Cayo</td>\n",
       "      <td>6p8cuVRnfBv4C6dhvYua5i</td>\n",
       "      <td>Chancla</td>\n",
       "    </tr>\n",
       "    <tr>\n",
       "      <th>1</th>\n",
       "      <td>Space Travels</td>\n",
       "      <td>188TF9y7eulHH0tKVZ6jxz</td>\n",
       "      <td>Mr. Käfer</td>\n",
       "    </tr>\n",
       "    <tr>\n",
       "      <th>2</th>\n",
       "      <td>Río Ocho</td>\n",
       "      <td>1cpPta2P0aGxUn6F6Up96n</td>\n",
       "      <td>Pachakuti</td>\n",
       "    </tr>\n",
       "    <tr>\n",
       "      <th>3</th>\n",
       "      <td>Bob's Law</td>\n",
       "      <td>4he3FjvSZ2owAuGGtb5Jt5</td>\n",
       "      <td>Pawcut</td>\n",
       "    </tr>\n",
       "    <tr>\n",
       "      <th>4</th>\n",
       "      <td>Dolce</td>\n",
       "      <td>2aXOl6fv48QvOFI2WxV4JZ</td>\n",
       "      <td>Lazlow</td>\n",
       "    </tr>\n",
       "    <tr>\n",
       "      <th>...</th>\n",
       "      <td>...</td>\n",
       "      <td>...</td>\n",
       "      <td>...</td>\n",
       "    </tr>\n",
       "    <tr>\n",
       "      <th>295</th>\n",
       "      <td>Yellow Napkins</td>\n",
       "      <td>72AJ5sfLfwtKHiQnUeB7rV</td>\n",
       "      <td>JAY VANILLA</td>\n",
       "    </tr>\n",
       "    <tr>\n",
       "      <th>296</th>\n",
       "      <td>Profesor</td>\n",
       "      <td>70A2dr0LJoFAmplOmYqdkn</td>\n",
       "      <td>Chancla</td>\n",
       "    </tr>\n",
       "    <tr>\n",
       "      <th>297</th>\n",
       "      <td>Midnight Stroll</td>\n",
       "      <td>00oSY6ZhNBI9uDf45e6VMw</td>\n",
       "      <td>CMJ</td>\n",
       "    </tr>\n",
       "    <tr>\n",
       "      <th>298</th>\n",
       "      <td>Good Life</td>\n",
       "      <td>5BPKNG6yHbj0Q2W6ksMbbH</td>\n",
       "      <td>Phlocalyst</td>\n",
       "    </tr>\n",
       "    <tr>\n",
       "      <th>299</th>\n",
       "      <td>Getting Closer</td>\n",
       "      <td>3bhGeD1hIsQK4zIH4VRBoy</td>\n",
       "      <td>Birds Of The West</td>\n",
       "    </tr>\n",
       "  </tbody>\n",
       "</table>\n",
       "<p>300 rows × 3 columns</p>\n",
       "</div>"
      ],
      "text/plain": [
       "           song_name                 song_ID        song_artist\n",
       "0               Cayo  6p8cuVRnfBv4C6dhvYua5i            Chancla\n",
       "1      Space Travels  188TF9y7eulHH0tKVZ6jxz          Mr. Käfer\n",
       "2           Río Ocho  1cpPta2P0aGxUn6F6Up96n          Pachakuti\n",
       "3          Bob's Law  4he3FjvSZ2owAuGGtb5Jt5             Pawcut\n",
       "4              Dolce  2aXOl6fv48QvOFI2WxV4JZ             Lazlow\n",
       "..               ...                     ...                ...\n",
       "295   Yellow Napkins  72AJ5sfLfwtKHiQnUeB7rV        JAY VANILLA\n",
       "296         Profesor  70A2dr0LJoFAmplOmYqdkn            Chancla\n",
       "297  Midnight Stroll  00oSY6ZhNBI9uDf45e6VMw                CMJ\n",
       "298        Good Life  5BPKNG6yHbj0Q2W6ksMbbH         Phlocalyst\n",
       "299   Getting Closer  3bhGeD1hIsQK4zIH4VRBoy  Birds Of The West\n",
       "\n",
       "[300 rows x 3 columns]"
      ]
     },
     "execution_count": 167,
     "metadata": {},
     "output_type": "execute_result"
    }
   ],
   "source": [
    "playlist_jazz_info"
   ]
  },
  {
   "cell_type": "markdown",
   "id": "0d38700b",
   "metadata": {},
   "source": [
    "### Add a new column for genre in playlist_spanish_info"
   ]
  },
  {
   "cell_type": "code",
   "execution_count": 168,
   "id": "0c795b02",
   "metadata": {},
   "outputs": [],
   "source": [
    "playlist_jazz_info.insert(3, 'Genre', 'Jazz') "
   ]
  },
  {
   "cell_type": "code",
   "execution_count": 169,
   "id": "268cb333",
   "metadata": {},
   "outputs": [
    {
     "data": {
      "text/html": [
       "<div>\n",
       "<style scoped>\n",
       "    .dataframe tbody tr th:only-of-type {\n",
       "        vertical-align: middle;\n",
       "    }\n",
       "\n",
       "    .dataframe tbody tr th {\n",
       "        vertical-align: top;\n",
       "    }\n",
       "\n",
       "    .dataframe thead th {\n",
       "        text-align: right;\n",
       "    }\n",
       "</style>\n",
       "<table border=\"1\" class=\"dataframe\">\n",
       "  <thead>\n",
       "    <tr style=\"text-align: right;\">\n",
       "      <th></th>\n",
       "      <th>song_name</th>\n",
       "      <th>song_ID</th>\n",
       "      <th>song_artist</th>\n",
       "      <th>Genre</th>\n",
       "    </tr>\n",
       "  </thead>\n",
       "  <tbody>\n",
       "    <tr>\n",
       "      <th>0</th>\n",
       "      <td>Cayo</td>\n",
       "      <td>6p8cuVRnfBv4C6dhvYua5i</td>\n",
       "      <td>Chancla</td>\n",
       "      <td>Jazz</td>\n",
       "    </tr>\n",
       "    <tr>\n",
       "      <th>1</th>\n",
       "      <td>Space Travels</td>\n",
       "      <td>188TF9y7eulHH0tKVZ6jxz</td>\n",
       "      <td>Mr. Käfer</td>\n",
       "      <td>Jazz</td>\n",
       "    </tr>\n",
       "    <tr>\n",
       "      <th>2</th>\n",
       "      <td>Río Ocho</td>\n",
       "      <td>1cpPta2P0aGxUn6F6Up96n</td>\n",
       "      <td>Pachakuti</td>\n",
       "      <td>Jazz</td>\n",
       "    </tr>\n",
       "    <tr>\n",
       "      <th>3</th>\n",
       "      <td>Bob's Law</td>\n",
       "      <td>4he3FjvSZ2owAuGGtb5Jt5</td>\n",
       "      <td>Pawcut</td>\n",
       "      <td>Jazz</td>\n",
       "    </tr>\n",
       "    <tr>\n",
       "      <th>4</th>\n",
       "      <td>Dolce</td>\n",
       "      <td>2aXOl6fv48QvOFI2WxV4JZ</td>\n",
       "      <td>Lazlow</td>\n",
       "      <td>Jazz</td>\n",
       "    </tr>\n",
       "    <tr>\n",
       "      <th>...</th>\n",
       "      <td>...</td>\n",
       "      <td>...</td>\n",
       "      <td>...</td>\n",
       "      <td>...</td>\n",
       "    </tr>\n",
       "    <tr>\n",
       "      <th>295</th>\n",
       "      <td>Yellow Napkins</td>\n",
       "      <td>72AJ5sfLfwtKHiQnUeB7rV</td>\n",
       "      <td>JAY VANILLA</td>\n",
       "      <td>Jazz</td>\n",
       "    </tr>\n",
       "    <tr>\n",
       "      <th>296</th>\n",
       "      <td>Profesor</td>\n",
       "      <td>70A2dr0LJoFAmplOmYqdkn</td>\n",
       "      <td>Chancla</td>\n",
       "      <td>Jazz</td>\n",
       "    </tr>\n",
       "    <tr>\n",
       "      <th>297</th>\n",
       "      <td>Midnight Stroll</td>\n",
       "      <td>00oSY6ZhNBI9uDf45e6VMw</td>\n",
       "      <td>CMJ</td>\n",
       "      <td>Jazz</td>\n",
       "    </tr>\n",
       "    <tr>\n",
       "      <th>298</th>\n",
       "      <td>Good Life</td>\n",
       "      <td>5BPKNG6yHbj0Q2W6ksMbbH</td>\n",
       "      <td>Phlocalyst</td>\n",
       "      <td>Jazz</td>\n",
       "    </tr>\n",
       "    <tr>\n",
       "      <th>299</th>\n",
       "      <td>Getting Closer</td>\n",
       "      <td>3bhGeD1hIsQK4zIH4VRBoy</td>\n",
       "      <td>Birds Of The West</td>\n",
       "      <td>Jazz</td>\n",
       "    </tr>\n",
       "  </tbody>\n",
       "</table>\n",
       "<p>300 rows × 4 columns</p>\n",
       "</div>"
      ],
      "text/plain": [
       "           song_name                 song_ID        song_artist Genre\n",
       "0               Cayo  6p8cuVRnfBv4C6dhvYua5i            Chancla  Jazz\n",
       "1      Space Travels  188TF9y7eulHH0tKVZ6jxz          Mr. Käfer  Jazz\n",
       "2           Río Ocho  1cpPta2P0aGxUn6F6Up96n          Pachakuti  Jazz\n",
       "3          Bob's Law  4he3FjvSZ2owAuGGtb5Jt5             Pawcut  Jazz\n",
       "4              Dolce  2aXOl6fv48QvOFI2WxV4JZ             Lazlow  Jazz\n",
       "..               ...                     ...                ...   ...\n",
       "295   Yellow Napkins  72AJ5sfLfwtKHiQnUeB7rV        JAY VANILLA  Jazz\n",
       "296         Profesor  70A2dr0LJoFAmplOmYqdkn            Chancla  Jazz\n",
       "297  Midnight Stroll  00oSY6ZhNBI9uDf45e6VMw                CMJ  Jazz\n",
       "298        Good Life  5BPKNG6yHbj0Q2W6ksMbbH         Phlocalyst  Jazz\n",
       "299   Getting Closer  3bhGeD1hIsQK4zIH4VRBoy  Birds Of The West  Jazz\n",
       "\n",
       "[300 rows x 4 columns]"
      ]
     },
     "execution_count": 169,
     "metadata": {},
     "output_type": "execute_result"
    }
   ],
   "source": [
    "playlist_jazz_info"
   ]
  },
  {
   "cell_type": "code",
   "execution_count": null,
   "id": "d6a52feb",
   "metadata": {},
   "outputs": [],
   "source": []
  },
  {
   "cell_type": "code",
   "execution_count": null,
   "id": "47f86900",
   "metadata": {},
   "outputs": [],
   "source": []
  },
  {
   "cell_type": "markdown",
   "id": "6482766e",
   "metadata": {},
   "source": [
    "## Joining all the dataframes into 1"
   ]
  },
  {
   "cell_type": "code",
   "execution_count": 170,
   "id": "aab6cfa8",
   "metadata": {},
   "outputs": [],
   "source": [
    "frames=[playlist_indie_info, playlist_pop_info, playlist_rock_info, \n",
    "        playlist_tropical_info, playlist_hiphop_info\n",
    "       ,playlist_latin_info,playlist_spanish_info,\n",
    "       playlist_jazz_info]\n",
    "big_df=pd.concat(frames, axis=0)"
   ]
  },
  {
   "cell_type": "code",
   "execution_count": 171,
   "id": "f38e428f",
   "metadata": {
    "scrolled": true
   },
   "outputs": [
    {
     "data": {
      "text/html": [
       "<div>\n",
       "<style scoped>\n",
       "    .dataframe tbody tr th:only-of-type {\n",
       "        vertical-align: middle;\n",
       "    }\n",
       "\n",
       "    .dataframe tbody tr th {\n",
       "        vertical-align: top;\n",
       "    }\n",
       "\n",
       "    .dataframe thead th {\n",
       "        text-align: right;\n",
       "    }\n",
       "</style>\n",
       "<table border=\"1\" class=\"dataframe\">\n",
       "  <thead>\n",
       "    <tr style=\"text-align: right;\">\n",
       "      <th></th>\n",
       "      <th>song_name</th>\n",
       "      <th>song_ID</th>\n",
       "      <th>song_artist</th>\n",
       "      <th>Genre</th>\n",
       "    </tr>\n",
       "  </thead>\n",
       "  <tbody>\n",
       "    <tr>\n",
       "      <th>0</th>\n",
       "      <td>Beggin'</td>\n",
       "      <td>3Wrjm47oTz2sjIgck11l5e</td>\n",
       "      <td>Måneskin</td>\n",
       "      <td>Indie</td>\n",
       "    </tr>\n",
       "    <tr>\n",
       "      <th>1</th>\n",
       "      <td>The Less I Know The Better</td>\n",
       "      <td>4g3Ax56IslQkI6XVfYKVc5</td>\n",
       "      <td>Tame Impala</td>\n",
       "      <td>Indie</td>\n",
       "    </tr>\n",
       "    <tr>\n",
       "      <th>2</th>\n",
       "      <td>Mr. Brightside</td>\n",
       "      <td>3n3Ppam7vgaVa1iaRUc9Lp</td>\n",
       "      <td>The Killers</td>\n",
       "      <td>Indie</td>\n",
       "    </tr>\n",
       "    <tr>\n",
       "      <th>3</th>\n",
       "      <td>Boys Don't Cry</td>\n",
       "      <td>1QFh8OH1e78dGd3VyJZCAC</td>\n",
       "      <td>The Cure</td>\n",
       "      <td>Indie</td>\n",
       "    </tr>\n",
       "    <tr>\n",
       "      <th>4</th>\n",
       "      <td>A-Punk</td>\n",
       "      <td>5dKBaysNJtfpyNTRa5lqDb</td>\n",
       "      <td>Vampire Weekend</td>\n",
       "      <td>Indie</td>\n",
       "    </tr>\n",
       "    <tr>\n",
       "      <th>...</th>\n",
       "      <td>...</td>\n",
       "      <td>...</td>\n",
       "      <td>...</td>\n",
       "      <td>...</td>\n",
       "    </tr>\n",
       "    <tr>\n",
       "      <th>295</th>\n",
       "      <td>Yellow Napkins</td>\n",
       "      <td>72AJ5sfLfwtKHiQnUeB7rV</td>\n",
       "      <td>JAY VANILLA</td>\n",
       "      <td>Jazz</td>\n",
       "    </tr>\n",
       "    <tr>\n",
       "      <th>296</th>\n",
       "      <td>Profesor</td>\n",
       "      <td>70A2dr0LJoFAmplOmYqdkn</td>\n",
       "      <td>Chancla</td>\n",
       "      <td>Jazz</td>\n",
       "    </tr>\n",
       "    <tr>\n",
       "      <th>297</th>\n",
       "      <td>Midnight Stroll</td>\n",
       "      <td>00oSY6ZhNBI9uDf45e6VMw</td>\n",
       "      <td>CMJ</td>\n",
       "      <td>Jazz</td>\n",
       "    </tr>\n",
       "    <tr>\n",
       "      <th>298</th>\n",
       "      <td>Good Life</td>\n",
       "      <td>5BPKNG6yHbj0Q2W6ksMbbH</td>\n",
       "      <td>Phlocalyst</td>\n",
       "      <td>Jazz</td>\n",
       "    </tr>\n",
       "    <tr>\n",
       "      <th>299</th>\n",
       "      <td>Getting Closer</td>\n",
       "      <td>3bhGeD1hIsQK4zIH4VRBoy</td>\n",
       "      <td>Birds Of The West</td>\n",
       "      <td>Jazz</td>\n",
       "    </tr>\n",
       "  </tbody>\n",
       "</table>\n",
       "<p>2436 rows × 4 columns</p>\n",
       "</div>"
      ],
      "text/plain": [
       "                      song_name                 song_ID        song_artist  \\\n",
       "0                       Beggin'  3Wrjm47oTz2sjIgck11l5e           Måneskin   \n",
       "1    The Less I Know The Better  4g3Ax56IslQkI6XVfYKVc5        Tame Impala   \n",
       "2                Mr. Brightside  3n3Ppam7vgaVa1iaRUc9Lp        The Killers   \n",
       "3                Boys Don't Cry  1QFh8OH1e78dGd3VyJZCAC           The Cure   \n",
       "4                        A-Punk  5dKBaysNJtfpyNTRa5lqDb    Vampire Weekend   \n",
       "..                          ...                     ...                ...   \n",
       "295              Yellow Napkins  72AJ5sfLfwtKHiQnUeB7rV        JAY VANILLA   \n",
       "296                    Profesor  70A2dr0LJoFAmplOmYqdkn            Chancla   \n",
       "297             Midnight Stroll  00oSY6ZhNBI9uDf45e6VMw                CMJ   \n",
       "298                   Good Life  5BPKNG6yHbj0Q2W6ksMbbH         Phlocalyst   \n",
       "299              Getting Closer  3bhGeD1hIsQK4zIH4VRBoy  Birds Of The West   \n",
       "\n",
       "     Genre  \n",
       "0    Indie  \n",
       "1    Indie  \n",
       "2    Indie  \n",
       "3    Indie  \n",
       "4    Indie  \n",
       "..     ...  \n",
       "295   Jazz  \n",
       "296   Jazz  \n",
       "297   Jazz  \n",
       "298   Jazz  \n",
       "299   Jazz  \n",
       "\n",
       "[2436 rows x 4 columns]"
      ]
     },
     "execution_count": 171,
     "metadata": {},
     "output_type": "execute_result"
    }
   ],
   "source": [
    "big_df"
   ]
  },
  {
   "cell_type": "code",
   "execution_count": 172,
   "id": "3fded78c",
   "metadata": {},
   "outputs": [],
   "source": [
    "## reseting the index so the rows appear correctly\n",
    "\n",
    "big_df.reset_index(drop=True, inplace=True)"
   ]
  },
  {
   "cell_type": "code",
   "execution_count": 173,
   "id": "59d62606",
   "metadata": {
    "scrolled": true
   },
   "outputs": [
    {
     "data": {
      "text/html": [
       "<div>\n",
       "<style scoped>\n",
       "    .dataframe tbody tr th:only-of-type {\n",
       "        vertical-align: middle;\n",
       "    }\n",
       "\n",
       "    .dataframe tbody tr th {\n",
       "        vertical-align: top;\n",
       "    }\n",
       "\n",
       "    .dataframe thead th {\n",
       "        text-align: right;\n",
       "    }\n",
       "</style>\n",
       "<table border=\"1\" class=\"dataframe\">\n",
       "  <thead>\n",
       "    <tr style=\"text-align: right;\">\n",
       "      <th></th>\n",
       "      <th>song_name</th>\n",
       "      <th>song_ID</th>\n",
       "      <th>song_artist</th>\n",
       "      <th>Genre</th>\n",
       "    </tr>\n",
       "  </thead>\n",
       "  <tbody>\n",
       "    <tr>\n",
       "      <th>0</th>\n",
       "      <td>Beggin'</td>\n",
       "      <td>3Wrjm47oTz2sjIgck11l5e</td>\n",
       "      <td>Måneskin</td>\n",
       "      <td>Indie</td>\n",
       "    </tr>\n",
       "    <tr>\n",
       "      <th>1</th>\n",
       "      <td>The Less I Know The Better</td>\n",
       "      <td>4g3Ax56IslQkI6XVfYKVc5</td>\n",
       "      <td>Tame Impala</td>\n",
       "      <td>Indie</td>\n",
       "    </tr>\n",
       "    <tr>\n",
       "      <th>2</th>\n",
       "      <td>Mr. Brightside</td>\n",
       "      <td>3n3Ppam7vgaVa1iaRUc9Lp</td>\n",
       "      <td>The Killers</td>\n",
       "      <td>Indie</td>\n",
       "    </tr>\n",
       "    <tr>\n",
       "      <th>3</th>\n",
       "      <td>Boys Don't Cry</td>\n",
       "      <td>1QFh8OH1e78dGd3VyJZCAC</td>\n",
       "      <td>The Cure</td>\n",
       "      <td>Indie</td>\n",
       "    </tr>\n",
       "    <tr>\n",
       "      <th>4</th>\n",
       "      <td>A-Punk</td>\n",
       "      <td>5dKBaysNJtfpyNTRa5lqDb</td>\n",
       "      <td>Vampire Weekend</td>\n",
       "      <td>Indie</td>\n",
       "    </tr>\n",
       "    <tr>\n",
       "      <th>...</th>\n",
       "      <td>...</td>\n",
       "      <td>...</td>\n",
       "      <td>...</td>\n",
       "      <td>...</td>\n",
       "    </tr>\n",
       "    <tr>\n",
       "      <th>2431</th>\n",
       "      <td>Yellow Napkins</td>\n",
       "      <td>72AJ5sfLfwtKHiQnUeB7rV</td>\n",
       "      <td>JAY VANILLA</td>\n",
       "      <td>Jazz</td>\n",
       "    </tr>\n",
       "    <tr>\n",
       "      <th>2432</th>\n",
       "      <td>Profesor</td>\n",
       "      <td>70A2dr0LJoFAmplOmYqdkn</td>\n",
       "      <td>Chancla</td>\n",
       "      <td>Jazz</td>\n",
       "    </tr>\n",
       "    <tr>\n",
       "      <th>2433</th>\n",
       "      <td>Midnight Stroll</td>\n",
       "      <td>00oSY6ZhNBI9uDf45e6VMw</td>\n",
       "      <td>CMJ</td>\n",
       "      <td>Jazz</td>\n",
       "    </tr>\n",
       "    <tr>\n",
       "      <th>2434</th>\n",
       "      <td>Good Life</td>\n",
       "      <td>5BPKNG6yHbj0Q2W6ksMbbH</td>\n",
       "      <td>Phlocalyst</td>\n",
       "      <td>Jazz</td>\n",
       "    </tr>\n",
       "    <tr>\n",
       "      <th>2435</th>\n",
       "      <td>Getting Closer</td>\n",
       "      <td>3bhGeD1hIsQK4zIH4VRBoy</td>\n",
       "      <td>Birds Of The West</td>\n",
       "      <td>Jazz</td>\n",
       "    </tr>\n",
       "  </tbody>\n",
       "</table>\n",
       "<p>2436 rows × 4 columns</p>\n",
       "</div>"
      ],
      "text/plain": [
       "                       song_name                 song_ID        song_artist  \\\n",
       "0                        Beggin'  3Wrjm47oTz2sjIgck11l5e           Måneskin   \n",
       "1     The Less I Know The Better  4g3Ax56IslQkI6XVfYKVc5        Tame Impala   \n",
       "2                 Mr. Brightside  3n3Ppam7vgaVa1iaRUc9Lp        The Killers   \n",
       "3                 Boys Don't Cry  1QFh8OH1e78dGd3VyJZCAC           The Cure   \n",
       "4                         A-Punk  5dKBaysNJtfpyNTRa5lqDb    Vampire Weekend   \n",
       "...                          ...                     ...                ...   \n",
       "2431              Yellow Napkins  72AJ5sfLfwtKHiQnUeB7rV        JAY VANILLA   \n",
       "2432                    Profesor  70A2dr0LJoFAmplOmYqdkn            Chancla   \n",
       "2433             Midnight Stroll  00oSY6ZhNBI9uDf45e6VMw                CMJ   \n",
       "2434                   Good Life  5BPKNG6yHbj0Q2W6ksMbbH         Phlocalyst   \n",
       "2435              Getting Closer  3bhGeD1hIsQK4zIH4VRBoy  Birds Of The West   \n",
       "\n",
       "      Genre  \n",
       "0     Indie  \n",
       "1     Indie  \n",
       "2     Indie  \n",
       "3     Indie  \n",
       "4     Indie  \n",
       "...     ...  \n",
       "2431   Jazz  \n",
       "2432   Jazz  \n",
       "2433   Jazz  \n",
       "2434   Jazz  \n",
       "2435   Jazz  \n",
       "\n",
       "[2436 rows x 4 columns]"
      ]
     },
     "execution_count": 173,
     "metadata": {},
     "output_type": "execute_result"
    }
   ],
   "source": [
    "big_df"
   ]
  },
  {
   "cell_type": "code",
   "execution_count": 174,
   "id": "7f75e816",
   "metadata": {},
   "outputs": [
    {
     "name": "stdout",
     "output_type": "stream",
     "text": [
      "<class 'pandas.core.frame.DataFrame'>\n",
      "RangeIndex: 2436 entries, 0 to 2435\n",
      "Data columns (total 4 columns):\n",
      " #   Column       Non-Null Count  Dtype \n",
      "---  ------       --------------  ----- \n",
      " 0   song_name    2436 non-null   object\n",
      " 1   song_ID      2436 non-null   object\n",
      " 2   song_artist  2436 non-null   object\n",
      " 3   Genre        2436 non-null   object\n",
      "dtypes: object(4)\n",
      "memory usage: 76.2+ KB\n"
     ]
    }
   ],
   "source": [
    "big_df.info()"
   ]
  },
  {
   "cell_type": "code",
   "execution_count": null,
   "id": "51e802f7",
   "metadata": {},
   "outputs": [],
   "source": []
  },
  {
   "cell_type": "code",
   "execution_count": null,
   "id": "3d8d7ee2",
   "metadata": {},
   "outputs": [],
   "source": []
  },
  {
   "cell_type": "markdown",
   "id": "c3ea03e9",
   "metadata": {},
   "source": [
    "# Audio features"
   ]
  },
  {
   "cell_type": "code",
   "execution_count": 175,
   "id": "59a6a001",
   "metadata": {},
   "outputs": [],
   "source": [
    "from tqdm.notebook import tqdm"
   ]
  },
  {
   "cell_type": "code",
   "execution_count": 176,
   "id": "5abe88dc",
   "metadata": {},
   "outputs": [
    {
     "data": {
      "application/vnd.jupyter.widget-view+json": {
       "model_id": "518c1383a4d441a1a279db518eecc2fe",
       "version_major": 2,
       "version_minor": 0
      },
      "text/plain": [
       "  0%|          | 0/2436 [00:00<?, ?it/s]"
      ]
     },
     "metadata": {},
     "output_type": "display_data"
    }
   ],
   "source": [
    "feats=[]\n",
    "\n",
    "for song_ID in tqdm(range(len(big_df))):\n",
    "    feats.extend(sp.audio_features(tracks=big_df['song_ID'][song_ID]))"
   ]
  },
  {
   "cell_type": "raw",
   "id": "fa27067d",
   "metadata": {},
   "source": [
    "feats"
   ]
  },
  {
   "cell_type": "code",
   "execution_count": 178,
   "id": "868f9390",
   "metadata": {},
   "outputs": [
    {
     "data": {
      "text/plain": [
       "dict_keys(['danceability', 'energy', 'key', 'loudness', 'mode', 'speechiness', 'acousticness', 'instrumentalness', 'liveness', 'valence', 'tempo', 'type', 'id', 'uri', 'track_href', 'analysis_url', 'duration_ms', 'time_signature'])"
      ]
     },
     "execution_count": 178,
     "metadata": {},
     "output_type": "execute_result"
    }
   ],
   "source": [
    "feats[0].keys()"
   ]
  },
  {
   "cell_type": "code",
   "execution_count": 179,
   "id": "e2f88611",
   "metadata": {},
   "outputs": [],
   "source": [
    "feats_df=pd.DataFrame(feats)"
   ]
  },
  {
   "cell_type": "code",
   "execution_count": 180,
   "id": "b716fe2d",
   "metadata": {},
   "outputs": [
    {
     "data": {
      "text/html": [
       "<div>\n",
       "<style scoped>\n",
       "    .dataframe tbody tr th:only-of-type {\n",
       "        vertical-align: middle;\n",
       "    }\n",
       "\n",
       "    .dataframe tbody tr th {\n",
       "        vertical-align: top;\n",
       "    }\n",
       "\n",
       "    .dataframe thead th {\n",
       "        text-align: right;\n",
       "    }\n",
       "</style>\n",
       "<table border=\"1\" class=\"dataframe\">\n",
       "  <thead>\n",
       "    <tr style=\"text-align: right;\">\n",
       "      <th></th>\n",
       "      <th>danceability</th>\n",
       "      <th>energy</th>\n",
       "      <th>key</th>\n",
       "      <th>loudness</th>\n",
       "      <th>mode</th>\n",
       "      <th>speechiness</th>\n",
       "      <th>acousticness</th>\n",
       "      <th>instrumentalness</th>\n",
       "      <th>liveness</th>\n",
       "      <th>valence</th>\n",
       "      <th>tempo</th>\n",
       "      <th>type</th>\n",
       "      <th>id</th>\n",
       "      <th>uri</th>\n",
       "      <th>track_href</th>\n",
       "      <th>analysis_url</th>\n",
       "      <th>duration_ms</th>\n",
       "      <th>time_signature</th>\n",
       "    </tr>\n",
       "  </thead>\n",
       "  <tbody>\n",
       "    <tr>\n",
       "      <th>0</th>\n",
       "      <td>0.714</td>\n",
       "      <td>0.800</td>\n",
       "      <td>11</td>\n",
       "      <td>-4.808</td>\n",
       "      <td>0</td>\n",
       "      <td>0.0504</td>\n",
       "      <td>0.12700</td>\n",
       "      <td>0.0000</td>\n",
       "      <td>0.3590</td>\n",
       "      <td>0.589</td>\n",
       "      <td>134.002</td>\n",
       "      <td>audio_features</td>\n",
       "      <td>3Wrjm47oTz2sjIgck11l5e</td>\n",
       "      <td>spotify:track:3Wrjm47oTz2sjIgck11l5e</td>\n",
       "      <td>https://api.spotify.com/v1/tracks/3Wrjm47oTz2s...</td>\n",
       "      <td>https://api.spotify.com/v1/audio-analysis/3Wrj...</td>\n",
       "      <td>211560</td>\n",
       "      <td>4</td>\n",
       "    </tr>\n",
       "    <tr>\n",
       "      <th>1</th>\n",
       "      <td>0.640</td>\n",
       "      <td>0.755</td>\n",
       "      <td>1</td>\n",
       "      <td>-4.077</td>\n",
       "      <td>0</td>\n",
       "      <td>0.0287</td>\n",
       "      <td>0.01380</td>\n",
       "      <td>0.0208</td>\n",
       "      <td>0.1200</td>\n",
       "      <td>0.744</td>\n",
       "      <td>116.883</td>\n",
       "      <td>audio_features</td>\n",
       "      <td>4g3Ax56IslQkI6XVfYKVc5</td>\n",
       "      <td>spotify:track:4g3Ax56IslQkI6XVfYKVc5</td>\n",
       "      <td>https://api.spotify.com/v1/tracks/4g3Ax56IslQk...</td>\n",
       "      <td>https://api.spotify.com/v1/audio-analysis/4g3A...</td>\n",
       "      <td>216319</td>\n",
       "      <td>4</td>\n",
       "    </tr>\n",
       "    <tr>\n",
       "      <th>2</th>\n",
       "      <td>0.355</td>\n",
       "      <td>0.918</td>\n",
       "      <td>1</td>\n",
       "      <td>-4.360</td>\n",
       "      <td>1</td>\n",
       "      <td>0.0746</td>\n",
       "      <td>0.00119</td>\n",
       "      <td>0.0000</td>\n",
       "      <td>0.0971</td>\n",
       "      <td>0.240</td>\n",
       "      <td>148.114</td>\n",
       "      <td>audio_features</td>\n",
       "      <td>3n3Ppam7vgaVa1iaRUc9Lp</td>\n",
       "      <td>spotify:track:3n3Ppam7vgaVa1iaRUc9Lp</td>\n",
       "      <td>https://api.spotify.com/v1/tracks/3n3Ppam7vgaV...</td>\n",
       "      <td>https://api.spotify.com/v1/audio-analysis/3n3P...</td>\n",
       "      <td>222200</td>\n",
       "      <td>4</td>\n",
       "    </tr>\n",
       "    <tr>\n",
       "      <th>3</th>\n",
       "      <td>0.462</td>\n",
       "      <td>0.836</td>\n",
       "      <td>11</td>\n",
       "      <td>-5.766</td>\n",
       "      <td>0</td>\n",
       "      <td>0.0621</td>\n",
       "      <td>0.00517</td>\n",
       "      <td>0.0000</td>\n",
       "      <td>0.1800</td>\n",
       "      <td>0.671</td>\n",
       "      <td>168.766</td>\n",
       "      <td>audio_features</td>\n",
       "      <td>1QFh8OH1e78dGd3VyJZCAC</td>\n",
       "      <td>spotify:track:1QFh8OH1e78dGd3VyJZCAC</td>\n",
       "      <td>https://api.spotify.com/v1/tracks/1QFh8OH1e78d...</td>\n",
       "      <td>https://api.spotify.com/v1/audio-analysis/1QFh...</td>\n",
       "      <td>155973</td>\n",
       "      <td>4</td>\n",
       "    </tr>\n",
       "    <tr>\n",
       "      <th>4</th>\n",
       "      <td>0.551</td>\n",
       "      <td>0.821</td>\n",
       "      <td>2</td>\n",
       "      <td>-4.489</td>\n",
       "      <td>1</td>\n",
       "      <td>0.0539</td>\n",
       "      <td>0.01020</td>\n",
       "      <td>0.0438</td>\n",
       "      <td>0.1530</td>\n",
       "      <td>0.842</td>\n",
       "      <td>174.923</td>\n",
       "      <td>audio_features</td>\n",
       "      <td>5dKBaysNJtfpyNTRa5lqDb</td>\n",
       "      <td>spotify:track:5dKBaysNJtfpyNTRa5lqDb</td>\n",
       "      <td>https://api.spotify.com/v1/tracks/5dKBaysNJtfp...</td>\n",
       "      <td>https://api.spotify.com/v1/audio-analysis/5dKB...</td>\n",
       "      <td>137760</td>\n",
       "      <td>4</td>\n",
       "    </tr>\n",
       "    <tr>\n",
       "      <th>...</th>\n",
       "      <td>...</td>\n",
       "      <td>...</td>\n",
       "      <td>...</td>\n",
       "      <td>...</td>\n",
       "      <td>...</td>\n",
       "      <td>...</td>\n",
       "      <td>...</td>\n",
       "      <td>...</td>\n",
       "      <td>...</td>\n",
       "      <td>...</td>\n",
       "      <td>...</td>\n",
       "      <td>...</td>\n",
       "      <td>...</td>\n",
       "      <td>...</td>\n",
       "      <td>...</td>\n",
       "      <td>...</td>\n",
       "      <td>...</td>\n",
       "      <td>...</td>\n",
       "    </tr>\n",
       "    <tr>\n",
       "      <th>2431</th>\n",
       "      <td>0.752</td>\n",
       "      <td>0.401</td>\n",
       "      <td>7</td>\n",
       "      <td>-6.086</td>\n",
       "      <td>0</td>\n",
       "      <td>0.5120</td>\n",
       "      <td>0.95000</td>\n",
       "      <td>0.0394</td>\n",
       "      <td>0.1270</td>\n",
       "      <td>0.926</td>\n",
       "      <td>81.718</td>\n",
       "      <td>audio_features</td>\n",
       "      <td>72AJ5sfLfwtKHiQnUeB7rV</td>\n",
       "      <td>spotify:track:72AJ5sfLfwtKHiQnUeB7rV</td>\n",
       "      <td>https://api.spotify.com/v1/tracks/72AJ5sfLfwtK...</td>\n",
       "      <td>https://api.spotify.com/v1/audio-analysis/72AJ...</td>\n",
       "      <td>99787</td>\n",
       "      <td>4</td>\n",
       "    </tr>\n",
       "    <tr>\n",
       "      <th>2432</th>\n",
       "      <td>0.831</td>\n",
       "      <td>0.423</td>\n",
       "      <td>10</td>\n",
       "      <td>-5.961</td>\n",
       "      <td>0</td>\n",
       "      <td>0.0616</td>\n",
       "      <td>0.21000</td>\n",
       "      <td>0.9330</td>\n",
       "      <td>0.0703</td>\n",
       "      <td>0.853</td>\n",
       "      <td>82.018</td>\n",
       "      <td>audio_features</td>\n",
       "      <td>70A2dr0LJoFAmplOmYqdkn</td>\n",
       "      <td>spotify:track:70A2dr0LJoFAmplOmYqdkn</td>\n",
       "      <td>https://api.spotify.com/v1/tracks/70A2dr0LJoFA...</td>\n",
       "      <td>https://api.spotify.com/v1/audio-analysis/70A2...</td>\n",
       "      <td>168705</td>\n",
       "      <td>4</td>\n",
       "    </tr>\n",
       "    <tr>\n",
       "      <th>2433</th>\n",
       "      <td>0.709</td>\n",
       "      <td>0.208</td>\n",
       "      <td>11</td>\n",
       "      <td>-18.080</td>\n",
       "      <td>0</td>\n",
       "      <td>0.1060</td>\n",
       "      <td>0.64500</td>\n",
       "      <td>0.7430</td>\n",
       "      <td>0.0907</td>\n",
       "      <td>0.428</td>\n",
       "      <td>173.993</td>\n",
       "      <td>audio_features</td>\n",
       "      <td>00oSY6ZhNBI9uDf45e6VMw</td>\n",
       "      <td>spotify:track:00oSY6ZhNBI9uDf45e6VMw</td>\n",
       "      <td>https://api.spotify.com/v1/tracks/00oSY6ZhNBI9...</td>\n",
       "      <td>https://api.spotify.com/v1/audio-analysis/00oS...</td>\n",
       "      <td>132414</td>\n",
       "      <td>4</td>\n",
       "    </tr>\n",
       "    <tr>\n",
       "      <th>2434</th>\n",
       "      <td>0.809</td>\n",
       "      <td>0.333</td>\n",
       "      <td>5</td>\n",
       "      <td>-11.839</td>\n",
       "      <td>0</td>\n",
       "      <td>0.0397</td>\n",
       "      <td>0.73500</td>\n",
       "      <td>0.9140</td>\n",
       "      <td>0.1110</td>\n",
       "      <td>0.610</td>\n",
       "      <td>89.946</td>\n",
       "      <td>audio_features</td>\n",
       "      <td>5BPKNG6yHbj0Q2W6ksMbbH</td>\n",
       "      <td>spotify:track:5BPKNG6yHbj0Q2W6ksMbbH</td>\n",
       "      <td>https://api.spotify.com/v1/tracks/5BPKNG6yHbj0...</td>\n",
       "      <td>https://api.spotify.com/v1/audio-analysis/5BPK...</td>\n",
       "      <td>140633</td>\n",
       "      <td>4</td>\n",
       "    </tr>\n",
       "    <tr>\n",
       "      <th>2435</th>\n",
       "      <td>0.771</td>\n",
       "      <td>0.675</td>\n",
       "      <td>10</td>\n",
       "      <td>-5.126</td>\n",
       "      <td>0</td>\n",
       "      <td>0.0912</td>\n",
       "      <td>0.63900</td>\n",
       "      <td>0.9500</td>\n",
       "      <td>0.0873</td>\n",
       "      <td>0.694</td>\n",
       "      <td>85.097</td>\n",
       "      <td>audio_features</td>\n",
       "      <td>3bhGeD1hIsQK4zIH4VRBoy</td>\n",
       "      <td>spotify:track:3bhGeD1hIsQK4zIH4VRBoy</td>\n",
       "      <td>https://api.spotify.com/v1/tracks/3bhGeD1hIsQK...</td>\n",
       "      <td>https://api.spotify.com/v1/audio-analysis/3bhG...</td>\n",
       "      <td>163765</td>\n",
       "      <td>4</td>\n",
       "    </tr>\n",
       "  </tbody>\n",
       "</table>\n",
       "<p>2436 rows × 18 columns</p>\n",
       "</div>"
      ],
      "text/plain": [
       "      danceability  energy  key  loudness  mode  speechiness  acousticness  \\\n",
       "0            0.714   0.800   11    -4.808     0       0.0504       0.12700   \n",
       "1            0.640   0.755    1    -4.077     0       0.0287       0.01380   \n",
       "2            0.355   0.918    1    -4.360     1       0.0746       0.00119   \n",
       "3            0.462   0.836   11    -5.766     0       0.0621       0.00517   \n",
       "4            0.551   0.821    2    -4.489     1       0.0539       0.01020   \n",
       "...            ...     ...  ...       ...   ...          ...           ...   \n",
       "2431         0.752   0.401    7    -6.086     0       0.5120       0.95000   \n",
       "2432         0.831   0.423   10    -5.961     0       0.0616       0.21000   \n",
       "2433         0.709   0.208   11   -18.080     0       0.1060       0.64500   \n",
       "2434         0.809   0.333    5   -11.839     0       0.0397       0.73500   \n",
       "2435         0.771   0.675   10    -5.126     0       0.0912       0.63900   \n",
       "\n",
       "      instrumentalness  liveness  valence    tempo            type  \\\n",
       "0               0.0000    0.3590    0.589  134.002  audio_features   \n",
       "1               0.0208    0.1200    0.744  116.883  audio_features   \n",
       "2               0.0000    0.0971    0.240  148.114  audio_features   \n",
       "3               0.0000    0.1800    0.671  168.766  audio_features   \n",
       "4               0.0438    0.1530    0.842  174.923  audio_features   \n",
       "...                ...       ...      ...      ...             ...   \n",
       "2431            0.0394    0.1270    0.926   81.718  audio_features   \n",
       "2432            0.9330    0.0703    0.853   82.018  audio_features   \n",
       "2433            0.7430    0.0907    0.428  173.993  audio_features   \n",
       "2434            0.9140    0.1110    0.610   89.946  audio_features   \n",
       "2435            0.9500    0.0873    0.694   85.097  audio_features   \n",
       "\n",
       "                          id                                   uri  \\\n",
       "0     3Wrjm47oTz2sjIgck11l5e  spotify:track:3Wrjm47oTz2sjIgck11l5e   \n",
       "1     4g3Ax56IslQkI6XVfYKVc5  spotify:track:4g3Ax56IslQkI6XVfYKVc5   \n",
       "2     3n3Ppam7vgaVa1iaRUc9Lp  spotify:track:3n3Ppam7vgaVa1iaRUc9Lp   \n",
       "3     1QFh8OH1e78dGd3VyJZCAC  spotify:track:1QFh8OH1e78dGd3VyJZCAC   \n",
       "4     5dKBaysNJtfpyNTRa5lqDb  spotify:track:5dKBaysNJtfpyNTRa5lqDb   \n",
       "...                      ...                                   ...   \n",
       "2431  72AJ5sfLfwtKHiQnUeB7rV  spotify:track:72AJ5sfLfwtKHiQnUeB7rV   \n",
       "2432  70A2dr0LJoFAmplOmYqdkn  spotify:track:70A2dr0LJoFAmplOmYqdkn   \n",
       "2433  00oSY6ZhNBI9uDf45e6VMw  spotify:track:00oSY6ZhNBI9uDf45e6VMw   \n",
       "2434  5BPKNG6yHbj0Q2W6ksMbbH  spotify:track:5BPKNG6yHbj0Q2W6ksMbbH   \n",
       "2435  3bhGeD1hIsQK4zIH4VRBoy  spotify:track:3bhGeD1hIsQK4zIH4VRBoy   \n",
       "\n",
       "                                             track_href  \\\n",
       "0     https://api.spotify.com/v1/tracks/3Wrjm47oTz2s...   \n",
       "1     https://api.spotify.com/v1/tracks/4g3Ax56IslQk...   \n",
       "2     https://api.spotify.com/v1/tracks/3n3Ppam7vgaV...   \n",
       "3     https://api.spotify.com/v1/tracks/1QFh8OH1e78d...   \n",
       "4     https://api.spotify.com/v1/tracks/5dKBaysNJtfp...   \n",
       "...                                                 ...   \n",
       "2431  https://api.spotify.com/v1/tracks/72AJ5sfLfwtK...   \n",
       "2432  https://api.spotify.com/v1/tracks/70A2dr0LJoFA...   \n",
       "2433  https://api.spotify.com/v1/tracks/00oSY6ZhNBI9...   \n",
       "2434  https://api.spotify.com/v1/tracks/5BPKNG6yHbj0...   \n",
       "2435  https://api.spotify.com/v1/tracks/3bhGeD1hIsQK...   \n",
       "\n",
       "                                           analysis_url  duration_ms  \\\n",
       "0     https://api.spotify.com/v1/audio-analysis/3Wrj...       211560   \n",
       "1     https://api.spotify.com/v1/audio-analysis/4g3A...       216319   \n",
       "2     https://api.spotify.com/v1/audio-analysis/3n3P...       222200   \n",
       "3     https://api.spotify.com/v1/audio-analysis/1QFh...       155973   \n",
       "4     https://api.spotify.com/v1/audio-analysis/5dKB...       137760   \n",
       "...                                                 ...          ...   \n",
       "2431  https://api.spotify.com/v1/audio-analysis/72AJ...        99787   \n",
       "2432  https://api.spotify.com/v1/audio-analysis/70A2...       168705   \n",
       "2433  https://api.spotify.com/v1/audio-analysis/00oS...       132414   \n",
       "2434  https://api.spotify.com/v1/audio-analysis/5BPK...       140633   \n",
       "2435  https://api.spotify.com/v1/audio-analysis/3bhG...       163765   \n",
       "\n",
       "      time_signature  \n",
       "0                  4  \n",
       "1                  4  \n",
       "2                  4  \n",
       "3                  4  \n",
       "4                  4  \n",
       "...              ...  \n",
       "2431               4  \n",
       "2432               4  \n",
       "2433               4  \n",
       "2434               4  \n",
       "2435               4  \n",
       "\n",
       "[2436 rows x 18 columns]"
      ]
     },
     "execution_count": 180,
     "metadata": {},
     "output_type": "execute_result"
    }
   ],
   "source": [
    "feats_df"
   ]
  },
  {
   "cell_type": "markdown",
   "id": "bb94d394",
   "metadata": {},
   "source": [
    "### Merge the two dataframes so you have the songs and artists with de features"
   ]
  },
  {
   "cell_type": "code",
   "execution_count": 181,
   "id": "b329aa08",
   "metadata": {},
   "outputs": [
    {
     "data": {
      "text/html": [
       "<div>\n",
       "<style scoped>\n",
       "    .dataframe tbody tr th:only-of-type {\n",
       "        vertical-align: middle;\n",
       "    }\n",
       "\n",
       "    .dataframe tbody tr th {\n",
       "        vertical-align: top;\n",
       "    }\n",
       "\n",
       "    .dataframe thead th {\n",
       "        text-align: right;\n",
       "    }\n",
       "</style>\n",
       "<table border=\"1\" class=\"dataframe\">\n",
       "  <thead>\n",
       "    <tr style=\"text-align: right;\">\n",
       "      <th></th>\n",
       "      <th>song_name</th>\n",
       "      <th>song_ID</th>\n",
       "      <th>song_artist</th>\n",
       "      <th>Genre</th>\n",
       "      <th>danceability</th>\n",
       "      <th>energy</th>\n",
       "      <th>key</th>\n",
       "      <th>loudness</th>\n",
       "      <th>mode</th>\n",
       "      <th>speechiness</th>\n",
       "      <th>...</th>\n",
       "      <th>liveness</th>\n",
       "      <th>valence</th>\n",
       "      <th>tempo</th>\n",
       "      <th>type</th>\n",
       "      <th>id</th>\n",
       "      <th>uri</th>\n",
       "      <th>track_href</th>\n",
       "      <th>analysis_url</th>\n",
       "      <th>duration_ms</th>\n",
       "      <th>time_signature</th>\n",
       "    </tr>\n",
       "  </thead>\n",
       "  <tbody>\n",
       "    <tr>\n",
       "      <th>0</th>\n",
       "      <td>Beggin'</td>\n",
       "      <td>3Wrjm47oTz2sjIgck11l5e</td>\n",
       "      <td>Måneskin</td>\n",
       "      <td>Indie</td>\n",
       "      <td>0.714</td>\n",
       "      <td>0.800</td>\n",
       "      <td>11</td>\n",
       "      <td>-4.808</td>\n",
       "      <td>0</td>\n",
       "      <td>0.0504</td>\n",
       "      <td>...</td>\n",
       "      <td>0.3590</td>\n",
       "      <td>0.589</td>\n",
       "      <td>134.002</td>\n",
       "      <td>audio_features</td>\n",
       "      <td>3Wrjm47oTz2sjIgck11l5e</td>\n",
       "      <td>spotify:track:3Wrjm47oTz2sjIgck11l5e</td>\n",
       "      <td>https://api.spotify.com/v1/tracks/3Wrjm47oTz2s...</td>\n",
       "      <td>https://api.spotify.com/v1/audio-analysis/3Wrj...</td>\n",
       "      <td>211560</td>\n",
       "      <td>4</td>\n",
       "    </tr>\n",
       "    <tr>\n",
       "      <th>1</th>\n",
       "      <td>The Less I Know The Better</td>\n",
       "      <td>4g3Ax56IslQkI6XVfYKVc5</td>\n",
       "      <td>Tame Impala</td>\n",
       "      <td>Indie</td>\n",
       "      <td>0.640</td>\n",
       "      <td>0.755</td>\n",
       "      <td>1</td>\n",
       "      <td>-4.077</td>\n",
       "      <td>0</td>\n",
       "      <td>0.0287</td>\n",
       "      <td>...</td>\n",
       "      <td>0.1200</td>\n",
       "      <td>0.744</td>\n",
       "      <td>116.883</td>\n",
       "      <td>audio_features</td>\n",
       "      <td>4g3Ax56IslQkI6XVfYKVc5</td>\n",
       "      <td>spotify:track:4g3Ax56IslQkI6XVfYKVc5</td>\n",
       "      <td>https://api.spotify.com/v1/tracks/4g3Ax56IslQk...</td>\n",
       "      <td>https://api.spotify.com/v1/audio-analysis/4g3A...</td>\n",
       "      <td>216319</td>\n",
       "      <td>4</td>\n",
       "    </tr>\n",
       "    <tr>\n",
       "      <th>2</th>\n",
       "      <td>Mr. Brightside</td>\n",
       "      <td>3n3Ppam7vgaVa1iaRUc9Lp</td>\n",
       "      <td>The Killers</td>\n",
       "      <td>Indie</td>\n",
       "      <td>0.355</td>\n",
       "      <td>0.918</td>\n",
       "      <td>1</td>\n",
       "      <td>-4.360</td>\n",
       "      <td>1</td>\n",
       "      <td>0.0746</td>\n",
       "      <td>...</td>\n",
       "      <td>0.0971</td>\n",
       "      <td>0.240</td>\n",
       "      <td>148.114</td>\n",
       "      <td>audio_features</td>\n",
       "      <td>3n3Ppam7vgaVa1iaRUc9Lp</td>\n",
       "      <td>spotify:track:3n3Ppam7vgaVa1iaRUc9Lp</td>\n",
       "      <td>https://api.spotify.com/v1/tracks/3n3Ppam7vgaV...</td>\n",
       "      <td>https://api.spotify.com/v1/audio-analysis/3n3P...</td>\n",
       "      <td>222200</td>\n",
       "      <td>4</td>\n",
       "    </tr>\n",
       "    <tr>\n",
       "      <th>3</th>\n",
       "      <td>Boys Don't Cry</td>\n",
       "      <td>1QFh8OH1e78dGd3VyJZCAC</td>\n",
       "      <td>The Cure</td>\n",
       "      <td>Indie</td>\n",
       "      <td>0.462</td>\n",
       "      <td>0.836</td>\n",
       "      <td>11</td>\n",
       "      <td>-5.766</td>\n",
       "      <td>0</td>\n",
       "      <td>0.0621</td>\n",
       "      <td>...</td>\n",
       "      <td>0.1800</td>\n",
       "      <td>0.671</td>\n",
       "      <td>168.766</td>\n",
       "      <td>audio_features</td>\n",
       "      <td>1QFh8OH1e78dGd3VyJZCAC</td>\n",
       "      <td>spotify:track:1QFh8OH1e78dGd3VyJZCAC</td>\n",
       "      <td>https://api.spotify.com/v1/tracks/1QFh8OH1e78d...</td>\n",
       "      <td>https://api.spotify.com/v1/audio-analysis/1QFh...</td>\n",
       "      <td>155973</td>\n",
       "      <td>4</td>\n",
       "    </tr>\n",
       "    <tr>\n",
       "      <th>4</th>\n",
       "      <td>A-Punk</td>\n",
       "      <td>5dKBaysNJtfpyNTRa5lqDb</td>\n",
       "      <td>Vampire Weekend</td>\n",
       "      <td>Indie</td>\n",
       "      <td>0.551</td>\n",
       "      <td>0.821</td>\n",
       "      <td>2</td>\n",
       "      <td>-4.489</td>\n",
       "      <td>1</td>\n",
       "      <td>0.0539</td>\n",
       "      <td>...</td>\n",
       "      <td>0.1530</td>\n",
       "      <td>0.842</td>\n",
       "      <td>174.923</td>\n",
       "      <td>audio_features</td>\n",
       "      <td>5dKBaysNJtfpyNTRa5lqDb</td>\n",
       "      <td>spotify:track:5dKBaysNJtfpyNTRa5lqDb</td>\n",
       "      <td>https://api.spotify.com/v1/tracks/5dKBaysNJtfp...</td>\n",
       "      <td>https://api.spotify.com/v1/audio-analysis/5dKB...</td>\n",
       "      <td>137760</td>\n",
       "      <td>4</td>\n",
       "    </tr>\n",
       "    <tr>\n",
       "      <th>...</th>\n",
       "      <td>...</td>\n",
       "      <td>...</td>\n",
       "      <td>...</td>\n",
       "      <td>...</td>\n",
       "      <td>...</td>\n",
       "      <td>...</td>\n",
       "      <td>...</td>\n",
       "      <td>...</td>\n",
       "      <td>...</td>\n",
       "      <td>...</td>\n",
       "      <td>...</td>\n",
       "      <td>...</td>\n",
       "      <td>...</td>\n",
       "      <td>...</td>\n",
       "      <td>...</td>\n",
       "      <td>...</td>\n",
       "      <td>...</td>\n",
       "      <td>...</td>\n",
       "      <td>...</td>\n",
       "      <td>...</td>\n",
       "      <td>...</td>\n",
       "    </tr>\n",
       "    <tr>\n",
       "      <th>2463</th>\n",
       "      <td>Yellow Napkins</td>\n",
       "      <td>72AJ5sfLfwtKHiQnUeB7rV</td>\n",
       "      <td>JAY VANILLA</td>\n",
       "      <td>Jazz</td>\n",
       "      <td>0.752</td>\n",
       "      <td>0.401</td>\n",
       "      <td>7</td>\n",
       "      <td>-6.086</td>\n",
       "      <td>0</td>\n",
       "      <td>0.5120</td>\n",
       "      <td>...</td>\n",
       "      <td>0.1270</td>\n",
       "      <td>0.926</td>\n",
       "      <td>81.718</td>\n",
       "      <td>audio_features</td>\n",
       "      <td>72AJ5sfLfwtKHiQnUeB7rV</td>\n",
       "      <td>spotify:track:72AJ5sfLfwtKHiQnUeB7rV</td>\n",
       "      <td>https://api.spotify.com/v1/tracks/72AJ5sfLfwtK...</td>\n",
       "      <td>https://api.spotify.com/v1/audio-analysis/72AJ...</td>\n",
       "      <td>99787</td>\n",
       "      <td>4</td>\n",
       "    </tr>\n",
       "    <tr>\n",
       "      <th>2464</th>\n",
       "      <td>Profesor</td>\n",
       "      <td>70A2dr0LJoFAmplOmYqdkn</td>\n",
       "      <td>Chancla</td>\n",
       "      <td>Jazz</td>\n",
       "      <td>0.831</td>\n",
       "      <td>0.423</td>\n",
       "      <td>10</td>\n",
       "      <td>-5.961</td>\n",
       "      <td>0</td>\n",
       "      <td>0.0616</td>\n",
       "      <td>...</td>\n",
       "      <td>0.0703</td>\n",
       "      <td>0.853</td>\n",
       "      <td>82.018</td>\n",
       "      <td>audio_features</td>\n",
       "      <td>70A2dr0LJoFAmplOmYqdkn</td>\n",
       "      <td>spotify:track:70A2dr0LJoFAmplOmYqdkn</td>\n",
       "      <td>https://api.spotify.com/v1/tracks/70A2dr0LJoFA...</td>\n",
       "      <td>https://api.spotify.com/v1/audio-analysis/70A2...</td>\n",
       "      <td>168705</td>\n",
       "      <td>4</td>\n",
       "    </tr>\n",
       "    <tr>\n",
       "      <th>2465</th>\n",
       "      <td>Midnight Stroll</td>\n",
       "      <td>00oSY6ZhNBI9uDf45e6VMw</td>\n",
       "      <td>CMJ</td>\n",
       "      <td>Jazz</td>\n",
       "      <td>0.709</td>\n",
       "      <td>0.208</td>\n",
       "      <td>11</td>\n",
       "      <td>-18.080</td>\n",
       "      <td>0</td>\n",
       "      <td>0.1060</td>\n",
       "      <td>...</td>\n",
       "      <td>0.0907</td>\n",
       "      <td>0.428</td>\n",
       "      <td>173.993</td>\n",
       "      <td>audio_features</td>\n",
       "      <td>00oSY6ZhNBI9uDf45e6VMw</td>\n",
       "      <td>spotify:track:00oSY6ZhNBI9uDf45e6VMw</td>\n",
       "      <td>https://api.spotify.com/v1/tracks/00oSY6ZhNBI9...</td>\n",
       "      <td>https://api.spotify.com/v1/audio-analysis/00oS...</td>\n",
       "      <td>132414</td>\n",
       "      <td>4</td>\n",
       "    </tr>\n",
       "    <tr>\n",
       "      <th>2466</th>\n",
       "      <td>Good Life</td>\n",
       "      <td>5BPKNG6yHbj0Q2W6ksMbbH</td>\n",
       "      <td>Phlocalyst</td>\n",
       "      <td>Jazz</td>\n",
       "      <td>0.809</td>\n",
       "      <td>0.333</td>\n",
       "      <td>5</td>\n",
       "      <td>-11.839</td>\n",
       "      <td>0</td>\n",
       "      <td>0.0397</td>\n",
       "      <td>...</td>\n",
       "      <td>0.1110</td>\n",
       "      <td>0.610</td>\n",
       "      <td>89.946</td>\n",
       "      <td>audio_features</td>\n",
       "      <td>5BPKNG6yHbj0Q2W6ksMbbH</td>\n",
       "      <td>spotify:track:5BPKNG6yHbj0Q2W6ksMbbH</td>\n",
       "      <td>https://api.spotify.com/v1/tracks/5BPKNG6yHbj0...</td>\n",
       "      <td>https://api.spotify.com/v1/audio-analysis/5BPK...</td>\n",
       "      <td>140633</td>\n",
       "      <td>4</td>\n",
       "    </tr>\n",
       "    <tr>\n",
       "      <th>2467</th>\n",
       "      <td>Getting Closer</td>\n",
       "      <td>3bhGeD1hIsQK4zIH4VRBoy</td>\n",
       "      <td>Birds Of The West</td>\n",
       "      <td>Jazz</td>\n",
       "      <td>0.771</td>\n",
       "      <td>0.675</td>\n",
       "      <td>10</td>\n",
       "      <td>-5.126</td>\n",
       "      <td>0</td>\n",
       "      <td>0.0912</td>\n",
       "      <td>...</td>\n",
       "      <td>0.0873</td>\n",
       "      <td>0.694</td>\n",
       "      <td>85.097</td>\n",
       "      <td>audio_features</td>\n",
       "      <td>3bhGeD1hIsQK4zIH4VRBoy</td>\n",
       "      <td>spotify:track:3bhGeD1hIsQK4zIH4VRBoy</td>\n",
       "      <td>https://api.spotify.com/v1/tracks/3bhGeD1hIsQK...</td>\n",
       "      <td>https://api.spotify.com/v1/audio-analysis/3bhG...</td>\n",
       "      <td>163765</td>\n",
       "      <td>4</td>\n",
       "    </tr>\n",
       "  </tbody>\n",
       "</table>\n",
       "<p>2468 rows × 22 columns</p>\n",
       "</div>"
      ],
      "text/plain": [
       "                       song_name                 song_ID        song_artist  \\\n",
       "0                        Beggin'  3Wrjm47oTz2sjIgck11l5e           Måneskin   \n",
       "1     The Less I Know The Better  4g3Ax56IslQkI6XVfYKVc5        Tame Impala   \n",
       "2                 Mr. Brightside  3n3Ppam7vgaVa1iaRUc9Lp        The Killers   \n",
       "3                 Boys Don't Cry  1QFh8OH1e78dGd3VyJZCAC           The Cure   \n",
       "4                         A-Punk  5dKBaysNJtfpyNTRa5lqDb    Vampire Weekend   \n",
       "...                          ...                     ...                ...   \n",
       "2463              Yellow Napkins  72AJ5sfLfwtKHiQnUeB7rV        JAY VANILLA   \n",
       "2464                    Profesor  70A2dr0LJoFAmplOmYqdkn            Chancla   \n",
       "2465             Midnight Stroll  00oSY6ZhNBI9uDf45e6VMw                CMJ   \n",
       "2466                   Good Life  5BPKNG6yHbj0Q2W6ksMbbH         Phlocalyst   \n",
       "2467              Getting Closer  3bhGeD1hIsQK4zIH4VRBoy  Birds Of The West   \n",
       "\n",
       "      Genre  danceability  energy  key  loudness  mode  speechiness  ...  \\\n",
       "0     Indie         0.714   0.800   11    -4.808     0       0.0504  ...   \n",
       "1     Indie         0.640   0.755    1    -4.077     0       0.0287  ...   \n",
       "2     Indie         0.355   0.918    1    -4.360     1       0.0746  ...   \n",
       "3     Indie         0.462   0.836   11    -5.766     0       0.0621  ...   \n",
       "4     Indie         0.551   0.821    2    -4.489     1       0.0539  ...   \n",
       "...     ...           ...     ...  ...       ...   ...          ...  ...   \n",
       "2463   Jazz         0.752   0.401    7    -6.086     0       0.5120  ...   \n",
       "2464   Jazz         0.831   0.423   10    -5.961     0       0.0616  ...   \n",
       "2465   Jazz         0.709   0.208   11   -18.080     0       0.1060  ...   \n",
       "2466   Jazz         0.809   0.333    5   -11.839     0       0.0397  ...   \n",
       "2467   Jazz         0.771   0.675   10    -5.126     0       0.0912  ...   \n",
       "\n",
       "      liveness  valence    tempo            type                      id  \\\n",
       "0       0.3590    0.589  134.002  audio_features  3Wrjm47oTz2sjIgck11l5e   \n",
       "1       0.1200    0.744  116.883  audio_features  4g3Ax56IslQkI6XVfYKVc5   \n",
       "2       0.0971    0.240  148.114  audio_features  3n3Ppam7vgaVa1iaRUc9Lp   \n",
       "3       0.1800    0.671  168.766  audio_features  1QFh8OH1e78dGd3VyJZCAC   \n",
       "4       0.1530    0.842  174.923  audio_features  5dKBaysNJtfpyNTRa5lqDb   \n",
       "...        ...      ...      ...             ...                     ...   \n",
       "2463    0.1270    0.926   81.718  audio_features  72AJ5sfLfwtKHiQnUeB7rV   \n",
       "2464    0.0703    0.853   82.018  audio_features  70A2dr0LJoFAmplOmYqdkn   \n",
       "2465    0.0907    0.428  173.993  audio_features  00oSY6ZhNBI9uDf45e6VMw   \n",
       "2466    0.1110    0.610   89.946  audio_features  5BPKNG6yHbj0Q2W6ksMbbH   \n",
       "2467    0.0873    0.694   85.097  audio_features  3bhGeD1hIsQK4zIH4VRBoy   \n",
       "\n",
       "                                       uri  \\\n",
       "0     spotify:track:3Wrjm47oTz2sjIgck11l5e   \n",
       "1     spotify:track:4g3Ax56IslQkI6XVfYKVc5   \n",
       "2     spotify:track:3n3Ppam7vgaVa1iaRUc9Lp   \n",
       "3     spotify:track:1QFh8OH1e78dGd3VyJZCAC   \n",
       "4     spotify:track:5dKBaysNJtfpyNTRa5lqDb   \n",
       "...                                    ...   \n",
       "2463  spotify:track:72AJ5sfLfwtKHiQnUeB7rV   \n",
       "2464  spotify:track:70A2dr0LJoFAmplOmYqdkn   \n",
       "2465  spotify:track:00oSY6ZhNBI9uDf45e6VMw   \n",
       "2466  spotify:track:5BPKNG6yHbj0Q2W6ksMbbH   \n",
       "2467  spotify:track:3bhGeD1hIsQK4zIH4VRBoy   \n",
       "\n",
       "                                             track_href  \\\n",
       "0     https://api.spotify.com/v1/tracks/3Wrjm47oTz2s...   \n",
       "1     https://api.spotify.com/v1/tracks/4g3Ax56IslQk...   \n",
       "2     https://api.spotify.com/v1/tracks/3n3Ppam7vgaV...   \n",
       "3     https://api.spotify.com/v1/tracks/1QFh8OH1e78d...   \n",
       "4     https://api.spotify.com/v1/tracks/5dKBaysNJtfp...   \n",
       "...                                                 ...   \n",
       "2463  https://api.spotify.com/v1/tracks/72AJ5sfLfwtK...   \n",
       "2464  https://api.spotify.com/v1/tracks/70A2dr0LJoFA...   \n",
       "2465  https://api.spotify.com/v1/tracks/00oSY6ZhNBI9...   \n",
       "2466  https://api.spotify.com/v1/tracks/5BPKNG6yHbj0...   \n",
       "2467  https://api.spotify.com/v1/tracks/3bhGeD1hIsQK...   \n",
       "\n",
       "                                           analysis_url duration_ms  \\\n",
       "0     https://api.spotify.com/v1/audio-analysis/3Wrj...      211560   \n",
       "1     https://api.spotify.com/v1/audio-analysis/4g3A...      216319   \n",
       "2     https://api.spotify.com/v1/audio-analysis/3n3P...      222200   \n",
       "3     https://api.spotify.com/v1/audio-analysis/1QFh...      155973   \n",
       "4     https://api.spotify.com/v1/audio-analysis/5dKB...      137760   \n",
       "...                                                 ...         ...   \n",
       "2463  https://api.spotify.com/v1/audio-analysis/72AJ...       99787   \n",
       "2464  https://api.spotify.com/v1/audio-analysis/70A2...      168705   \n",
       "2465  https://api.spotify.com/v1/audio-analysis/00oS...      132414   \n",
       "2466  https://api.spotify.com/v1/audio-analysis/5BPK...      140633   \n",
       "2467  https://api.spotify.com/v1/audio-analysis/3bhG...      163765   \n",
       "\n",
       "     time_signature  \n",
       "0                 4  \n",
       "1                 4  \n",
       "2                 4  \n",
       "3                 4  \n",
       "4                 4  \n",
       "...             ...  \n",
       "2463              4  \n",
       "2464              4  \n",
       "2465              4  \n",
       "2466              4  \n",
       "2467              4  \n",
       "\n",
       "[2468 rows x 22 columns]"
      ]
     },
     "execution_count": 181,
     "metadata": {},
     "output_type": "execute_result"
    }
   ],
   "source": [
    "big_df.merge(feats_df, left_on='song_ID', right_on='id')"
   ]
  },
  {
   "cell_type": "code",
   "execution_count": null,
   "id": "3377c144",
   "metadata": {},
   "outputs": [],
   "source": []
  },
  {
   "cell_type": "markdown",
   "id": "d3d520b6",
   "metadata": {},
   "source": [
    "### I put into \"Raw NBConvert\" some lines to make the notebook easily to read"
   ]
  }
 ],
 "metadata": {
  "kernelspec": {
   "display_name": "Python 3",
   "language": "python",
   "name": "python3"
  },
  "language_info": {
   "codemirror_mode": {
    "name": "ipython",
    "version": 3
   },
   "file_extension": ".py",
   "mimetype": "text/x-python",
   "name": "python",
   "nbconvert_exporter": "python",
   "pygments_lexer": "ipython3",
   "version": "3.8.8"
  }
 },
 "nbformat": 4,
 "nbformat_minor": 5
}
