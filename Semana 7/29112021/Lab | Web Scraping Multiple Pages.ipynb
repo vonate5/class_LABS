{
 "cells": [
  {
   "cell_type": "markdown",
   "id": "ef76e40d",
   "metadata": {},
   "source": [
    "this is the continue of the lab 1, it starts adding a second web page and merging the two dataframes into one, so we can see what POP artists are in the global Top 100 playlist"
   ]
  },
  {
   "cell_type": "markdown",
   "id": "a8d617e0",
   "metadata": {},
   "source": [
    "# LAB"
   ]
  },
  {
   "cell_type": "code",
   "execution_count": 1,
   "id": "f8abe174",
   "metadata": {},
   "outputs": [],
   "source": [
    "import pandas as pd\n",
    "from bs4 import BeautifulSoup\n",
    "import re\n",
    "import requests\n",
    "from tqdm.notebook import tqdm"
   ]
  },
  {
   "cell_type": "code",
   "execution_count": 2,
   "id": "5968018e",
   "metadata": {},
   "outputs": [],
   "source": [
    "url = \"https://www.billboard.com/charts/hot-100/\""
   ]
  },
  {
   "cell_type": "code",
   "execution_count": 3,
   "id": "95b571e9",
   "metadata": {},
   "outputs": [],
   "source": [
    "top100 = requests.get(url)"
   ]
  },
  {
   "cell_type": "code",
   "execution_count": 4,
   "id": "42d6a9d9",
   "metadata": {},
   "outputs": [
    {
     "data": {
      "text/plain": [
       "200"
      ]
     },
     "execution_count": 4,
     "metadata": {},
     "output_type": "execute_result"
    }
   ],
   "source": [
    "top100.status_code"
   ]
  },
  {
   "cell_type": "code",
   "execution_count": 5,
   "id": "f6d5931e",
   "metadata": {},
   "outputs": [],
   "source": [
    "soup=BeautifulSoup(top100.content,'html.parser')"
   ]
  },
  {
   "cell_type": "markdown",
   "id": "c4786bf7",
   "metadata": {},
   "source": [
    "## Songs"
   ]
  },
  {
   "cell_type": "code",
   "execution_count": 6,
   "id": "f4784a2e",
   "metadata": {},
   "outputs": [
    {
     "data": {
      "text/plain": [
       "\"\\nAll Too Well (Taylor's Version)\\n\""
      ]
     },
     "execution_count": 6,
     "metadata": {},
     "output_type": "execute_result"
    }
   ],
   "source": [
    "soup.select('h3.c-title.a-no-trucate')[0].text\n",
    "\n"
   ]
  },
  {
   "cell_type": "code",
   "execution_count": 7,
   "id": "1b69ebe9",
   "metadata": {},
   "outputs": [],
   "source": [
    "top100=len(soup.select('h3.c-title.a-no-trucate'))"
   ]
  },
  {
   "cell_type": "code",
   "execution_count": 8,
   "id": "e8cf79ee",
   "metadata": {},
   "outputs": [
    {
     "data": {
      "text/plain": [
       "100"
      ]
     },
     "execution_count": 8,
     "metadata": {},
     "output_type": "execute_result"
    }
   ],
   "source": [
    "top100"
   ]
  },
  {
   "cell_type": "code",
   "execution_count": 9,
   "id": "823ad12f",
   "metadata": {},
   "outputs": [
    {
     "data": {
      "text/plain": [
       "\"All Too Well (Taylor's Version)\""
      ]
     },
     "execution_count": 9,
     "metadata": {},
     "output_type": "execute_result"
    }
   ],
   "source": [
    "soup.select('h3.c-title.a-no-trucate')[0].get_text(strip=True)\n"
   ]
  },
  {
   "cell_type": "markdown",
   "id": "e9784f0e",
   "metadata": {},
   "source": [
    "## Artist"
   ]
  },
  {
   "cell_type": "code",
   "execution_count": 10,
   "id": "559b98ea",
   "metadata": {},
   "outputs": [
    {
     "data": {
      "text/plain": [
       "'Taylor Swift'"
      ]
     },
     "execution_count": 10,
     "metadata": {},
     "output_type": "execute_result"
    }
   ],
   "source": [
    "soup.select('span.c-label.a-no-trucate')[0].get_text(strip=True)"
   ]
  },
  {
   "cell_type": "code",
   "execution_count": 11,
   "id": "46dcb2f9",
   "metadata": {},
   "outputs": [
    {
     "data": {
      "text/plain": [
       "'Giveon'"
      ]
     },
     "execution_count": 11,
     "metadata": {},
     "output_type": "execute_result"
    }
   ],
   "source": [
    "soup.select('span.c-label.a-no-trucate')[99].get_text(strip=True)"
   ]
  },
  {
   "cell_type": "markdown",
   "id": "dd65b205",
   "metadata": {},
   "source": [
    "## DataFrame"
   ]
  },
  {
   "cell_type": "code",
   "execution_count": 12,
   "id": "b1a274c2",
   "metadata": {},
   "outputs": [],
   "source": [
    "title = []\n",
    "artist = []"
   ]
  },
  {
   "cell_type": "code",
   "execution_count": 13,
   "id": "747f2fd0",
   "metadata": {},
   "outputs": [
    {
     "data": {
      "application/vnd.jupyter.widget-view+json": {
       "model_id": "70821ec61edc46a390fe66e0437d3931",
       "version_major": 2,
       "version_minor": 0
      },
      "text/plain": [
       "  0%|          | 0/100 [00:00<?, ?it/s]"
      ]
     },
     "metadata": {},
     "output_type": "display_data"
    }
   ],
   "source": [
    "for i in tqdm(range(top100)):\n",
    "    title.append(soup.select('h3.c-title.a-no-trucate')[i].get_text(strip=True))\n",
    "    artist.append(soup.select('span.c-label.a-no-trucate')[i].get_text(strip=True))"
   ]
  },
  {
   "cell_type": "code",
   "execution_count": 14,
   "id": "4e892976",
   "metadata": {},
   "outputs": [],
   "source": [
    "songs_top100=pd.DataFrame({'Title':title,'Artist':artist})"
   ]
  },
  {
   "cell_type": "code",
   "execution_count": 15,
   "id": "fe958f45",
   "metadata": {},
   "outputs": [
    {
     "data": {
      "text/html": [
       "<div>\n",
       "<style scoped>\n",
       "    .dataframe tbody tr th:only-of-type {\n",
       "        vertical-align: middle;\n",
       "    }\n",
       "\n",
       "    .dataframe tbody tr th {\n",
       "        vertical-align: top;\n",
       "    }\n",
       "\n",
       "    .dataframe thead th {\n",
       "        text-align: right;\n",
       "    }\n",
       "</style>\n",
       "<table border=\"1\" class=\"dataframe\">\n",
       "  <thead>\n",
       "    <tr style=\"text-align: right;\">\n",
       "      <th></th>\n",
       "      <th>Title</th>\n",
       "      <th>Artist</th>\n",
       "    </tr>\n",
       "  </thead>\n",
       "  <tbody>\n",
       "    <tr>\n",
       "      <th>0</th>\n",
       "      <td>All Too Well (Taylor's Version)</td>\n",
       "      <td>Taylor Swift</td>\n",
       "    </tr>\n",
       "    <tr>\n",
       "      <th>1</th>\n",
       "      <td>Easy On Me</td>\n",
       "      <td>Adele</td>\n",
       "    </tr>\n",
       "    <tr>\n",
       "      <th>2</th>\n",
       "      <td>Stay</td>\n",
       "      <td>The Kid LAROI &amp; Justin Bieber</td>\n",
       "    </tr>\n",
       "    <tr>\n",
       "      <th>3</th>\n",
       "      <td>Industry Baby</td>\n",
       "      <td>Lil Nas X &amp; Jack Harlow</td>\n",
       "    </tr>\n",
       "    <tr>\n",
       "      <th>4</th>\n",
       "      <td>Smokin Out The Window</td>\n",
       "      <td>Silk Sonic (Bruno Mars &amp; Anderson .Paak)</td>\n",
       "    </tr>\n",
       "    <tr>\n",
       "      <th>...</th>\n",
       "      <td>...</td>\n",
       "      <td>...</td>\n",
       "    </tr>\n",
       "    <tr>\n",
       "      <th>95</th>\n",
       "      <td>Moth To A Flame</td>\n",
       "      <td>Swedish House Mafia &amp; The Weeknd</td>\n",
       "    </tr>\n",
       "    <tr>\n",
       "      <th>96</th>\n",
       "      <td>'Til You Can't</td>\n",
       "      <td>Cody Johnson</td>\n",
       "    </tr>\n",
       "    <tr>\n",
       "      <th>97</th>\n",
       "      <td>Woman</td>\n",
       "      <td>Doja Cat</td>\n",
       "    </tr>\n",
       "    <tr>\n",
       "      <th>98</th>\n",
       "      <td>Take My Breath</td>\n",
       "      <td>The Weeknd</td>\n",
       "    </tr>\n",
       "    <tr>\n",
       "      <th>99</th>\n",
       "      <td>For Tonight</td>\n",
       "      <td>Giveon</td>\n",
       "    </tr>\n",
       "  </tbody>\n",
       "</table>\n",
       "<p>100 rows × 2 columns</p>\n",
       "</div>"
      ],
      "text/plain": [
       "                              Title                                    Artist\n",
       "0   All Too Well (Taylor's Version)                              Taylor Swift\n",
       "1                        Easy On Me                                     Adele\n",
       "2                              Stay             The Kid LAROI & Justin Bieber\n",
       "3                     Industry Baby                   Lil Nas X & Jack Harlow\n",
       "4             Smokin Out The Window  Silk Sonic (Bruno Mars & Anderson .Paak)\n",
       "..                              ...                                       ...\n",
       "95                  Moth To A Flame          Swedish House Mafia & The Weeknd\n",
       "96                   'Til You Can't                              Cody Johnson\n",
       "97                            Woman                                  Doja Cat\n",
       "98                   Take My Breath                                The Weeknd\n",
       "99                      For Tonight                                    Giveon\n",
       "\n",
       "[100 rows x 2 columns]"
      ]
     },
     "execution_count": 15,
     "metadata": {},
     "output_type": "execute_result"
    }
   ],
   "source": [
    "songs_top100"
   ]
  },
  {
   "cell_type": "markdown",
   "id": "d0474fa8",
   "metadata": {},
   "source": [
    "# Lab | Web Scraping Multiple Pages starts here"
   ]
  },
  {
   "cell_type": "markdown",
   "id": "bb1312c2",
   "metadata": {},
   "source": [
    "# Adding a second webpage\n",
    "- **Top 100 POP songs in 2021**"
   ]
  },
  {
   "cell_type": "code",
   "execution_count": 16,
   "id": "ae80f2da",
   "metadata": {},
   "outputs": [],
   "source": [
    "from bs4 import BeautifulSoup\n",
    "import requests"
   ]
  },
  {
   "cell_type": "code",
   "execution_count": 17,
   "id": "4ebf9bad",
   "metadata": {},
   "outputs": [],
   "source": [
    "# import the second url\n",
    "url = \"http://www.popvortex.com/music/charts/top-pop-songs.php\""
   ]
  },
  {
   "cell_type": "code",
   "execution_count": 18,
   "id": "fb86a731",
   "metadata": {},
   "outputs": [
    {
     "data": {
      "text/plain": [
       "200"
      ]
     },
     "execution_count": 18,
     "metadata": {},
     "output_type": "execute_result"
    }
   ],
   "source": [
    "response=requests.get(url)\n",
    "response.status_code"
   ]
  },
  {
   "cell_type": "code",
   "execution_count": 19,
   "id": "50d32081",
   "metadata": {},
   "outputs": [],
   "source": [
    "soup1=BeautifulSoup(response.content, \"html.parser\")\n"
   ]
  },
  {
   "cell_type": "code",
   "execution_count": 21,
   "id": "7fc419a7",
   "metadata": {},
   "outputs": [
    {
     "data": {
      "text/plain": [
       "'Adele'"
      ]
     },
     "execution_count": 21,
     "metadata": {},
     "output_type": "execute_result"
    }
   ],
   "source": [
    "## getting the artist\n",
    "soup1.select('p.title-artist em')[0].get_text(strip=True)"
   ]
  },
  {
   "cell_type": "code",
   "execution_count": 22,
   "id": "ba67f1f6",
   "metadata": {},
   "outputs": [
    {
     "data": {
      "text/plain": [
       "'Lilorx'"
      ]
     },
     "execution_count": 22,
     "metadata": {},
     "output_type": "execute_result"
    }
   ],
   "source": [
    "## getting the artist\n",
    "soup1.select('p.title-artist em')[10].get_text(strip=True)"
   ]
  },
  {
   "cell_type": "code",
   "execution_count": 23,
   "id": "89e1039e",
   "metadata": {},
   "outputs": [
    {
     "data": {
      "text/plain": [
       "'Easy On Me'"
      ]
     },
     "execution_count": 23,
     "metadata": {},
     "output_type": "execute_result"
    }
   ],
   "source": [
    "## getting the songs\n",
    "soup1.select('p.title-artist cite')[0].get_text(strip=True)"
   ]
  },
  {
   "cell_type": "code",
   "execution_count": 24,
   "id": "83a74fa4",
   "metadata": {},
   "outputs": [
    {
     "data": {
      "text/plain": [
       "'Racing Into the Night (Ringtone Remix)'"
      ]
     },
     "execution_count": 24,
     "metadata": {},
     "output_type": "execute_result"
    }
   ],
   "source": [
    "## getting the songs\n",
    "soup1.select('p.title-artist cite')[10].get_text(strip=True)"
   ]
  },
  {
   "cell_type": "code",
   "execution_count": 25,
   "id": "8e4509a2",
   "metadata": {},
   "outputs": [],
   "source": [
    "popsong=[]\n",
    "popartist=[]\n",
    "\n",
    "len_popsongs=len(soup1.select('p.title-artist'))"
   ]
  },
  {
   "cell_type": "code",
   "execution_count": 26,
   "id": "0311f5db",
   "metadata": {},
   "outputs": [
    {
     "data": {
      "text/plain": [
       "100"
      ]
     },
     "execution_count": 26,
     "metadata": {},
     "output_type": "execute_result"
    }
   ],
   "source": [
    "len_popsongs"
   ]
  },
  {
   "cell_type": "code",
   "execution_count": 27,
   "id": "67068471",
   "metadata": {},
   "outputs": [
    {
     "data": {
      "application/vnd.jupyter.widget-view+json": {
       "model_id": "a2f71b9c08a9402b983da9d0669870c9",
       "version_major": 2,
       "version_minor": 0
      },
      "text/plain": [
       "  0%|          | 0/100 [00:00<?, ?it/s]"
      ]
     },
     "metadata": {},
     "output_type": "display_data"
    }
   ],
   "source": [
    "for i in tqdm(range(len_popsongs)):\n",
    "    popsong.append(soup1.select('p.title-artist cite')[i].get_text(strip=True))\n",
    "    popartist.append(soup1.select('p.title-artist em')[i].get_text(strip=True))"
   ]
  },
  {
   "cell_type": "code",
   "execution_count": 28,
   "id": "f3ef149e",
   "metadata": {},
   "outputs": [],
   "source": [
    "popsongs_top100=pd.DataFrame({'Title':popsong,'Artist':popartist})"
   ]
  },
  {
   "cell_type": "code",
   "execution_count": 29,
   "id": "17b12f0e",
   "metadata": {},
   "outputs": [
    {
     "data": {
      "text/html": [
       "<div>\n",
       "<style scoped>\n",
       "    .dataframe tbody tr th:only-of-type {\n",
       "        vertical-align: middle;\n",
       "    }\n",
       "\n",
       "    .dataframe tbody tr th {\n",
       "        vertical-align: top;\n",
       "    }\n",
       "\n",
       "    .dataframe thead th {\n",
       "        text-align: right;\n",
       "    }\n",
       "</style>\n",
       "<table border=\"1\" class=\"dataframe\">\n",
       "  <thead>\n",
       "    <tr style=\"text-align: right;\">\n",
       "      <th></th>\n",
       "      <th>Title</th>\n",
       "      <th>Artist</th>\n",
       "    </tr>\n",
       "  </thead>\n",
       "  <tbody>\n",
       "    <tr>\n",
       "      <th>0</th>\n",
       "      <td>Easy On Me</td>\n",
       "      <td>Adele</td>\n",
       "    </tr>\n",
       "    <tr>\n",
       "      <th>1</th>\n",
       "      <td>Cold Heart (PNAU Remix)</td>\n",
       "      <td>Elton John &amp; Dua Lipa</td>\n",
       "    </tr>\n",
       "    <tr>\n",
       "      <th>2</th>\n",
       "      <td>abcdefu</td>\n",
       "      <td>GAYLE</td>\n",
       "    </tr>\n",
       "    <tr>\n",
       "      <th>3</th>\n",
       "      <td>Shivers</td>\n",
       "      <td>Ed Sheeran</td>\n",
       "    </tr>\n",
       "    <tr>\n",
       "      <th>4</th>\n",
       "      <td>I AM WOMAN</td>\n",
       "      <td>Emmy Meli</td>\n",
       "    </tr>\n",
       "    <tr>\n",
       "      <th>...</th>\n",
       "      <td>...</td>\n",
       "      <td>...</td>\n",
       "    </tr>\n",
       "    <tr>\n",
       "      <th>95</th>\n",
       "      <td>I Only Have Eyes for You</td>\n",
       "      <td>The Flamingos</td>\n",
       "    </tr>\n",
       "    <tr>\n",
       "      <th>96</th>\n",
       "      <td>Levitating</td>\n",
       "      <td>Dua Lipa</td>\n",
       "    </tr>\n",
       "    <tr>\n",
       "      <th>97</th>\n",
       "      <td>Still Falling for You (From \"Bridget Jones's B...</td>\n",
       "      <td>Ellie Goulding</td>\n",
       "    </tr>\n",
       "    <tr>\n",
       "      <th>98</th>\n",
       "      <td>Love Again</td>\n",
       "      <td>Dua Lipa</td>\n",
       "    </tr>\n",
       "    <tr>\n",
       "      <th>99</th>\n",
       "      <td>Dust In The Wind (The Voice Performance)</td>\n",
       "      <td>Girl Named Tom</td>\n",
       "    </tr>\n",
       "  </tbody>\n",
       "</table>\n",
       "<p>100 rows × 2 columns</p>\n",
       "</div>"
      ],
      "text/plain": [
       "                                                Title                 Artist\n",
       "0                                          Easy On Me                  Adele\n",
       "1                             Cold Heart (PNAU Remix)  Elton John & Dua Lipa\n",
       "2                                             abcdefu                  GAYLE\n",
       "3                                             Shivers             Ed Sheeran\n",
       "4                                          I AM WOMAN              Emmy Meli\n",
       "..                                                ...                    ...\n",
       "95                           I Only Have Eyes for You          The Flamingos\n",
       "96                                         Levitating               Dua Lipa\n",
       "97  Still Falling for You (From \"Bridget Jones's B...         Ellie Goulding\n",
       "98                                         Love Again               Dua Lipa\n",
       "99           Dust In The Wind (The Voice Performance)         Girl Named Tom\n",
       "\n",
       "[100 rows x 2 columns]"
      ]
     },
     "execution_count": 29,
     "metadata": {},
     "output_type": "execute_result"
    }
   ],
   "source": [
    "popsongs_top100"
   ]
  },
  {
   "cell_type": "markdown",
   "id": "eabf89cf",
   "metadata": {},
   "source": [
    "### **Summery at this point**\n",
    "- We have two Dataframes from two different websites\n",
    "- The first dataframe (songs_top100) are the top 100 songs for 2021\n",
    "- The second dataframe (popsongs_top100) are the top 100 POP songs for 2021"
   ]
  },
  {
   "cell_type": "code",
   "execution_count": 30,
   "id": "3a30af4b",
   "metadata": {},
   "outputs": [
    {
     "data": {
      "text/html": [
       "<div>\n",
       "<style scoped>\n",
       "    .dataframe tbody tr th:only-of-type {\n",
       "        vertical-align: middle;\n",
       "    }\n",
       "\n",
       "    .dataframe tbody tr th {\n",
       "        vertical-align: top;\n",
       "    }\n",
       "\n",
       "    .dataframe thead th {\n",
       "        text-align: right;\n",
       "    }\n",
       "</style>\n",
       "<table border=\"1\" class=\"dataframe\">\n",
       "  <thead>\n",
       "    <tr style=\"text-align: right;\">\n",
       "      <th></th>\n",
       "      <th>Title</th>\n",
       "      <th>Artist</th>\n",
       "    </tr>\n",
       "  </thead>\n",
       "  <tbody>\n",
       "    <tr>\n",
       "      <th>0</th>\n",
       "      <td>All Too Well (Taylor's Version)</td>\n",
       "      <td>Taylor Swift</td>\n",
       "    </tr>\n",
       "    <tr>\n",
       "      <th>1</th>\n",
       "      <td>Easy On Me</td>\n",
       "      <td>Adele</td>\n",
       "    </tr>\n",
       "    <tr>\n",
       "      <th>2</th>\n",
       "      <td>Stay</td>\n",
       "      <td>The Kid LAROI &amp; Justin Bieber</td>\n",
       "    </tr>\n",
       "    <tr>\n",
       "      <th>3</th>\n",
       "      <td>Industry Baby</td>\n",
       "      <td>Lil Nas X &amp; Jack Harlow</td>\n",
       "    </tr>\n",
       "    <tr>\n",
       "      <th>4</th>\n",
       "      <td>Smokin Out The Window</td>\n",
       "      <td>Silk Sonic (Bruno Mars &amp; Anderson .Paak)</td>\n",
       "    </tr>\n",
       "    <tr>\n",
       "      <th>...</th>\n",
       "      <td>...</td>\n",
       "      <td>...</td>\n",
       "    </tr>\n",
       "    <tr>\n",
       "      <th>95</th>\n",
       "      <td>Moth To A Flame</td>\n",
       "      <td>Swedish House Mafia &amp; The Weeknd</td>\n",
       "    </tr>\n",
       "    <tr>\n",
       "      <th>96</th>\n",
       "      <td>'Til You Can't</td>\n",
       "      <td>Cody Johnson</td>\n",
       "    </tr>\n",
       "    <tr>\n",
       "      <th>97</th>\n",
       "      <td>Woman</td>\n",
       "      <td>Doja Cat</td>\n",
       "    </tr>\n",
       "    <tr>\n",
       "      <th>98</th>\n",
       "      <td>Take My Breath</td>\n",
       "      <td>The Weeknd</td>\n",
       "    </tr>\n",
       "    <tr>\n",
       "      <th>99</th>\n",
       "      <td>For Tonight</td>\n",
       "      <td>Giveon</td>\n",
       "    </tr>\n",
       "  </tbody>\n",
       "</table>\n",
       "<p>100 rows × 2 columns</p>\n",
       "</div>"
      ],
      "text/plain": [
       "                              Title                                    Artist\n",
       "0   All Too Well (Taylor's Version)                              Taylor Swift\n",
       "1                        Easy On Me                                     Adele\n",
       "2                              Stay             The Kid LAROI & Justin Bieber\n",
       "3                     Industry Baby                   Lil Nas X & Jack Harlow\n",
       "4             Smokin Out The Window  Silk Sonic (Bruno Mars & Anderson .Paak)\n",
       "..                              ...                                       ...\n",
       "95                  Moth To A Flame          Swedish House Mafia & The Weeknd\n",
       "96                   'Til You Can't                              Cody Johnson\n",
       "97                            Woman                                  Doja Cat\n",
       "98                   Take My Breath                                The Weeknd\n",
       "99                      For Tonight                                    Giveon\n",
       "\n",
       "[100 rows x 2 columns]"
      ]
     },
     "execution_count": 30,
     "metadata": {},
     "output_type": "execute_result"
    }
   ],
   "source": [
    "songs_top100"
   ]
  },
  {
   "cell_type": "code",
   "execution_count": 31,
   "id": "5ecdeaee",
   "metadata": {},
   "outputs": [
    {
     "data": {
      "text/html": [
       "<div>\n",
       "<style scoped>\n",
       "    .dataframe tbody tr th:only-of-type {\n",
       "        vertical-align: middle;\n",
       "    }\n",
       "\n",
       "    .dataframe tbody tr th {\n",
       "        vertical-align: top;\n",
       "    }\n",
       "\n",
       "    .dataframe thead th {\n",
       "        text-align: right;\n",
       "    }\n",
       "</style>\n",
       "<table border=\"1\" class=\"dataframe\">\n",
       "  <thead>\n",
       "    <tr style=\"text-align: right;\">\n",
       "      <th></th>\n",
       "      <th>Title</th>\n",
       "      <th>Artist</th>\n",
       "    </tr>\n",
       "  </thead>\n",
       "  <tbody>\n",
       "    <tr>\n",
       "      <th>0</th>\n",
       "      <td>Easy On Me</td>\n",
       "      <td>Adele</td>\n",
       "    </tr>\n",
       "    <tr>\n",
       "      <th>1</th>\n",
       "      <td>Cold Heart (PNAU Remix)</td>\n",
       "      <td>Elton John &amp; Dua Lipa</td>\n",
       "    </tr>\n",
       "    <tr>\n",
       "      <th>2</th>\n",
       "      <td>abcdefu</td>\n",
       "      <td>GAYLE</td>\n",
       "    </tr>\n",
       "    <tr>\n",
       "      <th>3</th>\n",
       "      <td>Shivers</td>\n",
       "      <td>Ed Sheeran</td>\n",
       "    </tr>\n",
       "    <tr>\n",
       "      <th>4</th>\n",
       "      <td>I AM WOMAN</td>\n",
       "      <td>Emmy Meli</td>\n",
       "    </tr>\n",
       "    <tr>\n",
       "      <th>...</th>\n",
       "      <td>...</td>\n",
       "      <td>...</td>\n",
       "    </tr>\n",
       "    <tr>\n",
       "      <th>95</th>\n",
       "      <td>I Only Have Eyes for You</td>\n",
       "      <td>The Flamingos</td>\n",
       "    </tr>\n",
       "    <tr>\n",
       "      <th>96</th>\n",
       "      <td>Levitating</td>\n",
       "      <td>Dua Lipa</td>\n",
       "    </tr>\n",
       "    <tr>\n",
       "      <th>97</th>\n",
       "      <td>Still Falling for You (From \"Bridget Jones's B...</td>\n",
       "      <td>Ellie Goulding</td>\n",
       "    </tr>\n",
       "    <tr>\n",
       "      <th>98</th>\n",
       "      <td>Love Again</td>\n",
       "      <td>Dua Lipa</td>\n",
       "    </tr>\n",
       "    <tr>\n",
       "      <th>99</th>\n",
       "      <td>Dust In The Wind (The Voice Performance)</td>\n",
       "      <td>Girl Named Tom</td>\n",
       "    </tr>\n",
       "  </tbody>\n",
       "</table>\n",
       "<p>100 rows × 2 columns</p>\n",
       "</div>"
      ],
      "text/plain": [
       "                                                Title                 Artist\n",
       "0                                          Easy On Me                  Adele\n",
       "1                             Cold Heart (PNAU Remix)  Elton John & Dua Lipa\n",
       "2                                             abcdefu                  GAYLE\n",
       "3                                             Shivers             Ed Sheeran\n",
       "4                                          I AM WOMAN              Emmy Meli\n",
       "..                                                ...                    ...\n",
       "95                           I Only Have Eyes for You          The Flamingos\n",
       "96                                         Levitating               Dua Lipa\n",
       "97  Still Falling for You (From \"Bridget Jones's B...         Ellie Goulding\n",
       "98                                         Love Again               Dua Lipa\n",
       "99           Dust In The Wind (The Voice Performance)         Girl Named Tom\n",
       "\n",
       "[100 rows x 2 columns]"
      ]
     },
     "execution_count": 31,
     "metadata": {},
     "output_type": "execute_result"
    }
   ],
   "source": [
    "popsongs_top100"
   ]
  },
  {
   "cell_type": "markdown",
   "id": "3422ebcd",
   "metadata": {},
   "source": [
    "### merging the two tables, then drop the nulls and see which of them are in common so we know how many POP songs are in total in the global 100 2021 top songs"
   ]
  },
  {
   "cell_type": "code",
   "execution_count": 32,
   "id": "f9fa2b00",
   "metadata": {},
   "outputs": [],
   "source": [
    "df_new = pd.merge(songs_top100, popsongs_top100, on='Title', how='outer')"
   ]
  },
  {
   "cell_type": "code",
   "execution_count": 33,
   "id": "34124eaf",
   "metadata": {},
   "outputs": [
    {
     "data": {
      "text/html": [
       "<div>\n",
       "<style scoped>\n",
       "    .dataframe tbody tr th:only-of-type {\n",
       "        vertical-align: middle;\n",
       "    }\n",
       "\n",
       "    .dataframe tbody tr th {\n",
       "        vertical-align: top;\n",
       "    }\n",
       "\n",
       "    .dataframe thead th {\n",
       "        text-align: right;\n",
       "    }\n",
       "</style>\n",
       "<table border=\"1\" class=\"dataframe\">\n",
       "  <thead>\n",
       "    <tr style=\"text-align: right;\">\n",
       "      <th></th>\n",
       "      <th>Title</th>\n",
       "      <th>Artist_x</th>\n",
       "      <th>Artist_y</th>\n",
       "    </tr>\n",
       "  </thead>\n",
       "  <tbody>\n",
       "    <tr>\n",
       "      <th>0</th>\n",
       "      <td>All Too Well (Taylor's Version)</td>\n",
       "      <td>Taylor Swift</td>\n",
       "      <td>Taylor Swift</td>\n",
       "    </tr>\n",
       "    <tr>\n",
       "      <th>1</th>\n",
       "      <td>Easy On Me</td>\n",
       "      <td>Adele</td>\n",
       "      <td>Adele</td>\n",
       "    </tr>\n",
       "    <tr>\n",
       "      <th>2</th>\n",
       "      <td>Stay</td>\n",
       "      <td>The Kid LAROI &amp; Justin Bieber</td>\n",
       "      <td>NaN</td>\n",
       "    </tr>\n",
       "    <tr>\n",
       "      <th>3</th>\n",
       "      <td>Industry Baby</td>\n",
       "      <td>Lil Nas X &amp; Jack Harlow</td>\n",
       "      <td>NaN</td>\n",
       "    </tr>\n",
       "    <tr>\n",
       "      <th>4</th>\n",
       "      <td>Smokin Out The Window</td>\n",
       "      <td>Silk Sonic (Bruno Mars &amp; Anderson .Paak)</td>\n",
       "      <td>NaN</td>\n",
       "    </tr>\n",
       "    <tr>\n",
       "      <th>...</th>\n",
       "      <td>...</td>\n",
       "      <td>...</td>\n",
       "      <td>...</td>\n",
       "    </tr>\n",
       "    <tr>\n",
       "      <th>183</th>\n",
       "      <td>Cry Your Heart Out</td>\n",
       "      <td>NaN</td>\n",
       "      <td>Adele</td>\n",
       "    </tr>\n",
       "    <tr>\n",
       "      <th>184</th>\n",
       "      <td>Shape of You</td>\n",
       "      <td>NaN</td>\n",
       "      <td>Ed Sheeran</td>\n",
       "    </tr>\n",
       "    <tr>\n",
       "      <th>185</th>\n",
       "      <td>I Only Have Eyes for You</td>\n",
       "      <td>NaN</td>\n",
       "      <td>The Flamingos</td>\n",
       "    </tr>\n",
       "    <tr>\n",
       "      <th>186</th>\n",
       "      <td>Still Falling for You (From \"Bridget Jones's B...</td>\n",
       "      <td>NaN</td>\n",
       "      <td>Ellie Goulding</td>\n",
       "    </tr>\n",
       "    <tr>\n",
       "      <th>187</th>\n",
       "      <td>Dust In The Wind (The Voice Performance)</td>\n",
       "      <td>NaN</td>\n",
       "      <td>Girl Named Tom</td>\n",
       "    </tr>\n",
       "  </tbody>\n",
       "</table>\n",
       "<p>188 rows × 3 columns</p>\n",
       "</div>"
      ],
      "text/plain": [
       "                                                 Title  \\\n",
       "0                      All Too Well (Taylor's Version)   \n",
       "1                                           Easy On Me   \n",
       "2                                                 Stay   \n",
       "3                                        Industry Baby   \n",
       "4                                Smokin Out The Window   \n",
       "..                                                 ...   \n",
       "183                                 Cry Your Heart Out   \n",
       "184                                       Shape of You   \n",
       "185                           I Only Have Eyes for You   \n",
       "186  Still Falling for You (From \"Bridget Jones's B...   \n",
       "187           Dust In The Wind (The Voice Performance)   \n",
       "\n",
       "                                     Artist_x        Artist_y  \n",
       "0                                Taylor Swift    Taylor Swift  \n",
       "1                                       Adele           Adele  \n",
       "2               The Kid LAROI & Justin Bieber             NaN  \n",
       "3                     Lil Nas X & Jack Harlow             NaN  \n",
       "4    Silk Sonic (Bruno Mars & Anderson .Paak)             NaN  \n",
       "..                                        ...             ...  \n",
       "183                                       NaN           Adele  \n",
       "184                                       NaN      Ed Sheeran  \n",
       "185                                       NaN   The Flamingos  \n",
       "186                                       NaN  Ellie Goulding  \n",
       "187                                       NaN  Girl Named Tom  \n",
       "\n",
       "[188 rows x 3 columns]"
      ]
     },
     "execution_count": 33,
     "metadata": {},
     "output_type": "execute_result"
    }
   ],
   "source": [
    "df_new"
   ]
  },
  {
   "cell_type": "code",
   "execution_count": 34,
   "id": "9fa632c9",
   "metadata": {},
   "outputs": [],
   "source": [
    "df_new2=df_new.dropna()"
   ]
  },
  {
   "cell_type": "code",
   "execution_count": 35,
   "id": "b6719092",
   "metadata": {},
   "outputs": [
    {
     "data": {
      "text/html": [
       "<div>\n",
       "<style scoped>\n",
       "    .dataframe tbody tr th:only-of-type {\n",
       "        vertical-align: middle;\n",
       "    }\n",
       "\n",
       "    .dataframe tbody tr th {\n",
       "        vertical-align: top;\n",
       "    }\n",
       "\n",
       "    .dataframe thead th {\n",
       "        text-align: right;\n",
       "    }\n",
       "</style>\n",
       "<table border=\"1\" class=\"dataframe\">\n",
       "  <thead>\n",
       "    <tr style=\"text-align: right;\">\n",
       "      <th></th>\n",
       "      <th>Title</th>\n",
       "      <th>Artist_x</th>\n",
       "      <th>Artist_y</th>\n",
       "    </tr>\n",
       "  </thead>\n",
       "  <tbody>\n",
       "    <tr>\n",
       "      <th>0</th>\n",
       "      <td>All Too Well (Taylor's Version)</td>\n",
       "      <td>Taylor Swift</td>\n",
       "      <td>Taylor Swift</td>\n",
       "    </tr>\n",
       "    <tr>\n",
       "      <th>1</th>\n",
       "      <td>Easy On Me</td>\n",
       "      <td>Adele</td>\n",
       "      <td>Adele</td>\n",
       "    </tr>\n",
       "    <tr>\n",
       "      <th>5</th>\n",
       "      <td>Bad Habits</td>\n",
       "      <td>Ed Sheeran</td>\n",
       "      <td>Ed Sheeran</td>\n",
       "    </tr>\n",
       "    <tr>\n",
       "      <th>6</th>\n",
       "      <td>Bad Habits</td>\n",
       "      <td>Ed Sheeran</td>\n",
       "      <td>Ed Sheeran</td>\n",
       "    </tr>\n",
       "    <tr>\n",
       "      <th>7</th>\n",
       "      <td>Shivers</td>\n",
       "      <td>Ed Sheeran</td>\n",
       "      <td>Ed Sheeran</td>\n",
       "    </tr>\n",
       "    <tr>\n",
       "      <th>9</th>\n",
       "      <td>Need To Know</td>\n",
       "      <td>Doja Cat</td>\n",
       "      <td>Doja Cat</td>\n",
       "    </tr>\n",
       "    <tr>\n",
       "      <th>11</th>\n",
       "      <td>Cold Heart (PNAU Remix)</td>\n",
       "      <td>Elton John &amp; Dua Lipa</td>\n",
       "      <td>Elton John &amp; Dua Lipa</td>\n",
       "    </tr>\n",
       "    <tr>\n",
       "      <th>12</th>\n",
       "      <td>Cold Heart (PNAU Remix)</td>\n",
       "      <td>Elton John &amp; Dua Lipa</td>\n",
       "      <td>Elton John &amp; Dua Lipa</td>\n",
       "    </tr>\n",
       "    <tr>\n",
       "      <th>15</th>\n",
       "      <td>You Right</td>\n",
       "      <td>Doja Cat &amp; The Weeknd</td>\n",
       "      <td>Doja Cat &amp; The Weeknd</td>\n",
       "    </tr>\n",
       "    <tr>\n",
       "      <th>18</th>\n",
       "      <td>Levitating</td>\n",
       "      <td>Dua Lipa</td>\n",
       "      <td>Dua Lipa</td>\n",
       "    </tr>\n",
       "    <tr>\n",
       "      <th>19</th>\n",
       "      <td>Levitating</td>\n",
       "      <td>Dua Lipa</td>\n",
       "      <td>Dua Lipa</td>\n",
       "    </tr>\n",
       "    <tr>\n",
       "      <th>31</th>\n",
       "      <td>Better Days</td>\n",
       "      <td>NEIKED X Mae Muller X Polo G</td>\n",
       "      <td>NEIKED, Mae Muller &amp; Polo G</td>\n",
       "    </tr>\n",
       "    <tr>\n",
       "      <th>35</th>\n",
       "      <td>Ghost</td>\n",
       "      <td>Justin Bieber</td>\n",
       "      <td>Justin Bieber</td>\n",
       "    </tr>\n",
       "    <tr>\n",
       "      <th>39</th>\n",
       "      <td>My Universe</td>\n",
       "      <td>Coldplay x BTS</td>\n",
       "      <td>Coldplay X BTS</td>\n",
       "    </tr>\n",
       "    <tr>\n",
       "      <th>40</th>\n",
       "      <td>My Universe</td>\n",
       "      <td>Coldplay x BTS</td>\n",
       "      <td>Coldplay X BTS</td>\n",
       "    </tr>\n",
       "    <tr>\n",
       "      <th>48</th>\n",
       "      <td>Message In A Bottle (Taylor's Version) (From T...</td>\n",
       "      <td>Taylor Swift</td>\n",
       "      <td>Taylor Swift</td>\n",
       "    </tr>\n",
       "  </tbody>\n",
       "</table>\n",
       "</div>"
      ],
      "text/plain": [
       "                                                Title  \\\n",
       "0                     All Too Well (Taylor's Version)   \n",
       "1                                          Easy On Me   \n",
       "5                                          Bad Habits   \n",
       "6                                          Bad Habits   \n",
       "7                                             Shivers   \n",
       "9                                        Need To Know   \n",
       "11                            Cold Heart (PNAU Remix)   \n",
       "12                            Cold Heart (PNAU Remix)   \n",
       "15                                          You Right   \n",
       "18                                         Levitating   \n",
       "19                                         Levitating   \n",
       "31                                        Better Days   \n",
       "35                                              Ghost   \n",
       "39                                        My Universe   \n",
       "40                                        My Universe   \n",
       "48  Message In A Bottle (Taylor's Version) (From T...   \n",
       "\n",
       "                        Artist_x                     Artist_y  \n",
       "0                   Taylor Swift                 Taylor Swift  \n",
       "1                          Adele                        Adele  \n",
       "5                     Ed Sheeran                   Ed Sheeran  \n",
       "6                     Ed Sheeran                   Ed Sheeran  \n",
       "7                     Ed Sheeran                   Ed Sheeran  \n",
       "9                       Doja Cat                     Doja Cat  \n",
       "11         Elton John & Dua Lipa        Elton John & Dua Lipa  \n",
       "12         Elton John & Dua Lipa        Elton John & Dua Lipa  \n",
       "15         Doja Cat & The Weeknd        Doja Cat & The Weeknd  \n",
       "18                      Dua Lipa                     Dua Lipa  \n",
       "19                      Dua Lipa                     Dua Lipa  \n",
       "31  NEIKED X Mae Muller X Polo G  NEIKED, Mae Muller & Polo G  \n",
       "35                 Justin Bieber                Justin Bieber  \n",
       "39                Coldplay x BTS               Coldplay X BTS  \n",
       "40                Coldplay x BTS               Coldplay X BTS  \n",
       "48                  Taylor Swift                 Taylor Swift  "
      ]
     },
     "execution_count": 35,
     "metadata": {},
     "output_type": "execute_result"
    }
   ],
   "source": [
    "df_new2"
   ]
  },
  {
   "cell_type": "code",
   "execution_count": 36,
   "id": "42987106",
   "metadata": {},
   "outputs": [],
   "source": [
    "# the ones left are pop, so we add the colunm pop\n",
    "df_new2.insert(3, 'Genre', 'pop') "
   ]
  },
  {
   "cell_type": "code",
   "execution_count": 37,
   "id": "dbf18db2",
   "metadata": {},
   "outputs": [
    {
     "name": "stdout",
     "output_type": "stream",
     "text": [
      "<class 'pandas.core.frame.DataFrame'>\n",
      "Int64Index: 16 entries, 0 to 48\n",
      "Data columns (total 4 columns):\n",
      " #   Column    Non-Null Count  Dtype \n",
      "---  ------    --------------  ----- \n",
      " 0   Title     16 non-null     object\n",
      " 1   Artist_x  16 non-null     object\n",
      " 2   Artist_y  16 non-null     object\n",
      " 3   Genre     16 non-null     object\n",
      "dtypes: object(4)\n",
      "memory usage: 640.0+ bytes\n"
     ]
    }
   ],
   "source": [
    "df_new2.info()"
   ]
  },
  {
   "cell_type": "code",
   "execution_count": 38,
   "id": "47890817",
   "metadata": {},
   "outputs": [
    {
     "data": {
      "text/html": [
       "<div>\n",
       "<style scoped>\n",
       "    .dataframe tbody tr th:only-of-type {\n",
       "        vertical-align: middle;\n",
       "    }\n",
       "\n",
       "    .dataframe tbody tr th {\n",
       "        vertical-align: top;\n",
       "    }\n",
       "\n",
       "    .dataframe thead th {\n",
       "        text-align: right;\n",
       "    }\n",
       "</style>\n",
       "<table border=\"1\" class=\"dataframe\">\n",
       "  <thead>\n",
       "    <tr style=\"text-align: right;\">\n",
       "      <th></th>\n",
       "      <th>Title</th>\n",
       "      <th>Artist_x</th>\n",
       "      <th>Artist_y</th>\n",
       "      <th>Genre</th>\n",
       "    </tr>\n",
       "  </thead>\n",
       "  <tbody>\n",
       "    <tr>\n",
       "      <th>0</th>\n",
       "      <td>All Too Well (Taylor's Version)</td>\n",
       "      <td>Taylor Swift</td>\n",
       "      <td>Taylor Swift</td>\n",
       "      <td>pop</td>\n",
       "    </tr>\n",
       "    <tr>\n",
       "      <th>1</th>\n",
       "      <td>Easy On Me</td>\n",
       "      <td>Adele</td>\n",
       "      <td>Adele</td>\n",
       "      <td>pop</td>\n",
       "    </tr>\n",
       "    <tr>\n",
       "      <th>5</th>\n",
       "      <td>Bad Habits</td>\n",
       "      <td>Ed Sheeran</td>\n",
       "      <td>Ed Sheeran</td>\n",
       "      <td>pop</td>\n",
       "    </tr>\n",
       "    <tr>\n",
       "      <th>6</th>\n",
       "      <td>Bad Habits</td>\n",
       "      <td>Ed Sheeran</td>\n",
       "      <td>Ed Sheeran</td>\n",
       "      <td>pop</td>\n",
       "    </tr>\n",
       "    <tr>\n",
       "      <th>7</th>\n",
       "      <td>Shivers</td>\n",
       "      <td>Ed Sheeran</td>\n",
       "      <td>Ed Sheeran</td>\n",
       "      <td>pop</td>\n",
       "    </tr>\n",
       "    <tr>\n",
       "      <th>9</th>\n",
       "      <td>Need To Know</td>\n",
       "      <td>Doja Cat</td>\n",
       "      <td>Doja Cat</td>\n",
       "      <td>pop</td>\n",
       "    </tr>\n",
       "    <tr>\n",
       "      <th>11</th>\n",
       "      <td>Cold Heart (PNAU Remix)</td>\n",
       "      <td>Elton John &amp; Dua Lipa</td>\n",
       "      <td>Elton John &amp; Dua Lipa</td>\n",
       "      <td>pop</td>\n",
       "    </tr>\n",
       "    <tr>\n",
       "      <th>12</th>\n",
       "      <td>Cold Heart (PNAU Remix)</td>\n",
       "      <td>Elton John &amp; Dua Lipa</td>\n",
       "      <td>Elton John &amp; Dua Lipa</td>\n",
       "      <td>pop</td>\n",
       "    </tr>\n",
       "    <tr>\n",
       "      <th>15</th>\n",
       "      <td>You Right</td>\n",
       "      <td>Doja Cat &amp; The Weeknd</td>\n",
       "      <td>Doja Cat &amp; The Weeknd</td>\n",
       "      <td>pop</td>\n",
       "    </tr>\n",
       "    <tr>\n",
       "      <th>18</th>\n",
       "      <td>Levitating</td>\n",
       "      <td>Dua Lipa</td>\n",
       "      <td>Dua Lipa</td>\n",
       "      <td>pop</td>\n",
       "    </tr>\n",
       "    <tr>\n",
       "      <th>19</th>\n",
       "      <td>Levitating</td>\n",
       "      <td>Dua Lipa</td>\n",
       "      <td>Dua Lipa</td>\n",
       "      <td>pop</td>\n",
       "    </tr>\n",
       "    <tr>\n",
       "      <th>31</th>\n",
       "      <td>Better Days</td>\n",
       "      <td>NEIKED X Mae Muller X Polo G</td>\n",
       "      <td>NEIKED, Mae Muller &amp; Polo G</td>\n",
       "      <td>pop</td>\n",
       "    </tr>\n",
       "    <tr>\n",
       "      <th>35</th>\n",
       "      <td>Ghost</td>\n",
       "      <td>Justin Bieber</td>\n",
       "      <td>Justin Bieber</td>\n",
       "      <td>pop</td>\n",
       "    </tr>\n",
       "    <tr>\n",
       "      <th>39</th>\n",
       "      <td>My Universe</td>\n",
       "      <td>Coldplay x BTS</td>\n",
       "      <td>Coldplay X BTS</td>\n",
       "      <td>pop</td>\n",
       "    </tr>\n",
       "    <tr>\n",
       "      <th>40</th>\n",
       "      <td>My Universe</td>\n",
       "      <td>Coldplay x BTS</td>\n",
       "      <td>Coldplay X BTS</td>\n",
       "      <td>pop</td>\n",
       "    </tr>\n",
       "    <tr>\n",
       "      <th>48</th>\n",
       "      <td>Message In A Bottle (Taylor's Version) (From T...</td>\n",
       "      <td>Taylor Swift</td>\n",
       "      <td>Taylor Swift</td>\n",
       "      <td>pop</td>\n",
       "    </tr>\n",
       "  </tbody>\n",
       "</table>\n",
       "</div>"
      ],
      "text/plain": [
       "                                                Title  \\\n",
       "0                     All Too Well (Taylor's Version)   \n",
       "1                                          Easy On Me   \n",
       "5                                          Bad Habits   \n",
       "6                                          Bad Habits   \n",
       "7                                             Shivers   \n",
       "9                                        Need To Know   \n",
       "11                            Cold Heart (PNAU Remix)   \n",
       "12                            Cold Heart (PNAU Remix)   \n",
       "15                                          You Right   \n",
       "18                                         Levitating   \n",
       "19                                         Levitating   \n",
       "31                                        Better Days   \n",
       "35                                              Ghost   \n",
       "39                                        My Universe   \n",
       "40                                        My Universe   \n",
       "48  Message In A Bottle (Taylor's Version) (From T...   \n",
       "\n",
       "                        Artist_x                     Artist_y Genre  \n",
       "0                   Taylor Swift                 Taylor Swift   pop  \n",
       "1                          Adele                        Adele   pop  \n",
       "5                     Ed Sheeran                   Ed Sheeran   pop  \n",
       "6                     Ed Sheeran                   Ed Sheeran   pop  \n",
       "7                     Ed Sheeran                   Ed Sheeran   pop  \n",
       "9                       Doja Cat                     Doja Cat   pop  \n",
       "11         Elton John & Dua Lipa        Elton John & Dua Lipa   pop  \n",
       "12         Elton John & Dua Lipa        Elton John & Dua Lipa   pop  \n",
       "15         Doja Cat & The Weeknd        Doja Cat & The Weeknd   pop  \n",
       "18                      Dua Lipa                     Dua Lipa   pop  \n",
       "19                      Dua Lipa                     Dua Lipa   pop  \n",
       "31  NEIKED X Mae Muller X Polo G  NEIKED, Mae Muller & Polo G   pop  \n",
       "35                 Justin Bieber                Justin Bieber   pop  \n",
       "39                Coldplay x BTS               Coldplay X BTS   pop  \n",
       "40                Coldplay x BTS               Coldplay X BTS   pop  \n",
       "48                  Taylor Swift                 Taylor Swift   pop  "
      ]
     },
     "execution_count": 38,
     "metadata": {},
     "output_type": "execute_result"
    }
   ],
   "source": [
    "df_new2"
   ]
  },
  {
   "cell_type": "code",
   "execution_count": 39,
   "id": "37e810b2",
   "metadata": {},
   "outputs": [
    {
     "name": "stderr",
     "output_type": "stream",
     "text": [
      "/Users/vonate/opt/anaconda3/lib/python3.8/site-packages/pandas/core/frame.py:4308: SettingWithCopyWarning: \n",
      "A value is trying to be set on a copy of a slice from a DataFrame\n",
      "\n",
      "See the caveats in the documentation: https://pandas.pydata.org/pandas-docs/stable/user_guide/indexing.html#returning-a-view-versus-a-copy\n",
      "  return super().drop(\n"
     ]
    }
   ],
   "source": [
    "# dropping the artist_y column\n",
    "df_new2.drop(['Artist_y'], axis = 1, inplace = True) "
   ]
  },
  {
   "cell_type": "code",
   "execution_count": 40,
   "id": "0430be8c",
   "metadata": {},
   "outputs": [
    {
     "data": {
      "text/html": [
       "<div>\n",
       "<style scoped>\n",
       "    .dataframe tbody tr th:only-of-type {\n",
       "        vertical-align: middle;\n",
       "    }\n",
       "\n",
       "    .dataframe tbody tr th {\n",
       "        vertical-align: top;\n",
       "    }\n",
       "\n",
       "    .dataframe thead th {\n",
       "        text-align: right;\n",
       "    }\n",
       "</style>\n",
       "<table border=\"1\" class=\"dataframe\">\n",
       "  <thead>\n",
       "    <tr style=\"text-align: right;\">\n",
       "      <th></th>\n",
       "      <th>Title</th>\n",
       "      <th>Artist_x</th>\n",
       "      <th>Genre</th>\n",
       "    </tr>\n",
       "  </thead>\n",
       "  <tbody>\n",
       "    <tr>\n",
       "      <th>0</th>\n",
       "      <td>All Too Well (Taylor's Version)</td>\n",
       "      <td>Taylor Swift</td>\n",
       "      <td>pop</td>\n",
       "    </tr>\n",
       "    <tr>\n",
       "      <th>1</th>\n",
       "      <td>Easy On Me</td>\n",
       "      <td>Adele</td>\n",
       "      <td>pop</td>\n",
       "    </tr>\n",
       "    <tr>\n",
       "      <th>5</th>\n",
       "      <td>Bad Habits</td>\n",
       "      <td>Ed Sheeran</td>\n",
       "      <td>pop</td>\n",
       "    </tr>\n",
       "    <tr>\n",
       "      <th>6</th>\n",
       "      <td>Bad Habits</td>\n",
       "      <td>Ed Sheeran</td>\n",
       "      <td>pop</td>\n",
       "    </tr>\n",
       "    <tr>\n",
       "      <th>7</th>\n",
       "      <td>Shivers</td>\n",
       "      <td>Ed Sheeran</td>\n",
       "      <td>pop</td>\n",
       "    </tr>\n",
       "    <tr>\n",
       "      <th>9</th>\n",
       "      <td>Need To Know</td>\n",
       "      <td>Doja Cat</td>\n",
       "      <td>pop</td>\n",
       "    </tr>\n",
       "    <tr>\n",
       "      <th>11</th>\n",
       "      <td>Cold Heart (PNAU Remix)</td>\n",
       "      <td>Elton John &amp; Dua Lipa</td>\n",
       "      <td>pop</td>\n",
       "    </tr>\n",
       "    <tr>\n",
       "      <th>12</th>\n",
       "      <td>Cold Heart (PNAU Remix)</td>\n",
       "      <td>Elton John &amp; Dua Lipa</td>\n",
       "      <td>pop</td>\n",
       "    </tr>\n",
       "    <tr>\n",
       "      <th>15</th>\n",
       "      <td>You Right</td>\n",
       "      <td>Doja Cat &amp; The Weeknd</td>\n",
       "      <td>pop</td>\n",
       "    </tr>\n",
       "    <tr>\n",
       "      <th>18</th>\n",
       "      <td>Levitating</td>\n",
       "      <td>Dua Lipa</td>\n",
       "      <td>pop</td>\n",
       "    </tr>\n",
       "    <tr>\n",
       "      <th>19</th>\n",
       "      <td>Levitating</td>\n",
       "      <td>Dua Lipa</td>\n",
       "      <td>pop</td>\n",
       "    </tr>\n",
       "    <tr>\n",
       "      <th>31</th>\n",
       "      <td>Better Days</td>\n",
       "      <td>NEIKED X Mae Muller X Polo G</td>\n",
       "      <td>pop</td>\n",
       "    </tr>\n",
       "    <tr>\n",
       "      <th>35</th>\n",
       "      <td>Ghost</td>\n",
       "      <td>Justin Bieber</td>\n",
       "      <td>pop</td>\n",
       "    </tr>\n",
       "    <tr>\n",
       "      <th>39</th>\n",
       "      <td>My Universe</td>\n",
       "      <td>Coldplay x BTS</td>\n",
       "      <td>pop</td>\n",
       "    </tr>\n",
       "    <tr>\n",
       "      <th>40</th>\n",
       "      <td>My Universe</td>\n",
       "      <td>Coldplay x BTS</td>\n",
       "      <td>pop</td>\n",
       "    </tr>\n",
       "    <tr>\n",
       "      <th>48</th>\n",
       "      <td>Message In A Bottle (Taylor's Version) (From T...</td>\n",
       "      <td>Taylor Swift</td>\n",
       "      <td>pop</td>\n",
       "    </tr>\n",
       "  </tbody>\n",
       "</table>\n",
       "</div>"
      ],
      "text/plain": [
       "                                                Title  \\\n",
       "0                     All Too Well (Taylor's Version)   \n",
       "1                                          Easy On Me   \n",
       "5                                          Bad Habits   \n",
       "6                                          Bad Habits   \n",
       "7                                             Shivers   \n",
       "9                                        Need To Know   \n",
       "11                            Cold Heart (PNAU Remix)   \n",
       "12                            Cold Heart (PNAU Remix)   \n",
       "15                                          You Right   \n",
       "18                                         Levitating   \n",
       "19                                         Levitating   \n",
       "31                                        Better Days   \n",
       "35                                              Ghost   \n",
       "39                                        My Universe   \n",
       "40                                        My Universe   \n",
       "48  Message In A Bottle (Taylor's Version) (From T...   \n",
       "\n",
       "                        Artist_x Genre  \n",
       "0                   Taylor Swift   pop  \n",
       "1                          Adele   pop  \n",
       "5                     Ed Sheeran   pop  \n",
       "6                     Ed Sheeran   pop  \n",
       "7                     Ed Sheeran   pop  \n",
       "9                       Doja Cat   pop  \n",
       "11         Elton John & Dua Lipa   pop  \n",
       "12         Elton John & Dua Lipa   pop  \n",
       "15         Doja Cat & The Weeknd   pop  \n",
       "18                      Dua Lipa   pop  \n",
       "19                      Dua Lipa   pop  \n",
       "31  NEIKED X Mae Muller X Polo G   pop  \n",
       "35                 Justin Bieber   pop  \n",
       "39                Coldplay x BTS   pop  \n",
       "40                Coldplay x BTS   pop  \n",
       "48                  Taylor Swift   pop  "
      ]
     },
     "execution_count": 40,
     "metadata": {},
     "output_type": "execute_result"
    }
   ],
   "source": [
    "df_new2"
   ]
  },
  {
   "cell_type": "code",
   "execution_count": 42,
   "id": "ab307411",
   "metadata": {},
   "outputs": [
    {
     "name": "stderr",
     "output_type": "stream",
     "text": [
      "/Users/vonate/opt/anaconda3/lib/python3.8/site-packages/pandas/core/frame.py:4441: SettingWithCopyWarning: \n",
      "A value is trying to be set on a copy of a slice from a DataFrame\n",
      "\n",
      "See the caveats in the documentation: https://pandas.pydata.org/pandas-docs/stable/user_guide/indexing.html#returning-a-view-versus-a-copy\n",
      "  return super().rename(\n"
     ]
    }
   ],
   "source": [
    "# renaming\n",
    "df_new2.rename(columns={'Artist_x': 'Pop Artist',\n",
    "                   },\n",
    "          inplace=True, errors='raise')"
   ]
  },
  {
   "cell_type": "code",
   "execution_count": 43,
   "id": "4feb8b1e",
   "metadata": {
    "scrolled": true
   },
   "outputs": [
    {
     "data": {
      "text/html": [
       "<div>\n",
       "<style scoped>\n",
       "    .dataframe tbody tr th:only-of-type {\n",
       "        vertical-align: middle;\n",
       "    }\n",
       "\n",
       "    .dataframe tbody tr th {\n",
       "        vertical-align: top;\n",
       "    }\n",
       "\n",
       "    .dataframe thead th {\n",
       "        text-align: right;\n",
       "    }\n",
       "</style>\n",
       "<table border=\"1\" class=\"dataframe\">\n",
       "  <thead>\n",
       "    <tr style=\"text-align: right;\">\n",
       "      <th></th>\n",
       "      <th>Title</th>\n",
       "      <th>Pop Artist</th>\n",
       "      <th>Genre</th>\n",
       "    </tr>\n",
       "  </thead>\n",
       "  <tbody>\n",
       "    <tr>\n",
       "      <th>0</th>\n",
       "      <td>All Too Well (Taylor's Version)</td>\n",
       "      <td>Taylor Swift</td>\n",
       "      <td>pop</td>\n",
       "    </tr>\n",
       "    <tr>\n",
       "      <th>1</th>\n",
       "      <td>Easy On Me</td>\n",
       "      <td>Adele</td>\n",
       "      <td>pop</td>\n",
       "    </tr>\n",
       "    <tr>\n",
       "      <th>5</th>\n",
       "      <td>Bad Habits</td>\n",
       "      <td>Ed Sheeran</td>\n",
       "      <td>pop</td>\n",
       "    </tr>\n",
       "    <tr>\n",
       "      <th>6</th>\n",
       "      <td>Bad Habits</td>\n",
       "      <td>Ed Sheeran</td>\n",
       "      <td>pop</td>\n",
       "    </tr>\n",
       "    <tr>\n",
       "      <th>7</th>\n",
       "      <td>Shivers</td>\n",
       "      <td>Ed Sheeran</td>\n",
       "      <td>pop</td>\n",
       "    </tr>\n",
       "    <tr>\n",
       "      <th>9</th>\n",
       "      <td>Need To Know</td>\n",
       "      <td>Doja Cat</td>\n",
       "      <td>pop</td>\n",
       "    </tr>\n",
       "    <tr>\n",
       "      <th>11</th>\n",
       "      <td>Cold Heart (PNAU Remix)</td>\n",
       "      <td>Elton John &amp; Dua Lipa</td>\n",
       "      <td>pop</td>\n",
       "    </tr>\n",
       "    <tr>\n",
       "      <th>12</th>\n",
       "      <td>Cold Heart (PNAU Remix)</td>\n",
       "      <td>Elton John &amp; Dua Lipa</td>\n",
       "      <td>pop</td>\n",
       "    </tr>\n",
       "    <tr>\n",
       "      <th>15</th>\n",
       "      <td>You Right</td>\n",
       "      <td>Doja Cat &amp; The Weeknd</td>\n",
       "      <td>pop</td>\n",
       "    </tr>\n",
       "    <tr>\n",
       "      <th>18</th>\n",
       "      <td>Levitating</td>\n",
       "      <td>Dua Lipa</td>\n",
       "      <td>pop</td>\n",
       "    </tr>\n",
       "    <tr>\n",
       "      <th>19</th>\n",
       "      <td>Levitating</td>\n",
       "      <td>Dua Lipa</td>\n",
       "      <td>pop</td>\n",
       "    </tr>\n",
       "    <tr>\n",
       "      <th>31</th>\n",
       "      <td>Better Days</td>\n",
       "      <td>NEIKED X Mae Muller X Polo G</td>\n",
       "      <td>pop</td>\n",
       "    </tr>\n",
       "    <tr>\n",
       "      <th>35</th>\n",
       "      <td>Ghost</td>\n",
       "      <td>Justin Bieber</td>\n",
       "      <td>pop</td>\n",
       "    </tr>\n",
       "    <tr>\n",
       "      <th>39</th>\n",
       "      <td>My Universe</td>\n",
       "      <td>Coldplay x BTS</td>\n",
       "      <td>pop</td>\n",
       "    </tr>\n",
       "    <tr>\n",
       "      <th>40</th>\n",
       "      <td>My Universe</td>\n",
       "      <td>Coldplay x BTS</td>\n",
       "      <td>pop</td>\n",
       "    </tr>\n",
       "    <tr>\n",
       "      <th>48</th>\n",
       "      <td>Message In A Bottle (Taylor's Version) (From T...</td>\n",
       "      <td>Taylor Swift</td>\n",
       "      <td>pop</td>\n",
       "    </tr>\n",
       "  </tbody>\n",
       "</table>\n",
       "</div>"
      ],
      "text/plain": [
       "                                                Title  \\\n",
       "0                     All Too Well (Taylor's Version)   \n",
       "1                                          Easy On Me   \n",
       "5                                          Bad Habits   \n",
       "6                                          Bad Habits   \n",
       "7                                             Shivers   \n",
       "9                                        Need To Know   \n",
       "11                            Cold Heart (PNAU Remix)   \n",
       "12                            Cold Heart (PNAU Remix)   \n",
       "15                                          You Right   \n",
       "18                                         Levitating   \n",
       "19                                         Levitating   \n",
       "31                                        Better Days   \n",
       "35                                              Ghost   \n",
       "39                                        My Universe   \n",
       "40                                        My Universe   \n",
       "48  Message In A Bottle (Taylor's Version) (From T...   \n",
       "\n",
       "                      Pop Artist Genre  \n",
       "0                   Taylor Swift   pop  \n",
       "1                          Adele   pop  \n",
       "5                     Ed Sheeran   pop  \n",
       "6                     Ed Sheeran   pop  \n",
       "7                     Ed Sheeran   pop  \n",
       "9                       Doja Cat   pop  \n",
       "11         Elton John & Dua Lipa   pop  \n",
       "12         Elton John & Dua Lipa   pop  \n",
       "15         Doja Cat & The Weeknd   pop  \n",
       "18                      Dua Lipa   pop  \n",
       "19                      Dua Lipa   pop  \n",
       "31  NEIKED X Mae Muller X Polo G   pop  \n",
       "35                 Justin Bieber   pop  \n",
       "39                Coldplay x BTS   pop  \n",
       "40                Coldplay x BTS   pop  \n",
       "48                  Taylor Swift   pop  "
      ]
     },
     "execution_count": 43,
     "metadata": {},
     "output_type": "execute_result"
    }
   ],
   "source": [
    "df_new2"
   ]
  },
  {
   "cell_type": "code",
   "execution_count": 50,
   "id": "b82f2351",
   "metadata": {},
   "outputs": [],
   "source": [
    "# dropping duplicate\n",
    "df_new2 = df_new2.drop_duplicates()"
   ]
  },
  {
   "cell_type": "code",
   "execution_count": 51,
   "id": "e5cbbb37",
   "metadata": {},
   "outputs": [
    {
     "data": {
      "text/html": [
       "<div>\n",
       "<style scoped>\n",
       "    .dataframe tbody tr th:only-of-type {\n",
       "        vertical-align: middle;\n",
       "    }\n",
       "\n",
       "    .dataframe tbody tr th {\n",
       "        vertical-align: top;\n",
       "    }\n",
       "\n",
       "    .dataframe thead th {\n",
       "        text-align: right;\n",
       "    }\n",
       "</style>\n",
       "<table border=\"1\" class=\"dataframe\">\n",
       "  <thead>\n",
       "    <tr style=\"text-align: right;\">\n",
       "      <th></th>\n",
       "      <th>Title</th>\n",
       "      <th>Pop Artist</th>\n",
       "      <th>Genre</th>\n",
       "    </tr>\n",
       "  </thead>\n",
       "  <tbody>\n",
       "    <tr>\n",
       "      <th>0</th>\n",
       "      <td>All Too Well (Taylor's Version)</td>\n",
       "      <td>Taylor Swift</td>\n",
       "      <td>pop</td>\n",
       "    </tr>\n",
       "    <tr>\n",
       "      <th>1</th>\n",
       "      <td>Easy On Me</td>\n",
       "      <td>Adele</td>\n",
       "      <td>pop</td>\n",
       "    </tr>\n",
       "    <tr>\n",
       "      <th>5</th>\n",
       "      <td>Bad Habits</td>\n",
       "      <td>Ed Sheeran</td>\n",
       "      <td>pop</td>\n",
       "    </tr>\n",
       "    <tr>\n",
       "      <th>7</th>\n",
       "      <td>Shivers</td>\n",
       "      <td>Ed Sheeran</td>\n",
       "      <td>pop</td>\n",
       "    </tr>\n",
       "    <tr>\n",
       "      <th>9</th>\n",
       "      <td>Need To Know</td>\n",
       "      <td>Doja Cat</td>\n",
       "      <td>pop</td>\n",
       "    </tr>\n",
       "    <tr>\n",
       "      <th>11</th>\n",
       "      <td>Cold Heart (PNAU Remix)</td>\n",
       "      <td>Elton John &amp; Dua Lipa</td>\n",
       "      <td>pop</td>\n",
       "    </tr>\n",
       "    <tr>\n",
       "      <th>15</th>\n",
       "      <td>You Right</td>\n",
       "      <td>Doja Cat &amp; The Weeknd</td>\n",
       "      <td>pop</td>\n",
       "    </tr>\n",
       "    <tr>\n",
       "      <th>18</th>\n",
       "      <td>Levitating</td>\n",
       "      <td>Dua Lipa</td>\n",
       "      <td>pop</td>\n",
       "    </tr>\n",
       "    <tr>\n",
       "      <th>31</th>\n",
       "      <td>Better Days</td>\n",
       "      <td>NEIKED X Mae Muller X Polo G</td>\n",
       "      <td>pop</td>\n",
       "    </tr>\n",
       "    <tr>\n",
       "      <th>35</th>\n",
       "      <td>Ghost</td>\n",
       "      <td>Justin Bieber</td>\n",
       "      <td>pop</td>\n",
       "    </tr>\n",
       "    <tr>\n",
       "      <th>39</th>\n",
       "      <td>My Universe</td>\n",
       "      <td>Coldplay x BTS</td>\n",
       "      <td>pop</td>\n",
       "    </tr>\n",
       "    <tr>\n",
       "      <th>48</th>\n",
       "      <td>Message In A Bottle (Taylor's Version) (From T...</td>\n",
       "      <td>Taylor Swift</td>\n",
       "      <td>pop</td>\n",
       "    </tr>\n",
       "  </tbody>\n",
       "</table>\n",
       "</div>"
      ],
      "text/plain": [
       "                                                Title  \\\n",
       "0                     All Too Well (Taylor's Version)   \n",
       "1                                          Easy On Me   \n",
       "5                                          Bad Habits   \n",
       "7                                             Shivers   \n",
       "9                                        Need To Know   \n",
       "11                            Cold Heart (PNAU Remix)   \n",
       "15                                          You Right   \n",
       "18                                         Levitating   \n",
       "31                                        Better Days   \n",
       "35                                              Ghost   \n",
       "39                                        My Universe   \n",
       "48  Message In A Bottle (Taylor's Version) (From T...   \n",
       "\n",
       "                      Pop Artist Genre  \n",
       "0                   Taylor Swift   pop  \n",
       "1                          Adele   pop  \n",
       "5                     Ed Sheeran   pop  \n",
       "7                     Ed Sheeran   pop  \n",
       "9                       Doja Cat   pop  \n",
       "11         Elton John & Dua Lipa   pop  \n",
       "15         Doja Cat & The Weeknd   pop  \n",
       "18                      Dua Lipa   pop  \n",
       "31  NEIKED X Mae Muller X Polo G   pop  \n",
       "35                 Justin Bieber   pop  \n",
       "39                Coldplay x BTS   pop  \n",
       "48                  Taylor Swift   pop  "
      ]
     },
     "execution_count": 51,
     "metadata": {},
     "output_type": "execute_result"
    }
   ],
   "source": [
    "df_new2"
   ]
  },
  {
   "cell_type": "markdown",
   "id": "359eb142",
   "metadata": {},
   "source": [
    "### In the last Dataframe we obtain the Pop artist that appear in the \"All genres Top 100 playlist\""
   ]
  },
  {
   "cell_type": "code",
   "execution_count": null,
   "id": "e8338482",
   "metadata": {},
   "outputs": [],
   "source": []
  }
 ],
 "metadata": {
  "kernelspec": {
   "display_name": "Python 3",
   "language": "python",
   "name": "python3"
  },
  "language_info": {
   "codemirror_mode": {
    "name": "ipython",
    "version": 3
   },
   "file_extension": ".py",
   "mimetype": "text/x-python",
   "name": "python",
   "nbconvert_exporter": "python",
   "pygments_lexer": "ipython3",
   "version": "3.8.8"
  }
 },
 "nbformat": 4,
 "nbformat_minor": 5
}
