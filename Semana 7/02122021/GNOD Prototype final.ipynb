{
 "cells": [
  {
   "cell_type": "markdown",
   "id": "880c2cd3",
   "metadata": {},
   "source": [
    "### From a URL create a Dataframe"
   ]
  },
  {
   "cell_type": "code",
   "execution_count": 1,
   "id": "444745d6",
   "metadata": {},
   "outputs": [],
   "source": [
    "import pandas as pd\n",
    "from bs4 import BeautifulSoup\n",
    "import re\n",
    "import requests\n",
    "from tqdm.notebook import tqdm\n",
    "import random"
   ]
  },
  {
   "cell_type": "code",
   "execution_count": 2,
   "id": "627f3588",
   "metadata": {},
   "outputs": [],
   "source": [
    "url = \"https://www.billboard.com/charts/hot-100/\""
   ]
  },
  {
   "cell_type": "code",
   "execution_count": 3,
   "id": "b0af26b7",
   "metadata": {},
   "outputs": [],
   "source": [
    "top100 = requests.get(url)"
   ]
  },
  {
   "cell_type": "code",
   "execution_count": 4,
   "id": "ebc7cd9b",
   "metadata": {},
   "outputs": [
    {
     "data": {
      "text/plain": [
       "200"
      ]
     },
     "execution_count": 4,
     "metadata": {},
     "output_type": "execute_result"
    }
   ],
   "source": [
    "top100.status_code"
   ]
  },
  {
   "cell_type": "markdown",
   "id": "6f45ba7f",
   "metadata": {},
   "source": [
    "### Search for the songs in the URL"
   ]
  },
  {
   "cell_type": "code",
   "execution_count": 5,
   "id": "7eeefbf1",
   "metadata": {},
   "outputs": [],
   "source": [
    "soup=BeautifulSoup(top100.content,'html.parser')"
   ]
  },
  {
   "cell_type": "code",
   "execution_count": 6,
   "id": "1df54b59",
   "metadata": {},
   "outputs": [
    {
     "data": {
      "text/plain": [
       "'\\nEasy On Me\\n'"
      ]
     },
     "execution_count": 6,
     "metadata": {},
     "output_type": "execute_result"
    }
   ],
   "source": [
    "soup.select('h3.c-title.a-no-trucate')[0].text"
   ]
  },
  {
   "cell_type": "code",
   "execution_count": 7,
   "id": "2119faf1",
   "metadata": {},
   "outputs": [],
   "source": [
    "top100=len(soup.select('h3.c-title.a-no-trucate'))"
   ]
  },
  {
   "cell_type": "code",
   "execution_count": 8,
   "id": "65e66515",
   "metadata": {},
   "outputs": [
    {
     "data": {
      "text/plain": [
       "100"
      ]
     },
     "execution_count": 8,
     "metadata": {},
     "output_type": "execute_result"
    }
   ],
   "source": [
    "top100"
   ]
  },
  {
   "cell_type": "code",
   "execution_count": 9,
   "id": "81fd0bf2",
   "metadata": {},
   "outputs": [],
   "source": [
    "index = soup.select('h3.c-title.a-no-trucate')[0].get_text(strip=True)"
   ]
  },
  {
   "cell_type": "code",
   "execution_count": 10,
   "id": "85116bdc",
   "metadata": {},
   "outputs": [
    {
     "data": {
      "text/plain": [
       "'Easy On Me'"
      ]
     },
     "execution_count": 10,
     "metadata": {},
     "output_type": "execute_result"
    }
   ],
   "source": [
    "index"
   ]
  },
  {
   "cell_type": "markdown",
   "id": "d2eda3d3",
   "metadata": {},
   "source": [
    "### Search for the artists in the URL"
   ]
  },
  {
   "cell_type": "code",
   "execution_count": 11,
   "id": "d534481b",
   "metadata": {},
   "outputs": [
    {
     "data": {
      "text/plain": [
       "'Adele'"
      ]
     },
     "execution_count": 11,
     "metadata": {},
     "output_type": "execute_result"
    }
   ],
   "source": [
    "soup.select('span.c-label.a-no-trucate')[0].get_text(strip=True)"
   ]
  },
  {
   "cell_type": "code",
   "execution_count": 12,
   "id": "e80758eb",
   "metadata": {},
   "outputs": [
    {
     "data": {
      "text/plain": [
       "'The Weeknd'"
      ]
     },
     "execution_count": 12,
     "metadata": {},
     "output_type": "execute_result"
    }
   ],
   "source": [
    "soup.select('span.c-label.a-no-trucate')[99].get_text(strip=True)"
   ]
  },
  {
   "cell_type": "markdown",
   "id": "1675510f",
   "metadata": {},
   "source": [
    "### Create a DataFrame"
   ]
  },
  {
   "cell_type": "code",
   "execution_count": 13,
   "id": "513ca28d",
   "metadata": {},
   "outputs": [],
   "source": [
    "title = []\n",
    "artist = []"
   ]
  },
  {
   "cell_type": "code",
   "execution_count": 14,
   "id": "52027921",
   "metadata": {},
   "outputs": [
    {
     "data": {
      "application/vnd.jupyter.widget-view+json": {
       "model_id": "10360d4b8f814b49bf2a146bd4e1c8e0",
       "version_major": 2,
       "version_minor": 0
      },
      "text/plain": [
       "  0%|          | 0/100 [00:00<?, ?it/s]"
      ]
     },
     "metadata": {},
     "output_type": "display_data"
    }
   ],
   "source": [
    "for i in tqdm(range(top100)):\n",
    "    title.append(soup.select('h3.c-title.a-no-trucate')[i].get_text(strip=True))\n",
    "    artist.append(soup.select('span.c-label.a-no-trucate')[i].get_text(strip=True))"
   ]
  },
  {
   "cell_type": "code",
   "execution_count": 15,
   "id": "325b53c6",
   "metadata": {},
   "outputs": [],
   "source": [
    "songs_top100=pd.DataFrame({'Title':title,'Artist':artist})"
   ]
  },
  {
   "cell_type": "code",
   "execution_count": 16,
   "id": "51971a1a",
   "metadata": {},
   "outputs": [
    {
     "data": {
      "text/html": [
       "<div>\n",
       "<style scoped>\n",
       "    .dataframe tbody tr th:only-of-type {\n",
       "        vertical-align: middle;\n",
       "    }\n",
       "\n",
       "    .dataframe tbody tr th {\n",
       "        vertical-align: top;\n",
       "    }\n",
       "\n",
       "    .dataframe thead th {\n",
       "        text-align: right;\n",
       "    }\n",
       "</style>\n",
       "<table border=\"1\" class=\"dataframe\">\n",
       "  <thead>\n",
       "    <tr style=\"text-align: right;\">\n",
       "      <th></th>\n",
       "      <th>Title</th>\n",
       "      <th>Artist</th>\n",
       "    </tr>\n",
       "  </thead>\n",
       "  <tbody>\n",
       "    <tr>\n",
       "      <th>0</th>\n",
       "      <td>Easy On Me</td>\n",
       "      <td>Adele</td>\n",
       "    </tr>\n",
       "    <tr>\n",
       "      <th>1</th>\n",
       "      <td>Stay</td>\n",
       "      <td>The Kid LAROI &amp; Justin Bieber</td>\n",
       "    </tr>\n",
       "    <tr>\n",
       "      <th>2</th>\n",
       "      <td>Industry Baby</td>\n",
       "      <td>Lil Nas X &amp; Jack Harlow</td>\n",
       "    </tr>\n",
       "    <tr>\n",
       "      <th>3</th>\n",
       "      <td>All Too Well (Taylor's Version)</td>\n",
       "      <td>Taylor Swift</td>\n",
       "    </tr>\n",
       "    <tr>\n",
       "      <th>4</th>\n",
       "      <td>Oh My God</td>\n",
       "      <td>Adele</td>\n",
       "    </tr>\n",
       "    <tr>\n",
       "      <th>...</th>\n",
       "      <td>...</td>\n",
       "      <td>...</td>\n",
       "    </tr>\n",
       "    <tr>\n",
       "      <th>95</th>\n",
       "      <td>Too Easy</td>\n",
       "      <td>Gunna &amp; Future</td>\n",
       "    </tr>\n",
       "    <tr>\n",
       "      <th>96</th>\n",
       "      <td>Escape Plan</td>\n",
       "      <td>Travis Scott</td>\n",
       "    </tr>\n",
       "    <tr>\n",
       "      <th>97</th>\n",
       "      <td>Who's In Your Head</td>\n",
       "      <td>Jonas Brothers</td>\n",
       "    </tr>\n",
       "    <tr>\n",
       "      <th>98</th>\n",
       "      <td>Jugaste y Sufri</td>\n",
       "      <td>Eslabon Armado Featuring DannyLux</td>\n",
       "    </tr>\n",
       "    <tr>\n",
       "      <th>99</th>\n",
       "      <td>Take My Breath</td>\n",
       "      <td>The Weeknd</td>\n",
       "    </tr>\n",
       "  </tbody>\n",
       "</table>\n",
       "<p>100 rows × 2 columns</p>\n",
       "</div>"
      ],
      "text/plain": [
       "                              Title                             Artist\n",
       "0                        Easy On Me                              Adele\n",
       "1                              Stay      The Kid LAROI & Justin Bieber\n",
       "2                     Industry Baby            Lil Nas X & Jack Harlow\n",
       "3   All Too Well (Taylor's Version)                       Taylor Swift\n",
       "4                         Oh My God                              Adele\n",
       "..                              ...                                ...\n",
       "95                         Too Easy                     Gunna & Future\n",
       "96                      Escape Plan                       Travis Scott\n",
       "97               Who's In Your Head                     Jonas Brothers\n",
       "98                  Jugaste y Sufri  Eslabon Armado Featuring DannyLux\n",
       "99                   Take My Breath                         The Weeknd\n",
       "\n",
       "[100 rows x 2 columns]"
      ]
     },
     "execution_count": 16,
     "metadata": {},
     "output_type": "execute_result"
    }
   ],
   "source": [
    "songs_top100"
   ]
  },
  {
   "cell_type": "code",
   "execution_count": 17,
   "id": "d24c733a",
   "metadata": {},
   "outputs": [
    {
     "data": {
      "text/html": [
       "<div>\n",
       "<style scoped>\n",
       "    .dataframe tbody tr th:only-of-type {\n",
       "        vertical-align: middle;\n",
       "    }\n",
       "\n",
       "    .dataframe tbody tr th {\n",
       "        vertical-align: top;\n",
       "    }\n",
       "\n",
       "    .dataframe thead th {\n",
       "        text-align: right;\n",
       "    }\n",
       "</style>\n",
       "<table border=\"1\" class=\"dataframe\">\n",
       "  <thead>\n",
       "    <tr style=\"text-align: right;\">\n",
       "      <th></th>\n",
       "      <th>Title</th>\n",
       "      <th>Artist</th>\n",
       "    </tr>\n",
       "  </thead>\n",
       "  <tbody>\n",
       "    <tr>\n",
       "      <th>92</th>\n",
       "      <td>Volvi</td>\n",
       "      <td>Aventura x Bad Bunny</td>\n",
       "    </tr>\n",
       "    <tr>\n",
       "      <th>93</th>\n",
       "      <td>Maybach</td>\n",
       "      <td>42 Dugg Featuring Future</td>\n",
       "    </tr>\n",
       "    <tr>\n",
       "      <th>94</th>\n",
       "      <td>Baddest</td>\n",
       "      <td>Yung Bleu, Chris Brown &amp; 2 Chainz</td>\n",
       "    </tr>\n",
       "    <tr>\n",
       "      <th>95</th>\n",
       "      <td>Too Easy</td>\n",
       "      <td>Gunna &amp; Future</td>\n",
       "    </tr>\n",
       "    <tr>\n",
       "      <th>96</th>\n",
       "      <td>Escape Plan</td>\n",
       "      <td>Travis Scott</td>\n",
       "    </tr>\n",
       "    <tr>\n",
       "      <th>97</th>\n",
       "      <td>Who's In Your Head</td>\n",
       "      <td>Jonas Brothers</td>\n",
       "    </tr>\n",
       "    <tr>\n",
       "      <th>98</th>\n",
       "      <td>Jugaste y Sufri</td>\n",
       "      <td>Eslabon Armado Featuring DannyLux</td>\n",
       "    </tr>\n",
       "    <tr>\n",
       "      <th>99</th>\n",
       "      <td>Take My Breath</td>\n",
       "      <td>The Weeknd</td>\n",
       "    </tr>\n",
       "  </tbody>\n",
       "</table>\n",
       "</div>"
      ],
      "text/plain": [
       "                 Title                             Artist\n",
       "92               Volvi               Aventura x Bad Bunny\n",
       "93             Maybach           42 Dugg Featuring Future\n",
       "94             Baddest  Yung Bleu, Chris Brown & 2 Chainz\n",
       "95            Too Easy                     Gunna & Future\n",
       "96         Escape Plan                       Travis Scott\n",
       "97  Who's In Your Head                     Jonas Brothers\n",
       "98     Jugaste y Sufri  Eslabon Armado Featuring DannyLux\n",
       "99      Take My Breath                         The Weeknd"
      ]
     },
     "execution_count": 17,
     "metadata": {},
     "output_type": "execute_result"
    }
   ],
   "source": [
    "songs_top100[92:]"
   ]
  },
  {
   "cell_type": "markdown",
   "id": "cf9e7d25",
   "metadata": {},
   "source": [
    "### Create a prototype where:\n",
    "- The user can ask for one song and see if its in the playlist Top hot 100 songs\n",
    "- Returns a new song if the first one is in the playlist"
   ]
  },
  {
   "cell_type": "code",
   "execution_count": 18,
   "id": "55c9909e",
   "metadata": {},
   "outputs": [
    {
     "name": "stdout",
     "output_type": "stream",
     "text": [
      "Give us a song name to get a recommendation!: stay\n"
     ]
    }
   ],
   "source": [
    "song= input(\"Give us a song name to get a recommendation!: \")"
   ]
  },
  {
   "cell_type": "code",
   "execution_count": 19,
   "id": "203da336",
   "metadata": {},
   "outputs": [],
   "source": [
    "check = songs_top100[songs_top100['Title'].str.lower().str.replace(\" \",\" \").str.contains(song)]"
   ]
  },
  {
   "cell_type": "code",
   "execution_count": 20,
   "id": "448da2f6",
   "metadata": {},
   "outputs": [],
   "source": [
    "index = check.index.tolist()"
   ]
  },
  {
   "cell_type": "code",
   "execution_count": 21,
   "id": "9cde5981",
   "metadata": {},
   "outputs": [],
   "source": [
    "def recommendation_engine():\n",
    "    recommendation_engine()"
   ]
  },
  {
   "cell_type": "code",
   "execution_count": 22,
   "id": "74505150",
   "metadata": {},
   "outputs": [
    {
     "name": "stdout",
     "output_type": "stream",
     "text": [
      "Give us a song name to get a recommendation!: stay\n",
      "Do you mean Stay by The Kid LAROI & Justin Bieber?yes\n",
      "Nice! This is a hot song! You might also like Kiss Me More by Doja Cat Featuring SZA\n"
     ]
    }
   ],
   "source": [
    "song= input(\"Give us a song name to get a recommendation!: \")\n",
    "\n",
    "check = songs_top100[songs_top100['Title'].str.lower().str.replace(\" \",\" \").str.contains(song)]\n",
    "index = check.index.tolist()\n",
    "\n",
    "if len(index) == 0:\n",
    "    print(\"This song is not on the Top 100 hot playlist! \")\n",
    "else:\n",
    "    answer = input(\"Do you mean \" + songs_top100.Title[index].values[0] + \" by \" + songs_top100.Artist[index].values[0] + \"?\")\n",
    "\n",
    "    if answer.lower() == 'yes':\n",
    "        suggestion = songs_top100.sample().index.tolist()\n",
    "        print(\"Nice! This is a hot song! You might also like \" + songs_top100['Title'][suggestion].item() + \" by \" + songs_top100['Artist'][suggestion].item())\n",
    "\n",
    "    else:\n",
    "        print(\"that song is not in the playlist, try another song!\")\n",
    "    \n",
    "    "
   ]
  },
  {
   "cell_type": "markdown",
   "id": "1bf7d31e",
   "metadata": {},
   "source": [
    "# Import Spotify"
   ]
  },
  {
   "cell_type": "code",
   "execution_count": 23,
   "id": "4e14ba66",
   "metadata": {},
   "outputs": [],
   "source": [
    "import spotipy\n",
    "from spotipy.oauth2 import SpotifyClientCredentials"
   ]
  },
  {
   "cell_type": "markdown",
   "id": "55637038",
   "metadata": {},
   "source": [
    "### Credentials"
   ]
  },
  {
   "cell_type": "code",
   "execution_count": 24,
   "id": "a48e7eb1",
   "metadata": {},
   "outputs": [
    {
     "name": "stdout",
     "output_type": "stream",
     "text": [
      "client_id?········\n",
      "client_secret?········\n"
     ]
    }
   ],
   "source": [
    "import getpass\n",
    "\n",
    "client_id=str(getpass.getpass('client_id?'))\n",
    "client_secret=str(getpass.getpass('client_secret?'))"
   ]
  },
  {
   "cell_type": "code",
   "execution_count": 25,
   "id": "4c341d69",
   "metadata": {},
   "outputs": [],
   "source": [
    "# embedding our getpass credentials in the access key\n",
    "\n",
    "sp= spotipy.Spotify(auth_manager=SpotifyClientCredentials(client_id=client_id, client_secret=client_secret))"
   ]
  },
  {
   "cell_type": "markdown",
   "id": "735e7ab8",
   "metadata": {},
   "source": [
    "## Import playlists by genre\n",
    "- I will first import a POP playlist"
   ]
  },
  {
   "cell_type": "code",
   "execution_count": 26,
   "id": "17ed1421",
   "metadata": {},
   "outputs": [],
   "source": [
    "## https://open.spotify.com/playlist/37i9dQZF1DX1ngEVM0lKrb?si=332a03edd1db4135\n",
    "## 37i9dQZF1DX1ngEVM0lKrb"
   ]
  },
  {
   "cell_type": "code",
   "execution_count": 27,
   "id": "8bc53433",
   "metadata": {},
   "outputs": [],
   "source": [
    "pop_playlist = sp.user_playlist_tracks(\"Sarah Eringaard\", \"1HWoagBCUTlqigP88enL5r\")"
   ]
  },
  {
   "cell_type": "raw",
   "id": "ea5078f1",
   "metadata": {},
   "source": [
    "pop_playlist"
   ]
  },
  {
   "cell_type": "code",
   "execution_count": 28,
   "id": "bc900bcd",
   "metadata": {},
   "outputs": [
    {
     "data": {
      "text/plain": [
       "dict_keys(['href', 'items', 'limit', 'next', 'offset', 'previous', 'total'])"
      ]
     },
     "execution_count": 28,
     "metadata": {},
     "output_type": "execute_result"
    }
   ],
   "source": [
    "pop_playlist.keys()"
   ]
  },
  {
   "cell_type": "raw",
   "id": "a1d48fe5",
   "metadata": {},
   "source": [
    "pop_playlist['items'][3]"
   ]
  },
  {
   "cell_type": "code",
   "execution_count": 29,
   "id": "061ca757",
   "metadata": {},
   "outputs": [
    {
     "data": {
      "text/plain": [
       "100"
      ]
     },
     "execution_count": 29,
     "metadata": {},
     "output_type": "execute_result"
    }
   ],
   "source": [
    "len(pop_playlist['items'])"
   ]
  },
  {
   "cell_type": "code",
   "execution_count": 30,
   "id": "62ae49d1",
   "metadata": {},
   "outputs": [],
   "source": [
    "def get_playlist_tracks(user_id, playlist_id):\n",
    "    results=sp.user_playlist_tracks(user_id, playlist_id)\n",
    "    tracks=results['items']\n",
    "    while results['next']:\n",
    "        results= sp.next(results)\n",
    "        tracks.extend(results['items'])\n",
    "    return tracks"
   ]
  },
  {
   "cell_type": "code",
   "execution_count": 31,
   "id": "8c647e35",
   "metadata": {},
   "outputs": [],
   "source": [
    "results2=get_playlist_tracks(\"Sarah Eringaard\", \"1HWoagBCUTlqigP88enL5r\")"
   ]
  },
  {
   "cell_type": "code",
   "execution_count": 32,
   "id": "a74e7713",
   "metadata": {},
   "outputs": [
    {
     "data": {
      "text/plain": [
       "473"
      ]
     },
     "execution_count": 32,
     "metadata": {},
     "output_type": "execute_result"
    }
   ],
   "source": [
    "len(results2)"
   ]
  },
  {
   "cell_type": "code",
   "execution_count": 33,
   "id": "a37320f7",
   "metadata": {},
   "outputs": [
    {
     "data": {
      "text/plain": [
       "dict_keys(['album', 'artists', 'available_markets', 'disc_number', 'duration_ms', 'episode', 'explicit', 'external_ids', 'external_urls', 'href', 'id', 'is_local', 'name', 'popularity', 'preview_url', 'track', 'track_number', 'type', 'uri'])"
      ]
     },
     "execution_count": 33,
     "metadata": {},
     "output_type": "execute_result"
    }
   ],
   "source": [
    "results2[0]['track'].keys()"
   ]
  },
  {
   "cell_type": "code",
   "execution_count": 34,
   "id": "5b790b34",
   "metadata": {},
   "outputs": [
    {
     "data": {
      "text/plain": [
       "['spotify:track', '04aAxqtGp5pv12UXAg4pkq']"
      ]
     },
     "execution_count": 34,
     "metadata": {},
     "output_type": "execute_result"
    }
   ],
   "source": [
    "results2[0]['track'][\"uri\"].rsplit(':',1)"
   ]
  },
  {
   "cell_type": "code",
   "execution_count": 35,
   "id": "58169277",
   "metadata": {},
   "outputs": [
    {
     "data": {
      "text/plain": [
       "dict_keys(['external_urls', 'href', 'id', 'name', 'type', 'uri'])"
      ]
     },
     "execution_count": 35,
     "metadata": {},
     "output_type": "execute_result"
    }
   ],
   "source": [
    "results2[0]['track'][\"artists\"][0].keys()"
   ]
  },
  {
   "cell_type": "code",
   "execution_count": 36,
   "id": "9d674cc7",
   "metadata": {},
   "outputs": [],
   "source": [
    "song_name=[]\n",
    "song_URI=[]\n",
    "song_ID=[]\n",
    "song_artist=[]\n",
    "playlist=results2"
   ]
  },
  {
   "cell_type": "code",
   "execution_count": 37,
   "id": "e656fcea",
   "metadata": {},
   "outputs": [],
   "source": [
    "for r in results2:\n",
    "    song_URI.append(r[\"track\"][\"uri\"])"
   ]
  },
  {
   "cell_type": "code",
   "execution_count": 38,
   "id": "f97ee549",
   "metadata": {},
   "outputs": [],
   "source": [
    "for r in results2: \n",
    "    song_ID.append(r[\"track\"][\"id\"])"
   ]
  },
  {
   "cell_type": "code",
   "execution_count": 39,
   "id": "b16cb9e3",
   "metadata": {},
   "outputs": [],
   "source": [
    "for r in results2: \n",
    "    song_name.append(r[\"track\"][\"name\"])"
   ]
  },
  {
   "cell_type": "code",
   "execution_count": 40,
   "id": "f2d8db9f",
   "metadata": {},
   "outputs": [],
   "source": [
    "for r in results2: \n",
    "    song_artist.append(r[\"track\"][\"artists\"][0][\"name\"])"
   ]
  },
  {
   "cell_type": "code",
   "execution_count": 41,
   "id": "f09fadaf",
   "metadata": {},
   "outputs": [],
   "source": [
    "import pandas as pd"
   ]
  },
  {
   "cell_type": "code",
   "execution_count": 42,
   "id": "6ea0069a",
   "metadata": {},
   "outputs": [],
   "source": [
    "playlist_pop_info=pd.DataFrame({\"song_name\":song_name,\"song_ID\":song_ID,\"song_artist\":song_artist})\n"
   ]
  },
  {
   "cell_type": "code",
   "execution_count": 43,
   "id": "b99fbe10",
   "metadata": {},
   "outputs": [
    {
     "data": {
      "text/html": [
       "<div>\n",
       "<style scoped>\n",
       "    .dataframe tbody tr th:only-of-type {\n",
       "        vertical-align: middle;\n",
       "    }\n",
       "\n",
       "    .dataframe tbody tr th {\n",
       "        vertical-align: top;\n",
       "    }\n",
       "\n",
       "    .dataframe thead th {\n",
       "        text-align: right;\n",
       "    }\n",
       "</style>\n",
       "<table border=\"1\" class=\"dataframe\">\n",
       "  <thead>\n",
       "    <tr style=\"text-align: right;\">\n",
       "      <th></th>\n",
       "      <th>song_name</th>\n",
       "      <th>song_ID</th>\n",
       "      <th>song_artist</th>\n",
       "    </tr>\n",
       "  </thead>\n",
       "  <tbody>\n",
       "    <tr>\n",
       "      <th>0</th>\n",
       "      <td>Centuries</td>\n",
       "      <td>04aAxqtGp5pv12UXAg4pkq</td>\n",
       "      <td>Fall Out Boy</td>\n",
       "    </tr>\n",
       "    <tr>\n",
       "      <th>1</th>\n",
       "      <td>Counting Stars</td>\n",
       "      <td>6sy3LkhNFjJWlaeSMNwQ62</td>\n",
       "      <td>OneRepublic</td>\n",
       "    </tr>\n",
       "    <tr>\n",
       "      <th>2</th>\n",
       "      <td>Animals</td>\n",
       "      <td>16pwlVsypm4aDKMhXdOuXg</td>\n",
       "      <td>Maroon 5</td>\n",
       "    </tr>\n",
       "    <tr>\n",
       "      <th>3</th>\n",
       "      <td>Take Me to Church</td>\n",
       "      <td>0aOluBqXYd0rFSCsgDyAWX</td>\n",
       "      <td>Hozier</td>\n",
       "    </tr>\n",
       "    <tr>\n",
       "      <th>4</th>\n",
       "      <td>Rude</td>\n",
       "      <td>6RtPijgfPKROxEzTHNRiDp</td>\n",
       "      <td>MAGIC!</td>\n",
       "    </tr>\n",
       "    <tr>\n",
       "      <th>...</th>\n",
       "      <td>...</td>\n",
       "      <td>...</td>\n",
       "      <td>...</td>\n",
       "    </tr>\n",
       "    <tr>\n",
       "      <th>468</th>\n",
       "      <td>Jenny</td>\n",
       "      <td>2rpVmxAGGc18wpBREaoE0R</td>\n",
       "      <td>Studio Killers</td>\n",
       "    </tr>\n",
       "    <tr>\n",
       "      <th>469</th>\n",
       "      <td>I'm Gonna Be (500 Miles)</td>\n",
       "      <td>66S14BkJDxgkYxLl5DCqOz</td>\n",
       "      <td>The Proclaimers</td>\n",
       "    </tr>\n",
       "    <tr>\n",
       "      <th>470</th>\n",
       "      <td>My Humps</td>\n",
       "      <td>19JdbdEwQI7bCxefMokZO8</td>\n",
       "      <td>Black Eyed Peas</td>\n",
       "    </tr>\n",
       "    <tr>\n",
       "      <th>471</th>\n",
       "      <td>I Just Wanna Run</td>\n",
       "      <td>3WLLJzllBEgPiSA0qd3BN3</td>\n",
       "      <td>The Downtown Fiction</td>\n",
       "    </tr>\n",
       "    <tr>\n",
       "      <th>472</th>\n",
       "      <td>Dream On</td>\n",
       "      <td>5MxNLUsfh7uzROypsoO5qe</td>\n",
       "      <td>Aerosmith</td>\n",
       "    </tr>\n",
       "  </tbody>\n",
       "</table>\n",
       "<p>473 rows × 3 columns</p>\n",
       "</div>"
      ],
      "text/plain": [
       "                    song_name                 song_ID           song_artist\n",
       "0                   Centuries  04aAxqtGp5pv12UXAg4pkq          Fall Out Boy\n",
       "1              Counting Stars  6sy3LkhNFjJWlaeSMNwQ62           OneRepublic\n",
       "2                     Animals  16pwlVsypm4aDKMhXdOuXg              Maroon 5\n",
       "3           Take Me to Church  0aOluBqXYd0rFSCsgDyAWX                Hozier\n",
       "4                        Rude  6RtPijgfPKROxEzTHNRiDp                MAGIC!\n",
       "..                        ...                     ...                   ...\n",
       "468                     Jenny  2rpVmxAGGc18wpBREaoE0R        Studio Killers\n",
       "469  I'm Gonna Be (500 Miles)  66S14BkJDxgkYxLl5DCqOz       The Proclaimers\n",
       "470                  My Humps  19JdbdEwQI7bCxefMokZO8       Black Eyed Peas\n",
       "471          I Just Wanna Run  3WLLJzllBEgPiSA0qd3BN3  The Downtown Fiction\n",
       "472                  Dream On  5MxNLUsfh7uzROypsoO5qe             Aerosmith\n",
       "\n",
       "[473 rows x 3 columns]"
      ]
     },
     "execution_count": 43,
     "metadata": {},
     "output_type": "execute_result"
    }
   ],
   "source": [
    "playlist_pop_info"
   ]
  },
  {
   "cell_type": "markdown",
   "id": "eab120a5",
   "metadata": {},
   "source": [
    "### Add a new column for genre in playlist_pop_info"
   ]
  },
  {
   "cell_type": "code",
   "execution_count": 44,
   "id": "bbc64b0a",
   "metadata": {},
   "outputs": [],
   "source": [
    "playlist_pop_info.insert(3, 'Genre', 'Pop') "
   ]
  },
  {
   "cell_type": "code",
   "execution_count": 45,
   "id": "dc88eabf",
   "metadata": {},
   "outputs": [
    {
     "data": {
      "text/html": [
       "<div>\n",
       "<style scoped>\n",
       "    .dataframe tbody tr th:only-of-type {\n",
       "        vertical-align: middle;\n",
       "    }\n",
       "\n",
       "    .dataframe tbody tr th {\n",
       "        vertical-align: top;\n",
       "    }\n",
       "\n",
       "    .dataframe thead th {\n",
       "        text-align: right;\n",
       "    }\n",
       "</style>\n",
       "<table border=\"1\" class=\"dataframe\">\n",
       "  <thead>\n",
       "    <tr style=\"text-align: right;\">\n",
       "      <th></th>\n",
       "      <th>song_name</th>\n",
       "      <th>song_ID</th>\n",
       "      <th>song_artist</th>\n",
       "      <th>Genre</th>\n",
       "    </tr>\n",
       "  </thead>\n",
       "  <tbody>\n",
       "    <tr>\n",
       "      <th>0</th>\n",
       "      <td>Centuries</td>\n",
       "      <td>04aAxqtGp5pv12UXAg4pkq</td>\n",
       "      <td>Fall Out Boy</td>\n",
       "      <td>Pop</td>\n",
       "    </tr>\n",
       "    <tr>\n",
       "      <th>1</th>\n",
       "      <td>Counting Stars</td>\n",
       "      <td>6sy3LkhNFjJWlaeSMNwQ62</td>\n",
       "      <td>OneRepublic</td>\n",
       "      <td>Pop</td>\n",
       "    </tr>\n",
       "    <tr>\n",
       "      <th>2</th>\n",
       "      <td>Animals</td>\n",
       "      <td>16pwlVsypm4aDKMhXdOuXg</td>\n",
       "      <td>Maroon 5</td>\n",
       "      <td>Pop</td>\n",
       "    </tr>\n",
       "    <tr>\n",
       "      <th>3</th>\n",
       "      <td>Take Me to Church</td>\n",
       "      <td>0aOluBqXYd0rFSCsgDyAWX</td>\n",
       "      <td>Hozier</td>\n",
       "      <td>Pop</td>\n",
       "    </tr>\n",
       "    <tr>\n",
       "      <th>4</th>\n",
       "      <td>Rude</td>\n",
       "      <td>6RtPijgfPKROxEzTHNRiDp</td>\n",
       "      <td>MAGIC!</td>\n",
       "      <td>Pop</td>\n",
       "    </tr>\n",
       "    <tr>\n",
       "      <th>...</th>\n",
       "      <td>...</td>\n",
       "      <td>...</td>\n",
       "      <td>...</td>\n",
       "      <td>...</td>\n",
       "    </tr>\n",
       "    <tr>\n",
       "      <th>468</th>\n",
       "      <td>Jenny</td>\n",
       "      <td>2rpVmxAGGc18wpBREaoE0R</td>\n",
       "      <td>Studio Killers</td>\n",
       "      <td>Pop</td>\n",
       "    </tr>\n",
       "    <tr>\n",
       "      <th>469</th>\n",
       "      <td>I'm Gonna Be (500 Miles)</td>\n",
       "      <td>66S14BkJDxgkYxLl5DCqOz</td>\n",
       "      <td>The Proclaimers</td>\n",
       "      <td>Pop</td>\n",
       "    </tr>\n",
       "    <tr>\n",
       "      <th>470</th>\n",
       "      <td>My Humps</td>\n",
       "      <td>19JdbdEwQI7bCxefMokZO8</td>\n",
       "      <td>Black Eyed Peas</td>\n",
       "      <td>Pop</td>\n",
       "    </tr>\n",
       "    <tr>\n",
       "      <th>471</th>\n",
       "      <td>I Just Wanna Run</td>\n",
       "      <td>3WLLJzllBEgPiSA0qd3BN3</td>\n",
       "      <td>The Downtown Fiction</td>\n",
       "      <td>Pop</td>\n",
       "    </tr>\n",
       "    <tr>\n",
       "      <th>472</th>\n",
       "      <td>Dream On</td>\n",
       "      <td>5MxNLUsfh7uzROypsoO5qe</td>\n",
       "      <td>Aerosmith</td>\n",
       "      <td>Pop</td>\n",
       "    </tr>\n",
       "  </tbody>\n",
       "</table>\n",
       "<p>473 rows × 4 columns</p>\n",
       "</div>"
      ],
      "text/plain": [
       "                    song_name                 song_ID           song_artist  \\\n",
       "0                   Centuries  04aAxqtGp5pv12UXAg4pkq          Fall Out Boy   \n",
       "1              Counting Stars  6sy3LkhNFjJWlaeSMNwQ62           OneRepublic   \n",
       "2                     Animals  16pwlVsypm4aDKMhXdOuXg              Maroon 5   \n",
       "3           Take Me to Church  0aOluBqXYd0rFSCsgDyAWX                Hozier   \n",
       "4                        Rude  6RtPijgfPKROxEzTHNRiDp                MAGIC!   \n",
       "..                        ...                     ...                   ...   \n",
       "468                     Jenny  2rpVmxAGGc18wpBREaoE0R        Studio Killers   \n",
       "469  I'm Gonna Be (500 Miles)  66S14BkJDxgkYxLl5DCqOz       The Proclaimers   \n",
       "470                  My Humps  19JdbdEwQI7bCxefMokZO8       Black Eyed Peas   \n",
       "471          I Just Wanna Run  3WLLJzllBEgPiSA0qd3BN3  The Downtown Fiction   \n",
       "472                  Dream On  5MxNLUsfh7uzROypsoO5qe             Aerosmith   \n",
       "\n",
       "    Genre  \n",
       "0     Pop  \n",
       "1     Pop  \n",
       "2     Pop  \n",
       "3     Pop  \n",
       "4     Pop  \n",
       "..    ...  \n",
       "468   Pop  \n",
       "469   Pop  \n",
       "470   Pop  \n",
       "471   Pop  \n",
       "472   Pop  \n",
       "\n",
       "[473 rows x 4 columns]"
      ]
     },
     "execution_count": 45,
     "metadata": {},
     "output_type": "execute_result"
    }
   ],
   "source": [
    "playlist_pop_info"
   ]
  },
  {
   "cell_type": "markdown",
   "id": "6cc84bf3",
   "metadata": {},
   "source": [
    "## Import playlists by genre\n",
    "- I will import now a INDIE playlist"
   ]
  },
  {
   "cell_type": "code",
   "execution_count": 46,
   "id": "a728e24a",
   "metadata": {},
   "outputs": [],
   "source": [
    "## https://open.spotify.com/playlist/7lnCgcTxLTTcOqvgoS80sC?si=923d97089cf041ea\n",
    "## oceanify"
   ]
  },
  {
   "cell_type": "code",
   "execution_count": 47,
   "id": "955e6e36",
   "metadata": {},
   "outputs": [],
   "source": [
    "indie_playlist = sp.user_playlist_tracks(\"oceanify\", \"7lnCgcTxLTTcOqvgoS80sC\")"
   ]
  },
  {
   "cell_type": "raw",
   "id": "587c86a6",
   "metadata": {},
   "source": [
    "indie_playlist"
   ]
  },
  {
   "cell_type": "code",
   "execution_count": 48,
   "id": "83149cfd",
   "metadata": {},
   "outputs": [
    {
     "data": {
      "text/plain": [
       "dict_keys(['href', 'items', 'limit', 'next', 'offset', 'previous', 'total'])"
      ]
     },
     "execution_count": 48,
     "metadata": {},
     "output_type": "execute_result"
    }
   ],
   "source": [
    "indie_playlist.keys()"
   ]
  },
  {
   "cell_type": "raw",
   "id": "5018912b",
   "metadata": {},
   "source": [
    "indie_playlist['items'][3]"
   ]
  },
  {
   "cell_type": "code",
   "execution_count": 49,
   "id": "1875f0c7",
   "metadata": {},
   "outputs": [
    {
     "data": {
      "text/plain": [
       "100"
      ]
     },
     "execution_count": 49,
     "metadata": {},
     "output_type": "execute_result"
    }
   ],
   "source": [
    "len(indie_playlist['items'])"
   ]
  },
  {
   "cell_type": "code",
   "execution_count": 50,
   "id": "b1e43b81",
   "metadata": {},
   "outputs": [],
   "source": [
    "def get_playlist_tracks1(user_id, playlist_id):\n",
    "    results=sp.user_playlist_tracks(user_id, playlist_id)\n",
    "    tracks=results['items']\n",
    "    while results['next']:\n",
    "        results= sp.next(results)\n",
    "        tracks.extend(results['items'])\n",
    "    return tracks"
   ]
  },
  {
   "cell_type": "code",
   "execution_count": 51,
   "id": "d1b72873",
   "metadata": {},
   "outputs": [],
   "source": [
    "results3=get_playlist_tracks1(\"oceanify\", \"7lnCgcTxLTTcOqvgoS80sC\")"
   ]
  },
  {
   "cell_type": "code",
   "execution_count": 52,
   "id": "8a72c687",
   "metadata": {},
   "outputs": [
    {
     "data": {
      "text/plain": [
       "170"
      ]
     },
     "execution_count": 52,
     "metadata": {},
     "output_type": "execute_result"
    }
   ],
   "source": [
    "len(results3)"
   ]
  },
  {
   "cell_type": "code",
   "execution_count": 53,
   "id": "a62a4b45",
   "metadata": {},
   "outputs": [
    {
     "data": {
      "text/plain": [
       "dict_keys(['album', 'artists', 'available_markets', 'disc_number', 'duration_ms', 'episode', 'explicit', 'external_ids', 'external_urls', 'href', 'id', 'is_local', 'name', 'popularity', 'preview_url', 'track', 'track_number', 'type', 'uri'])"
      ]
     },
     "execution_count": 53,
     "metadata": {},
     "output_type": "execute_result"
    }
   ],
   "source": [
    "results3[0]['track'].keys()"
   ]
  },
  {
   "cell_type": "code",
   "execution_count": 54,
   "id": "80d2b897",
   "metadata": {},
   "outputs": [
    {
     "data": {
      "text/plain": [
       "['spotify:track', '3Wrjm47oTz2sjIgck11l5e']"
      ]
     },
     "execution_count": 54,
     "metadata": {},
     "output_type": "execute_result"
    }
   ],
   "source": [
    "results3[0]['track'][\"uri\"].rsplit(':',1)"
   ]
  },
  {
   "cell_type": "code",
   "execution_count": 55,
   "id": "9f3cb986",
   "metadata": {},
   "outputs": [
    {
     "data": {
      "text/plain": [
       "dict_keys(['external_urls', 'href', 'id', 'name', 'type', 'uri'])"
      ]
     },
     "execution_count": 55,
     "metadata": {},
     "output_type": "execute_result"
    }
   ],
   "source": [
    "results3[0]['track'][\"artists\"][0].keys()"
   ]
  },
  {
   "cell_type": "code",
   "execution_count": 56,
   "id": "5ad27e7b",
   "metadata": {},
   "outputs": [],
   "source": [
    "song_name=[]\n",
    "song_URI=[]\n",
    "song_ID=[]\n",
    "song_artist=[]\n",
    "playlist=results3"
   ]
  },
  {
   "cell_type": "code",
   "execution_count": 57,
   "id": "f07b550f",
   "metadata": {},
   "outputs": [],
   "source": [
    "for r in results3:\n",
    "    song_URI.append(r[\"track\"][\"uri\"])\n",
    "    \n",
    "for r in results3: \n",
    "    song_ID.append(r[\"track\"][\"id\"])\n",
    "    \n",
    "for r in results3: \n",
    "    song_name.append(r[\"track\"][\"name\"])\n",
    "    \n",
    "for r in results3: \n",
    "    song_artist.append(r[\"track\"][\"artists\"][0][\"name\"])"
   ]
  },
  {
   "cell_type": "code",
   "execution_count": 58,
   "id": "9114f63e",
   "metadata": {},
   "outputs": [],
   "source": [
    "playlist_indie_info=pd.DataFrame({\"song_name\":song_name,\"song_ID\":song_ID,\"song_artist\":song_artist})\n"
   ]
  },
  {
   "cell_type": "code",
   "execution_count": 59,
   "id": "da49d3ca",
   "metadata": {},
   "outputs": [
    {
     "data": {
      "text/html": [
       "<div>\n",
       "<style scoped>\n",
       "    .dataframe tbody tr th:only-of-type {\n",
       "        vertical-align: middle;\n",
       "    }\n",
       "\n",
       "    .dataframe tbody tr th {\n",
       "        vertical-align: top;\n",
       "    }\n",
       "\n",
       "    .dataframe thead th {\n",
       "        text-align: right;\n",
       "    }\n",
       "</style>\n",
       "<table border=\"1\" class=\"dataframe\">\n",
       "  <thead>\n",
       "    <tr style=\"text-align: right;\">\n",
       "      <th></th>\n",
       "      <th>song_name</th>\n",
       "      <th>song_ID</th>\n",
       "      <th>song_artist</th>\n",
       "    </tr>\n",
       "  </thead>\n",
       "  <tbody>\n",
       "    <tr>\n",
       "      <th>0</th>\n",
       "      <td>Beggin'</td>\n",
       "      <td>3Wrjm47oTz2sjIgck11l5e</td>\n",
       "      <td>Måneskin</td>\n",
       "    </tr>\n",
       "    <tr>\n",
       "      <th>1</th>\n",
       "      <td>The Less I Know The Better</td>\n",
       "      <td>4g3Ax56IslQkI6XVfYKVc5</td>\n",
       "      <td>Tame Impala</td>\n",
       "    </tr>\n",
       "    <tr>\n",
       "      <th>2</th>\n",
       "      <td>Mr. Brightside</td>\n",
       "      <td>3n3Ppam7vgaVa1iaRUc9Lp</td>\n",
       "      <td>The Killers</td>\n",
       "    </tr>\n",
       "    <tr>\n",
       "      <th>3</th>\n",
       "      <td>Boys Don't Cry</td>\n",
       "      <td>1QFh8OH1e78dGd3VyJZCAC</td>\n",
       "      <td>The Cure</td>\n",
       "    </tr>\n",
       "    <tr>\n",
       "      <th>4</th>\n",
       "      <td>wake me up</td>\n",
       "      <td>1H6A86dQ7BMdbxofxpQvcK</td>\n",
       "      <td>Ruby</td>\n",
       "    </tr>\n",
       "    <tr>\n",
       "      <th>...</th>\n",
       "      <td>...</td>\n",
       "      <td>...</td>\n",
       "      <td>...</td>\n",
       "    </tr>\n",
       "    <tr>\n",
       "      <th>165</th>\n",
       "      <td>Maybe - Extended Version</td>\n",
       "      <td>5M9FFdvLfKPkORIRERHzKY</td>\n",
       "      <td>Elizabeth Cuite</td>\n",
       "    </tr>\n",
       "    <tr>\n",
       "      <th>166</th>\n",
       "      <td>Deja Vu</td>\n",
       "      <td>5PWT6FhFPn2E5dv5tUuqNE</td>\n",
       "      <td>Luvlee</td>\n",
       "    </tr>\n",
       "    <tr>\n",
       "      <th>167</th>\n",
       "      <td>One in a Million</td>\n",
       "      <td>0B2gr2o765XiWU6dGKmktU</td>\n",
       "      <td>Will Whisson</td>\n",
       "    </tr>\n",
       "    <tr>\n",
       "      <th>168</th>\n",
       "      <td>Comin’ Home (Stewart Sullivan Mix)</td>\n",
       "      <td>49FulGQwWUrWVVB69TfHAr</td>\n",
       "      <td>Dominoe</td>\n",
       "    </tr>\n",
       "    <tr>\n",
       "      <th>169</th>\n",
       "      <td>What Are You Afraid of?</td>\n",
       "      <td>3p02WDxfbVpTRVe1PmAMJL</td>\n",
       "      <td>Chxrlotte</td>\n",
       "    </tr>\n",
       "  </tbody>\n",
       "</table>\n",
       "<p>170 rows × 3 columns</p>\n",
       "</div>"
      ],
      "text/plain": [
       "                              song_name                 song_ID  \\\n",
       "0                               Beggin'  3Wrjm47oTz2sjIgck11l5e   \n",
       "1            The Less I Know The Better  4g3Ax56IslQkI6XVfYKVc5   \n",
       "2                        Mr. Brightside  3n3Ppam7vgaVa1iaRUc9Lp   \n",
       "3                        Boys Don't Cry  1QFh8OH1e78dGd3VyJZCAC   \n",
       "4                            wake me up  1H6A86dQ7BMdbxofxpQvcK   \n",
       "..                                  ...                     ...   \n",
       "165            Maybe - Extended Version  5M9FFdvLfKPkORIRERHzKY   \n",
       "166                             Deja Vu  5PWT6FhFPn2E5dv5tUuqNE   \n",
       "167                    One in a Million  0B2gr2o765XiWU6dGKmktU   \n",
       "168  Comin’ Home (Stewart Sullivan Mix)  49FulGQwWUrWVVB69TfHAr   \n",
       "169             What Are You Afraid of?  3p02WDxfbVpTRVe1PmAMJL   \n",
       "\n",
       "         song_artist  \n",
       "0           Måneskin  \n",
       "1        Tame Impala  \n",
       "2        The Killers  \n",
       "3           The Cure  \n",
       "4               Ruby  \n",
       "..               ...  \n",
       "165  Elizabeth Cuite  \n",
       "166           Luvlee  \n",
       "167     Will Whisson  \n",
       "168          Dominoe  \n",
       "169        Chxrlotte  \n",
       "\n",
       "[170 rows x 3 columns]"
      ]
     },
     "execution_count": 59,
     "metadata": {},
     "output_type": "execute_result"
    }
   ],
   "source": [
    "playlist_indie_info"
   ]
  },
  {
   "cell_type": "markdown",
   "id": "d9c023ac",
   "metadata": {},
   "source": [
    "### Add a new column for genre in playlist_indie_info"
   ]
  },
  {
   "cell_type": "code",
   "execution_count": 60,
   "id": "789e6230",
   "metadata": {},
   "outputs": [],
   "source": [
    "playlist_indie_info.insert(3, 'Genre', 'Indie') "
   ]
  },
  {
   "cell_type": "code",
   "execution_count": 61,
   "id": "19afae06",
   "metadata": {
    "scrolled": true
   },
   "outputs": [
    {
     "data": {
      "text/html": [
       "<div>\n",
       "<style scoped>\n",
       "    .dataframe tbody tr th:only-of-type {\n",
       "        vertical-align: middle;\n",
       "    }\n",
       "\n",
       "    .dataframe tbody tr th {\n",
       "        vertical-align: top;\n",
       "    }\n",
       "\n",
       "    .dataframe thead th {\n",
       "        text-align: right;\n",
       "    }\n",
       "</style>\n",
       "<table border=\"1\" class=\"dataframe\">\n",
       "  <thead>\n",
       "    <tr style=\"text-align: right;\">\n",
       "      <th></th>\n",
       "      <th>song_name</th>\n",
       "      <th>song_ID</th>\n",
       "      <th>song_artist</th>\n",
       "      <th>Genre</th>\n",
       "    </tr>\n",
       "  </thead>\n",
       "  <tbody>\n",
       "    <tr>\n",
       "      <th>0</th>\n",
       "      <td>Beggin'</td>\n",
       "      <td>3Wrjm47oTz2sjIgck11l5e</td>\n",
       "      <td>Måneskin</td>\n",
       "      <td>Indie</td>\n",
       "    </tr>\n",
       "    <tr>\n",
       "      <th>1</th>\n",
       "      <td>The Less I Know The Better</td>\n",
       "      <td>4g3Ax56IslQkI6XVfYKVc5</td>\n",
       "      <td>Tame Impala</td>\n",
       "      <td>Indie</td>\n",
       "    </tr>\n",
       "    <tr>\n",
       "      <th>2</th>\n",
       "      <td>Mr. Brightside</td>\n",
       "      <td>3n3Ppam7vgaVa1iaRUc9Lp</td>\n",
       "      <td>The Killers</td>\n",
       "      <td>Indie</td>\n",
       "    </tr>\n",
       "    <tr>\n",
       "      <th>3</th>\n",
       "      <td>Boys Don't Cry</td>\n",
       "      <td>1QFh8OH1e78dGd3VyJZCAC</td>\n",
       "      <td>The Cure</td>\n",
       "      <td>Indie</td>\n",
       "    </tr>\n",
       "    <tr>\n",
       "      <th>4</th>\n",
       "      <td>wake me up</td>\n",
       "      <td>1H6A86dQ7BMdbxofxpQvcK</td>\n",
       "      <td>Ruby</td>\n",
       "      <td>Indie</td>\n",
       "    </tr>\n",
       "    <tr>\n",
       "      <th>...</th>\n",
       "      <td>...</td>\n",
       "      <td>...</td>\n",
       "      <td>...</td>\n",
       "      <td>...</td>\n",
       "    </tr>\n",
       "    <tr>\n",
       "      <th>165</th>\n",
       "      <td>Maybe - Extended Version</td>\n",
       "      <td>5M9FFdvLfKPkORIRERHzKY</td>\n",
       "      <td>Elizabeth Cuite</td>\n",
       "      <td>Indie</td>\n",
       "    </tr>\n",
       "    <tr>\n",
       "      <th>166</th>\n",
       "      <td>Deja Vu</td>\n",
       "      <td>5PWT6FhFPn2E5dv5tUuqNE</td>\n",
       "      <td>Luvlee</td>\n",
       "      <td>Indie</td>\n",
       "    </tr>\n",
       "    <tr>\n",
       "      <th>167</th>\n",
       "      <td>One in a Million</td>\n",
       "      <td>0B2gr2o765XiWU6dGKmktU</td>\n",
       "      <td>Will Whisson</td>\n",
       "      <td>Indie</td>\n",
       "    </tr>\n",
       "    <tr>\n",
       "      <th>168</th>\n",
       "      <td>Comin’ Home (Stewart Sullivan Mix)</td>\n",
       "      <td>49FulGQwWUrWVVB69TfHAr</td>\n",
       "      <td>Dominoe</td>\n",
       "      <td>Indie</td>\n",
       "    </tr>\n",
       "    <tr>\n",
       "      <th>169</th>\n",
       "      <td>What Are You Afraid of?</td>\n",
       "      <td>3p02WDxfbVpTRVe1PmAMJL</td>\n",
       "      <td>Chxrlotte</td>\n",
       "      <td>Indie</td>\n",
       "    </tr>\n",
       "  </tbody>\n",
       "</table>\n",
       "<p>170 rows × 4 columns</p>\n",
       "</div>"
      ],
      "text/plain": [
       "                              song_name                 song_ID  \\\n",
       "0                               Beggin'  3Wrjm47oTz2sjIgck11l5e   \n",
       "1            The Less I Know The Better  4g3Ax56IslQkI6XVfYKVc5   \n",
       "2                        Mr. Brightside  3n3Ppam7vgaVa1iaRUc9Lp   \n",
       "3                        Boys Don't Cry  1QFh8OH1e78dGd3VyJZCAC   \n",
       "4                            wake me up  1H6A86dQ7BMdbxofxpQvcK   \n",
       "..                                  ...                     ...   \n",
       "165            Maybe - Extended Version  5M9FFdvLfKPkORIRERHzKY   \n",
       "166                             Deja Vu  5PWT6FhFPn2E5dv5tUuqNE   \n",
       "167                    One in a Million  0B2gr2o765XiWU6dGKmktU   \n",
       "168  Comin’ Home (Stewart Sullivan Mix)  49FulGQwWUrWVVB69TfHAr   \n",
       "169             What Are You Afraid of?  3p02WDxfbVpTRVe1PmAMJL   \n",
       "\n",
       "         song_artist  Genre  \n",
       "0           Måneskin  Indie  \n",
       "1        Tame Impala  Indie  \n",
       "2        The Killers  Indie  \n",
       "3           The Cure  Indie  \n",
       "4               Ruby  Indie  \n",
       "..               ...    ...  \n",
       "165  Elizabeth Cuite  Indie  \n",
       "166           Luvlee  Indie  \n",
       "167     Will Whisson  Indie  \n",
       "168          Dominoe  Indie  \n",
       "169        Chxrlotte  Indie  \n",
       "\n",
       "[170 rows x 4 columns]"
      ]
     },
     "execution_count": 61,
     "metadata": {},
     "output_type": "execute_result"
    }
   ],
   "source": [
    "playlist_indie_info"
   ]
  },
  {
   "cell_type": "markdown",
   "id": "3d8ffd54",
   "metadata": {},
   "source": [
    "## Import playlists by genre\n",
    "- I will import now a ROCK playlist"
   ]
  },
  {
   "cell_type": "code",
   "execution_count": 62,
   "id": "af04ae64",
   "metadata": {},
   "outputs": [],
   "source": [
    "## https://open.spotify.com/playlist/37i9dQZF1DWXRqgorJj26U?si=6870797da01948f7\n",
    "## Spotify"
   ]
  },
  {
   "cell_type": "code",
   "execution_count": 63,
   "id": "d37546bb",
   "metadata": {},
   "outputs": [],
   "source": [
    "rock_playlist = sp.user_playlist_tracks(\"Spotify\", \"37i9dQZF1DWXRqgorJj26U\")"
   ]
  },
  {
   "cell_type": "raw",
   "id": "a3536018",
   "metadata": {},
   "source": [
    "rock_playlist"
   ]
  },
  {
   "cell_type": "code",
   "execution_count": 64,
   "id": "0db7d4b1",
   "metadata": {},
   "outputs": [
    {
     "data": {
      "text/plain": [
       "dict_keys(['href', 'items', 'limit', 'next', 'offset', 'previous', 'total'])"
      ]
     },
     "execution_count": 64,
     "metadata": {},
     "output_type": "execute_result"
    }
   ],
   "source": [
    "rock_playlist.keys()"
   ]
  },
  {
   "cell_type": "raw",
   "id": "ec602b9e",
   "metadata": {},
   "source": [
    "rock_playlist['items'][3]"
   ]
  },
  {
   "cell_type": "code",
   "execution_count": 65,
   "id": "ae3b7fd7",
   "metadata": {},
   "outputs": [
    {
     "data": {
      "text/plain": [
       "100"
      ]
     },
     "execution_count": 65,
     "metadata": {},
     "output_type": "execute_result"
    }
   ],
   "source": [
    "len(rock_playlist['items'])"
   ]
  },
  {
   "cell_type": "code",
   "execution_count": 66,
   "id": "adacbf28",
   "metadata": {},
   "outputs": [],
   "source": [
    "def get_playlist_tracks2(user_id, playlist_id):\n",
    "    results=sp.user_playlist_tracks(user_id, playlist_id)\n",
    "    tracks=results['items']\n",
    "    while results['next']:\n",
    "        results= sp.next(results)\n",
    "        tracks.extend(results['items'])\n",
    "    return tracks"
   ]
  },
  {
   "cell_type": "code",
   "execution_count": 67,
   "id": "9f72dd81",
   "metadata": {},
   "outputs": [],
   "source": [
    "results4=get_playlist_tracks2(\"Spotify\", \"37i9dQZF1DWXRqgorJj26U\")"
   ]
  },
  {
   "cell_type": "code",
   "execution_count": 68,
   "id": "800d77db",
   "metadata": {},
   "outputs": [
    {
     "data": {
      "text/plain": [
       "166"
      ]
     },
     "execution_count": 68,
     "metadata": {},
     "output_type": "execute_result"
    }
   ],
   "source": [
    "len(results4)"
   ]
  },
  {
   "cell_type": "code",
   "execution_count": 69,
   "id": "1a09568a",
   "metadata": {},
   "outputs": [
    {
     "data": {
      "text/plain": [
       "dict_keys(['album', 'artists', 'available_markets', 'disc_number', 'duration_ms', 'episode', 'explicit', 'external_ids', 'external_urls', 'href', 'id', 'is_local', 'name', 'popularity', 'preview_url', 'track', 'track_number', 'type', 'uri'])"
      ]
     },
     "execution_count": 69,
     "metadata": {},
     "output_type": "execute_result"
    }
   ],
   "source": [
    "results4[0]['track'].keys()"
   ]
  },
  {
   "cell_type": "code",
   "execution_count": 70,
   "id": "dbe22dae",
   "metadata": {},
   "outputs": [
    {
     "data": {
      "text/plain": [
       "['spotify:track', '57JVGBtBLCfHw2muk5416J']"
      ]
     },
     "execution_count": 70,
     "metadata": {},
     "output_type": "execute_result"
    }
   ],
   "source": [
    "results4[0]['track'][\"uri\"].rsplit(':',1)"
   ]
  },
  {
   "cell_type": "code",
   "execution_count": 71,
   "id": "5469f82d",
   "metadata": {},
   "outputs": [
    {
     "data": {
      "text/plain": [
       "dict_keys(['external_urls', 'href', 'id', 'name', 'type', 'uri'])"
      ]
     },
     "execution_count": 71,
     "metadata": {},
     "output_type": "execute_result"
    }
   ],
   "source": [
    "results4[0]['track'][\"artists\"][0].keys()"
   ]
  },
  {
   "cell_type": "code",
   "execution_count": 72,
   "id": "c0a9175d",
   "metadata": {},
   "outputs": [],
   "source": [
    "song_name=[]\n",
    "song_URI=[]\n",
    "song_ID=[]\n",
    "song_artist=[]\n",
    "playlist=results4"
   ]
  },
  {
   "cell_type": "code",
   "execution_count": 73,
   "id": "83e2680e",
   "metadata": {},
   "outputs": [],
   "source": [
    "for r in results4:\n",
    "    song_URI.append(r[\"track\"][\"uri\"])\n",
    "    \n",
    "for r in results4: \n",
    "    song_ID.append(r[\"track\"][\"id\"])\n",
    "    \n",
    "for r in results4: \n",
    "    song_name.append(r[\"track\"][\"name\"])\n",
    "    \n",
    "for r in results4: \n",
    "    song_artist.append(r[\"track\"][\"artists\"][0][\"name\"])"
   ]
  },
  {
   "cell_type": "code",
   "execution_count": 74,
   "id": "ff724820",
   "metadata": {},
   "outputs": [],
   "source": [
    "playlist_rock_info=pd.DataFrame({\"song_name\":song_name,\"song_ID\":song_ID,\"song_artist\":song_artist})"
   ]
  },
  {
   "cell_type": "code",
   "execution_count": 75,
   "id": "4c2f1022",
   "metadata": {},
   "outputs": [
    {
     "data": {
      "text/html": [
       "<div>\n",
       "<style scoped>\n",
       "    .dataframe tbody tr th:only-of-type {\n",
       "        vertical-align: middle;\n",
       "    }\n",
       "\n",
       "    .dataframe tbody tr th {\n",
       "        vertical-align: top;\n",
       "    }\n",
       "\n",
       "    .dataframe thead th {\n",
       "        text-align: right;\n",
       "    }\n",
       "</style>\n",
       "<table border=\"1\" class=\"dataframe\">\n",
       "  <thead>\n",
       "    <tr style=\"text-align: right;\">\n",
       "      <th></th>\n",
       "      <th>song_name</th>\n",
       "      <th>song_ID</th>\n",
       "      <th>song_artist</th>\n",
       "    </tr>\n",
       "  </thead>\n",
       "  <tbody>\n",
       "    <tr>\n",
       "      <th>0</th>\n",
       "      <td>Another One Bites The Dust - Remastered 2011</td>\n",
       "      <td>57JVGBtBLCfHw2muk5416J</td>\n",
       "      <td>Queen</td>\n",
       "    </tr>\n",
       "    <tr>\n",
       "      <th>1</th>\n",
       "      <td>Paradise City</td>\n",
       "      <td>3YBZIN3rekqsKxbJc9FZko</td>\n",
       "      <td>Guns N' Roses</td>\n",
       "    </tr>\n",
       "    <tr>\n",
       "      <th>2</th>\n",
       "      <td>Black Dog - Remaster</td>\n",
       "      <td>3qT4bUD1MaWpGrTwcvguhb</td>\n",
       "      <td>Led Zeppelin</td>\n",
       "    </tr>\n",
       "    <tr>\n",
       "      <th>3</th>\n",
       "      <td>Highway to Hell</td>\n",
       "      <td>2zYzyRzz6pRmhPzyfMEC8s</td>\n",
       "      <td>AC/DC</td>\n",
       "    </tr>\n",
       "    <tr>\n",
       "      <th>4</th>\n",
       "      <td>Dream On</td>\n",
       "      <td>5MxNLUsfh7uzROypsoO5qe</td>\n",
       "      <td>Aerosmith</td>\n",
       "    </tr>\n",
       "    <tr>\n",
       "      <th>...</th>\n",
       "      <td>...</td>\n",
       "      <td>...</td>\n",
       "      <td>...</td>\n",
       "    </tr>\n",
       "    <tr>\n",
       "      <th>161</th>\n",
       "      <td>Ramble On - 1990 Remaster</td>\n",
       "      <td>3MODES4TNtygekLl146Dxd</td>\n",
       "      <td>Led Zeppelin</td>\n",
       "    </tr>\n",
       "    <tr>\n",
       "      <th>162</th>\n",
       "      <td>Crazy On You</td>\n",
       "      <td>5zH710lFSLtkHbMkslLDjR</td>\n",
       "      <td>Heart</td>\n",
       "    </tr>\n",
       "    <tr>\n",
       "      <th>163</th>\n",
       "      <td>Foreplay / Long Time</td>\n",
       "      <td>5UYPZZDQfpCE7A0FDDqv4k</td>\n",
       "      <td>Boston</td>\n",
       "    </tr>\n",
       "    <tr>\n",
       "      <th>164</th>\n",
       "      <td>My Generation - Mono Version</td>\n",
       "      <td>45s88Xopo6KvHc0PQ05aGg</td>\n",
       "      <td>The Who</td>\n",
       "    </tr>\n",
       "    <tr>\n",
       "      <th>165</th>\n",
       "      <td>Light My Fire</td>\n",
       "      <td>5uvosCdMlFdTXhoazkTI5R</td>\n",
       "      <td>The Doors</td>\n",
       "    </tr>\n",
       "  </tbody>\n",
       "</table>\n",
       "<p>166 rows × 3 columns</p>\n",
       "</div>"
      ],
      "text/plain": [
       "                                        song_name                 song_ID  \\\n",
       "0    Another One Bites The Dust - Remastered 2011  57JVGBtBLCfHw2muk5416J   \n",
       "1                                   Paradise City  3YBZIN3rekqsKxbJc9FZko   \n",
       "2                            Black Dog - Remaster  3qT4bUD1MaWpGrTwcvguhb   \n",
       "3                                 Highway to Hell  2zYzyRzz6pRmhPzyfMEC8s   \n",
       "4                                        Dream On  5MxNLUsfh7uzROypsoO5qe   \n",
       "..                                            ...                     ...   \n",
       "161                     Ramble On - 1990 Remaster  3MODES4TNtygekLl146Dxd   \n",
       "162                                  Crazy On You  5zH710lFSLtkHbMkslLDjR   \n",
       "163                          Foreplay / Long Time  5UYPZZDQfpCE7A0FDDqv4k   \n",
       "164                  My Generation - Mono Version  45s88Xopo6KvHc0PQ05aGg   \n",
       "165                                 Light My Fire  5uvosCdMlFdTXhoazkTI5R   \n",
       "\n",
       "       song_artist  \n",
       "0            Queen  \n",
       "1    Guns N' Roses  \n",
       "2     Led Zeppelin  \n",
       "3            AC/DC  \n",
       "4        Aerosmith  \n",
       "..             ...  \n",
       "161   Led Zeppelin  \n",
       "162          Heart  \n",
       "163         Boston  \n",
       "164        The Who  \n",
       "165      The Doors  \n",
       "\n",
       "[166 rows x 3 columns]"
      ]
     },
     "execution_count": 75,
     "metadata": {},
     "output_type": "execute_result"
    }
   ],
   "source": [
    "playlist_rock_info"
   ]
  },
  {
   "cell_type": "markdown",
   "id": "feb4e871",
   "metadata": {},
   "source": [
    "### Add a new column for genre in playlist_rock_info"
   ]
  },
  {
   "cell_type": "code",
   "execution_count": 76,
   "id": "71158b48",
   "metadata": {},
   "outputs": [],
   "source": [
    "playlist_rock_info.insert(3, 'Genre', 'Rock') "
   ]
  },
  {
   "cell_type": "code",
   "execution_count": 77,
   "id": "9be13217",
   "metadata": {},
   "outputs": [
    {
     "data": {
      "text/html": [
       "<div>\n",
       "<style scoped>\n",
       "    .dataframe tbody tr th:only-of-type {\n",
       "        vertical-align: middle;\n",
       "    }\n",
       "\n",
       "    .dataframe tbody tr th {\n",
       "        vertical-align: top;\n",
       "    }\n",
       "\n",
       "    .dataframe thead th {\n",
       "        text-align: right;\n",
       "    }\n",
       "</style>\n",
       "<table border=\"1\" class=\"dataframe\">\n",
       "  <thead>\n",
       "    <tr style=\"text-align: right;\">\n",
       "      <th></th>\n",
       "      <th>song_name</th>\n",
       "      <th>song_ID</th>\n",
       "      <th>song_artist</th>\n",
       "      <th>Genre</th>\n",
       "    </tr>\n",
       "  </thead>\n",
       "  <tbody>\n",
       "    <tr>\n",
       "      <th>0</th>\n",
       "      <td>Another One Bites The Dust - Remastered 2011</td>\n",
       "      <td>57JVGBtBLCfHw2muk5416J</td>\n",
       "      <td>Queen</td>\n",
       "      <td>Rock</td>\n",
       "    </tr>\n",
       "    <tr>\n",
       "      <th>1</th>\n",
       "      <td>Paradise City</td>\n",
       "      <td>3YBZIN3rekqsKxbJc9FZko</td>\n",
       "      <td>Guns N' Roses</td>\n",
       "      <td>Rock</td>\n",
       "    </tr>\n",
       "    <tr>\n",
       "      <th>2</th>\n",
       "      <td>Black Dog - Remaster</td>\n",
       "      <td>3qT4bUD1MaWpGrTwcvguhb</td>\n",
       "      <td>Led Zeppelin</td>\n",
       "      <td>Rock</td>\n",
       "    </tr>\n",
       "    <tr>\n",
       "      <th>3</th>\n",
       "      <td>Highway to Hell</td>\n",
       "      <td>2zYzyRzz6pRmhPzyfMEC8s</td>\n",
       "      <td>AC/DC</td>\n",
       "      <td>Rock</td>\n",
       "    </tr>\n",
       "    <tr>\n",
       "      <th>4</th>\n",
       "      <td>Dream On</td>\n",
       "      <td>5MxNLUsfh7uzROypsoO5qe</td>\n",
       "      <td>Aerosmith</td>\n",
       "      <td>Rock</td>\n",
       "    </tr>\n",
       "    <tr>\n",
       "      <th>...</th>\n",
       "      <td>...</td>\n",
       "      <td>...</td>\n",
       "      <td>...</td>\n",
       "      <td>...</td>\n",
       "    </tr>\n",
       "    <tr>\n",
       "      <th>161</th>\n",
       "      <td>Ramble On - 1990 Remaster</td>\n",
       "      <td>3MODES4TNtygekLl146Dxd</td>\n",
       "      <td>Led Zeppelin</td>\n",
       "      <td>Rock</td>\n",
       "    </tr>\n",
       "    <tr>\n",
       "      <th>162</th>\n",
       "      <td>Crazy On You</td>\n",
       "      <td>5zH710lFSLtkHbMkslLDjR</td>\n",
       "      <td>Heart</td>\n",
       "      <td>Rock</td>\n",
       "    </tr>\n",
       "    <tr>\n",
       "      <th>163</th>\n",
       "      <td>Foreplay / Long Time</td>\n",
       "      <td>5UYPZZDQfpCE7A0FDDqv4k</td>\n",
       "      <td>Boston</td>\n",
       "      <td>Rock</td>\n",
       "    </tr>\n",
       "    <tr>\n",
       "      <th>164</th>\n",
       "      <td>My Generation - Mono Version</td>\n",
       "      <td>45s88Xopo6KvHc0PQ05aGg</td>\n",
       "      <td>The Who</td>\n",
       "      <td>Rock</td>\n",
       "    </tr>\n",
       "    <tr>\n",
       "      <th>165</th>\n",
       "      <td>Light My Fire</td>\n",
       "      <td>5uvosCdMlFdTXhoazkTI5R</td>\n",
       "      <td>The Doors</td>\n",
       "      <td>Rock</td>\n",
       "    </tr>\n",
       "  </tbody>\n",
       "</table>\n",
       "<p>166 rows × 4 columns</p>\n",
       "</div>"
      ],
      "text/plain": [
       "                                        song_name                 song_ID  \\\n",
       "0    Another One Bites The Dust - Remastered 2011  57JVGBtBLCfHw2muk5416J   \n",
       "1                                   Paradise City  3YBZIN3rekqsKxbJc9FZko   \n",
       "2                            Black Dog - Remaster  3qT4bUD1MaWpGrTwcvguhb   \n",
       "3                                 Highway to Hell  2zYzyRzz6pRmhPzyfMEC8s   \n",
       "4                                        Dream On  5MxNLUsfh7uzROypsoO5qe   \n",
       "..                                            ...                     ...   \n",
       "161                     Ramble On - 1990 Remaster  3MODES4TNtygekLl146Dxd   \n",
       "162                                  Crazy On You  5zH710lFSLtkHbMkslLDjR   \n",
       "163                          Foreplay / Long Time  5UYPZZDQfpCE7A0FDDqv4k   \n",
       "164                  My Generation - Mono Version  45s88Xopo6KvHc0PQ05aGg   \n",
       "165                                 Light My Fire  5uvosCdMlFdTXhoazkTI5R   \n",
       "\n",
       "       song_artist Genre  \n",
       "0            Queen  Rock  \n",
       "1    Guns N' Roses  Rock  \n",
       "2     Led Zeppelin  Rock  \n",
       "3            AC/DC  Rock  \n",
       "4        Aerosmith  Rock  \n",
       "..             ...   ...  \n",
       "161   Led Zeppelin  Rock  \n",
       "162          Heart  Rock  \n",
       "163         Boston  Rock  \n",
       "164        The Who  Rock  \n",
       "165      The Doors  Rock  \n",
       "\n",
       "[166 rows x 4 columns]"
      ]
     },
     "execution_count": 77,
     "metadata": {},
     "output_type": "execute_result"
    }
   ],
   "source": [
    "playlist_rock_info"
   ]
  },
  {
   "cell_type": "markdown",
   "id": "f3ba6a2c",
   "metadata": {},
   "source": [
    "## Import playlists by genre\n",
    "- I will import now a TROPICAL HOUSE playlist"
   ]
  },
  {
   "cell_type": "code",
   "execution_count": 78,
   "id": "fb793d0c",
   "metadata": {},
   "outputs": [],
   "source": [
    "## https://open.spotify.com/playlist/37i9dQZF1DX0AMssoUKCz7?si=8509345b0f7b4117\n",
    "## Spotify"
   ]
  },
  {
   "cell_type": "code",
   "execution_count": 79,
   "id": "e8b046ba",
   "metadata": {},
   "outputs": [],
   "source": [
    "tropical_playlist = sp.user_playlist_tracks(\"Spotify\", \"37i9dQZF1DX0AMssoUKCz7\")"
   ]
  },
  {
   "cell_type": "raw",
   "id": "f785f7fb",
   "metadata": {},
   "source": [
    "tropical_playlist"
   ]
  },
  {
   "cell_type": "code",
   "execution_count": 80,
   "id": "58ab4603",
   "metadata": {},
   "outputs": [
    {
     "data": {
      "text/plain": [
       "dict_keys(['href', 'items', 'limit', 'next', 'offset', 'previous', 'total'])"
      ]
     },
     "execution_count": 80,
     "metadata": {},
     "output_type": "execute_result"
    }
   ],
   "source": [
    "tropical_playlist.keys()"
   ]
  },
  {
   "cell_type": "raw",
   "id": "fcc5deb3",
   "metadata": {},
   "source": [
    "tropical_playlist['items'][3]"
   ]
  },
  {
   "cell_type": "code",
   "execution_count": 81,
   "id": "d8149f09",
   "metadata": {},
   "outputs": [
    {
     "data": {
      "text/plain": [
       "100"
      ]
     },
     "execution_count": 81,
     "metadata": {},
     "output_type": "execute_result"
    }
   ],
   "source": [
    "len(tropical_playlist['items'])"
   ]
  },
  {
   "cell_type": "code",
   "execution_count": 82,
   "id": "dbcaa063",
   "metadata": {},
   "outputs": [],
   "source": [
    "def get_playlist_tracks3(user_id, playlist_id):\n",
    "    results=sp.user_playlist_tracks(user_id, playlist_id)\n",
    "    tracks=results['items']\n",
    "    while results['next']:\n",
    "        results= sp.next(results)\n",
    "        tracks.extend(results['items'])\n",
    "    return tracks"
   ]
  },
  {
   "cell_type": "code",
   "execution_count": 83,
   "id": "0379932d",
   "metadata": {},
   "outputs": [],
   "source": [
    "results5=get_playlist_tracks3(\"Spotify\", \"37i9dQZF1DX0AMssoUKCz7\")"
   ]
  },
  {
   "cell_type": "code",
   "execution_count": 84,
   "id": "63352cc9",
   "metadata": {},
   "outputs": [
    {
     "data": {
      "text/plain": [
       "200"
      ]
     },
     "execution_count": 84,
     "metadata": {},
     "output_type": "execute_result"
    }
   ],
   "source": [
    "len(results5)"
   ]
  },
  {
   "cell_type": "code",
   "execution_count": 85,
   "id": "4cf0886d",
   "metadata": {},
   "outputs": [
    {
     "data": {
      "text/plain": [
       "dict_keys(['album', 'artists', 'available_markets', 'disc_number', 'duration_ms', 'episode', 'explicit', 'external_ids', 'external_urls', 'href', 'id', 'is_local', 'name', 'popularity', 'preview_url', 'track', 'track_number', 'type', 'uri'])"
      ]
     },
     "execution_count": 85,
     "metadata": {},
     "output_type": "execute_result"
    }
   ],
   "source": [
    "results5[0]['track'].keys()"
   ]
  },
  {
   "cell_type": "code",
   "execution_count": 86,
   "id": "ee62491d",
   "metadata": {},
   "outputs": [
    {
     "data": {
      "text/plain": [
       "['spotify:track', '4C020pCjavabKAGmjZZRmh']"
      ]
     },
     "execution_count": 86,
     "metadata": {},
     "output_type": "execute_result"
    }
   ],
   "source": [
    "results5[0]['track'][\"uri\"].rsplit(':',1)"
   ]
  },
  {
   "cell_type": "code",
   "execution_count": 87,
   "id": "4e63a7b3",
   "metadata": {},
   "outputs": [
    {
     "data": {
      "text/plain": [
       "dict_keys(['external_urls', 'href', 'id', 'name', 'type', 'uri'])"
      ]
     },
     "execution_count": 87,
     "metadata": {},
     "output_type": "execute_result"
    }
   ],
   "source": [
    "results5[0]['track'][\"artists\"][0].keys()"
   ]
  },
  {
   "cell_type": "code",
   "execution_count": 88,
   "id": "edd1b7ab",
   "metadata": {},
   "outputs": [],
   "source": [
    "song_name=[]\n",
    "song_URI=[]\n",
    "song_ID=[]\n",
    "song_artist=[]\n",
    "playlist=results5"
   ]
  },
  {
   "cell_type": "code",
   "execution_count": 89,
   "id": "7fd61ec8",
   "metadata": {},
   "outputs": [],
   "source": [
    "for r in results5:\n",
    "    song_URI.append(r[\"track\"][\"uri\"])\n",
    "    \n",
    "for r in results5: \n",
    "    song_ID.append(r[\"track\"][\"id\"])\n",
    "    \n",
    "for r in results5: \n",
    "    song_name.append(r[\"track\"][\"name\"])\n",
    "    \n",
    "for r in results5: \n",
    "    song_artist.append(r[\"track\"][\"artists\"][0][\"name\"])"
   ]
  },
  {
   "cell_type": "code",
   "execution_count": 90,
   "id": "c3a4c669",
   "metadata": {},
   "outputs": [],
   "source": [
    "playlist_tropical_info=pd.DataFrame({\"song_name\":song_name,\"song_ID\":song_ID,\"song_artist\":song_artist})"
   ]
  },
  {
   "cell_type": "code",
   "execution_count": 91,
   "id": "95bd60a6",
   "metadata": {},
   "outputs": [
    {
     "data": {
      "text/html": [
       "<div>\n",
       "<style scoped>\n",
       "    .dataframe tbody tr th:only-of-type {\n",
       "        vertical-align: middle;\n",
       "    }\n",
       "\n",
       "    .dataframe tbody tr th {\n",
       "        vertical-align: top;\n",
       "    }\n",
       "\n",
       "    .dataframe thead th {\n",
       "        text-align: right;\n",
       "    }\n",
       "</style>\n",
       "<table border=\"1\" class=\"dataframe\">\n",
       "  <thead>\n",
       "    <tr style=\"text-align: right;\">\n",
       "      <th></th>\n",
       "      <th>song_name</th>\n",
       "      <th>song_ID</th>\n",
       "      <th>song_artist</th>\n",
       "    </tr>\n",
       "  </thead>\n",
       "  <tbody>\n",
       "    <tr>\n",
       "      <th>0</th>\n",
       "      <td>Ride</td>\n",
       "      <td>4C020pCjavabKAGmjZZRmh</td>\n",
       "      <td>Madism</td>\n",
       "    </tr>\n",
       "    <tr>\n",
       "      <th>1</th>\n",
       "      <td>Tear Me Down (feat. Philip Rustad)</td>\n",
       "      <td>71UYuIZf0TeXAjyy72COVr</td>\n",
       "      <td>Davai</td>\n",
       "    </tr>\n",
       "    <tr>\n",
       "      <th>2</th>\n",
       "      <td>Summer Feeling</td>\n",
       "      <td>793OuR8rJ0zpVp708ONAxO</td>\n",
       "      <td>Matoma</td>\n",
       "    </tr>\n",
       "    <tr>\n",
       "      <th>3</th>\n",
       "      <td>Love Me Now (feat. Zoe Wees)</td>\n",
       "      <td>1c1sdxrYLIiuJOlE7PPttb</td>\n",
       "      <td>Kygo</td>\n",
       "    </tr>\n",
       "    <tr>\n",
       "      <th>4</th>\n",
       "      <td>Call On Me (feat. Georgia Ku)</td>\n",
       "      <td>3pBv3LfvfPft2TqHleqKHo</td>\n",
       "      <td>Sam Feldt</td>\n",
       "    </tr>\n",
       "    <tr>\n",
       "      <th>...</th>\n",
       "      <td>...</td>\n",
       "      <td>...</td>\n",
       "      <td>...</td>\n",
       "    </tr>\n",
       "    <tr>\n",
       "      <th>195</th>\n",
       "      <td>The Last Ones Standing</td>\n",
       "      <td>4X6wMQec2NHdBhEGUwqUFV</td>\n",
       "      <td>Tep No</td>\n",
       "    </tr>\n",
       "    <tr>\n",
       "      <th>196</th>\n",
       "      <td>I Love It When You Cry (Moxoki) - Boehm Remix</td>\n",
       "      <td>0UhyQ3rTGmSf64TwmKLu3i</td>\n",
       "      <td>Steve Aoki</td>\n",
       "    </tr>\n",
       "    <tr>\n",
       "      <th>197</th>\n",
       "      <td>Safe and Sound - Radio Edit</td>\n",
       "      <td>340sV0G2e1h5jWsMyDRmc9</td>\n",
       "      <td>NLSN</td>\n",
       "    </tr>\n",
       "    <tr>\n",
       "      <th>198</th>\n",
       "      <td>Catch &amp; Release (Deepend remix)</td>\n",
       "      <td>4FqrgfKej2jv450UFW6PP8</td>\n",
       "      <td>Matt Simons</td>\n",
       "    </tr>\n",
       "    <tr>\n",
       "      <th>199</th>\n",
       "      <td>High And Low</td>\n",
       "      <td>4PwXNVqkIM8KBuEgYFqDiE</td>\n",
       "      <td>Sam Feldt</td>\n",
       "    </tr>\n",
       "  </tbody>\n",
       "</table>\n",
       "<p>200 rows × 3 columns</p>\n",
       "</div>"
      ],
      "text/plain": [
       "                                         song_name                 song_ID  \\\n",
       "0                                             Ride  4C020pCjavabKAGmjZZRmh   \n",
       "1               Tear Me Down (feat. Philip Rustad)  71UYuIZf0TeXAjyy72COVr   \n",
       "2                                   Summer Feeling  793OuR8rJ0zpVp708ONAxO   \n",
       "3                     Love Me Now (feat. Zoe Wees)  1c1sdxrYLIiuJOlE7PPttb   \n",
       "4                    Call On Me (feat. Georgia Ku)  3pBv3LfvfPft2TqHleqKHo   \n",
       "..                                             ...                     ...   \n",
       "195                         The Last Ones Standing  4X6wMQec2NHdBhEGUwqUFV   \n",
       "196  I Love It When You Cry (Moxoki) - Boehm Remix  0UhyQ3rTGmSf64TwmKLu3i   \n",
       "197                    Safe and Sound - Radio Edit  340sV0G2e1h5jWsMyDRmc9   \n",
       "198                Catch & Release (Deepend remix)  4FqrgfKej2jv450UFW6PP8   \n",
       "199                                   High And Low  4PwXNVqkIM8KBuEgYFqDiE   \n",
       "\n",
       "     song_artist  \n",
       "0         Madism  \n",
       "1          Davai  \n",
       "2         Matoma  \n",
       "3           Kygo  \n",
       "4      Sam Feldt  \n",
       "..           ...  \n",
       "195       Tep No  \n",
       "196   Steve Aoki  \n",
       "197         NLSN  \n",
       "198  Matt Simons  \n",
       "199    Sam Feldt  \n",
       "\n",
       "[200 rows x 3 columns]"
      ]
     },
     "execution_count": 91,
     "metadata": {},
     "output_type": "execute_result"
    }
   ],
   "source": [
    "playlist_tropical_info"
   ]
  },
  {
   "cell_type": "markdown",
   "id": "3f233933",
   "metadata": {},
   "source": [
    "### Add a new column for genre in playlist_tropical_info"
   ]
  },
  {
   "cell_type": "code",
   "execution_count": 92,
   "id": "ea4d0ff2",
   "metadata": {
    "scrolled": true
   },
   "outputs": [],
   "source": [
    "playlist_tropical_info.insert(3, 'Genre', 'Tropical') "
   ]
  },
  {
   "cell_type": "code",
   "execution_count": 93,
   "id": "75c1ef74",
   "metadata": {},
   "outputs": [
    {
     "data": {
      "text/html": [
       "<div>\n",
       "<style scoped>\n",
       "    .dataframe tbody tr th:only-of-type {\n",
       "        vertical-align: middle;\n",
       "    }\n",
       "\n",
       "    .dataframe tbody tr th {\n",
       "        vertical-align: top;\n",
       "    }\n",
       "\n",
       "    .dataframe thead th {\n",
       "        text-align: right;\n",
       "    }\n",
       "</style>\n",
       "<table border=\"1\" class=\"dataframe\">\n",
       "  <thead>\n",
       "    <tr style=\"text-align: right;\">\n",
       "      <th></th>\n",
       "      <th>song_name</th>\n",
       "      <th>song_ID</th>\n",
       "      <th>song_artist</th>\n",
       "      <th>Genre</th>\n",
       "    </tr>\n",
       "  </thead>\n",
       "  <tbody>\n",
       "    <tr>\n",
       "      <th>0</th>\n",
       "      <td>Ride</td>\n",
       "      <td>4C020pCjavabKAGmjZZRmh</td>\n",
       "      <td>Madism</td>\n",
       "      <td>Tropical</td>\n",
       "    </tr>\n",
       "    <tr>\n",
       "      <th>1</th>\n",
       "      <td>Tear Me Down (feat. Philip Rustad)</td>\n",
       "      <td>71UYuIZf0TeXAjyy72COVr</td>\n",
       "      <td>Davai</td>\n",
       "      <td>Tropical</td>\n",
       "    </tr>\n",
       "    <tr>\n",
       "      <th>2</th>\n",
       "      <td>Summer Feeling</td>\n",
       "      <td>793OuR8rJ0zpVp708ONAxO</td>\n",
       "      <td>Matoma</td>\n",
       "      <td>Tropical</td>\n",
       "    </tr>\n",
       "    <tr>\n",
       "      <th>3</th>\n",
       "      <td>Love Me Now (feat. Zoe Wees)</td>\n",
       "      <td>1c1sdxrYLIiuJOlE7PPttb</td>\n",
       "      <td>Kygo</td>\n",
       "      <td>Tropical</td>\n",
       "    </tr>\n",
       "    <tr>\n",
       "      <th>4</th>\n",
       "      <td>Call On Me (feat. Georgia Ku)</td>\n",
       "      <td>3pBv3LfvfPft2TqHleqKHo</td>\n",
       "      <td>Sam Feldt</td>\n",
       "      <td>Tropical</td>\n",
       "    </tr>\n",
       "    <tr>\n",
       "      <th>...</th>\n",
       "      <td>...</td>\n",
       "      <td>...</td>\n",
       "      <td>...</td>\n",
       "      <td>...</td>\n",
       "    </tr>\n",
       "    <tr>\n",
       "      <th>195</th>\n",
       "      <td>The Last Ones Standing</td>\n",
       "      <td>4X6wMQec2NHdBhEGUwqUFV</td>\n",
       "      <td>Tep No</td>\n",
       "      <td>Tropical</td>\n",
       "    </tr>\n",
       "    <tr>\n",
       "      <th>196</th>\n",
       "      <td>I Love It When You Cry (Moxoki) - Boehm Remix</td>\n",
       "      <td>0UhyQ3rTGmSf64TwmKLu3i</td>\n",
       "      <td>Steve Aoki</td>\n",
       "      <td>Tropical</td>\n",
       "    </tr>\n",
       "    <tr>\n",
       "      <th>197</th>\n",
       "      <td>Safe and Sound - Radio Edit</td>\n",
       "      <td>340sV0G2e1h5jWsMyDRmc9</td>\n",
       "      <td>NLSN</td>\n",
       "      <td>Tropical</td>\n",
       "    </tr>\n",
       "    <tr>\n",
       "      <th>198</th>\n",
       "      <td>Catch &amp; Release (Deepend remix)</td>\n",
       "      <td>4FqrgfKej2jv450UFW6PP8</td>\n",
       "      <td>Matt Simons</td>\n",
       "      <td>Tropical</td>\n",
       "    </tr>\n",
       "    <tr>\n",
       "      <th>199</th>\n",
       "      <td>High And Low</td>\n",
       "      <td>4PwXNVqkIM8KBuEgYFqDiE</td>\n",
       "      <td>Sam Feldt</td>\n",
       "      <td>Tropical</td>\n",
       "    </tr>\n",
       "  </tbody>\n",
       "</table>\n",
       "<p>200 rows × 4 columns</p>\n",
       "</div>"
      ],
      "text/plain": [
       "                                         song_name                 song_ID  \\\n",
       "0                                             Ride  4C020pCjavabKAGmjZZRmh   \n",
       "1               Tear Me Down (feat. Philip Rustad)  71UYuIZf0TeXAjyy72COVr   \n",
       "2                                   Summer Feeling  793OuR8rJ0zpVp708ONAxO   \n",
       "3                     Love Me Now (feat. Zoe Wees)  1c1sdxrYLIiuJOlE7PPttb   \n",
       "4                    Call On Me (feat. Georgia Ku)  3pBv3LfvfPft2TqHleqKHo   \n",
       "..                                             ...                     ...   \n",
       "195                         The Last Ones Standing  4X6wMQec2NHdBhEGUwqUFV   \n",
       "196  I Love It When You Cry (Moxoki) - Boehm Remix  0UhyQ3rTGmSf64TwmKLu3i   \n",
       "197                    Safe and Sound - Radio Edit  340sV0G2e1h5jWsMyDRmc9   \n",
       "198                Catch & Release (Deepend remix)  4FqrgfKej2jv450UFW6PP8   \n",
       "199                                   High And Low  4PwXNVqkIM8KBuEgYFqDiE   \n",
       "\n",
       "     song_artist     Genre  \n",
       "0         Madism  Tropical  \n",
       "1          Davai  Tropical  \n",
       "2         Matoma  Tropical  \n",
       "3           Kygo  Tropical  \n",
       "4      Sam Feldt  Tropical  \n",
       "..           ...       ...  \n",
       "195       Tep No  Tropical  \n",
       "196   Steve Aoki  Tropical  \n",
       "197         NLSN  Tropical  \n",
       "198  Matt Simons  Tropical  \n",
       "199    Sam Feldt  Tropical  \n",
       "\n",
       "[200 rows x 4 columns]"
      ]
     },
     "execution_count": 93,
     "metadata": {},
     "output_type": "execute_result"
    }
   ],
   "source": [
    "playlist_tropical_info"
   ]
  },
  {
   "cell_type": "markdown",
   "id": "25fea039",
   "metadata": {},
   "source": [
    "## Import playlists by genre\n",
    "- I will import now a HIPHOP playlist"
   ]
  },
  {
   "cell_type": "code",
   "execution_count": 94,
   "id": "b1363e55",
   "metadata": {},
   "outputs": [],
   "source": [
    "## https://open.spotify.com/playlist/33I6RpefRQcRh69xEczaKT?si=8bc85c31fb894e45\n",
    "## Leon Bouw"
   ]
  },
  {
   "cell_type": "code",
   "execution_count": 95,
   "id": "73ad238f",
   "metadata": {},
   "outputs": [],
   "source": [
    "hiphop_playlist = sp.user_playlist_tracks(\"Leon Bouw\", \"33I6RpefRQcRh69xEczaKT\")"
   ]
  },
  {
   "cell_type": "raw",
   "id": "673756bd",
   "metadata": {},
   "source": [
    "hiphop_playlist"
   ]
  },
  {
   "cell_type": "code",
   "execution_count": 96,
   "id": "4d9032aa",
   "metadata": {},
   "outputs": [
    {
     "data": {
      "text/plain": [
       "dict_keys(['href', 'items', 'limit', 'next', 'offset', 'previous', 'total'])"
      ]
     },
     "execution_count": 96,
     "metadata": {},
     "output_type": "execute_result"
    }
   ],
   "source": [
    "hiphop_playlist.keys()"
   ]
  },
  {
   "cell_type": "raw",
   "id": "2f7ff329",
   "metadata": {},
   "source": [
    "hiphop_playlist['items'][3]"
   ]
  },
  {
   "cell_type": "code",
   "execution_count": 97,
   "id": "e7c0461a",
   "metadata": {},
   "outputs": [
    {
     "data": {
      "text/plain": [
       "100"
      ]
     },
     "execution_count": 97,
     "metadata": {},
     "output_type": "execute_result"
    }
   ],
   "source": [
    "len(hiphop_playlist['items'])"
   ]
  },
  {
   "cell_type": "code",
   "execution_count": 98,
   "id": "ae294836",
   "metadata": {},
   "outputs": [],
   "source": [
    "def get_playlist_tracks4(user_id, playlist_id):\n",
    "    results=sp.user_playlist_tracks(user_id, playlist_id)\n",
    "    tracks=results['items']\n",
    "    while results['next']:\n",
    "        results= sp.next(results)\n",
    "        tracks.extend(results['items'])\n",
    "    return tracks"
   ]
  },
  {
   "cell_type": "code",
   "execution_count": 99,
   "id": "9ca45f55",
   "metadata": {},
   "outputs": [],
   "source": [
    "results6=get_playlist_tracks3(\"Leon Bouw\", \"33I6RpefRQcRh69xEczaKT\")"
   ]
  },
  {
   "cell_type": "code",
   "execution_count": 100,
   "id": "1284e656",
   "metadata": {},
   "outputs": [
    {
     "data": {
      "text/plain": [
       "265"
      ]
     },
     "execution_count": 100,
     "metadata": {},
     "output_type": "execute_result"
    }
   ],
   "source": [
    "len(results6)"
   ]
  },
  {
   "cell_type": "code",
   "execution_count": 101,
   "id": "e10cd8f3",
   "metadata": {},
   "outputs": [
    {
     "data": {
      "text/plain": [
       "dict_keys(['album', 'artists', 'available_markets', 'disc_number', 'duration_ms', 'episode', 'explicit', 'external_ids', 'external_urls', 'href', 'id', 'is_local', 'name', 'popularity', 'preview_url', 'track', 'track_number', 'type', 'uri'])"
      ]
     },
     "execution_count": 101,
     "metadata": {},
     "output_type": "execute_result"
    }
   ],
   "source": [
    "results6[0]['track'].keys()"
   ]
  },
  {
   "cell_type": "code",
   "execution_count": 102,
   "id": "9187164e",
   "metadata": {},
   "outputs": [
    {
     "data": {
      "text/plain": [
       "['spotify:track', '1YrHyDbH17btvI2rFTkbCQ']"
      ]
     },
     "execution_count": 102,
     "metadata": {},
     "output_type": "execute_result"
    }
   ],
   "source": [
    "results6[0]['track'][\"uri\"].rsplit(':',1)"
   ]
  },
  {
   "cell_type": "code",
   "execution_count": 103,
   "id": "637494e9",
   "metadata": {},
   "outputs": [],
   "source": [
    "song_name=[]\n",
    "song_URI=[]\n",
    "song_ID=[]\n",
    "song_artist=[]\n",
    "playlist=results6"
   ]
  },
  {
   "cell_type": "code",
   "execution_count": 104,
   "id": "4b27121c",
   "metadata": {},
   "outputs": [],
   "source": [
    "for r in results6:\n",
    "    song_URI.append(r[\"track\"][\"uri\"])\n",
    "    \n",
    "for r in results6: \n",
    "    song_ID.append(r[\"track\"][\"id\"])\n",
    "    \n",
    "for r in results6: \n",
    "    song_name.append(r[\"track\"][\"name\"])\n",
    "    \n",
    "for r in results6: \n",
    "    song_artist.append(r[\"track\"][\"artists\"][0][\"name\"])"
   ]
  },
  {
   "cell_type": "code",
   "execution_count": 105,
   "id": "f19eedc9",
   "metadata": {},
   "outputs": [],
   "source": [
    "playlist_hiphop_info=pd.DataFrame({\"song_name\":song_name,\"song_ID\":song_ID,\"song_artist\":song_artist})"
   ]
  },
  {
   "cell_type": "code",
   "execution_count": 106,
   "id": "a3ceaba7",
   "metadata": {},
   "outputs": [
    {
     "data": {
      "text/html": [
       "<div>\n",
       "<style scoped>\n",
       "    .dataframe tbody tr th:only-of-type {\n",
       "        vertical-align: middle;\n",
       "    }\n",
       "\n",
       "    .dataframe tbody tr th {\n",
       "        vertical-align: top;\n",
       "    }\n",
       "\n",
       "    .dataframe thead th {\n",
       "        text-align: right;\n",
       "    }\n",
       "</style>\n",
       "<table border=\"1\" class=\"dataframe\">\n",
       "  <thead>\n",
       "    <tr style=\"text-align: right;\">\n",
       "      <th></th>\n",
       "      <th>song_name</th>\n",
       "      <th>song_ID</th>\n",
       "      <th>song_artist</th>\n",
       "    </tr>\n",
       "  </thead>\n",
       "  <tbody>\n",
       "    <tr>\n",
       "      <th>0</th>\n",
       "      <td>Bitch Please</td>\n",
       "      <td>1YrHyDbH17btvI2rFTkbCQ</td>\n",
       "      <td>Snoop Dogg</td>\n",
       "    </tr>\n",
       "    <tr>\n",
       "      <th>1</th>\n",
       "      <td>How We Do</td>\n",
       "      <td>6mZcNu9i8uhOYMiEAyEx81</td>\n",
       "      <td>The Game</td>\n",
       "    </tr>\n",
       "    <tr>\n",
       "      <th>2</th>\n",
       "      <td>No Hands (feat. Roscoe Dash &amp; Wale)</td>\n",
       "      <td>6GgPsuz0HEO0nrO2T0QhDv</td>\n",
       "      <td>Waka Flocka Flame</td>\n",
       "    </tr>\n",
       "    <tr>\n",
       "      <th>3</th>\n",
       "      <td>Gorgeous</td>\n",
       "      <td>1yhQGEykn7ZTNLwcIjOAwZ</td>\n",
       "      <td>Kanye West</td>\n",
       "    </tr>\n",
       "    <tr>\n",
       "      <th>4</th>\n",
       "      <td>99 Problems</td>\n",
       "      <td>4HsL5A46wa0O2jQ0ngj3H7</td>\n",
       "      <td>JAY-Z</td>\n",
       "    </tr>\n",
       "    <tr>\n",
       "      <th>...</th>\n",
       "      <td>...</td>\n",
       "      <td>...</td>\n",
       "      <td>...</td>\n",
       "    </tr>\n",
       "    <tr>\n",
       "      <th>260</th>\n",
       "      <td>Yo Sassy Ways</td>\n",
       "      <td>0J1siBLQBHYgYKeFgu7RAY</td>\n",
       "      <td>Warren G</td>\n",
       "    </tr>\n",
       "    <tr>\n",
       "      <th>261</th>\n",
       "      <td>Cisco Kid</td>\n",
       "      <td>0CJ3Y3V6UQn5X7IjXDO3IO</td>\n",
       "      <td>Redman</td>\n",
       "    </tr>\n",
       "    <tr>\n",
       "      <th>262</th>\n",
       "      <td>Woah! - Radio Mix</td>\n",
       "      <td>5fZjSIReYPJIPwpvrsyW3o</td>\n",
       "      <td>Black Rob</td>\n",
       "    </tr>\n",
       "    <tr>\n",
       "      <th>263</th>\n",
       "      <td>I Don't Wanna Care Right Now (feat. MDMA)</td>\n",
       "      <td>5yhXLtQL9waNMjgkl8MsMP</td>\n",
       "      <td>Lupe Fiasco</td>\n",
       "    </tr>\n",
       "    <tr>\n",
       "      <th>264</th>\n",
       "      <td>The Potion</td>\n",
       "      <td>4zXMw51RgLPRE3vPDuqBvt</td>\n",
       "      <td>Ludacris</td>\n",
       "    </tr>\n",
       "  </tbody>\n",
       "</table>\n",
       "<p>265 rows × 3 columns</p>\n",
       "</div>"
      ],
      "text/plain": [
       "                                     song_name                 song_ID  \\\n",
       "0                                 Bitch Please  1YrHyDbH17btvI2rFTkbCQ   \n",
       "1                                    How We Do  6mZcNu9i8uhOYMiEAyEx81   \n",
       "2          No Hands (feat. Roscoe Dash & Wale)  6GgPsuz0HEO0nrO2T0QhDv   \n",
       "3                                     Gorgeous  1yhQGEykn7ZTNLwcIjOAwZ   \n",
       "4                                  99 Problems  4HsL5A46wa0O2jQ0ngj3H7   \n",
       "..                                         ...                     ...   \n",
       "260                              Yo Sassy Ways  0J1siBLQBHYgYKeFgu7RAY   \n",
       "261                                  Cisco Kid  0CJ3Y3V6UQn5X7IjXDO3IO   \n",
       "262                          Woah! - Radio Mix  5fZjSIReYPJIPwpvrsyW3o   \n",
       "263  I Don't Wanna Care Right Now (feat. MDMA)  5yhXLtQL9waNMjgkl8MsMP   \n",
       "264                                 The Potion  4zXMw51RgLPRE3vPDuqBvt   \n",
       "\n",
       "           song_artist  \n",
       "0           Snoop Dogg  \n",
       "1             The Game  \n",
       "2    Waka Flocka Flame  \n",
       "3           Kanye West  \n",
       "4                JAY-Z  \n",
       "..                 ...  \n",
       "260           Warren G  \n",
       "261             Redman  \n",
       "262          Black Rob  \n",
       "263        Lupe Fiasco  \n",
       "264           Ludacris  \n",
       "\n",
       "[265 rows x 3 columns]"
      ]
     },
     "execution_count": 106,
     "metadata": {},
     "output_type": "execute_result"
    }
   ],
   "source": [
    "playlist_hiphop_info"
   ]
  },
  {
   "cell_type": "markdown",
   "id": "6188ef8b",
   "metadata": {},
   "source": [
    "### Add a new column for genre in playlist_hiphop_info"
   ]
  },
  {
   "cell_type": "code",
   "execution_count": 107,
   "id": "a1e78025",
   "metadata": {},
   "outputs": [],
   "source": [
    "playlist_hiphop_info.insert(3, 'Genre', 'HipHop') "
   ]
  },
  {
   "cell_type": "code",
   "execution_count": 108,
   "id": "4d7d12be",
   "metadata": {},
   "outputs": [
    {
     "data": {
      "text/html": [
       "<div>\n",
       "<style scoped>\n",
       "    .dataframe tbody tr th:only-of-type {\n",
       "        vertical-align: middle;\n",
       "    }\n",
       "\n",
       "    .dataframe tbody tr th {\n",
       "        vertical-align: top;\n",
       "    }\n",
       "\n",
       "    .dataframe thead th {\n",
       "        text-align: right;\n",
       "    }\n",
       "</style>\n",
       "<table border=\"1\" class=\"dataframe\">\n",
       "  <thead>\n",
       "    <tr style=\"text-align: right;\">\n",
       "      <th></th>\n",
       "      <th>song_name</th>\n",
       "      <th>song_ID</th>\n",
       "      <th>song_artist</th>\n",
       "      <th>Genre</th>\n",
       "    </tr>\n",
       "  </thead>\n",
       "  <tbody>\n",
       "    <tr>\n",
       "      <th>0</th>\n",
       "      <td>Bitch Please</td>\n",
       "      <td>1YrHyDbH17btvI2rFTkbCQ</td>\n",
       "      <td>Snoop Dogg</td>\n",
       "      <td>HipHop</td>\n",
       "    </tr>\n",
       "    <tr>\n",
       "      <th>1</th>\n",
       "      <td>How We Do</td>\n",
       "      <td>6mZcNu9i8uhOYMiEAyEx81</td>\n",
       "      <td>The Game</td>\n",
       "      <td>HipHop</td>\n",
       "    </tr>\n",
       "    <tr>\n",
       "      <th>2</th>\n",
       "      <td>No Hands (feat. Roscoe Dash &amp; Wale)</td>\n",
       "      <td>6GgPsuz0HEO0nrO2T0QhDv</td>\n",
       "      <td>Waka Flocka Flame</td>\n",
       "      <td>HipHop</td>\n",
       "    </tr>\n",
       "    <tr>\n",
       "      <th>3</th>\n",
       "      <td>Gorgeous</td>\n",
       "      <td>1yhQGEykn7ZTNLwcIjOAwZ</td>\n",
       "      <td>Kanye West</td>\n",
       "      <td>HipHop</td>\n",
       "    </tr>\n",
       "    <tr>\n",
       "      <th>4</th>\n",
       "      <td>99 Problems</td>\n",
       "      <td>4HsL5A46wa0O2jQ0ngj3H7</td>\n",
       "      <td>JAY-Z</td>\n",
       "      <td>HipHop</td>\n",
       "    </tr>\n",
       "    <tr>\n",
       "      <th>...</th>\n",
       "      <td>...</td>\n",
       "      <td>...</td>\n",
       "      <td>...</td>\n",
       "      <td>...</td>\n",
       "    </tr>\n",
       "    <tr>\n",
       "      <th>260</th>\n",
       "      <td>Yo Sassy Ways</td>\n",
       "      <td>0J1siBLQBHYgYKeFgu7RAY</td>\n",
       "      <td>Warren G</td>\n",
       "      <td>HipHop</td>\n",
       "    </tr>\n",
       "    <tr>\n",
       "      <th>261</th>\n",
       "      <td>Cisco Kid</td>\n",
       "      <td>0CJ3Y3V6UQn5X7IjXDO3IO</td>\n",
       "      <td>Redman</td>\n",
       "      <td>HipHop</td>\n",
       "    </tr>\n",
       "    <tr>\n",
       "      <th>262</th>\n",
       "      <td>Woah! - Radio Mix</td>\n",
       "      <td>5fZjSIReYPJIPwpvrsyW3o</td>\n",
       "      <td>Black Rob</td>\n",
       "      <td>HipHop</td>\n",
       "    </tr>\n",
       "    <tr>\n",
       "      <th>263</th>\n",
       "      <td>I Don't Wanna Care Right Now (feat. MDMA)</td>\n",
       "      <td>5yhXLtQL9waNMjgkl8MsMP</td>\n",
       "      <td>Lupe Fiasco</td>\n",
       "      <td>HipHop</td>\n",
       "    </tr>\n",
       "    <tr>\n",
       "      <th>264</th>\n",
       "      <td>The Potion</td>\n",
       "      <td>4zXMw51RgLPRE3vPDuqBvt</td>\n",
       "      <td>Ludacris</td>\n",
       "      <td>HipHop</td>\n",
       "    </tr>\n",
       "  </tbody>\n",
       "</table>\n",
       "<p>265 rows × 4 columns</p>\n",
       "</div>"
      ],
      "text/plain": [
       "                                     song_name                 song_ID  \\\n",
       "0                                 Bitch Please  1YrHyDbH17btvI2rFTkbCQ   \n",
       "1                                    How We Do  6mZcNu9i8uhOYMiEAyEx81   \n",
       "2          No Hands (feat. Roscoe Dash & Wale)  6GgPsuz0HEO0nrO2T0QhDv   \n",
       "3                                     Gorgeous  1yhQGEykn7ZTNLwcIjOAwZ   \n",
       "4                                  99 Problems  4HsL5A46wa0O2jQ0ngj3H7   \n",
       "..                                         ...                     ...   \n",
       "260                              Yo Sassy Ways  0J1siBLQBHYgYKeFgu7RAY   \n",
       "261                                  Cisco Kid  0CJ3Y3V6UQn5X7IjXDO3IO   \n",
       "262                          Woah! - Radio Mix  5fZjSIReYPJIPwpvrsyW3o   \n",
       "263  I Don't Wanna Care Right Now (feat. MDMA)  5yhXLtQL9waNMjgkl8MsMP   \n",
       "264                                 The Potion  4zXMw51RgLPRE3vPDuqBvt   \n",
       "\n",
       "           song_artist   Genre  \n",
       "0           Snoop Dogg  HipHop  \n",
       "1             The Game  HipHop  \n",
       "2    Waka Flocka Flame  HipHop  \n",
       "3           Kanye West  HipHop  \n",
       "4                JAY-Z  HipHop  \n",
       "..                 ...     ...  \n",
       "260           Warren G  HipHop  \n",
       "261             Redman  HipHop  \n",
       "262          Black Rob  HipHop  \n",
       "263        Lupe Fiasco  HipHop  \n",
       "264           Ludacris  HipHop  \n",
       "\n",
       "[265 rows x 4 columns]"
      ]
     },
     "execution_count": 108,
     "metadata": {},
     "output_type": "execute_result"
    }
   ],
   "source": [
    "playlist_hiphop_info"
   ]
  },
  {
   "cell_type": "markdown",
   "id": "239707da",
   "metadata": {},
   "source": [
    "## Import playlists by genre\n",
    "- I will import now a LATIN playlist"
   ]
  },
  {
   "cell_type": "code",
   "execution_count": 109,
   "id": "8e1ab6fc",
   "metadata": {},
   "outputs": [],
   "source": [
    "## https://open.spotify.com/playlist/4DLmZ0UM8TH0UXRfI0Mvu6?si=138328e1e1b44091\n",
    "## MiKeL"
   ]
  },
  {
   "cell_type": "code",
   "execution_count": 110,
   "id": "0f5071fa",
   "metadata": {},
   "outputs": [],
   "source": [
    "latin_playlist = sp.user_playlist_tracks(\"MiKeL\", \"4DLmZ0UM8TH0UXRfI0Mvu6\")"
   ]
  },
  {
   "cell_type": "raw",
   "id": "385755ae",
   "metadata": {},
   "source": [
    "latin_playlist"
   ]
  },
  {
   "cell_type": "code",
   "execution_count": 111,
   "id": "75993d80",
   "metadata": {},
   "outputs": [
    {
     "data": {
      "text/plain": [
       "dict_keys(['href', 'items', 'limit', 'next', 'offset', 'previous', 'total'])"
      ]
     },
     "execution_count": 111,
     "metadata": {},
     "output_type": "execute_result"
    }
   ],
   "source": [
    "latin_playlist.keys()"
   ]
  },
  {
   "cell_type": "raw",
   "id": "82f9e83d",
   "metadata": {},
   "source": [
    "latin_playlist['items'][3]"
   ]
  },
  {
   "cell_type": "code",
   "execution_count": 112,
   "id": "c0ee3722",
   "metadata": {},
   "outputs": [
    {
     "data": {
      "text/plain": [
       "100"
      ]
     },
     "execution_count": 112,
     "metadata": {},
     "output_type": "execute_result"
    }
   ],
   "source": [
    "len(latin_playlist['items'])"
   ]
  },
  {
   "cell_type": "code",
   "execution_count": 113,
   "id": "08f4d245",
   "metadata": {},
   "outputs": [],
   "source": [
    "def get_playlist_tracks5(user_id, playlist_id):\n",
    "    results=sp.user_playlist_tracks(user_id, playlist_id)\n",
    "    tracks=results['items']\n",
    "    while results['next']:\n",
    "        results= sp.next(results)\n",
    "        tracks.extend(results['items'])\n",
    "    return tracks"
   ]
  },
  {
   "cell_type": "code",
   "execution_count": 114,
   "id": "226ad822",
   "metadata": {},
   "outputs": [],
   "source": [
    "results7=get_playlist_tracks5(\"MiKeL\", \"4DLmZ0UM8TH0UXRfI0Mvu6\")"
   ]
  },
  {
   "cell_type": "code",
   "execution_count": 115,
   "id": "b78a5213",
   "metadata": {},
   "outputs": [
    {
     "data": {
      "text/plain": [
       "269"
      ]
     },
     "execution_count": 115,
     "metadata": {},
     "output_type": "execute_result"
    }
   ],
   "source": [
    "len(results7)"
   ]
  },
  {
   "cell_type": "code",
   "execution_count": 116,
   "id": "4b8eab8f",
   "metadata": {},
   "outputs": [
    {
     "data": {
      "text/plain": [
       "dict_keys(['album', 'artists', 'available_markets', 'disc_number', 'duration_ms', 'episode', 'explicit', 'external_ids', 'external_urls', 'href', 'id', 'is_local', 'name', 'popularity', 'preview_url', 'track', 'track_number', 'type', 'uri'])"
      ]
     },
     "execution_count": 116,
     "metadata": {},
     "output_type": "execute_result"
    }
   ],
   "source": [
    "results7[0]['track'].keys()"
   ]
  },
  {
   "cell_type": "code",
   "execution_count": 117,
   "id": "30e75bec",
   "metadata": {},
   "outputs": [
    {
     "data": {
      "text/plain": [
       "['spotify:track', '1ZcrHpBbILPNfhBtPhQVHh']"
      ]
     },
     "execution_count": 117,
     "metadata": {},
     "output_type": "execute_result"
    }
   ],
   "source": [
    "results7[0]['track'][\"uri\"].rsplit(':',1)"
   ]
  },
  {
   "cell_type": "code",
   "execution_count": 118,
   "id": "dfb872a3",
   "metadata": {},
   "outputs": [],
   "source": [
    "song_name=[]\n",
    "song_URI=[]\n",
    "song_ID=[]\n",
    "song_artist=[]\n",
    "playlist=results7"
   ]
  },
  {
   "cell_type": "code",
   "execution_count": 119,
   "id": "1a787208",
   "metadata": {},
   "outputs": [],
   "source": [
    "for r in results7:\n",
    "    song_URI.append(r[\"track\"][\"uri\"])\n",
    "    \n",
    "for r in results7: \n",
    "    song_ID.append(r[\"track\"][\"id\"])\n",
    "    \n",
    "for r in results7: \n",
    "    song_name.append(r[\"track\"][\"name\"])\n",
    "    \n",
    "for r in results7: \n",
    "    song_artist.append(r[\"track\"][\"artists\"][0][\"name\"])"
   ]
  },
  {
   "cell_type": "code",
   "execution_count": 120,
   "id": "b23b733c",
   "metadata": {},
   "outputs": [],
   "source": [
    "playlist_latin_info=pd.DataFrame({\"song_name\":song_name,\"song_ID\":song_ID,\"song_artist\":song_artist})"
   ]
  },
  {
   "cell_type": "code",
   "execution_count": 121,
   "id": "31dcf10f",
   "metadata": {},
   "outputs": [
    {
     "data": {
      "text/html": [
       "<div>\n",
       "<style scoped>\n",
       "    .dataframe tbody tr th:only-of-type {\n",
       "        vertical-align: middle;\n",
       "    }\n",
       "\n",
       "    .dataframe tbody tr th {\n",
       "        vertical-align: top;\n",
       "    }\n",
       "\n",
       "    .dataframe thead th {\n",
       "        text-align: right;\n",
       "    }\n",
       "</style>\n",
       "<table border=\"1\" class=\"dataframe\">\n",
       "  <thead>\n",
       "    <tr style=\"text-align: right;\">\n",
       "      <th></th>\n",
       "      <th>song_name</th>\n",
       "      <th>song_ID</th>\n",
       "      <th>song_artist</th>\n",
       "    </tr>\n",
       "  </thead>\n",
       "  <tbody>\n",
       "    <tr>\n",
       "      <th>0</th>\n",
       "      <td>Se Menea</td>\n",
       "      <td>1ZcrHpBbILPNfhBtPhQVHh</td>\n",
       "      <td>Don Omar</td>\n",
       "    </tr>\n",
       "    <tr>\n",
       "      <th>1</th>\n",
       "      <td>Una Vaina Loca</td>\n",
       "      <td>2qEoAz0i6yEz5dPggABcLH</td>\n",
       "      <td>Fuego</td>\n",
       "    </tr>\n",
       "    <tr>\n",
       "      <th>2</th>\n",
       "      <td>Señor Juez</td>\n",
       "      <td>2PH533J1xudlfZ5GaHAdVX</td>\n",
       "      <td>Ozuna</td>\n",
       "    </tr>\n",
       "    <tr>\n",
       "      <th>3</th>\n",
       "      <td>Ella - Remix</td>\n",
       "      <td>7iHHlCbsFou5DZSW5HCPfs</td>\n",
       "      <td>Boza</td>\n",
       "    </tr>\n",
       "    <tr>\n",
       "      <th>4</th>\n",
       "      <td>Unfollow</td>\n",
       "      <td>6GsD646HrIDJJpzoY9T1Rt</td>\n",
       "      <td>Duki</td>\n",
       "    </tr>\n",
       "    <tr>\n",
       "      <th>...</th>\n",
       "      <td>...</td>\n",
       "      <td>...</td>\n",
       "      <td>...</td>\n",
       "    </tr>\n",
       "    <tr>\n",
       "      <th>264</th>\n",
       "      <td>Ay Vamos</td>\n",
       "      <td>6Ges5C2IE738iJh4HyQizQ</td>\n",
       "      <td>J Balvin</td>\n",
       "    </tr>\n",
       "    <tr>\n",
       "      <th>265</th>\n",
       "      <td>Love Not War (The Tampa Beat)</td>\n",
       "      <td>4Lt6GXGzYsa1tgkv3nGSTm</td>\n",
       "      <td>Jason Derulo</td>\n",
       "    </tr>\n",
       "    <tr>\n",
       "      <th>266</th>\n",
       "      <td>BICHOTA</td>\n",
       "      <td>7vrJn5hDSXRmdXoR30KgF1</td>\n",
       "      <td>KAROL G</td>\n",
       "    </tr>\n",
       "    <tr>\n",
       "      <th>267</th>\n",
       "      <td>Hey DJ</td>\n",
       "      <td>1XgpK29CGGjZnxPYkiRbh4</td>\n",
       "      <td>CNCO</td>\n",
       "    </tr>\n",
       "    <tr>\n",
       "      <th>268</th>\n",
       "      <td>Danza Kuduro</td>\n",
       "      <td>4sCSUQnWQ6HJsOMjfPicdn</td>\n",
       "      <td>Don Omar</td>\n",
       "    </tr>\n",
       "  </tbody>\n",
       "</table>\n",
       "<p>269 rows × 3 columns</p>\n",
       "</div>"
      ],
      "text/plain": [
       "                         song_name                 song_ID   song_artist\n",
       "0                         Se Menea  1ZcrHpBbILPNfhBtPhQVHh      Don Omar\n",
       "1                   Una Vaina Loca  2qEoAz0i6yEz5dPggABcLH         Fuego\n",
       "2                       Señor Juez  2PH533J1xudlfZ5GaHAdVX         Ozuna\n",
       "3                     Ella - Remix  7iHHlCbsFou5DZSW5HCPfs          Boza\n",
       "4                         Unfollow  6GsD646HrIDJJpzoY9T1Rt          Duki\n",
       "..                             ...                     ...           ...\n",
       "264                       Ay Vamos  6Ges5C2IE738iJh4HyQizQ      J Balvin\n",
       "265  Love Not War (The Tampa Beat)  4Lt6GXGzYsa1tgkv3nGSTm  Jason Derulo\n",
       "266                        BICHOTA  7vrJn5hDSXRmdXoR30KgF1       KAROL G\n",
       "267                         Hey DJ  1XgpK29CGGjZnxPYkiRbh4          CNCO\n",
       "268                   Danza Kuduro  4sCSUQnWQ6HJsOMjfPicdn      Don Omar\n",
       "\n",
       "[269 rows x 3 columns]"
      ]
     },
     "execution_count": 121,
     "metadata": {},
     "output_type": "execute_result"
    }
   ],
   "source": [
    "playlist_latin_info"
   ]
  },
  {
   "cell_type": "markdown",
   "id": "c52c72a9",
   "metadata": {},
   "source": [
    "### Add a new column for genre in playlist_latin_info"
   ]
  },
  {
   "cell_type": "code",
   "execution_count": 122,
   "id": "5b8560c3",
   "metadata": {},
   "outputs": [],
   "source": [
    "playlist_latin_info.insert(3, 'Genre', 'Latin') "
   ]
  },
  {
   "cell_type": "code",
   "execution_count": 123,
   "id": "5b46c8db",
   "metadata": {},
   "outputs": [
    {
     "data": {
      "text/html": [
       "<div>\n",
       "<style scoped>\n",
       "    .dataframe tbody tr th:only-of-type {\n",
       "        vertical-align: middle;\n",
       "    }\n",
       "\n",
       "    .dataframe tbody tr th {\n",
       "        vertical-align: top;\n",
       "    }\n",
       "\n",
       "    .dataframe thead th {\n",
       "        text-align: right;\n",
       "    }\n",
       "</style>\n",
       "<table border=\"1\" class=\"dataframe\">\n",
       "  <thead>\n",
       "    <tr style=\"text-align: right;\">\n",
       "      <th></th>\n",
       "      <th>song_name</th>\n",
       "      <th>song_ID</th>\n",
       "      <th>song_artist</th>\n",
       "      <th>Genre</th>\n",
       "    </tr>\n",
       "  </thead>\n",
       "  <tbody>\n",
       "    <tr>\n",
       "      <th>0</th>\n",
       "      <td>Se Menea</td>\n",
       "      <td>1ZcrHpBbILPNfhBtPhQVHh</td>\n",
       "      <td>Don Omar</td>\n",
       "      <td>Latin</td>\n",
       "    </tr>\n",
       "    <tr>\n",
       "      <th>1</th>\n",
       "      <td>Una Vaina Loca</td>\n",
       "      <td>2qEoAz0i6yEz5dPggABcLH</td>\n",
       "      <td>Fuego</td>\n",
       "      <td>Latin</td>\n",
       "    </tr>\n",
       "    <tr>\n",
       "      <th>2</th>\n",
       "      <td>Señor Juez</td>\n",
       "      <td>2PH533J1xudlfZ5GaHAdVX</td>\n",
       "      <td>Ozuna</td>\n",
       "      <td>Latin</td>\n",
       "    </tr>\n",
       "    <tr>\n",
       "      <th>3</th>\n",
       "      <td>Ella - Remix</td>\n",
       "      <td>7iHHlCbsFou5DZSW5HCPfs</td>\n",
       "      <td>Boza</td>\n",
       "      <td>Latin</td>\n",
       "    </tr>\n",
       "    <tr>\n",
       "      <th>4</th>\n",
       "      <td>Unfollow</td>\n",
       "      <td>6GsD646HrIDJJpzoY9T1Rt</td>\n",
       "      <td>Duki</td>\n",
       "      <td>Latin</td>\n",
       "    </tr>\n",
       "    <tr>\n",
       "      <th>...</th>\n",
       "      <td>...</td>\n",
       "      <td>...</td>\n",
       "      <td>...</td>\n",
       "      <td>...</td>\n",
       "    </tr>\n",
       "    <tr>\n",
       "      <th>264</th>\n",
       "      <td>Ay Vamos</td>\n",
       "      <td>6Ges5C2IE738iJh4HyQizQ</td>\n",
       "      <td>J Balvin</td>\n",
       "      <td>Latin</td>\n",
       "    </tr>\n",
       "    <tr>\n",
       "      <th>265</th>\n",
       "      <td>Love Not War (The Tampa Beat)</td>\n",
       "      <td>4Lt6GXGzYsa1tgkv3nGSTm</td>\n",
       "      <td>Jason Derulo</td>\n",
       "      <td>Latin</td>\n",
       "    </tr>\n",
       "    <tr>\n",
       "      <th>266</th>\n",
       "      <td>BICHOTA</td>\n",
       "      <td>7vrJn5hDSXRmdXoR30KgF1</td>\n",
       "      <td>KAROL G</td>\n",
       "      <td>Latin</td>\n",
       "    </tr>\n",
       "    <tr>\n",
       "      <th>267</th>\n",
       "      <td>Hey DJ</td>\n",
       "      <td>1XgpK29CGGjZnxPYkiRbh4</td>\n",
       "      <td>CNCO</td>\n",
       "      <td>Latin</td>\n",
       "    </tr>\n",
       "    <tr>\n",
       "      <th>268</th>\n",
       "      <td>Danza Kuduro</td>\n",
       "      <td>4sCSUQnWQ6HJsOMjfPicdn</td>\n",
       "      <td>Don Omar</td>\n",
       "      <td>Latin</td>\n",
       "    </tr>\n",
       "  </tbody>\n",
       "</table>\n",
       "<p>269 rows × 4 columns</p>\n",
       "</div>"
      ],
      "text/plain": [
       "                         song_name                 song_ID   song_artist  \\\n",
       "0                         Se Menea  1ZcrHpBbILPNfhBtPhQVHh      Don Omar   \n",
       "1                   Una Vaina Loca  2qEoAz0i6yEz5dPggABcLH         Fuego   \n",
       "2                       Señor Juez  2PH533J1xudlfZ5GaHAdVX         Ozuna   \n",
       "3                     Ella - Remix  7iHHlCbsFou5DZSW5HCPfs          Boza   \n",
       "4                         Unfollow  6GsD646HrIDJJpzoY9T1Rt          Duki   \n",
       "..                             ...                     ...           ...   \n",
       "264                       Ay Vamos  6Ges5C2IE738iJh4HyQizQ      J Balvin   \n",
       "265  Love Not War (The Tampa Beat)  4Lt6GXGzYsa1tgkv3nGSTm  Jason Derulo   \n",
       "266                        BICHOTA  7vrJn5hDSXRmdXoR30KgF1       KAROL G   \n",
       "267                         Hey DJ  1XgpK29CGGjZnxPYkiRbh4          CNCO   \n",
       "268                   Danza Kuduro  4sCSUQnWQ6HJsOMjfPicdn      Don Omar   \n",
       "\n",
       "     Genre  \n",
       "0    Latin  \n",
       "1    Latin  \n",
       "2    Latin  \n",
       "3    Latin  \n",
       "4    Latin  \n",
       "..     ...  \n",
       "264  Latin  \n",
       "265  Latin  \n",
       "266  Latin  \n",
       "267  Latin  \n",
       "268  Latin  \n",
       "\n",
       "[269 rows x 4 columns]"
      ]
     },
     "execution_count": 123,
     "metadata": {},
     "output_type": "execute_result"
    }
   ],
   "source": [
    "playlist_latin_info"
   ]
  },
  {
   "cell_type": "markdown",
   "id": "00f1c978",
   "metadata": {},
   "source": [
    "## Import playlists by genre\n",
    "- I will import now a SPANISH playlist"
   ]
  },
  {
   "cell_type": "code",
   "execution_count": 124,
   "id": "69cf548b",
   "metadata": {},
   "outputs": [],
   "source": [
    "## https://open.spotify.com/playlist/1oUJ31mriViDmfMliMXRRZ?si=c25b5ae7a9d546cb\n",
    "## Gr Fausto"
   ]
  },
  {
   "cell_type": "code",
   "execution_count": 125,
   "id": "41a9eab6",
   "metadata": {},
   "outputs": [],
   "source": [
    "spanish_playlist = sp.user_playlist_tracks(\"Gr Fausto\", \"1oUJ31mriViDmfMliMXRRZ\")"
   ]
  },
  {
   "cell_type": "raw",
   "id": "1a12e7e4",
   "metadata": {},
   "source": [
    "spanish_playlist"
   ]
  },
  {
   "cell_type": "code",
   "execution_count": 126,
   "id": "5cd6fe29",
   "metadata": {},
   "outputs": [
    {
     "data": {
      "text/plain": [
       "dict_keys(['href', 'items', 'limit', 'next', 'offset', 'previous', 'total'])"
      ]
     },
     "execution_count": 126,
     "metadata": {},
     "output_type": "execute_result"
    }
   ],
   "source": [
    "spanish_playlist.keys()"
   ]
  },
  {
   "cell_type": "raw",
   "id": "68026ee1",
   "metadata": {},
   "source": [
    "spanish_playlist['items'][3]"
   ]
  },
  {
   "cell_type": "code",
   "execution_count": 127,
   "id": "0d51db41",
   "metadata": {},
   "outputs": [
    {
     "data": {
      "text/plain": [
       "100"
      ]
     },
     "execution_count": 127,
     "metadata": {},
     "output_type": "execute_result"
    }
   ],
   "source": [
    "len(spanish_playlist['items'])"
   ]
  },
  {
   "cell_type": "code",
   "execution_count": 128,
   "id": "5fbd2d74",
   "metadata": {},
   "outputs": [],
   "source": [
    "def get_playlist_tracks6(user_id, playlist_id):\n",
    "    results=sp.user_playlist_tracks(user_id, playlist_id)\n",
    "    tracks=results['items']\n",
    "    while results['next']:\n",
    "        results= sp.next(results)\n",
    "        tracks.extend(results['items'])\n",
    "    return tracks"
   ]
  },
  {
   "cell_type": "code",
   "execution_count": 129,
   "id": "224b8af4",
   "metadata": {},
   "outputs": [],
   "source": [
    "results8=get_playlist_tracks6(\"Gr Fausto\", \"1oUJ31mriViDmfMliMXRRZ\")"
   ]
  },
  {
   "cell_type": "code",
   "execution_count": 130,
   "id": "3a3fe8d3",
   "metadata": {},
   "outputs": [
    {
     "data": {
      "text/plain": [
       "597"
      ]
     },
     "execution_count": 130,
     "metadata": {},
     "output_type": "execute_result"
    }
   ],
   "source": [
    "len(results8)"
   ]
  },
  {
   "cell_type": "code",
   "execution_count": 131,
   "id": "6e1bd310",
   "metadata": {},
   "outputs": [
    {
     "data": {
      "text/plain": [
       "dict_keys(['album', 'artists', 'available_markets', 'disc_number', 'duration_ms', 'episode', 'explicit', 'external_ids', 'external_urls', 'href', 'id', 'is_local', 'name', 'popularity', 'preview_url', 'track', 'track_number', 'type', 'uri'])"
      ]
     },
     "execution_count": 131,
     "metadata": {},
     "output_type": "execute_result"
    }
   ],
   "source": [
    "results8[0]['track'].keys()"
   ]
  },
  {
   "cell_type": "code",
   "execution_count": 132,
   "id": "d4ac76d0",
   "metadata": {},
   "outputs": [
    {
     "data": {
      "text/plain": [
       "['spotify:track', '3v1dCP3hk2djfWryqfp7sx']"
      ]
     },
     "execution_count": 132,
     "metadata": {},
     "output_type": "execute_result"
    }
   ],
   "source": [
    "results8[0]['track'][\"uri\"].rsplit(':',1)"
   ]
  },
  {
   "cell_type": "code",
   "execution_count": 133,
   "id": "7a443cf3",
   "metadata": {},
   "outputs": [],
   "source": [
    "song_name=[]\n",
    "song_URI=[]\n",
    "song_ID=[]\n",
    "song_artist=[]\n",
    "playlist=results8"
   ]
  },
  {
   "cell_type": "code",
   "execution_count": 134,
   "id": "426619f2",
   "metadata": {},
   "outputs": [],
   "source": [
    "for r in results8:\n",
    "    song_URI.append(r[\"track\"][\"uri\"])\n",
    "    \n",
    "for r in results8: \n",
    "    song_ID.append(r[\"track\"][\"id\"])\n",
    "    \n",
    "for r in results8: \n",
    "    song_name.append(r[\"track\"][\"name\"])\n",
    "    \n",
    "for r in results8: \n",
    "    song_artist.append(r[\"track\"][\"artists\"][0][\"name\"])"
   ]
  },
  {
   "cell_type": "code",
   "execution_count": 135,
   "id": "3890a1e0",
   "metadata": {},
   "outputs": [],
   "source": [
    "playlist_spanish_info=pd.DataFrame({\"song_name\":song_name,\"song_ID\":song_ID,\"song_artist\":song_artist})"
   ]
  },
  {
   "cell_type": "code",
   "execution_count": 136,
   "id": "2fa797f5",
   "metadata": {},
   "outputs": [
    {
     "data": {
      "text/html": [
       "<div>\n",
       "<style scoped>\n",
       "    .dataframe tbody tr th:only-of-type {\n",
       "        vertical-align: middle;\n",
       "    }\n",
       "\n",
       "    .dataframe tbody tr th {\n",
       "        vertical-align: top;\n",
       "    }\n",
       "\n",
       "    .dataframe thead th {\n",
       "        text-align: right;\n",
       "    }\n",
       "</style>\n",
       "<table border=\"1\" class=\"dataframe\">\n",
       "  <thead>\n",
       "    <tr style=\"text-align: right;\">\n",
       "      <th></th>\n",
       "      <th>song_name</th>\n",
       "      <th>song_ID</th>\n",
       "      <th>song_artist</th>\n",
       "    </tr>\n",
       "  </thead>\n",
       "  <tbody>\n",
       "    <tr>\n",
       "      <th>0</th>\n",
       "      <td>Caminando por la vida</td>\n",
       "      <td>3v1dCP3hk2djfWryqfp7sx</td>\n",
       "      <td>Melendi</td>\n",
       "    </tr>\n",
       "    <tr>\n",
       "      <th>1</th>\n",
       "      <td>Soldadito marinero</td>\n",
       "      <td>0eVborSuxUeSg0meWYd9dZ</td>\n",
       "      <td>Fito y Fitipaldis</td>\n",
       "    </tr>\n",
       "    <tr>\n",
       "      <th>2</th>\n",
       "      <td>Walter Palmeras</td>\n",
       "      <td>58UxBSr2y1b7gun2Vjt8dg</td>\n",
       "      <td>Taburete</td>\n",
       "    </tr>\n",
       "    <tr>\n",
       "      <th>3</th>\n",
       "      <td>Caminito A Motel</td>\n",
       "      <td>3VptrSkImJN0c5KCEBHE65</td>\n",
       "      <td>Taburete</td>\n",
       "    </tr>\n",
       "    <tr>\n",
       "      <th>4</th>\n",
       "      <td>Amos del Piano Bar</td>\n",
       "      <td>5wnIjet6vh2BaIX2gl4Mgz</td>\n",
       "      <td>Taburete</td>\n",
       "    </tr>\n",
       "    <tr>\n",
       "      <th>...</th>\n",
       "      <td>...</td>\n",
       "      <td>...</td>\n",
       "      <td>...</td>\n",
       "    </tr>\n",
       "    <tr>\n",
       "      <th>592</th>\n",
       "      <td>Cuando Brille el Sol (with Manuel Espana)</td>\n",
       "      <td>2T0hFOkypPat3w4K5mc7fc</td>\n",
       "      <td>Melocos</td>\n",
       "    </tr>\n",
       "    <tr>\n",
       "      <th>593</th>\n",
       "      <td>Yo no te pido la luna</td>\n",
       "      <td>1hI1st8dvPmr1S55XDkavG</td>\n",
       "      <td>Sergio Dalma</td>\n",
       "    </tr>\n",
       "    <tr>\n",
       "      <th>594</th>\n",
       "      <td>A Mi Manera</td>\n",
       "      <td>5yY2UPVQ9EBKBXh2dGtU6U</td>\n",
       "      <td>Siempre Asi</td>\n",
       "    </tr>\n",
       "    <tr>\n",
       "      <th>595</th>\n",
       "      <td>Sopa fría</td>\n",
       "      <td>1zLJEnxuZBgPbwMrDMiZAf</td>\n",
       "      <td>M-Clan</td>\n",
       "    </tr>\n",
       "    <tr>\n",
       "      <th>596</th>\n",
       "      <td>La Ciudad</td>\n",
       "      <td>7gG0XWjEAStM49hdEYsySn</td>\n",
       "      <td>Club 28</td>\n",
       "    </tr>\n",
       "  </tbody>\n",
       "</table>\n",
       "<p>597 rows × 3 columns</p>\n",
       "</div>"
      ],
      "text/plain": [
       "                                     song_name                 song_ID  \\\n",
       "0                        Caminando por la vida  3v1dCP3hk2djfWryqfp7sx   \n",
       "1                           Soldadito marinero  0eVborSuxUeSg0meWYd9dZ   \n",
       "2                              Walter Palmeras  58UxBSr2y1b7gun2Vjt8dg   \n",
       "3                             Caminito A Motel  3VptrSkImJN0c5KCEBHE65   \n",
       "4                           Amos del Piano Bar  5wnIjet6vh2BaIX2gl4Mgz   \n",
       "..                                         ...                     ...   \n",
       "592  Cuando Brille el Sol (with Manuel Espana)  2T0hFOkypPat3w4K5mc7fc   \n",
       "593                      Yo no te pido la luna  1hI1st8dvPmr1S55XDkavG   \n",
       "594                                A Mi Manera  5yY2UPVQ9EBKBXh2dGtU6U   \n",
       "595                                  Sopa fría  1zLJEnxuZBgPbwMrDMiZAf   \n",
       "596                                  La Ciudad  7gG0XWjEAStM49hdEYsySn   \n",
       "\n",
       "           song_artist  \n",
       "0              Melendi  \n",
       "1    Fito y Fitipaldis  \n",
       "2             Taburete  \n",
       "3             Taburete  \n",
       "4             Taburete  \n",
       "..                 ...  \n",
       "592            Melocos  \n",
       "593       Sergio Dalma  \n",
       "594        Siempre Asi  \n",
       "595             M-Clan  \n",
       "596            Club 28  \n",
       "\n",
       "[597 rows x 3 columns]"
      ]
     },
     "execution_count": 136,
     "metadata": {},
     "output_type": "execute_result"
    }
   ],
   "source": [
    "playlist_spanish_info"
   ]
  },
  {
   "cell_type": "markdown",
   "id": "16982d58",
   "metadata": {},
   "source": [
    "### Add a new column for genre in playlist_spanish_info"
   ]
  },
  {
   "cell_type": "code",
   "execution_count": 137,
   "id": "c889bfad",
   "metadata": {},
   "outputs": [],
   "source": [
    "playlist_spanish_info.insert(3, 'Genre', 'Spanish') "
   ]
  },
  {
   "cell_type": "code",
   "execution_count": 138,
   "id": "a4f40504",
   "metadata": {},
   "outputs": [
    {
     "data": {
      "text/html": [
       "<div>\n",
       "<style scoped>\n",
       "    .dataframe tbody tr th:only-of-type {\n",
       "        vertical-align: middle;\n",
       "    }\n",
       "\n",
       "    .dataframe tbody tr th {\n",
       "        vertical-align: top;\n",
       "    }\n",
       "\n",
       "    .dataframe thead th {\n",
       "        text-align: right;\n",
       "    }\n",
       "</style>\n",
       "<table border=\"1\" class=\"dataframe\">\n",
       "  <thead>\n",
       "    <tr style=\"text-align: right;\">\n",
       "      <th></th>\n",
       "      <th>song_name</th>\n",
       "      <th>song_ID</th>\n",
       "      <th>song_artist</th>\n",
       "      <th>Genre</th>\n",
       "    </tr>\n",
       "  </thead>\n",
       "  <tbody>\n",
       "    <tr>\n",
       "      <th>0</th>\n",
       "      <td>Caminando por la vida</td>\n",
       "      <td>3v1dCP3hk2djfWryqfp7sx</td>\n",
       "      <td>Melendi</td>\n",
       "      <td>Spanish</td>\n",
       "    </tr>\n",
       "    <tr>\n",
       "      <th>1</th>\n",
       "      <td>Soldadito marinero</td>\n",
       "      <td>0eVborSuxUeSg0meWYd9dZ</td>\n",
       "      <td>Fito y Fitipaldis</td>\n",
       "      <td>Spanish</td>\n",
       "    </tr>\n",
       "    <tr>\n",
       "      <th>2</th>\n",
       "      <td>Walter Palmeras</td>\n",
       "      <td>58UxBSr2y1b7gun2Vjt8dg</td>\n",
       "      <td>Taburete</td>\n",
       "      <td>Spanish</td>\n",
       "    </tr>\n",
       "    <tr>\n",
       "      <th>3</th>\n",
       "      <td>Caminito A Motel</td>\n",
       "      <td>3VptrSkImJN0c5KCEBHE65</td>\n",
       "      <td>Taburete</td>\n",
       "      <td>Spanish</td>\n",
       "    </tr>\n",
       "    <tr>\n",
       "      <th>4</th>\n",
       "      <td>Amos del Piano Bar</td>\n",
       "      <td>5wnIjet6vh2BaIX2gl4Mgz</td>\n",
       "      <td>Taburete</td>\n",
       "      <td>Spanish</td>\n",
       "    </tr>\n",
       "    <tr>\n",
       "      <th>...</th>\n",
       "      <td>...</td>\n",
       "      <td>...</td>\n",
       "      <td>...</td>\n",
       "      <td>...</td>\n",
       "    </tr>\n",
       "    <tr>\n",
       "      <th>592</th>\n",
       "      <td>Cuando Brille el Sol (with Manuel Espana)</td>\n",
       "      <td>2T0hFOkypPat3w4K5mc7fc</td>\n",
       "      <td>Melocos</td>\n",
       "      <td>Spanish</td>\n",
       "    </tr>\n",
       "    <tr>\n",
       "      <th>593</th>\n",
       "      <td>Yo no te pido la luna</td>\n",
       "      <td>1hI1st8dvPmr1S55XDkavG</td>\n",
       "      <td>Sergio Dalma</td>\n",
       "      <td>Spanish</td>\n",
       "    </tr>\n",
       "    <tr>\n",
       "      <th>594</th>\n",
       "      <td>A Mi Manera</td>\n",
       "      <td>5yY2UPVQ9EBKBXh2dGtU6U</td>\n",
       "      <td>Siempre Asi</td>\n",
       "      <td>Spanish</td>\n",
       "    </tr>\n",
       "    <tr>\n",
       "      <th>595</th>\n",
       "      <td>Sopa fría</td>\n",
       "      <td>1zLJEnxuZBgPbwMrDMiZAf</td>\n",
       "      <td>M-Clan</td>\n",
       "      <td>Spanish</td>\n",
       "    </tr>\n",
       "    <tr>\n",
       "      <th>596</th>\n",
       "      <td>La Ciudad</td>\n",
       "      <td>7gG0XWjEAStM49hdEYsySn</td>\n",
       "      <td>Club 28</td>\n",
       "      <td>Spanish</td>\n",
       "    </tr>\n",
       "  </tbody>\n",
       "</table>\n",
       "<p>597 rows × 4 columns</p>\n",
       "</div>"
      ],
      "text/plain": [
       "                                     song_name                 song_ID  \\\n",
       "0                        Caminando por la vida  3v1dCP3hk2djfWryqfp7sx   \n",
       "1                           Soldadito marinero  0eVborSuxUeSg0meWYd9dZ   \n",
       "2                              Walter Palmeras  58UxBSr2y1b7gun2Vjt8dg   \n",
       "3                             Caminito A Motel  3VptrSkImJN0c5KCEBHE65   \n",
       "4                           Amos del Piano Bar  5wnIjet6vh2BaIX2gl4Mgz   \n",
       "..                                         ...                     ...   \n",
       "592  Cuando Brille el Sol (with Manuel Espana)  2T0hFOkypPat3w4K5mc7fc   \n",
       "593                      Yo no te pido la luna  1hI1st8dvPmr1S55XDkavG   \n",
       "594                                A Mi Manera  5yY2UPVQ9EBKBXh2dGtU6U   \n",
       "595                                  Sopa fría  1zLJEnxuZBgPbwMrDMiZAf   \n",
       "596                                  La Ciudad  7gG0XWjEAStM49hdEYsySn   \n",
       "\n",
       "           song_artist    Genre  \n",
       "0              Melendi  Spanish  \n",
       "1    Fito y Fitipaldis  Spanish  \n",
       "2             Taburete  Spanish  \n",
       "3             Taburete  Spanish  \n",
       "4             Taburete  Spanish  \n",
       "..                 ...      ...  \n",
       "592            Melocos  Spanish  \n",
       "593       Sergio Dalma  Spanish  \n",
       "594        Siempre Asi  Spanish  \n",
       "595             M-Clan  Spanish  \n",
       "596            Club 28  Spanish  \n",
       "\n",
       "[597 rows x 4 columns]"
      ]
     },
     "execution_count": 138,
     "metadata": {},
     "output_type": "execute_result"
    }
   ],
   "source": [
    "playlist_spanish_info"
   ]
  },
  {
   "cell_type": "markdown",
   "id": "d001544d",
   "metadata": {},
   "source": [
    "## Import playlists by genre\n",
    "- I will import now a JAZZ playlist"
   ]
  },
  {
   "cell_type": "code",
   "execution_count": 139,
   "id": "55a8a604",
   "metadata": {},
   "outputs": [],
   "source": [
    "## https://open.spotify.com/playlist/37i9dQZF1DX0SM0LYsmbMT?si=a455c71c0ea24707\n",
    "## Spotify"
   ]
  },
  {
   "cell_type": "code",
   "execution_count": 140,
   "id": "64a83dd0",
   "metadata": {},
   "outputs": [],
   "source": [
    "jazz_playlist = sp.user_playlist_tracks(\"Spotify\", \"37i9dQZF1DX0SM0LYsmbMT\")"
   ]
  },
  {
   "cell_type": "raw",
   "id": "03221488",
   "metadata": {},
   "source": [
    "jazz_playlist"
   ]
  },
  {
   "cell_type": "code",
   "execution_count": 141,
   "id": "c59eae29",
   "metadata": {},
   "outputs": [
    {
     "data": {
      "text/plain": [
       "dict_keys(['href', 'items', 'limit', 'next', 'offset', 'previous', 'total'])"
      ]
     },
     "execution_count": 141,
     "metadata": {},
     "output_type": "execute_result"
    }
   ],
   "source": [
    "jazz_playlist.keys()"
   ]
  },
  {
   "cell_type": "raw",
   "id": "f2cd65d9",
   "metadata": {},
   "source": [
    "jazz_playlist['items'][3]"
   ]
  },
  {
   "cell_type": "code",
   "execution_count": 142,
   "id": "f54dc05a",
   "metadata": {},
   "outputs": [
    {
     "data": {
      "text/plain": [
       "100"
      ]
     },
     "execution_count": 142,
     "metadata": {},
     "output_type": "execute_result"
    }
   ],
   "source": [
    "len(jazz_playlist['items'])"
   ]
  },
  {
   "cell_type": "code",
   "execution_count": 143,
   "id": "cdb30ed4",
   "metadata": {},
   "outputs": [],
   "source": [
    "def get_playlist_tracks7(user_id, playlist_id):\n",
    "    results=sp.user_playlist_tracks(user_id, playlist_id)\n",
    "    tracks=results['items']\n",
    "    while results['next']:\n",
    "        results= sp.next(results)\n",
    "        tracks.extend(results['items'])\n",
    "    return tracks"
   ]
  },
  {
   "cell_type": "code",
   "execution_count": 144,
   "id": "d59f0454",
   "metadata": {},
   "outputs": [],
   "source": [
    "results9=get_playlist_tracks7(\"Spotify\", \"37i9dQZF1DX0SM0LYsmbMT\")"
   ]
  },
  {
   "cell_type": "code",
   "execution_count": 145,
   "id": "802d7751",
   "metadata": {},
   "outputs": [
    {
     "data": {
      "text/plain": [
       "300"
      ]
     },
     "execution_count": 145,
     "metadata": {},
     "output_type": "execute_result"
    }
   ],
   "source": [
    "len(results9)"
   ]
  },
  {
   "cell_type": "code",
   "execution_count": 146,
   "id": "2c947c8a",
   "metadata": {},
   "outputs": [
    {
     "data": {
      "text/plain": [
       "dict_keys(['album', 'artists', 'available_markets', 'disc_number', 'duration_ms', 'episode', 'explicit', 'external_ids', 'external_urls', 'href', 'id', 'is_local', 'name', 'popularity', 'preview_url', 'track', 'track_number', 'type', 'uri'])"
      ]
     },
     "execution_count": 146,
     "metadata": {},
     "output_type": "execute_result"
    }
   ],
   "source": [
    "results9[0]['track'].keys()"
   ]
  },
  {
   "cell_type": "code",
   "execution_count": 147,
   "id": "f320f69c",
   "metadata": {},
   "outputs": [
    {
     "data": {
      "text/plain": [
       "['spotify:track', '68XSHyQQlIhs6ytuHIr6Uo']"
      ]
     },
     "execution_count": 147,
     "metadata": {},
     "output_type": "execute_result"
    }
   ],
   "source": [
    "results9[0]['track'][\"uri\"].rsplit(':',1)"
   ]
  },
  {
   "cell_type": "code",
   "execution_count": 148,
   "id": "df0bf336",
   "metadata": {},
   "outputs": [],
   "source": [
    "song_name=[]\n",
    "song_URI=[]\n",
    "song_ID=[]\n",
    "song_artist=[]\n",
    "playlist=results9"
   ]
  },
  {
   "cell_type": "code",
   "execution_count": 149,
   "id": "0cb6aeb1",
   "metadata": {},
   "outputs": [],
   "source": [
    "for r in results9:\n",
    "    song_URI.append(r[\"track\"][\"uri\"])\n",
    "    \n",
    "for r in results9: \n",
    "    song_ID.append(r[\"track\"][\"id\"])\n",
    "    \n",
    "for r in results9: \n",
    "    song_name.append(r[\"track\"][\"name\"])\n",
    "    \n",
    "for r in results9: \n",
    "    song_artist.append(r[\"track\"][\"artists\"][0][\"name\"])"
   ]
  },
  {
   "cell_type": "code",
   "execution_count": 150,
   "id": "47dc7a6c",
   "metadata": {},
   "outputs": [],
   "source": [
    "playlist_jazz_info=pd.DataFrame({\"song_name\":song_name,\"song_ID\":song_ID,\"song_artist\":song_artist})"
   ]
  },
  {
   "cell_type": "code",
   "execution_count": 151,
   "id": "6ba9bba5",
   "metadata": {},
   "outputs": [
    {
     "data": {
      "text/html": [
       "<div>\n",
       "<style scoped>\n",
       "    .dataframe tbody tr th:only-of-type {\n",
       "        vertical-align: middle;\n",
       "    }\n",
       "\n",
       "    .dataframe tbody tr th {\n",
       "        vertical-align: top;\n",
       "    }\n",
       "\n",
       "    .dataframe thead th {\n",
       "        text-align: right;\n",
       "    }\n",
       "</style>\n",
       "<table border=\"1\" class=\"dataframe\">\n",
       "  <thead>\n",
       "    <tr style=\"text-align: right;\">\n",
       "      <th></th>\n",
       "      <th>song_name</th>\n",
       "      <th>song_ID</th>\n",
       "      <th>song_artist</th>\n",
       "    </tr>\n",
       "  </thead>\n",
       "  <tbody>\n",
       "    <tr>\n",
       "      <th>0</th>\n",
       "      <td>Memories</td>\n",
       "      <td>68XSHyQQlIhs6ytuHIr6Uo</td>\n",
       "      <td>Mr. Käfer</td>\n",
       "    </tr>\n",
       "    <tr>\n",
       "      <th>1</th>\n",
       "      <td>Above the Clouds</td>\n",
       "      <td>0ogIUn5t00tseKzRngQfnu</td>\n",
       "      <td>Oilix</td>\n",
       "    </tr>\n",
       "    <tr>\n",
       "      <th>2</th>\n",
       "      <td>Bubbles</td>\n",
       "      <td>3ocMyz1hZX5pl87L4xgadr</td>\n",
       "      <td>Glimlip</td>\n",
       "    </tr>\n",
       "    <tr>\n",
       "      <th>3</th>\n",
       "      <td>Soulsearching</td>\n",
       "      <td>7bKVWzUXNgcEdi32sECdD1</td>\n",
       "      <td>Hoffy Beats</td>\n",
       "    </tr>\n",
       "    <tr>\n",
       "      <th>4</th>\n",
       "      <td>Sad Emoji</td>\n",
       "      <td>1biA4kEJ8M2tPrWfwy9uID</td>\n",
       "      <td>Katashi Kaitō</td>\n",
       "    </tr>\n",
       "    <tr>\n",
       "      <th>...</th>\n",
       "      <td>...</td>\n",
       "      <td>...</td>\n",
       "      <td>...</td>\n",
       "    </tr>\n",
       "    <tr>\n",
       "      <th>295</th>\n",
       "      <td>Papp Papp</td>\n",
       "      <td>4U7ZN87fGLC7KpemBsT516</td>\n",
       "      <td>Madara</td>\n",
       "    </tr>\n",
       "    <tr>\n",
       "      <th>296</th>\n",
       "      <td>Life</td>\n",
       "      <td>3ObpboFzz9FoI7Kkv24WUp</td>\n",
       "      <td>Vincent Rayn</td>\n",
       "    </tr>\n",
       "    <tr>\n",
       "      <th>297</th>\n",
       "      <td>Lagoon</td>\n",
       "      <td>1xz1RiE7nVAeehBCXQsacj</td>\n",
       "      <td>Sátyr</td>\n",
       "    </tr>\n",
       "    <tr>\n",
       "      <th>298</th>\n",
       "      <td>visions</td>\n",
       "      <td>745AakO0aEufMDxDQjg0qb</td>\n",
       "      <td>damaa.beats</td>\n",
       "    </tr>\n",
       "    <tr>\n",
       "      <th>299</th>\n",
       "      <td>Butterflies</td>\n",
       "      <td>6LKz4SWkoOOTYnq6sifOV6</td>\n",
       "      <td>Funcc.</td>\n",
       "    </tr>\n",
       "  </tbody>\n",
       "</table>\n",
       "<p>300 rows × 3 columns</p>\n",
       "</div>"
      ],
      "text/plain": [
       "            song_name                 song_ID    song_artist\n",
       "0            Memories  68XSHyQQlIhs6ytuHIr6Uo      Mr. Käfer\n",
       "1    Above the Clouds  0ogIUn5t00tseKzRngQfnu          Oilix\n",
       "2             Bubbles  3ocMyz1hZX5pl87L4xgadr        Glimlip\n",
       "3       Soulsearching  7bKVWzUXNgcEdi32sECdD1    Hoffy Beats\n",
       "4           Sad Emoji  1biA4kEJ8M2tPrWfwy9uID  Katashi Kaitō\n",
       "..                ...                     ...            ...\n",
       "295         Papp Papp  4U7ZN87fGLC7KpemBsT516         Madara\n",
       "296              Life  3ObpboFzz9FoI7Kkv24WUp   Vincent Rayn\n",
       "297            Lagoon  1xz1RiE7nVAeehBCXQsacj          Sátyr\n",
       "298           visions  745AakO0aEufMDxDQjg0qb    damaa.beats\n",
       "299       Butterflies  6LKz4SWkoOOTYnq6sifOV6         Funcc.\n",
       "\n",
       "[300 rows x 3 columns]"
      ]
     },
     "execution_count": 151,
     "metadata": {},
     "output_type": "execute_result"
    }
   ],
   "source": [
    "playlist_jazz_info"
   ]
  },
  {
   "cell_type": "markdown",
   "id": "0d38700b",
   "metadata": {},
   "source": [
    "### Add a new column for genre in playlist_spanish_info"
   ]
  },
  {
   "cell_type": "code",
   "execution_count": 152,
   "id": "0c795b02",
   "metadata": {},
   "outputs": [],
   "source": [
    "playlist_jazz_info.insert(3, 'Genre', 'Jazz') "
   ]
  },
  {
   "cell_type": "code",
   "execution_count": 153,
   "id": "268cb333",
   "metadata": {},
   "outputs": [
    {
     "data": {
      "text/html": [
       "<div>\n",
       "<style scoped>\n",
       "    .dataframe tbody tr th:only-of-type {\n",
       "        vertical-align: middle;\n",
       "    }\n",
       "\n",
       "    .dataframe tbody tr th {\n",
       "        vertical-align: top;\n",
       "    }\n",
       "\n",
       "    .dataframe thead th {\n",
       "        text-align: right;\n",
       "    }\n",
       "</style>\n",
       "<table border=\"1\" class=\"dataframe\">\n",
       "  <thead>\n",
       "    <tr style=\"text-align: right;\">\n",
       "      <th></th>\n",
       "      <th>song_name</th>\n",
       "      <th>song_ID</th>\n",
       "      <th>song_artist</th>\n",
       "      <th>Genre</th>\n",
       "    </tr>\n",
       "  </thead>\n",
       "  <tbody>\n",
       "    <tr>\n",
       "      <th>0</th>\n",
       "      <td>Memories</td>\n",
       "      <td>68XSHyQQlIhs6ytuHIr6Uo</td>\n",
       "      <td>Mr. Käfer</td>\n",
       "      <td>Jazz</td>\n",
       "    </tr>\n",
       "    <tr>\n",
       "      <th>1</th>\n",
       "      <td>Above the Clouds</td>\n",
       "      <td>0ogIUn5t00tseKzRngQfnu</td>\n",
       "      <td>Oilix</td>\n",
       "      <td>Jazz</td>\n",
       "    </tr>\n",
       "    <tr>\n",
       "      <th>2</th>\n",
       "      <td>Bubbles</td>\n",
       "      <td>3ocMyz1hZX5pl87L4xgadr</td>\n",
       "      <td>Glimlip</td>\n",
       "      <td>Jazz</td>\n",
       "    </tr>\n",
       "    <tr>\n",
       "      <th>3</th>\n",
       "      <td>Soulsearching</td>\n",
       "      <td>7bKVWzUXNgcEdi32sECdD1</td>\n",
       "      <td>Hoffy Beats</td>\n",
       "      <td>Jazz</td>\n",
       "    </tr>\n",
       "    <tr>\n",
       "      <th>4</th>\n",
       "      <td>Sad Emoji</td>\n",
       "      <td>1biA4kEJ8M2tPrWfwy9uID</td>\n",
       "      <td>Katashi Kaitō</td>\n",
       "      <td>Jazz</td>\n",
       "    </tr>\n",
       "    <tr>\n",
       "      <th>...</th>\n",
       "      <td>...</td>\n",
       "      <td>...</td>\n",
       "      <td>...</td>\n",
       "      <td>...</td>\n",
       "    </tr>\n",
       "    <tr>\n",
       "      <th>295</th>\n",
       "      <td>Papp Papp</td>\n",
       "      <td>4U7ZN87fGLC7KpemBsT516</td>\n",
       "      <td>Madara</td>\n",
       "      <td>Jazz</td>\n",
       "    </tr>\n",
       "    <tr>\n",
       "      <th>296</th>\n",
       "      <td>Life</td>\n",
       "      <td>3ObpboFzz9FoI7Kkv24WUp</td>\n",
       "      <td>Vincent Rayn</td>\n",
       "      <td>Jazz</td>\n",
       "    </tr>\n",
       "    <tr>\n",
       "      <th>297</th>\n",
       "      <td>Lagoon</td>\n",
       "      <td>1xz1RiE7nVAeehBCXQsacj</td>\n",
       "      <td>Sátyr</td>\n",
       "      <td>Jazz</td>\n",
       "    </tr>\n",
       "    <tr>\n",
       "      <th>298</th>\n",
       "      <td>visions</td>\n",
       "      <td>745AakO0aEufMDxDQjg0qb</td>\n",
       "      <td>damaa.beats</td>\n",
       "      <td>Jazz</td>\n",
       "    </tr>\n",
       "    <tr>\n",
       "      <th>299</th>\n",
       "      <td>Butterflies</td>\n",
       "      <td>6LKz4SWkoOOTYnq6sifOV6</td>\n",
       "      <td>Funcc.</td>\n",
       "      <td>Jazz</td>\n",
       "    </tr>\n",
       "  </tbody>\n",
       "</table>\n",
       "<p>300 rows × 4 columns</p>\n",
       "</div>"
      ],
      "text/plain": [
       "            song_name                 song_ID    song_artist Genre\n",
       "0            Memories  68XSHyQQlIhs6ytuHIr6Uo      Mr. Käfer  Jazz\n",
       "1    Above the Clouds  0ogIUn5t00tseKzRngQfnu          Oilix  Jazz\n",
       "2             Bubbles  3ocMyz1hZX5pl87L4xgadr        Glimlip  Jazz\n",
       "3       Soulsearching  7bKVWzUXNgcEdi32sECdD1    Hoffy Beats  Jazz\n",
       "4           Sad Emoji  1biA4kEJ8M2tPrWfwy9uID  Katashi Kaitō  Jazz\n",
       "..                ...                     ...            ...   ...\n",
       "295         Papp Papp  4U7ZN87fGLC7KpemBsT516         Madara  Jazz\n",
       "296              Life  3ObpboFzz9FoI7Kkv24WUp   Vincent Rayn  Jazz\n",
       "297            Lagoon  1xz1RiE7nVAeehBCXQsacj          Sátyr  Jazz\n",
       "298           visions  745AakO0aEufMDxDQjg0qb    damaa.beats  Jazz\n",
       "299       Butterflies  6LKz4SWkoOOTYnq6sifOV6         Funcc.  Jazz\n",
       "\n",
       "[300 rows x 4 columns]"
      ]
     },
     "execution_count": 153,
     "metadata": {},
     "output_type": "execute_result"
    }
   ],
   "source": [
    "playlist_jazz_info"
   ]
  },
  {
   "cell_type": "markdown",
   "id": "8b6a3eac",
   "metadata": {},
   "source": [
    "## Import playlists by genre\n",
    "- I will import now a Deep House playlist"
   ]
  },
  {
   "cell_type": "code",
   "execution_count": 154,
   "id": "705c13ab",
   "metadata": {},
   "outputs": [],
   "source": [
    "## https://open.spotify.com/playlist/37i9dQZF1DX2TRYkJECvfC?si=e54832a9a20e4451\n",
    "## Spotify"
   ]
  },
  {
   "cell_type": "code",
   "execution_count": 155,
   "id": "f3a39527",
   "metadata": {},
   "outputs": [],
   "source": [
    "deep_house_playlist = sp.user_playlist_tracks(\"Spotify\", \"37i9dQZF1DX2TRYkJECvfC\")"
   ]
  },
  {
   "cell_type": "raw",
   "id": "effc5a46",
   "metadata": {},
   "source": [
    "deep_house_playlist"
   ]
  },
  {
   "cell_type": "code",
   "execution_count": 156,
   "id": "663edc28",
   "metadata": {},
   "outputs": [
    {
     "data": {
      "text/plain": [
       "dict_keys(['href', 'items', 'limit', 'next', 'offset', 'previous', 'total'])"
      ]
     },
     "execution_count": 156,
     "metadata": {},
     "output_type": "execute_result"
    }
   ],
   "source": [
    "deep_house_playlist.keys()"
   ]
  },
  {
   "cell_type": "raw",
   "id": "4143aa77",
   "metadata": {},
   "source": [
    "deep_house_playlist['items'][3]"
   ]
  },
  {
   "cell_type": "code",
   "execution_count": 157,
   "id": "6d291319",
   "metadata": {},
   "outputs": [
    {
     "data": {
      "text/plain": [
       "100"
      ]
     },
     "execution_count": 157,
     "metadata": {},
     "output_type": "execute_result"
    }
   ],
   "source": [
    "len(deep_house_playlist['items'])"
   ]
  },
  {
   "cell_type": "code",
   "execution_count": 158,
   "id": "6fa47d0f",
   "metadata": {},
   "outputs": [],
   "source": [
    "def get_playlist_tracks8(user_id, playlist_id):\n",
    "    results=sp.user_playlist_tracks(user_id, playlist_id)\n",
    "    tracks=results['items']\n",
    "    while results['next']:\n",
    "        results= sp.next(results)\n",
    "        tracks.extend(results['items'])\n",
    "    return tracks"
   ]
  },
  {
   "cell_type": "code",
   "execution_count": 159,
   "id": "c917cc1b",
   "metadata": {},
   "outputs": [],
   "source": [
    "results10=get_playlist_tracks8(\"Spotify\", \"37i9dQZF1DX2TRYkJECvfC\")"
   ]
  },
  {
   "cell_type": "code",
   "execution_count": 160,
   "id": "705971f0",
   "metadata": {},
   "outputs": [
    {
     "data": {
      "text/plain": [
       "200"
      ]
     },
     "execution_count": 160,
     "metadata": {},
     "output_type": "execute_result"
    }
   ],
   "source": [
    "len(results10)"
   ]
  },
  {
   "cell_type": "code",
   "execution_count": 161,
   "id": "550f0d10",
   "metadata": {},
   "outputs": [
    {
     "data": {
      "text/plain": [
       "dict_keys(['album', 'artists', 'available_markets', 'disc_number', 'duration_ms', 'episode', 'explicit', 'external_ids', 'external_urls', 'href', 'id', 'is_local', 'name', 'popularity', 'preview_url', 'track', 'track_number', 'type', 'uri'])"
      ]
     },
     "execution_count": 161,
     "metadata": {},
     "output_type": "execute_result"
    }
   ],
   "source": [
    "results10[0]['track'].keys()"
   ]
  },
  {
   "cell_type": "code",
   "execution_count": 162,
   "id": "2490ed40",
   "metadata": {},
   "outputs": [],
   "source": [
    "song_name=[]\n",
    "song_URI=[]\n",
    "song_ID=[]\n",
    "song_artist=[]\n",
    "playlist=results10"
   ]
  },
  {
   "cell_type": "code",
   "execution_count": 163,
   "id": "4d5284bb",
   "metadata": {},
   "outputs": [],
   "source": [
    "for r in results10:\n",
    "    song_URI.append(r[\"track\"][\"uri\"])\n",
    "    \n",
    "for r in results10: \n",
    "    song_ID.append(r[\"track\"][\"id\"])\n",
    "    \n",
    "for r in results10: \n",
    "    song_name.append(r[\"track\"][\"name\"])\n",
    "    \n",
    "for r in results10: \n",
    "    song_artist.append(r[\"track\"][\"artists\"][0][\"name\"])"
   ]
  },
  {
   "cell_type": "code",
   "execution_count": 164,
   "id": "e516f032",
   "metadata": {},
   "outputs": [],
   "source": [
    "playlist_deep_house_info=pd.DataFrame({\"song_name\":song_name,\"song_ID\":song_ID,\"song_artist\":song_artist})"
   ]
  },
  {
   "cell_type": "code",
   "execution_count": 165,
   "id": "61130b4d",
   "metadata": {},
   "outputs": [
    {
     "data": {
      "text/html": [
       "<div>\n",
       "<style scoped>\n",
       "    .dataframe tbody tr th:only-of-type {\n",
       "        vertical-align: middle;\n",
       "    }\n",
       "\n",
       "    .dataframe tbody tr th {\n",
       "        vertical-align: top;\n",
       "    }\n",
       "\n",
       "    .dataframe thead th {\n",
       "        text-align: right;\n",
       "    }\n",
       "</style>\n",
       "<table border=\"1\" class=\"dataframe\">\n",
       "  <thead>\n",
       "    <tr style=\"text-align: right;\">\n",
       "      <th></th>\n",
       "      <th>song_name</th>\n",
       "      <th>song_ID</th>\n",
       "      <th>song_artist</th>\n",
       "    </tr>\n",
       "  </thead>\n",
       "  <tbody>\n",
       "    <tr>\n",
       "      <th>0</th>\n",
       "      <td>Renaissance</td>\n",
       "      <td>1mqPLbDc8DCRlTuyF26ste</td>\n",
       "      <td>Honeydripper</td>\n",
       "    </tr>\n",
       "    <tr>\n",
       "      <th>1</th>\n",
       "      <td>Erase</td>\n",
       "      <td>1BbXlbs8pWeYI2yGpGhuzA</td>\n",
       "      <td>Ben Böhmer</td>\n",
       "    </tr>\n",
       "    <tr>\n",
       "      <th>2</th>\n",
       "      <td>Waves (feat. Grace Tither)</td>\n",
       "      <td>6ymVxYG0UHqIjXmclbE1cu</td>\n",
       "      <td>BLOND:ISH</td>\n",
       "    </tr>\n",
       "    <tr>\n",
       "      <th>3</th>\n",
       "      <td>Designer Love - Short Version</td>\n",
       "      <td>5NfgFRdfNQ4HFVPGRoVMU6</td>\n",
       "      <td>MARIA Die RUHE</td>\n",
       "    </tr>\n",
       "    <tr>\n",
       "      <th>4</th>\n",
       "      <td>Renaissance - Manuel Riva Remix</td>\n",
       "      <td>6kiVi4iXhooHmaty1G5vV5</td>\n",
       "      <td>Maxim Lany</td>\n",
       "    </tr>\n",
       "    <tr>\n",
       "      <th>...</th>\n",
       "      <td>...</td>\n",
       "      <td>...</td>\n",
       "      <td>...</td>\n",
       "    </tr>\n",
       "    <tr>\n",
       "      <th>195</th>\n",
       "      <td>Robots With Soul Part 3 - Original Mix</td>\n",
       "      <td>0Q93Bly24xaWk0WcqruOuD</td>\n",
       "      <td>Android Cartel</td>\n",
       "    </tr>\n",
       "    <tr>\n",
       "      <th>196</th>\n",
       "      <td>Vutuka</td>\n",
       "      <td>5dW1pmxxlWlBcqUUGL6wE9</td>\n",
       "      <td>Lost Desert</td>\n",
       "    </tr>\n",
       "    <tr>\n",
       "      <th>197</th>\n",
       "      <td>What You Want</td>\n",
       "      <td>1RuMPMUxwdAZ0tMcaUwQiw</td>\n",
       "      <td>glue70</td>\n",
       "    </tr>\n",
       "    <tr>\n",
       "      <th>198</th>\n",
       "      <td>Faded Memory</td>\n",
       "      <td>30sWK9of3ll8689n12qV0b</td>\n",
       "      <td>Planète</td>\n",
       "    </tr>\n",
       "    <tr>\n",
       "      <th>199</th>\n",
       "      <td>Four Feet</td>\n",
       "      <td>2JebL9WaaUylWLns0SmVuU</td>\n",
       "      <td>Otik</td>\n",
       "    </tr>\n",
       "  </tbody>\n",
       "</table>\n",
       "<p>200 rows × 3 columns</p>\n",
       "</div>"
      ],
      "text/plain": [
       "                                  song_name                 song_ID  \\\n",
       "0                               Renaissance  1mqPLbDc8DCRlTuyF26ste   \n",
       "1                                     Erase  1BbXlbs8pWeYI2yGpGhuzA   \n",
       "2                Waves (feat. Grace Tither)  6ymVxYG0UHqIjXmclbE1cu   \n",
       "3             Designer Love - Short Version  5NfgFRdfNQ4HFVPGRoVMU6   \n",
       "4           Renaissance - Manuel Riva Remix  6kiVi4iXhooHmaty1G5vV5   \n",
       "..                                      ...                     ...   \n",
       "195  Robots With Soul Part 3 - Original Mix  0Q93Bly24xaWk0WcqruOuD   \n",
       "196                                  Vutuka  5dW1pmxxlWlBcqUUGL6wE9   \n",
       "197                           What You Want  1RuMPMUxwdAZ0tMcaUwQiw   \n",
       "198                            Faded Memory  30sWK9of3ll8689n12qV0b   \n",
       "199                               Four Feet  2JebL9WaaUylWLns0SmVuU   \n",
       "\n",
       "        song_artist  \n",
       "0      Honeydripper  \n",
       "1        Ben Böhmer  \n",
       "2         BLOND:ISH  \n",
       "3    MARIA Die RUHE  \n",
       "4        Maxim Lany  \n",
       "..              ...  \n",
       "195  Android Cartel  \n",
       "196     Lost Desert  \n",
       "197          glue70  \n",
       "198         Planète  \n",
       "199            Otik  \n",
       "\n",
       "[200 rows x 3 columns]"
      ]
     },
     "execution_count": 165,
     "metadata": {},
     "output_type": "execute_result"
    }
   ],
   "source": [
    "playlist_deep_house_info"
   ]
  },
  {
   "cell_type": "markdown",
   "id": "108addf0",
   "metadata": {},
   "source": [
    "### Add a new column for genre in playlist_deep_house_info"
   ]
  },
  {
   "cell_type": "code",
   "execution_count": 166,
   "id": "1ee98e72",
   "metadata": {},
   "outputs": [],
   "source": [
    "playlist_deep_house_info.insert(3, 'Genre', 'Deep House') "
   ]
  },
  {
   "cell_type": "code",
   "execution_count": 167,
   "id": "57db7bd6",
   "metadata": {},
   "outputs": [
    {
     "data": {
      "text/html": [
       "<div>\n",
       "<style scoped>\n",
       "    .dataframe tbody tr th:only-of-type {\n",
       "        vertical-align: middle;\n",
       "    }\n",
       "\n",
       "    .dataframe tbody tr th {\n",
       "        vertical-align: top;\n",
       "    }\n",
       "\n",
       "    .dataframe thead th {\n",
       "        text-align: right;\n",
       "    }\n",
       "</style>\n",
       "<table border=\"1\" class=\"dataframe\">\n",
       "  <thead>\n",
       "    <tr style=\"text-align: right;\">\n",
       "      <th></th>\n",
       "      <th>song_name</th>\n",
       "      <th>song_ID</th>\n",
       "      <th>song_artist</th>\n",
       "      <th>Genre</th>\n",
       "    </tr>\n",
       "  </thead>\n",
       "  <tbody>\n",
       "    <tr>\n",
       "      <th>0</th>\n",
       "      <td>Renaissance</td>\n",
       "      <td>1mqPLbDc8DCRlTuyF26ste</td>\n",
       "      <td>Honeydripper</td>\n",
       "      <td>Deep House</td>\n",
       "    </tr>\n",
       "    <tr>\n",
       "      <th>1</th>\n",
       "      <td>Erase</td>\n",
       "      <td>1BbXlbs8pWeYI2yGpGhuzA</td>\n",
       "      <td>Ben Böhmer</td>\n",
       "      <td>Deep House</td>\n",
       "    </tr>\n",
       "    <tr>\n",
       "      <th>2</th>\n",
       "      <td>Waves (feat. Grace Tither)</td>\n",
       "      <td>6ymVxYG0UHqIjXmclbE1cu</td>\n",
       "      <td>BLOND:ISH</td>\n",
       "      <td>Deep House</td>\n",
       "    </tr>\n",
       "    <tr>\n",
       "      <th>3</th>\n",
       "      <td>Designer Love - Short Version</td>\n",
       "      <td>5NfgFRdfNQ4HFVPGRoVMU6</td>\n",
       "      <td>MARIA Die RUHE</td>\n",
       "      <td>Deep House</td>\n",
       "    </tr>\n",
       "    <tr>\n",
       "      <th>4</th>\n",
       "      <td>Renaissance - Manuel Riva Remix</td>\n",
       "      <td>6kiVi4iXhooHmaty1G5vV5</td>\n",
       "      <td>Maxim Lany</td>\n",
       "      <td>Deep House</td>\n",
       "    </tr>\n",
       "    <tr>\n",
       "      <th>...</th>\n",
       "      <td>...</td>\n",
       "      <td>...</td>\n",
       "      <td>...</td>\n",
       "      <td>...</td>\n",
       "    </tr>\n",
       "    <tr>\n",
       "      <th>195</th>\n",
       "      <td>Robots With Soul Part 3 - Original Mix</td>\n",
       "      <td>0Q93Bly24xaWk0WcqruOuD</td>\n",
       "      <td>Android Cartel</td>\n",
       "      <td>Deep House</td>\n",
       "    </tr>\n",
       "    <tr>\n",
       "      <th>196</th>\n",
       "      <td>Vutuka</td>\n",
       "      <td>5dW1pmxxlWlBcqUUGL6wE9</td>\n",
       "      <td>Lost Desert</td>\n",
       "      <td>Deep House</td>\n",
       "    </tr>\n",
       "    <tr>\n",
       "      <th>197</th>\n",
       "      <td>What You Want</td>\n",
       "      <td>1RuMPMUxwdAZ0tMcaUwQiw</td>\n",
       "      <td>glue70</td>\n",
       "      <td>Deep House</td>\n",
       "    </tr>\n",
       "    <tr>\n",
       "      <th>198</th>\n",
       "      <td>Faded Memory</td>\n",
       "      <td>30sWK9of3ll8689n12qV0b</td>\n",
       "      <td>Planète</td>\n",
       "      <td>Deep House</td>\n",
       "    </tr>\n",
       "    <tr>\n",
       "      <th>199</th>\n",
       "      <td>Four Feet</td>\n",
       "      <td>2JebL9WaaUylWLns0SmVuU</td>\n",
       "      <td>Otik</td>\n",
       "      <td>Deep House</td>\n",
       "    </tr>\n",
       "  </tbody>\n",
       "</table>\n",
       "<p>200 rows × 4 columns</p>\n",
       "</div>"
      ],
      "text/plain": [
       "                                  song_name                 song_ID  \\\n",
       "0                               Renaissance  1mqPLbDc8DCRlTuyF26ste   \n",
       "1                                     Erase  1BbXlbs8pWeYI2yGpGhuzA   \n",
       "2                Waves (feat. Grace Tither)  6ymVxYG0UHqIjXmclbE1cu   \n",
       "3             Designer Love - Short Version  5NfgFRdfNQ4HFVPGRoVMU6   \n",
       "4           Renaissance - Manuel Riva Remix  6kiVi4iXhooHmaty1G5vV5   \n",
       "..                                      ...                     ...   \n",
       "195  Robots With Soul Part 3 - Original Mix  0Q93Bly24xaWk0WcqruOuD   \n",
       "196                                  Vutuka  5dW1pmxxlWlBcqUUGL6wE9   \n",
       "197                           What You Want  1RuMPMUxwdAZ0tMcaUwQiw   \n",
       "198                            Faded Memory  30sWK9of3ll8689n12qV0b   \n",
       "199                               Four Feet  2JebL9WaaUylWLns0SmVuU   \n",
       "\n",
       "        song_artist       Genre  \n",
       "0      Honeydripper  Deep House  \n",
       "1        Ben Böhmer  Deep House  \n",
       "2         BLOND:ISH  Deep House  \n",
       "3    MARIA Die RUHE  Deep House  \n",
       "4        Maxim Lany  Deep House  \n",
       "..              ...         ...  \n",
       "195  Android Cartel  Deep House  \n",
       "196     Lost Desert  Deep House  \n",
       "197          glue70  Deep House  \n",
       "198         Planète  Deep House  \n",
       "199            Otik  Deep House  \n",
       "\n",
       "[200 rows x 4 columns]"
      ]
     },
     "execution_count": 167,
     "metadata": {},
     "output_type": "execute_result"
    }
   ],
   "source": [
    "playlist_deep_house_info"
   ]
  },
  {
   "cell_type": "markdown",
   "id": "43e4bcaa",
   "metadata": {},
   "source": [
    "## Import playlists by genre\n",
    "- I will import now a Disney playlist"
   ]
  },
  {
   "cell_type": "code",
   "execution_count": 168,
   "id": "baf9259e",
   "metadata": {},
   "outputs": [],
   "source": [
    "## https://open.spotify.com/playlist/37i9dQZF1DX8C9xQcOrE6T?si=d2057893dbca4cb2\n",
    "## Spotify"
   ]
  },
  {
   "cell_type": "code",
   "execution_count": 169,
   "id": "b7564395",
   "metadata": {},
   "outputs": [],
   "source": [
    "disney_playlist = sp.user_playlist_tracks(\"Spotify\", \"37i9dQZF1DX8C9xQcOrE6T\")"
   ]
  },
  {
   "cell_type": "raw",
   "id": "ad6a6b35",
   "metadata": {},
   "source": [
    "disney_playlist"
   ]
  },
  {
   "cell_type": "code",
   "execution_count": 170,
   "id": "219cfa59",
   "metadata": {},
   "outputs": [
    {
     "data": {
      "text/plain": [
       "dict_keys(['href', 'items', 'limit', 'next', 'offset', 'previous', 'total'])"
      ]
     },
     "execution_count": 170,
     "metadata": {},
     "output_type": "execute_result"
    }
   ],
   "source": [
    "disney_playlist.keys()"
   ]
  },
  {
   "cell_type": "raw",
   "id": "8d407a0b",
   "metadata": {},
   "source": [
    "disney_playlist['items'][3]"
   ]
  },
  {
   "cell_type": "code",
   "execution_count": 171,
   "id": "38a5d7df",
   "metadata": {},
   "outputs": [
    {
     "data": {
      "text/plain": [
       "100"
      ]
     },
     "execution_count": 171,
     "metadata": {},
     "output_type": "execute_result"
    }
   ],
   "source": [
    "len(disney_playlist['items'])"
   ]
  },
  {
   "cell_type": "code",
   "execution_count": 172,
   "id": "de9b8804",
   "metadata": {},
   "outputs": [],
   "source": [
    "def get_playlist_tracks9(user_id, playlist_id):\n",
    "    results=sp.user_playlist_tracks(user_id, playlist_id)\n",
    "    tracks=results['items']\n",
    "    while results['next']:\n",
    "        results= sp.next(results)\n",
    "        tracks.extend(results['items'])\n",
    "    return tracks"
   ]
  },
  {
   "cell_type": "code",
   "execution_count": 173,
   "id": "cebf3e30",
   "metadata": {},
   "outputs": [],
   "source": [
    "results11=get_playlist_tracks9(\"Spotify\", \"37i9dQZF1DX8C9xQcOrE6T\")"
   ]
  },
  {
   "cell_type": "code",
   "execution_count": 174,
   "id": "cd1b6c6e",
   "metadata": {},
   "outputs": [
    {
     "data": {
      "text/plain": [
       "102"
      ]
     },
     "execution_count": 174,
     "metadata": {},
     "output_type": "execute_result"
    }
   ],
   "source": [
    "len(results11)"
   ]
  },
  {
   "cell_type": "code",
   "execution_count": 175,
   "id": "812d6ad4",
   "metadata": {},
   "outputs": [
    {
     "data": {
      "text/plain": [
       "dict_keys(['album', 'artists', 'available_markets', 'disc_number', 'duration_ms', 'episode', 'explicit', 'external_ids', 'external_urls', 'href', 'id', 'is_local', 'name', 'popularity', 'preview_url', 'track', 'track_number', 'type', 'uri'])"
      ]
     },
     "execution_count": 175,
     "metadata": {},
     "output_type": "execute_result"
    }
   ],
   "source": [
    "results11[0]['track'].keys()"
   ]
  },
  {
   "cell_type": "code",
   "execution_count": 176,
   "id": "62ca3f68",
   "metadata": {},
   "outputs": [],
   "source": [
    "song_name=[]\n",
    "song_URI=[]\n",
    "song_ID=[]\n",
    "song_artist=[]\n",
    "playlist=results11"
   ]
  },
  {
   "cell_type": "code",
   "execution_count": 177,
   "id": "b1129605",
   "metadata": {},
   "outputs": [],
   "source": [
    "for r in results11:\n",
    "    song_URI.append(r[\"track\"][\"uri\"])\n",
    "    \n",
    "for r in results11: \n",
    "    song_ID.append(r[\"track\"][\"id\"])\n",
    "    \n",
    "for r in results11: \n",
    "    song_name.append(r[\"track\"][\"name\"])\n",
    "    \n",
    "for r in results11: \n",
    "    song_artist.append(r[\"track\"][\"artists\"][0][\"name\"])"
   ]
  },
  {
   "cell_type": "code",
   "execution_count": 178,
   "id": "20d069c6",
   "metadata": {},
   "outputs": [],
   "source": [
    "playlist_disney_info=pd.DataFrame({\"song_name\":song_name,\"song_ID\":song_ID,\"song_artist\":song_artist})"
   ]
  },
  {
   "cell_type": "code",
   "execution_count": 179,
   "id": "cc976067",
   "metadata": {},
   "outputs": [
    {
     "data": {
      "text/html": [
       "<div>\n",
       "<style scoped>\n",
       "    .dataframe tbody tr th:only-of-type {\n",
       "        vertical-align: middle;\n",
       "    }\n",
       "\n",
       "    .dataframe tbody tr th {\n",
       "        vertical-align: top;\n",
       "    }\n",
       "\n",
       "    .dataframe thead th {\n",
       "        text-align: right;\n",
       "    }\n",
       "</style>\n",
       "<table border=\"1\" class=\"dataframe\">\n",
       "  <thead>\n",
       "    <tr style=\"text-align: right;\">\n",
       "      <th></th>\n",
       "      <th>song_name</th>\n",
       "      <th>song_ID</th>\n",
       "      <th>song_artist</th>\n",
       "    </tr>\n",
       "  </thead>\n",
       "  <tbody>\n",
       "    <tr>\n",
       "      <th>0</th>\n",
       "      <td>Into the Unknown</td>\n",
       "      <td>3Z0oQ8r78OUaHvGPiDBR3W</td>\n",
       "      <td>Idina Menzel</td>\n",
       "    </tr>\n",
       "    <tr>\n",
       "      <th>1</th>\n",
       "      <td>How Far I'll Go</td>\n",
       "      <td>6mb6lVLNrcUgLnEN8QnDJd</td>\n",
       "      <td>Auli'i Cravalho</td>\n",
       "    </tr>\n",
       "    <tr>\n",
       "      <th>2</th>\n",
       "      <td>Colombia, Mi Encanto</td>\n",
       "      <td>2Q5q1q01KOdHt5fM00WUJ8</td>\n",
       "      <td>Carlos Vives</td>\n",
       "    </tr>\n",
       "    <tr>\n",
       "      <th>3</th>\n",
       "      <td>Un Poco Loco</td>\n",
       "      <td>0OFknyqxmSQ42SoKxWVTok</td>\n",
       "      <td>Anthony Gonzalez</td>\n",
       "    </tr>\n",
       "    <tr>\n",
       "      <th>4</th>\n",
       "      <td>The Family Madrigal</td>\n",
       "      <td>4b1yxSdlumA8N4fEk4UOZp</td>\n",
       "      <td>Stephanie Beatriz</td>\n",
       "    </tr>\n",
       "    <tr>\n",
       "      <th>...</th>\n",
       "      <td>...</td>\n",
       "      <td>...</td>\n",
       "      <td>...</td>\n",
       "    </tr>\n",
       "    <tr>\n",
       "      <th>97</th>\n",
       "      <td>When Can I See You Again? - From \"Wreck-It Ral...</td>\n",
       "      <td>5ZkAx8zjLiSs1nMmBwJoZS</td>\n",
       "      <td>Owl City</td>\n",
       "    </tr>\n",
       "    <tr>\n",
       "      <th>98</th>\n",
       "      <td>Zero</td>\n",
       "      <td>4Bi2qsF5AWin93USPh5fQK</td>\n",
       "      <td>Imagine Dragons</td>\n",
       "    </tr>\n",
       "    <tr>\n",
       "      <th>99</th>\n",
       "      <td>Spirit</td>\n",
       "      <td>38SueFAjT6jtFneyoQamYi</td>\n",
       "      <td>Beyoncé</td>\n",
       "    </tr>\n",
       "    <tr>\n",
       "      <th>100</th>\n",
       "      <td>In This Place</td>\n",
       "      <td>2cOE7d35PyfAh9M7DglPk0</td>\n",
       "      <td>Julia Michaels</td>\n",
       "    </tr>\n",
       "    <tr>\n",
       "      <th>101</th>\n",
       "      <td>A Spoonful of Sugar - From \"Mary Poppins\" / So...</td>\n",
       "      <td>29bQPrp6BT0w3kaXTqIo8A</td>\n",
       "      <td>Julie Andrews</td>\n",
       "    </tr>\n",
       "  </tbody>\n",
       "</table>\n",
       "<p>102 rows × 3 columns</p>\n",
       "</div>"
      ],
      "text/plain": [
       "                                             song_name  \\\n",
       "0                                     Into the Unknown   \n",
       "1                                      How Far I'll Go   \n",
       "2                                 Colombia, Mi Encanto   \n",
       "3                                         Un Poco Loco   \n",
       "4                                  The Family Madrigal   \n",
       "..                                                 ...   \n",
       "97   When Can I See You Again? - From \"Wreck-It Ral...   \n",
       "98                                                Zero   \n",
       "99                                              Spirit   \n",
       "100                                      In This Place   \n",
       "101  A Spoonful of Sugar - From \"Mary Poppins\" / So...   \n",
       "\n",
       "                    song_ID        song_artist  \n",
       "0    3Z0oQ8r78OUaHvGPiDBR3W       Idina Menzel  \n",
       "1    6mb6lVLNrcUgLnEN8QnDJd    Auli'i Cravalho  \n",
       "2    2Q5q1q01KOdHt5fM00WUJ8       Carlos Vives  \n",
       "3    0OFknyqxmSQ42SoKxWVTok   Anthony Gonzalez  \n",
       "4    4b1yxSdlumA8N4fEk4UOZp  Stephanie Beatriz  \n",
       "..                      ...                ...  \n",
       "97   5ZkAx8zjLiSs1nMmBwJoZS           Owl City  \n",
       "98   4Bi2qsF5AWin93USPh5fQK    Imagine Dragons  \n",
       "99   38SueFAjT6jtFneyoQamYi            Beyoncé  \n",
       "100  2cOE7d35PyfAh9M7DglPk0     Julia Michaels  \n",
       "101  29bQPrp6BT0w3kaXTqIo8A      Julie Andrews  \n",
       "\n",
       "[102 rows x 3 columns]"
      ]
     },
     "execution_count": 179,
     "metadata": {},
     "output_type": "execute_result"
    }
   ],
   "source": [
    "playlist_disney_info"
   ]
  },
  {
   "cell_type": "markdown",
   "id": "bd273be3",
   "metadata": {},
   "source": [
    "### Add a new column for genre in playlist_disney_info"
   ]
  },
  {
   "cell_type": "code",
   "execution_count": 180,
   "id": "016be020",
   "metadata": {},
   "outputs": [],
   "source": [
    "playlist_disney_info.insert(3, 'Genre', 'Disney') "
   ]
  },
  {
   "cell_type": "code",
   "execution_count": 181,
   "id": "3f57e9c1",
   "metadata": {},
   "outputs": [
    {
     "data": {
      "text/html": [
       "<div>\n",
       "<style scoped>\n",
       "    .dataframe tbody tr th:only-of-type {\n",
       "        vertical-align: middle;\n",
       "    }\n",
       "\n",
       "    .dataframe tbody tr th {\n",
       "        vertical-align: top;\n",
       "    }\n",
       "\n",
       "    .dataframe thead th {\n",
       "        text-align: right;\n",
       "    }\n",
       "</style>\n",
       "<table border=\"1\" class=\"dataframe\">\n",
       "  <thead>\n",
       "    <tr style=\"text-align: right;\">\n",
       "      <th></th>\n",
       "      <th>song_name</th>\n",
       "      <th>song_ID</th>\n",
       "      <th>song_artist</th>\n",
       "      <th>Genre</th>\n",
       "    </tr>\n",
       "  </thead>\n",
       "  <tbody>\n",
       "    <tr>\n",
       "      <th>0</th>\n",
       "      <td>Into the Unknown</td>\n",
       "      <td>3Z0oQ8r78OUaHvGPiDBR3W</td>\n",
       "      <td>Idina Menzel</td>\n",
       "      <td>Disney</td>\n",
       "    </tr>\n",
       "    <tr>\n",
       "      <th>1</th>\n",
       "      <td>How Far I'll Go</td>\n",
       "      <td>6mb6lVLNrcUgLnEN8QnDJd</td>\n",
       "      <td>Auli'i Cravalho</td>\n",
       "      <td>Disney</td>\n",
       "    </tr>\n",
       "    <tr>\n",
       "      <th>2</th>\n",
       "      <td>Colombia, Mi Encanto</td>\n",
       "      <td>2Q5q1q01KOdHt5fM00WUJ8</td>\n",
       "      <td>Carlos Vives</td>\n",
       "      <td>Disney</td>\n",
       "    </tr>\n",
       "    <tr>\n",
       "      <th>3</th>\n",
       "      <td>Un Poco Loco</td>\n",
       "      <td>0OFknyqxmSQ42SoKxWVTok</td>\n",
       "      <td>Anthony Gonzalez</td>\n",
       "      <td>Disney</td>\n",
       "    </tr>\n",
       "    <tr>\n",
       "      <th>4</th>\n",
       "      <td>The Family Madrigal</td>\n",
       "      <td>4b1yxSdlumA8N4fEk4UOZp</td>\n",
       "      <td>Stephanie Beatriz</td>\n",
       "      <td>Disney</td>\n",
       "    </tr>\n",
       "    <tr>\n",
       "      <th>...</th>\n",
       "      <td>...</td>\n",
       "      <td>...</td>\n",
       "      <td>...</td>\n",
       "      <td>...</td>\n",
       "    </tr>\n",
       "    <tr>\n",
       "      <th>97</th>\n",
       "      <td>When Can I See You Again? - From \"Wreck-It Ral...</td>\n",
       "      <td>5ZkAx8zjLiSs1nMmBwJoZS</td>\n",
       "      <td>Owl City</td>\n",
       "      <td>Disney</td>\n",
       "    </tr>\n",
       "    <tr>\n",
       "      <th>98</th>\n",
       "      <td>Zero</td>\n",
       "      <td>4Bi2qsF5AWin93USPh5fQK</td>\n",
       "      <td>Imagine Dragons</td>\n",
       "      <td>Disney</td>\n",
       "    </tr>\n",
       "    <tr>\n",
       "      <th>99</th>\n",
       "      <td>Spirit</td>\n",
       "      <td>38SueFAjT6jtFneyoQamYi</td>\n",
       "      <td>Beyoncé</td>\n",
       "      <td>Disney</td>\n",
       "    </tr>\n",
       "    <tr>\n",
       "      <th>100</th>\n",
       "      <td>In This Place</td>\n",
       "      <td>2cOE7d35PyfAh9M7DglPk0</td>\n",
       "      <td>Julia Michaels</td>\n",
       "      <td>Disney</td>\n",
       "    </tr>\n",
       "    <tr>\n",
       "      <th>101</th>\n",
       "      <td>A Spoonful of Sugar - From \"Mary Poppins\" / So...</td>\n",
       "      <td>29bQPrp6BT0w3kaXTqIo8A</td>\n",
       "      <td>Julie Andrews</td>\n",
       "      <td>Disney</td>\n",
       "    </tr>\n",
       "  </tbody>\n",
       "</table>\n",
       "<p>102 rows × 4 columns</p>\n",
       "</div>"
      ],
      "text/plain": [
       "                                             song_name  \\\n",
       "0                                     Into the Unknown   \n",
       "1                                      How Far I'll Go   \n",
       "2                                 Colombia, Mi Encanto   \n",
       "3                                         Un Poco Loco   \n",
       "4                                  The Family Madrigal   \n",
       "..                                                 ...   \n",
       "97   When Can I See You Again? - From \"Wreck-It Ral...   \n",
       "98                                                Zero   \n",
       "99                                              Spirit   \n",
       "100                                      In This Place   \n",
       "101  A Spoonful of Sugar - From \"Mary Poppins\" / So...   \n",
       "\n",
       "                    song_ID        song_artist   Genre  \n",
       "0    3Z0oQ8r78OUaHvGPiDBR3W       Idina Menzel  Disney  \n",
       "1    6mb6lVLNrcUgLnEN8QnDJd    Auli'i Cravalho  Disney  \n",
       "2    2Q5q1q01KOdHt5fM00WUJ8       Carlos Vives  Disney  \n",
       "3    0OFknyqxmSQ42SoKxWVTok   Anthony Gonzalez  Disney  \n",
       "4    4b1yxSdlumA8N4fEk4UOZp  Stephanie Beatriz  Disney  \n",
       "..                      ...                ...     ...  \n",
       "97   5ZkAx8zjLiSs1nMmBwJoZS           Owl City  Disney  \n",
       "98   4Bi2qsF5AWin93USPh5fQK    Imagine Dragons  Disney  \n",
       "99   38SueFAjT6jtFneyoQamYi            Beyoncé  Disney  \n",
       "100  2cOE7d35PyfAh9M7DglPk0     Julia Michaels  Disney  \n",
       "101  29bQPrp6BT0w3kaXTqIo8A      Julie Andrews  Disney  \n",
       "\n",
       "[102 rows x 4 columns]"
      ]
     },
     "execution_count": 181,
     "metadata": {},
     "output_type": "execute_result"
    }
   ],
   "source": [
    "playlist_disney_info"
   ]
  },
  {
   "cell_type": "markdown",
   "id": "531e9542",
   "metadata": {},
   "source": [
    "## Import playlists by genre\n",
    "- I will import now a Techno playlist"
   ]
  },
  {
   "cell_type": "code",
   "execution_count": 182,
   "id": "dbfd4b4a",
   "metadata": {},
   "outputs": [],
   "source": [
    "## https://open.spotify.com/playlist/1ttMvmcjWe9JKZybeYjtnU?si=15ee0122f19449ee\n",
    "## Tunefullymusic"
   ]
  },
  {
   "cell_type": "code",
   "execution_count": 183,
   "id": "d8cbe790",
   "metadata": {},
   "outputs": [],
   "source": [
    "techno_playlist = sp.user_playlist_tracks(\"Tunefullymusic\", \"1ttMvmcjWe9JKZybeYjtnU\")"
   ]
  },
  {
   "cell_type": "raw",
   "id": "df2d963b",
   "metadata": {},
   "source": [
    "techno_playlist"
   ]
  },
  {
   "cell_type": "code",
   "execution_count": 184,
   "id": "226fa245",
   "metadata": {},
   "outputs": [
    {
     "data": {
      "text/plain": [
       "dict_keys(['href', 'items', 'limit', 'next', 'offset', 'previous', 'total'])"
      ]
     },
     "execution_count": 184,
     "metadata": {},
     "output_type": "execute_result"
    }
   ],
   "source": [
    "techno_playlist.keys()"
   ]
  },
  {
   "cell_type": "raw",
   "id": "b8a9ecc7",
   "metadata": {},
   "source": [
    "techno_playlist['items'][3]"
   ]
  },
  {
   "cell_type": "code",
   "execution_count": 185,
   "id": "213a153d",
   "metadata": {},
   "outputs": [
    {
     "data": {
      "text/plain": [
       "100"
      ]
     },
     "execution_count": 185,
     "metadata": {},
     "output_type": "execute_result"
    }
   ],
   "source": [
    "len(techno_playlist['items'])"
   ]
  },
  {
   "cell_type": "code",
   "execution_count": 186,
   "id": "e1affb7f",
   "metadata": {},
   "outputs": [],
   "source": [
    "def get_playlist_tracks10(user_id, playlist_id):\n",
    "    results=sp.user_playlist_tracks(user_id, playlist_id)\n",
    "    tracks=results['items']\n",
    "    while results['next']:\n",
    "        results= sp.next(results)\n",
    "        tracks.extend(results['items'])\n",
    "    return tracks"
   ]
  },
  {
   "cell_type": "code",
   "execution_count": 187,
   "id": "ceb399c8",
   "metadata": {},
   "outputs": [],
   "source": [
    "results12=get_playlist_tracks10(\"Spotify\", \"1ttMvmcjWe9JKZybeYjtnU\")"
   ]
  },
  {
   "cell_type": "code",
   "execution_count": 188,
   "id": "18e74f61",
   "metadata": {},
   "outputs": [
    {
     "data": {
      "text/plain": [
       "1021"
      ]
     },
     "execution_count": 188,
     "metadata": {},
     "output_type": "execute_result"
    }
   ],
   "source": [
    "len(results12)"
   ]
  },
  {
   "cell_type": "code",
   "execution_count": 189,
   "id": "eb52365c",
   "metadata": {},
   "outputs": [
    {
     "data": {
      "text/plain": [
       "dict_keys(['album', 'artists', 'available_markets', 'disc_number', 'duration_ms', 'episode', 'explicit', 'external_ids', 'external_urls', 'href', 'id', 'is_local', 'name', 'popularity', 'preview_url', 'track', 'track_number', 'type', 'uri'])"
      ]
     },
     "execution_count": 189,
     "metadata": {},
     "output_type": "execute_result"
    }
   ],
   "source": [
    "results12[0]['track'].keys()"
   ]
  },
  {
   "cell_type": "code",
   "execution_count": 190,
   "id": "9a9945ef",
   "metadata": {},
   "outputs": [],
   "source": [
    "song_name=[]\n",
    "song_URI=[]\n",
    "song_ID=[]\n",
    "song_artist=[]\n",
    "playlist=results12"
   ]
  },
  {
   "cell_type": "code",
   "execution_count": 191,
   "id": "fd7a4662",
   "metadata": {},
   "outputs": [],
   "source": [
    "for r in results12:\n",
    "    song_URI.append(r[\"track\"][\"uri\"])\n",
    "    \n",
    "for r in results12: \n",
    "    song_ID.append(r[\"track\"][\"id\"])\n",
    "    \n",
    "for r in results12: \n",
    "    song_name.append(r[\"track\"][\"name\"])\n",
    "    \n",
    "for r in results12: \n",
    "    song_artist.append(r[\"track\"][\"artists\"][0][\"name\"])"
   ]
  },
  {
   "cell_type": "code",
   "execution_count": 192,
   "id": "ff696d66",
   "metadata": {},
   "outputs": [],
   "source": [
    "playlist_techno_info=pd.DataFrame({\"song_name\":song_name,\"song_ID\":song_ID,\"song_artist\":song_artist})"
   ]
  },
  {
   "cell_type": "code",
   "execution_count": 193,
   "id": "e66df81d",
   "metadata": {},
   "outputs": [
    {
     "data": {
      "text/html": [
       "<div>\n",
       "<style scoped>\n",
       "    .dataframe tbody tr th:only-of-type {\n",
       "        vertical-align: middle;\n",
       "    }\n",
       "\n",
       "    .dataframe tbody tr th {\n",
       "        vertical-align: top;\n",
       "    }\n",
       "\n",
       "    .dataframe thead th {\n",
       "        text-align: right;\n",
       "    }\n",
       "</style>\n",
       "<table border=\"1\" class=\"dataframe\">\n",
       "  <thead>\n",
       "    <tr style=\"text-align: right;\">\n",
       "      <th></th>\n",
       "      <th>song_name</th>\n",
       "      <th>song_ID</th>\n",
       "      <th>song_artist</th>\n",
       "    </tr>\n",
       "  </thead>\n",
       "  <tbody>\n",
       "    <tr>\n",
       "      <th>0</th>\n",
       "      <td>Gimme Some</td>\n",
       "      <td>6170lJSBtiM5trzOtHtdD2</td>\n",
       "      <td>Weval</td>\n",
       "    </tr>\n",
       "    <tr>\n",
       "      <th>1</th>\n",
       "      <td>To Let Myself Go</td>\n",
       "      <td>4IQgbTjXZfINWOS5TKL6T0</td>\n",
       "      <td>The Avener</td>\n",
       "    </tr>\n",
       "    <tr>\n",
       "      <th>2</th>\n",
       "      <td>In the Morning</td>\n",
       "      <td>01wpPOPqQ3XyS6hBN00HfK</td>\n",
       "      <td>ZHU</td>\n",
       "    </tr>\n",
       "    <tr>\n",
       "      <th>3</th>\n",
       "      <td>Love Me - 4ЯR &amp; Cutneck Remix</td>\n",
       "      <td>7wBsua0Fr50vOEHzABrlsc</td>\n",
       "      <td>Damian Spider</td>\n",
       "    </tr>\n",
       "    <tr>\n",
       "      <th>4</th>\n",
       "      <td>West Coast</td>\n",
       "      <td>5Y6nVaayzitvsD5F7nr3DV</td>\n",
       "      <td>Lana Del Rey</td>\n",
       "    </tr>\n",
       "    <tr>\n",
       "      <th>...</th>\n",
       "      <td>...</td>\n",
       "      <td>...</td>\n",
       "      <td>...</td>\n",
       "    </tr>\n",
       "    <tr>\n",
       "      <th>1016</th>\n",
       "      <td>Martian</td>\n",
       "      <td>3KaDPp6hfbnL4dAo57PNCI</td>\n",
       "      <td>Colyn</td>\n",
       "    </tr>\n",
       "    <tr>\n",
       "      <th>1017</th>\n",
       "      <td>Mandate - Original Mix</td>\n",
       "      <td>4nSn1svDL1elP43MZuEc0K</td>\n",
       "      <td>D-Formation</td>\n",
       "    </tr>\n",
       "    <tr>\n",
       "      <th>1018</th>\n",
       "      <td>Hunting - Senses of Mind Remix</td>\n",
       "      <td>4M5K6HYMIIoXLutK1v7g7U</td>\n",
       "      <td>Mark Tarmonea</td>\n",
       "    </tr>\n",
       "    <tr>\n",
       "      <th>1019</th>\n",
       "      <td>Evolving Flow</td>\n",
       "      <td>0hUsx4d1Ur32PPQS9CX7yU</td>\n",
       "      <td>Anturage</td>\n",
       "    </tr>\n",
       "    <tr>\n",
       "      <th>1020</th>\n",
       "      <td>Aya</td>\n",
       "      <td>3fDRPg5MmTsr15Fax4bFyN</td>\n",
       "      <td>Stan Kolev</td>\n",
       "    </tr>\n",
       "  </tbody>\n",
       "</table>\n",
       "<p>1021 rows × 3 columns</p>\n",
       "</div>"
      ],
      "text/plain": [
       "                           song_name                 song_ID    song_artist\n",
       "0                         Gimme Some  6170lJSBtiM5trzOtHtdD2          Weval\n",
       "1                   To Let Myself Go  4IQgbTjXZfINWOS5TKL6T0     The Avener\n",
       "2                     In the Morning  01wpPOPqQ3XyS6hBN00HfK            ZHU\n",
       "3      Love Me - 4ЯR & Cutneck Remix  7wBsua0Fr50vOEHzABrlsc  Damian Spider\n",
       "4                         West Coast  5Y6nVaayzitvsD5F7nr3DV   Lana Del Rey\n",
       "...                              ...                     ...            ...\n",
       "1016                         Martian  3KaDPp6hfbnL4dAo57PNCI          Colyn\n",
       "1017          Mandate - Original Mix  4nSn1svDL1elP43MZuEc0K    D-Formation\n",
       "1018  Hunting - Senses of Mind Remix  4M5K6HYMIIoXLutK1v7g7U  Mark Tarmonea\n",
       "1019                   Evolving Flow  0hUsx4d1Ur32PPQS9CX7yU       Anturage\n",
       "1020                             Aya  3fDRPg5MmTsr15Fax4bFyN     Stan Kolev\n",
       "\n",
       "[1021 rows x 3 columns]"
      ]
     },
     "execution_count": 193,
     "metadata": {},
     "output_type": "execute_result"
    }
   ],
   "source": [
    "playlist_techno_info"
   ]
  },
  {
   "cell_type": "markdown",
   "id": "5594714d",
   "metadata": {},
   "source": [
    "### Add a new column for genre in playlist_disney_info"
   ]
  },
  {
   "cell_type": "code",
   "execution_count": 194,
   "id": "c1da9101",
   "metadata": {},
   "outputs": [],
   "source": [
    "playlist_techno_info.insert(3, 'Genre', 'Techno') "
   ]
  },
  {
   "cell_type": "code",
   "execution_count": 195,
   "id": "dabdf3d9",
   "metadata": {},
   "outputs": [
    {
     "data": {
      "text/html": [
       "<div>\n",
       "<style scoped>\n",
       "    .dataframe tbody tr th:only-of-type {\n",
       "        vertical-align: middle;\n",
       "    }\n",
       "\n",
       "    .dataframe tbody tr th {\n",
       "        vertical-align: top;\n",
       "    }\n",
       "\n",
       "    .dataframe thead th {\n",
       "        text-align: right;\n",
       "    }\n",
       "</style>\n",
       "<table border=\"1\" class=\"dataframe\">\n",
       "  <thead>\n",
       "    <tr style=\"text-align: right;\">\n",
       "      <th></th>\n",
       "      <th>song_name</th>\n",
       "      <th>song_ID</th>\n",
       "      <th>song_artist</th>\n",
       "      <th>Genre</th>\n",
       "    </tr>\n",
       "  </thead>\n",
       "  <tbody>\n",
       "    <tr>\n",
       "      <th>0</th>\n",
       "      <td>Gimme Some</td>\n",
       "      <td>6170lJSBtiM5trzOtHtdD2</td>\n",
       "      <td>Weval</td>\n",
       "      <td>Techno</td>\n",
       "    </tr>\n",
       "    <tr>\n",
       "      <th>1</th>\n",
       "      <td>To Let Myself Go</td>\n",
       "      <td>4IQgbTjXZfINWOS5TKL6T0</td>\n",
       "      <td>The Avener</td>\n",
       "      <td>Techno</td>\n",
       "    </tr>\n",
       "    <tr>\n",
       "      <th>2</th>\n",
       "      <td>In the Morning</td>\n",
       "      <td>01wpPOPqQ3XyS6hBN00HfK</td>\n",
       "      <td>ZHU</td>\n",
       "      <td>Techno</td>\n",
       "    </tr>\n",
       "    <tr>\n",
       "      <th>3</th>\n",
       "      <td>Love Me - 4ЯR &amp; Cutneck Remix</td>\n",
       "      <td>7wBsua0Fr50vOEHzABrlsc</td>\n",
       "      <td>Damian Spider</td>\n",
       "      <td>Techno</td>\n",
       "    </tr>\n",
       "    <tr>\n",
       "      <th>4</th>\n",
       "      <td>West Coast</td>\n",
       "      <td>5Y6nVaayzitvsD5F7nr3DV</td>\n",
       "      <td>Lana Del Rey</td>\n",
       "      <td>Techno</td>\n",
       "    </tr>\n",
       "    <tr>\n",
       "      <th>...</th>\n",
       "      <td>...</td>\n",
       "      <td>...</td>\n",
       "      <td>...</td>\n",
       "      <td>...</td>\n",
       "    </tr>\n",
       "    <tr>\n",
       "      <th>1016</th>\n",
       "      <td>Martian</td>\n",
       "      <td>3KaDPp6hfbnL4dAo57PNCI</td>\n",
       "      <td>Colyn</td>\n",
       "      <td>Techno</td>\n",
       "    </tr>\n",
       "    <tr>\n",
       "      <th>1017</th>\n",
       "      <td>Mandate - Original Mix</td>\n",
       "      <td>4nSn1svDL1elP43MZuEc0K</td>\n",
       "      <td>D-Formation</td>\n",
       "      <td>Techno</td>\n",
       "    </tr>\n",
       "    <tr>\n",
       "      <th>1018</th>\n",
       "      <td>Hunting - Senses of Mind Remix</td>\n",
       "      <td>4M5K6HYMIIoXLutK1v7g7U</td>\n",
       "      <td>Mark Tarmonea</td>\n",
       "      <td>Techno</td>\n",
       "    </tr>\n",
       "    <tr>\n",
       "      <th>1019</th>\n",
       "      <td>Evolving Flow</td>\n",
       "      <td>0hUsx4d1Ur32PPQS9CX7yU</td>\n",
       "      <td>Anturage</td>\n",
       "      <td>Techno</td>\n",
       "    </tr>\n",
       "    <tr>\n",
       "      <th>1020</th>\n",
       "      <td>Aya</td>\n",
       "      <td>3fDRPg5MmTsr15Fax4bFyN</td>\n",
       "      <td>Stan Kolev</td>\n",
       "      <td>Techno</td>\n",
       "    </tr>\n",
       "  </tbody>\n",
       "</table>\n",
       "<p>1021 rows × 4 columns</p>\n",
       "</div>"
      ],
      "text/plain": [
       "                           song_name                 song_ID    song_artist  \\\n",
       "0                         Gimme Some  6170lJSBtiM5trzOtHtdD2          Weval   \n",
       "1                   To Let Myself Go  4IQgbTjXZfINWOS5TKL6T0     The Avener   \n",
       "2                     In the Morning  01wpPOPqQ3XyS6hBN00HfK            ZHU   \n",
       "3      Love Me - 4ЯR & Cutneck Remix  7wBsua0Fr50vOEHzABrlsc  Damian Spider   \n",
       "4                         West Coast  5Y6nVaayzitvsD5F7nr3DV   Lana Del Rey   \n",
       "...                              ...                     ...            ...   \n",
       "1016                         Martian  3KaDPp6hfbnL4dAo57PNCI          Colyn   \n",
       "1017          Mandate - Original Mix  4nSn1svDL1elP43MZuEc0K    D-Formation   \n",
       "1018  Hunting - Senses of Mind Remix  4M5K6HYMIIoXLutK1v7g7U  Mark Tarmonea   \n",
       "1019                   Evolving Flow  0hUsx4d1Ur32PPQS9CX7yU       Anturage   \n",
       "1020                             Aya  3fDRPg5MmTsr15Fax4bFyN     Stan Kolev   \n",
       "\n",
       "       Genre  \n",
       "0     Techno  \n",
       "1     Techno  \n",
       "2     Techno  \n",
       "3     Techno  \n",
       "4     Techno  \n",
       "...      ...  \n",
       "1016  Techno  \n",
       "1017  Techno  \n",
       "1018  Techno  \n",
       "1019  Techno  \n",
       "1020  Techno  \n",
       "\n",
       "[1021 rows x 4 columns]"
      ]
     },
     "execution_count": 195,
     "metadata": {},
     "output_type": "execute_result"
    }
   ],
   "source": [
    "playlist_techno_info"
   ]
  },
  {
   "cell_type": "code",
   "execution_count": null,
   "id": "1d6f902b",
   "metadata": {},
   "outputs": [],
   "source": []
  },
  {
   "cell_type": "code",
   "execution_count": null,
   "id": "5f8f60db",
   "metadata": {},
   "outputs": [],
   "source": []
  },
  {
   "cell_type": "code",
   "execution_count": null,
   "id": "5dcb60e0",
   "metadata": {},
   "outputs": [],
   "source": []
  },
  {
   "cell_type": "markdown",
   "id": "6482766e",
   "metadata": {},
   "source": [
    "## Joining all the dataframes into 1"
   ]
  },
  {
   "cell_type": "code",
   "execution_count": 196,
   "id": "aab6cfa8",
   "metadata": {},
   "outputs": [],
   "source": [
    "frames=[playlist_indie_info, playlist_pop_info, playlist_rock_info, \n",
    "        playlist_tropical_info, playlist_hiphop_info\n",
    "       ,playlist_latin_info,playlist_spanish_info,\n",
    "       playlist_jazz_info, playlist_deep_house_info,\n",
    "       playlist_disney_info, playlist_techno_info,\n",
    "       ]\n",
    "big_df=pd.concat(frames, axis=0)"
   ]
  },
  {
   "cell_type": "code",
   "execution_count": 197,
   "id": "f38e428f",
   "metadata": {
    "scrolled": true
   },
   "outputs": [
    {
     "data": {
      "text/html": [
       "<div>\n",
       "<style scoped>\n",
       "    .dataframe tbody tr th:only-of-type {\n",
       "        vertical-align: middle;\n",
       "    }\n",
       "\n",
       "    .dataframe tbody tr th {\n",
       "        vertical-align: top;\n",
       "    }\n",
       "\n",
       "    .dataframe thead th {\n",
       "        text-align: right;\n",
       "    }\n",
       "</style>\n",
       "<table border=\"1\" class=\"dataframe\">\n",
       "  <thead>\n",
       "    <tr style=\"text-align: right;\">\n",
       "      <th></th>\n",
       "      <th>song_name</th>\n",
       "      <th>song_ID</th>\n",
       "      <th>song_artist</th>\n",
       "      <th>Genre</th>\n",
       "    </tr>\n",
       "  </thead>\n",
       "  <tbody>\n",
       "    <tr>\n",
       "      <th>0</th>\n",
       "      <td>Beggin'</td>\n",
       "      <td>3Wrjm47oTz2sjIgck11l5e</td>\n",
       "      <td>Måneskin</td>\n",
       "      <td>Indie</td>\n",
       "    </tr>\n",
       "    <tr>\n",
       "      <th>1</th>\n",
       "      <td>The Less I Know The Better</td>\n",
       "      <td>4g3Ax56IslQkI6XVfYKVc5</td>\n",
       "      <td>Tame Impala</td>\n",
       "      <td>Indie</td>\n",
       "    </tr>\n",
       "    <tr>\n",
       "      <th>2</th>\n",
       "      <td>Mr. Brightside</td>\n",
       "      <td>3n3Ppam7vgaVa1iaRUc9Lp</td>\n",
       "      <td>The Killers</td>\n",
       "      <td>Indie</td>\n",
       "    </tr>\n",
       "    <tr>\n",
       "      <th>3</th>\n",
       "      <td>Boys Don't Cry</td>\n",
       "      <td>1QFh8OH1e78dGd3VyJZCAC</td>\n",
       "      <td>The Cure</td>\n",
       "      <td>Indie</td>\n",
       "    </tr>\n",
       "    <tr>\n",
       "      <th>4</th>\n",
       "      <td>wake me up</td>\n",
       "      <td>1H6A86dQ7BMdbxofxpQvcK</td>\n",
       "      <td>Ruby</td>\n",
       "      <td>Indie</td>\n",
       "    </tr>\n",
       "    <tr>\n",
       "      <th>...</th>\n",
       "      <td>...</td>\n",
       "      <td>...</td>\n",
       "      <td>...</td>\n",
       "      <td>...</td>\n",
       "    </tr>\n",
       "    <tr>\n",
       "      <th>1016</th>\n",
       "      <td>Martian</td>\n",
       "      <td>3KaDPp6hfbnL4dAo57PNCI</td>\n",
       "      <td>Colyn</td>\n",
       "      <td>Techno</td>\n",
       "    </tr>\n",
       "    <tr>\n",
       "      <th>1017</th>\n",
       "      <td>Mandate - Original Mix</td>\n",
       "      <td>4nSn1svDL1elP43MZuEc0K</td>\n",
       "      <td>D-Formation</td>\n",
       "      <td>Techno</td>\n",
       "    </tr>\n",
       "    <tr>\n",
       "      <th>1018</th>\n",
       "      <td>Hunting - Senses of Mind Remix</td>\n",
       "      <td>4M5K6HYMIIoXLutK1v7g7U</td>\n",
       "      <td>Mark Tarmonea</td>\n",
       "      <td>Techno</td>\n",
       "    </tr>\n",
       "    <tr>\n",
       "      <th>1019</th>\n",
       "      <td>Evolving Flow</td>\n",
       "      <td>0hUsx4d1Ur32PPQS9CX7yU</td>\n",
       "      <td>Anturage</td>\n",
       "      <td>Techno</td>\n",
       "    </tr>\n",
       "    <tr>\n",
       "      <th>1020</th>\n",
       "      <td>Aya</td>\n",
       "      <td>3fDRPg5MmTsr15Fax4bFyN</td>\n",
       "      <td>Stan Kolev</td>\n",
       "      <td>Techno</td>\n",
       "    </tr>\n",
       "  </tbody>\n",
       "</table>\n",
       "<p>3763 rows × 4 columns</p>\n",
       "</div>"
      ],
      "text/plain": [
       "                           song_name                 song_ID    song_artist  \\\n",
       "0                            Beggin'  3Wrjm47oTz2sjIgck11l5e       Måneskin   \n",
       "1         The Less I Know The Better  4g3Ax56IslQkI6XVfYKVc5    Tame Impala   \n",
       "2                     Mr. Brightside  3n3Ppam7vgaVa1iaRUc9Lp    The Killers   \n",
       "3                     Boys Don't Cry  1QFh8OH1e78dGd3VyJZCAC       The Cure   \n",
       "4                         wake me up  1H6A86dQ7BMdbxofxpQvcK           Ruby   \n",
       "...                              ...                     ...            ...   \n",
       "1016                         Martian  3KaDPp6hfbnL4dAo57PNCI          Colyn   \n",
       "1017          Mandate - Original Mix  4nSn1svDL1elP43MZuEc0K    D-Formation   \n",
       "1018  Hunting - Senses of Mind Remix  4M5K6HYMIIoXLutK1v7g7U  Mark Tarmonea   \n",
       "1019                   Evolving Flow  0hUsx4d1Ur32PPQS9CX7yU       Anturage   \n",
       "1020                             Aya  3fDRPg5MmTsr15Fax4bFyN     Stan Kolev   \n",
       "\n",
       "       Genre  \n",
       "0      Indie  \n",
       "1      Indie  \n",
       "2      Indie  \n",
       "3      Indie  \n",
       "4      Indie  \n",
       "...      ...  \n",
       "1016  Techno  \n",
       "1017  Techno  \n",
       "1018  Techno  \n",
       "1019  Techno  \n",
       "1020  Techno  \n",
       "\n",
       "[3763 rows x 4 columns]"
      ]
     },
     "execution_count": 197,
     "metadata": {},
     "output_type": "execute_result"
    }
   ],
   "source": [
    "big_df"
   ]
  },
  {
   "cell_type": "code",
   "execution_count": 198,
   "id": "3fded78c",
   "metadata": {},
   "outputs": [],
   "source": [
    "## reseting the index so the rows appear correctly\n",
    "\n",
    "big_df.reset_index(drop=True, inplace=True)"
   ]
  },
  {
   "cell_type": "code",
   "execution_count": 199,
   "id": "59d62606",
   "metadata": {
    "scrolled": true
   },
   "outputs": [
    {
     "data": {
      "text/html": [
       "<div>\n",
       "<style scoped>\n",
       "    .dataframe tbody tr th:only-of-type {\n",
       "        vertical-align: middle;\n",
       "    }\n",
       "\n",
       "    .dataframe tbody tr th {\n",
       "        vertical-align: top;\n",
       "    }\n",
       "\n",
       "    .dataframe thead th {\n",
       "        text-align: right;\n",
       "    }\n",
       "</style>\n",
       "<table border=\"1\" class=\"dataframe\">\n",
       "  <thead>\n",
       "    <tr style=\"text-align: right;\">\n",
       "      <th></th>\n",
       "      <th>song_name</th>\n",
       "      <th>song_ID</th>\n",
       "      <th>song_artist</th>\n",
       "      <th>Genre</th>\n",
       "    </tr>\n",
       "  </thead>\n",
       "  <tbody>\n",
       "    <tr>\n",
       "      <th>0</th>\n",
       "      <td>Beggin'</td>\n",
       "      <td>3Wrjm47oTz2sjIgck11l5e</td>\n",
       "      <td>Måneskin</td>\n",
       "      <td>Indie</td>\n",
       "    </tr>\n",
       "    <tr>\n",
       "      <th>1</th>\n",
       "      <td>The Less I Know The Better</td>\n",
       "      <td>4g3Ax56IslQkI6XVfYKVc5</td>\n",
       "      <td>Tame Impala</td>\n",
       "      <td>Indie</td>\n",
       "    </tr>\n",
       "    <tr>\n",
       "      <th>2</th>\n",
       "      <td>Mr. Brightside</td>\n",
       "      <td>3n3Ppam7vgaVa1iaRUc9Lp</td>\n",
       "      <td>The Killers</td>\n",
       "      <td>Indie</td>\n",
       "    </tr>\n",
       "    <tr>\n",
       "      <th>3</th>\n",
       "      <td>Boys Don't Cry</td>\n",
       "      <td>1QFh8OH1e78dGd3VyJZCAC</td>\n",
       "      <td>The Cure</td>\n",
       "      <td>Indie</td>\n",
       "    </tr>\n",
       "    <tr>\n",
       "      <th>4</th>\n",
       "      <td>wake me up</td>\n",
       "      <td>1H6A86dQ7BMdbxofxpQvcK</td>\n",
       "      <td>Ruby</td>\n",
       "      <td>Indie</td>\n",
       "    </tr>\n",
       "    <tr>\n",
       "      <th>...</th>\n",
       "      <td>...</td>\n",
       "      <td>...</td>\n",
       "      <td>...</td>\n",
       "      <td>...</td>\n",
       "    </tr>\n",
       "    <tr>\n",
       "      <th>3758</th>\n",
       "      <td>Martian</td>\n",
       "      <td>3KaDPp6hfbnL4dAo57PNCI</td>\n",
       "      <td>Colyn</td>\n",
       "      <td>Techno</td>\n",
       "    </tr>\n",
       "    <tr>\n",
       "      <th>3759</th>\n",
       "      <td>Mandate - Original Mix</td>\n",
       "      <td>4nSn1svDL1elP43MZuEc0K</td>\n",
       "      <td>D-Formation</td>\n",
       "      <td>Techno</td>\n",
       "    </tr>\n",
       "    <tr>\n",
       "      <th>3760</th>\n",
       "      <td>Hunting - Senses of Mind Remix</td>\n",
       "      <td>4M5K6HYMIIoXLutK1v7g7U</td>\n",
       "      <td>Mark Tarmonea</td>\n",
       "      <td>Techno</td>\n",
       "    </tr>\n",
       "    <tr>\n",
       "      <th>3761</th>\n",
       "      <td>Evolving Flow</td>\n",
       "      <td>0hUsx4d1Ur32PPQS9CX7yU</td>\n",
       "      <td>Anturage</td>\n",
       "      <td>Techno</td>\n",
       "    </tr>\n",
       "    <tr>\n",
       "      <th>3762</th>\n",
       "      <td>Aya</td>\n",
       "      <td>3fDRPg5MmTsr15Fax4bFyN</td>\n",
       "      <td>Stan Kolev</td>\n",
       "      <td>Techno</td>\n",
       "    </tr>\n",
       "  </tbody>\n",
       "</table>\n",
       "<p>3763 rows × 4 columns</p>\n",
       "</div>"
      ],
      "text/plain": [
       "                           song_name                 song_ID    song_artist  \\\n",
       "0                            Beggin'  3Wrjm47oTz2sjIgck11l5e       Måneskin   \n",
       "1         The Less I Know The Better  4g3Ax56IslQkI6XVfYKVc5    Tame Impala   \n",
       "2                     Mr. Brightside  3n3Ppam7vgaVa1iaRUc9Lp    The Killers   \n",
       "3                     Boys Don't Cry  1QFh8OH1e78dGd3VyJZCAC       The Cure   \n",
       "4                         wake me up  1H6A86dQ7BMdbxofxpQvcK           Ruby   \n",
       "...                              ...                     ...            ...   \n",
       "3758                         Martian  3KaDPp6hfbnL4dAo57PNCI          Colyn   \n",
       "3759          Mandate - Original Mix  4nSn1svDL1elP43MZuEc0K    D-Formation   \n",
       "3760  Hunting - Senses of Mind Remix  4M5K6HYMIIoXLutK1v7g7U  Mark Tarmonea   \n",
       "3761                   Evolving Flow  0hUsx4d1Ur32PPQS9CX7yU       Anturage   \n",
       "3762                             Aya  3fDRPg5MmTsr15Fax4bFyN     Stan Kolev   \n",
       "\n",
       "       Genre  \n",
       "0      Indie  \n",
       "1      Indie  \n",
       "2      Indie  \n",
       "3      Indie  \n",
       "4      Indie  \n",
       "...      ...  \n",
       "3758  Techno  \n",
       "3759  Techno  \n",
       "3760  Techno  \n",
       "3761  Techno  \n",
       "3762  Techno  \n",
       "\n",
       "[3763 rows x 4 columns]"
      ]
     },
     "execution_count": 199,
     "metadata": {},
     "output_type": "execute_result"
    }
   ],
   "source": [
    "big_df"
   ]
  },
  {
   "cell_type": "code",
   "execution_count": 200,
   "id": "7f75e816",
   "metadata": {},
   "outputs": [
    {
     "name": "stdout",
     "output_type": "stream",
     "text": [
      "<class 'pandas.core.frame.DataFrame'>\n",
      "RangeIndex: 3763 entries, 0 to 3762\n",
      "Data columns (total 4 columns):\n",
      " #   Column       Non-Null Count  Dtype \n",
      "---  ------       --------------  ----- \n",
      " 0   song_name    3763 non-null   object\n",
      " 1   song_ID      3763 non-null   object\n",
      " 2   song_artist  3763 non-null   object\n",
      " 3   Genre        3763 non-null   object\n",
      "dtypes: object(4)\n",
      "memory usage: 117.7+ KB\n"
     ]
    }
   ],
   "source": [
    "big_df.info()"
   ]
  },
  {
   "cell_type": "code",
   "execution_count": 201,
   "id": "51e802f7",
   "metadata": {},
   "outputs": [
    {
     "data": {
      "text/plain": [
       "dtype('O')"
      ]
     },
     "execution_count": 201,
     "metadata": {},
     "output_type": "execute_result"
    }
   ],
   "source": [
    "big_df['Genre'].dtypes"
   ]
  },
  {
   "cell_type": "code",
   "execution_count": null,
   "id": "3d8d7ee2",
   "metadata": {},
   "outputs": [],
   "source": []
  },
  {
   "cell_type": "code",
   "execution_count": null,
   "id": "4b78b098",
   "metadata": {},
   "outputs": [],
   "source": []
  },
  {
   "cell_type": "markdown",
   "id": "c3ea03e9",
   "metadata": {},
   "source": [
    "# Audio features"
   ]
  },
  {
   "cell_type": "code",
   "execution_count": 202,
   "id": "59a6a001",
   "metadata": {},
   "outputs": [],
   "source": [
    "from tqdm.notebook import tqdm"
   ]
  },
  {
   "cell_type": "code",
   "execution_count": 203,
   "id": "5abe88dc",
   "metadata": {},
   "outputs": [
    {
     "data": {
      "application/vnd.jupyter.widget-view+json": {
       "model_id": "5eb654789f9c4ddf95162255611afb10",
       "version_major": 2,
       "version_minor": 0
      },
      "text/plain": [
       "  0%|          | 0/3763 [00:00<?, ?it/s]"
      ]
     },
     "metadata": {},
     "output_type": "display_data"
    }
   ],
   "source": [
    "feats=[]\n",
    "\n",
    "for song_ID in tqdm(range(len(big_df))):\n",
    "    feats.extend(sp.audio_features(tracks=big_df['song_ID'][song_ID]))"
   ]
  },
  {
   "cell_type": "raw",
   "id": "aa514e73",
   "metadata": {},
   "source": [
    "feats"
   ]
  },
  {
   "cell_type": "code",
   "execution_count": 205,
   "id": "868f9390",
   "metadata": {},
   "outputs": [
    {
     "data": {
      "text/plain": [
       "dict_keys(['danceability', 'energy', 'key', 'loudness', 'mode', 'speechiness', 'acousticness', 'instrumentalness', 'liveness', 'valence', 'tempo', 'type', 'id', 'uri', 'track_href', 'analysis_url', 'duration_ms', 'time_signature'])"
      ]
     },
     "execution_count": 205,
     "metadata": {},
     "output_type": "execute_result"
    }
   ],
   "source": [
    "feats[0].keys()"
   ]
  },
  {
   "cell_type": "code",
   "execution_count": 206,
   "id": "e2f88611",
   "metadata": {},
   "outputs": [],
   "source": [
    "feats_df=pd.DataFrame(feats)"
   ]
  },
  {
   "cell_type": "code",
   "execution_count": 207,
   "id": "b716fe2d",
   "metadata": {
    "scrolled": false
   },
   "outputs": [
    {
     "data": {
      "text/html": [
       "<div>\n",
       "<style scoped>\n",
       "    .dataframe tbody tr th:only-of-type {\n",
       "        vertical-align: middle;\n",
       "    }\n",
       "\n",
       "    .dataframe tbody tr th {\n",
       "        vertical-align: top;\n",
       "    }\n",
       "\n",
       "    .dataframe thead th {\n",
       "        text-align: right;\n",
       "    }\n",
       "</style>\n",
       "<table border=\"1\" class=\"dataframe\">\n",
       "  <thead>\n",
       "    <tr style=\"text-align: right;\">\n",
       "      <th></th>\n",
       "      <th>danceability</th>\n",
       "      <th>energy</th>\n",
       "      <th>key</th>\n",
       "      <th>loudness</th>\n",
       "      <th>mode</th>\n",
       "      <th>speechiness</th>\n",
       "      <th>acousticness</th>\n",
       "      <th>instrumentalness</th>\n",
       "      <th>liveness</th>\n",
       "      <th>valence</th>\n",
       "      <th>tempo</th>\n",
       "      <th>type</th>\n",
       "      <th>id</th>\n",
       "      <th>uri</th>\n",
       "      <th>track_href</th>\n",
       "      <th>analysis_url</th>\n",
       "      <th>duration_ms</th>\n",
       "      <th>time_signature</th>\n",
       "    </tr>\n",
       "  </thead>\n",
       "  <tbody>\n",
       "    <tr>\n",
       "      <th>0</th>\n",
       "      <td>0.714</td>\n",
       "      <td>0.800</td>\n",
       "      <td>11</td>\n",
       "      <td>-4.808</td>\n",
       "      <td>0</td>\n",
       "      <td>0.0504</td>\n",
       "      <td>0.12700</td>\n",
       "      <td>0.000000</td>\n",
       "      <td>0.3590</td>\n",
       "      <td>0.5890</td>\n",
       "      <td>134.002</td>\n",
       "      <td>audio_features</td>\n",
       "      <td>3Wrjm47oTz2sjIgck11l5e</td>\n",
       "      <td>spotify:track:3Wrjm47oTz2sjIgck11l5e</td>\n",
       "      <td>https://api.spotify.com/v1/tracks/3Wrjm47oTz2s...</td>\n",
       "      <td>https://api.spotify.com/v1/audio-analysis/3Wrj...</td>\n",
       "      <td>211560</td>\n",
       "      <td>4</td>\n",
       "    </tr>\n",
       "    <tr>\n",
       "      <th>1</th>\n",
       "      <td>0.640</td>\n",
       "      <td>0.755</td>\n",
       "      <td>1</td>\n",
       "      <td>-4.077</td>\n",
       "      <td>0</td>\n",
       "      <td>0.0287</td>\n",
       "      <td>0.01380</td>\n",
       "      <td>0.020800</td>\n",
       "      <td>0.1200</td>\n",
       "      <td>0.7440</td>\n",
       "      <td>116.883</td>\n",
       "      <td>audio_features</td>\n",
       "      <td>4g3Ax56IslQkI6XVfYKVc5</td>\n",
       "      <td>spotify:track:4g3Ax56IslQkI6XVfYKVc5</td>\n",
       "      <td>https://api.spotify.com/v1/tracks/4g3Ax56IslQk...</td>\n",
       "      <td>https://api.spotify.com/v1/audio-analysis/4g3A...</td>\n",
       "      <td>216319</td>\n",
       "      <td>4</td>\n",
       "    </tr>\n",
       "    <tr>\n",
       "      <th>2</th>\n",
       "      <td>0.355</td>\n",
       "      <td>0.918</td>\n",
       "      <td>1</td>\n",
       "      <td>-4.360</td>\n",
       "      <td>1</td>\n",
       "      <td>0.0746</td>\n",
       "      <td>0.00119</td>\n",
       "      <td>0.000000</td>\n",
       "      <td>0.0971</td>\n",
       "      <td>0.2400</td>\n",
       "      <td>148.114</td>\n",
       "      <td>audio_features</td>\n",
       "      <td>3n3Ppam7vgaVa1iaRUc9Lp</td>\n",
       "      <td>spotify:track:3n3Ppam7vgaVa1iaRUc9Lp</td>\n",
       "      <td>https://api.spotify.com/v1/tracks/3n3Ppam7vgaV...</td>\n",
       "      <td>https://api.spotify.com/v1/audio-analysis/3n3P...</td>\n",
       "      <td>222200</td>\n",
       "      <td>4</td>\n",
       "    </tr>\n",
       "    <tr>\n",
       "      <th>3</th>\n",
       "      <td>0.462</td>\n",
       "      <td>0.836</td>\n",
       "      <td>11</td>\n",
       "      <td>-5.766</td>\n",
       "      <td>0</td>\n",
       "      <td>0.0621</td>\n",
       "      <td>0.00517</td>\n",
       "      <td>0.000000</td>\n",
       "      <td>0.1800</td>\n",
       "      <td>0.6710</td>\n",
       "      <td>168.766</td>\n",
       "      <td>audio_features</td>\n",
       "      <td>1QFh8OH1e78dGd3VyJZCAC</td>\n",
       "      <td>spotify:track:1QFh8OH1e78dGd3VyJZCAC</td>\n",
       "      <td>https://api.spotify.com/v1/tracks/1QFh8OH1e78d...</td>\n",
       "      <td>https://api.spotify.com/v1/audio-analysis/1QFh...</td>\n",
       "      <td>155973</td>\n",
       "      <td>4</td>\n",
       "    </tr>\n",
       "    <tr>\n",
       "      <th>4</th>\n",
       "      <td>0.808</td>\n",
       "      <td>0.381</td>\n",
       "      <td>1</td>\n",
       "      <td>-9.758</td>\n",
       "      <td>1</td>\n",
       "      <td>0.0584</td>\n",
       "      <td>0.34400</td>\n",
       "      <td>0.000003</td>\n",
       "      <td>0.1120</td>\n",
       "      <td>0.6870</td>\n",
       "      <td>102.052</td>\n",
       "      <td>audio_features</td>\n",
       "      <td>1H6A86dQ7BMdbxofxpQvcK</td>\n",
       "      <td>spotify:track:1H6A86dQ7BMdbxofxpQvcK</td>\n",
       "      <td>https://api.spotify.com/v1/tracks/1H6A86dQ7BMd...</td>\n",
       "      <td>https://api.spotify.com/v1/audio-analysis/1H6A...</td>\n",
       "      <td>174118</td>\n",
       "      <td>4</td>\n",
       "    </tr>\n",
       "    <tr>\n",
       "      <th>...</th>\n",
       "      <td>...</td>\n",
       "      <td>...</td>\n",
       "      <td>...</td>\n",
       "      <td>...</td>\n",
       "      <td>...</td>\n",
       "      <td>...</td>\n",
       "      <td>...</td>\n",
       "      <td>...</td>\n",
       "      <td>...</td>\n",
       "      <td>...</td>\n",
       "      <td>...</td>\n",
       "      <td>...</td>\n",
       "      <td>...</td>\n",
       "      <td>...</td>\n",
       "      <td>...</td>\n",
       "      <td>...</td>\n",
       "      <td>...</td>\n",
       "      <td>...</td>\n",
       "    </tr>\n",
       "    <tr>\n",
       "      <th>3758</th>\n",
       "      <td>0.751</td>\n",
       "      <td>0.739</td>\n",
       "      <td>5</td>\n",
       "      <td>-8.557</td>\n",
       "      <td>0</td>\n",
       "      <td>0.0380</td>\n",
       "      <td>0.01450</td>\n",
       "      <td>0.884000</td>\n",
       "      <td>0.0902</td>\n",
       "      <td>0.0988</td>\n",
       "      <td>123.023</td>\n",
       "      <td>audio_features</td>\n",
       "      <td>3KaDPp6hfbnL4dAo57PNCI</td>\n",
       "      <td>spotify:track:3KaDPp6hfbnL4dAo57PNCI</td>\n",
       "      <td>https://api.spotify.com/v1/tracks/3KaDPp6hfbnL...</td>\n",
       "      <td>https://api.spotify.com/v1/audio-analysis/3KaD...</td>\n",
       "      <td>255630</td>\n",
       "      <td>4</td>\n",
       "    </tr>\n",
       "    <tr>\n",
       "      <th>3759</th>\n",
       "      <td>0.619</td>\n",
       "      <td>0.746</td>\n",
       "      <td>7</td>\n",
       "      <td>-10.770</td>\n",
       "      <td>1</td>\n",
       "      <td>0.0407</td>\n",
       "      <td>0.11600</td>\n",
       "      <td>0.880000</td>\n",
       "      <td>0.1370</td>\n",
       "      <td>0.1700</td>\n",
       "      <td>122.005</td>\n",
       "      <td>audio_features</td>\n",
       "      <td>4nSn1svDL1elP43MZuEc0K</td>\n",
       "      <td>spotify:track:4nSn1svDL1elP43MZuEc0K</td>\n",
       "      <td>https://api.spotify.com/v1/tracks/4nSn1svDL1el...</td>\n",
       "      <td>https://api.spotify.com/v1/audio-analysis/4nSn...</td>\n",
       "      <td>287213</td>\n",
       "      <td>4</td>\n",
       "    </tr>\n",
       "    <tr>\n",
       "      <th>3760</th>\n",
       "      <td>0.781</td>\n",
       "      <td>0.658</td>\n",
       "      <td>1</td>\n",
       "      <td>-10.312</td>\n",
       "      <td>1</td>\n",
       "      <td>0.0446</td>\n",
       "      <td>0.03060</td>\n",
       "      <td>0.742000</td>\n",
       "      <td>0.1120</td>\n",
       "      <td>0.1060</td>\n",
       "      <td>124.017</td>\n",
       "      <td>audio_features</td>\n",
       "      <td>4M5K6HYMIIoXLutK1v7g7U</td>\n",
       "      <td>spotify:track:4M5K6HYMIIoXLutK1v7g7U</td>\n",
       "      <td>https://api.spotify.com/v1/tracks/4M5K6HYMIIoX...</td>\n",
       "      <td>https://api.spotify.com/v1/audio-analysis/4M5K...</td>\n",
       "      <td>418065</td>\n",
       "      <td>4</td>\n",
       "    </tr>\n",
       "    <tr>\n",
       "      <th>3761</th>\n",
       "      <td>0.792</td>\n",
       "      <td>0.932</td>\n",
       "      <td>10</td>\n",
       "      <td>-6.781</td>\n",
       "      <td>1</td>\n",
       "      <td>0.0500</td>\n",
       "      <td>0.00117</td>\n",
       "      <td>0.916000</td>\n",
       "      <td>0.0723</td>\n",
       "      <td>0.3560</td>\n",
       "      <td>120.997</td>\n",
       "      <td>audio_features</td>\n",
       "      <td>0hUsx4d1Ur32PPQS9CX7yU</td>\n",
       "      <td>spotify:track:0hUsx4d1Ur32PPQS9CX7yU</td>\n",
       "      <td>https://api.spotify.com/v1/tracks/0hUsx4d1Ur32...</td>\n",
       "      <td>https://api.spotify.com/v1/audio-analysis/0hUs...</td>\n",
       "      <td>388696</td>\n",
       "      <td>4</td>\n",
       "    </tr>\n",
       "    <tr>\n",
       "      <th>3762</th>\n",
       "      <td>0.693</td>\n",
       "      <td>0.542</td>\n",
       "      <td>0</td>\n",
       "      <td>-14.384</td>\n",
       "      <td>1</td>\n",
       "      <td>0.0526</td>\n",
       "      <td>0.00379</td>\n",
       "      <td>0.834000</td>\n",
       "      <td>0.1160</td>\n",
       "      <td>0.3960</td>\n",
       "      <td>122.994</td>\n",
       "      <td>audio_features</td>\n",
       "      <td>3fDRPg5MmTsr15Fax4bFyN</td>\n",
       "      <td>spotify:track:3fDRPg5MmTsr15Fax4bFyN</td>\n",
       "      <td>https://api.spotify.com/v1/tracks/3fDRPg5MmTsr...</td>\n",
       "      <td>https://api.spotify.com/v1/audio-analysis/3fDR...</td>\n",
       "      <td>476341</td>\n",
       "      <td>4</td>\n",
       "    </tr>\n",
       "  </tbody>\n",
       "</table>\n",
       "<p>3763 rows × 18 columns</p>\n",
       "</div>"
      ],
      "text/plain": [
       "      danceability  energy  key  loudness  mode  speechiness  acousticness  \\\n",
       "0            0.714   0.800   11    -4.808     0       0.0504       0.12700   \n",
       "1            0.640   0.755    1    -4.077     0       0.0287       0.01380   \n",
       "2            0.355   0.918    1    -4.360     1       0.0746       0.00119   \n",
       "3            0.462   0.836   11    -5.766     0       0.0621       0.00517   \n",
       "4            0.808   0.381    1    -9.758     1       0.0584       0.34400   \n",
       "...            ...     ...  ...       ...   ...          ...           ...   \n",
       "3758         0.751   0.739    5    -8.557     0       0.0380       0.01450   \n",
       "3759         0.619   0.746    7   -10.770     1       0.0407       0.11600   \n",
       "3760         0.781   0.658    1   -10.312     1       0.0446       0.03060   \n",
       "3761         0.792   0.932   10    -6.781     1       0.0500       0.00117   \n",
       "3762         0.693   0.542    0   -14.384     1       0.0526       0.00379   \n",
       "\n",
       "      instrumentalness  liveness  valence    tempo            type  \\\n",
       "0             0.000000    0.3590   0.5890  134.002  audio_features   \n",
       "1             0.020800    0.1200   0.7440  116.883  audio_features   \n",
       "2             0.000000    0.0971   0.2400  148.114  audio_features   \n",
       "3             0.000000    0.1800   0.6710  168.766  audio_features   \n",
       "4             0.000003    0.1120   0.6870  102.052  audio_features   \n",
       "...                ...       ...      ...      ...             ...   \n",
       "3758          0.884000    0.0902   0.0988  123.023  audio_features   \n",
       "3759          0.880000    0.1370   0.1700  122.005  audio_features   \n",
       "3760          0.742000    0.1120   0.1060  124.017  audio_features   \n",
       "3761          0.916000    0.0723   0.3560  120.997  audio_features   \n",
       "3762          0.834000    0.1160   0.3960  122.994  audio_features   \n",
       "\n",
       "                          id                                   uri  \\\n",
       "0     3Wrjm47oTz2sjIgck11l5e  spotify:track:3Wrjm47oTz2sjIgck11l5e   \n",
       "1     4g3Ax56IslQkI6XVfYKVc5  spotify:track:4g3Ax56IslQkI6XVfYKVc5   \n",
       "2     3n3Ppam7vgaVa1iaRUc9Lp  spotify:track:3n3Ppam7vgaVa1iaRUc9Lp   \n",
       "3     1QFh8OH1e78dGd3VyJZCAC  spotify:track:1QFh8OH1e78dGd3VyJZCAC   \n",
       "4     1H6A86dQ7BMdbxofxpQvcK  spotify:track:1H6A86dQ7BMdbxofxpQvcK   \n",
       "...                      ...                                   ...   \n",
       "3758  3KaDPp6hfbnL4dAo57PNCI  spotify:track:3KaDPp6hfbnL4dAo57PNCI   \n",
       "3759  4nSn1svDL1elP43MZuEc0K  spotify:track:4nSn1svDL1elP43MZuEc0K   \n",
       "3760  4M5K6HYMIIoXLutK1v7g7U  spotify:track:4M5K6HYMIIoXLutK1v7g7U   \n",
       "3761  0hUsx4d1Ur32PPQS9CX7yU  spotify:track:0hUsx4d1Ur32PPQS9CX7yU   \n",
       "3762  3fDRPg5MmTsr15Fax4bFyN  spotify:track:3fDRPg5MmTsr15Fax4bFyN   \n",
       "\n",
       "                                             track_href  \\\n",
       "0     https://api.spotify.com/v1/tracks/3Wrjm47oTz2s...   \n",
       "1     https://api.spotify.com/v1/tracks/4g3Ax56IslQk...   \n",
       "2     https://api.spotify.com/v1/tracks/3n3Ppam7vgaV...   \n",
       "3     https://api.spotify.com/v1/tracks/1QFh8OH1e78d...   \n",
       "4     https://api.spotify.com/v1/tracks/1H6A86dQ7BMd...   \n",
       "...                                                 ...   \n",
       "3758  https://api.spotify.com/v1/tracks/3KaDPp6hfbnL...   \n",
       "3759  https://api.spotify.com/v1/tracks/4nSn1svDL1el...   \n",
       "3760  https://api.spotify.com/v1/tracks/4M5K6HYMIIoX...   \n",
       "3761  https://api.spotify.com/v1/tracks/0hUsx4d1Ur32...   \n",
       "3762  https://api.spotify.com/v1/tracks/3fDRPg5MmTsr...   \n",
       "\n",
       "                                           analysis_url  duration_ms  \\\n",
       "0     https://api.spotify.com/v1/audio-analysis/3Wrj...       211560   \n",
       "1     https://api.spotify.com/v1/audio-analysis/4g3A...       216319   \n",
       "2     https://api.spotify.com/v1/audio-analysis/3n3P...       222200   \n",
       "3     https://api.spotify.com/v1/audio-analysis/1QFh...       155973   \n",
       "4     https://api.spotify.com/v1/audio-analysis/1H6A...       174118   \n",
       "...                                                 ...          ...   \n",
       "3758  https://api.spotify.com/v1/audio-analysis/3KaD...       255630   \n",
       "3759  https://api.spotify.com/v1/audio-analysis/4nSn...       287213   \n",
       "3760  https://api.spotify.com/v1/audio-analysis/4M5K...       418065   \n",
       "3761  https://api.spotify.com/v1/audio-analysis/0hUs...       388696   \n",
       "3762  https://api.spotify.com/v1/audio-analysis/3fDR...       476341   \n",
       "\n",
       "      time_signature  \n",
       "0                  4  \n",
       "1                  4  \n",
       "2                  4  \n",
       "3                  4  \n",
       "4                  4  \n",
       "...              ...  \n",
       "3758               4  \n",
       "3759               4  \n",
       "3760               4  \n",
       "3761               4  \n",
       "3762               4  \n",
       "\n",
       "[3763 rows x 18 columns]"
      ]
     },
     "execution_count": 207,
     "metadata": {},
     "output_type": "execute_result"
    }
   ],
   "source": [
    "feats_df"
   ]
  },
  {
   "cell_type": "markdown",
   "id": "c9687667",
   "metadata": {},
   "source": [
    "### Merge the two dataframes so you have the songs and artists with de features"
   ]
  },
  {
   "cell_type": "code",
   "execution_count": 215,
   "id": "f9722526",
   "metadata": {},
   "outputs": [],
   "source": [
    "feats_df['song_name']=big_df['song_name']"
   ]
  },
  {
   "cell_type": "code",
   "execution_count": 217,
   "id": "4b4ebab1",
   "metadata": {},
   "outputs": [],
   "source": [
    "feats_df['song_ID']=big_df['song_ID']"
   ]
  },
  {
   "cell_type": "code",
   "execution_count": 218,
   "id": "107954f1",
   "metadata": {},
   "outputs": [],
   "source": [
    "feats_df['song_artist']=big_df['song_artist']"
   ]
  },
  {
   "cell_type": "code",
   "execution_count": null,
   "id": "b93c412e",
   "metadata": {},
   "outputs": [],
   "source": [
    "feats_df['Genre']=big_df['Genre']"
   ]
  },
  {
   "cell_type": "code",
   "execution_count": 219,
   "id": "a4dff7a7",
   "metadata": {},
   "outputs": [
    {
     "data": {
      "text/html": [
       "<div>\n",
       "<style scoped>\n",
       "    .dataframe tbody tr th:only-of-type {\n",
       "        vertical-align: middle;\n",
       "    }\n",
       "\n",
       "    .dataframe tbody tr th {\n",
       "        vertical-align: top;\n",
       "    }\n",
       "\n",
       "    .dataframe thead th {\n",
       "        text-align: right;\n",
       "    }\n",
       "</style>\n",
       "<table border=\"1\" class=\"dataframe\">\n",
       "  <thead>\n",
       "    <tr style=\"text-align: right;\">\n",
       "      <th></th>\n",
       "      <th>danceability</th>\n",
       "      <th>energy</th>\n",
       "      <th>key</th>\n",
       "      <th>loudness</th>\n",
       "      <th>mode</th>\n",
       "      <th>speechiness</th>\n",
       "      <th>acousticness</th>\n",
       "      <th>instrumentalness</th>\n",
       "      <th>liveness</th>\n",
       "      <th>valence</th>\n",
       "      <th>...</th>\n",
       "      <th>id</th>\n",
       "      <th>uri</th>\n",
       "      <th>track_href</th>\n",
       "      <th>analysis_url</th>\n",
       "      <th>duration_ms</th>\n",
       "      <th>time_signature</th>\n",
       "      <th>Genre</th>\n",
       "      <th>song_name</th>\n",
       "      <th>song_ID</th>\n",
       "      <th>song_artist</th>\n",
       "    </tr>\n",
       "  </thead>\n",
       "  <tbody>\n",
       "    <tr>\n",
       "      <th>0</th>\n",
       "      <td>0.714</td>\n",
       "      <td>0.800</td>\n",
       "      <td>11</td>\n",
       "      <td>-4.808</td>\n",
       "      <td>0</td>\n",
       "      <td>0.0504</td>\n",
       "      <td>0.12700</td>\n",
       "      <td>0.000000</td>\n",
       "      <td>0.3590</td>\n",
       "      <td>0.5890</td>\n",
       "      <td>...</td>\n",
       "      <td>3Wrjm47oTz2sjIgck11l5e</td>\n",
       "      <td>spotify:track:3Wrjm47oTz2sjIgck11l5e</td>\n",
       "      <td>https://api.spotify.com/v1/tracks/3Wrjm47oTz2s...</td>\n",
       "      <td>https://api.spotify.com/v1/audio-analysis/3Wrj...</td>\n",
       "      <td>211560</td>\n",
       "      <td>4</td>\n",
       "      <td>Indie</td>\n",
       "      <td>Beggin'</td>\n",
       "      <td>3Wrjm47oTz2sjIgck11l5e</td>\n",
       "      <td>Måneskin</td>\n",
       "    </tr>\n",
       "    <tr>\n",
       "      <th>1</th>\n",
       "      <td>0.640</td>\n",
       "      <td>0.755</td>\n",
       "      <td>1</td>\n",
       "      <td>-4.077</td>\n",
       "      <td>0</td>\n",
       "      <td>0.0287</td>\n",
       "      <td>0.01380</td>\n",
       "      <td>0.020800</td>\n",
       "      <td>0.1200</td>\n",
       "      <td>0.7440</td>\n",
       "      <td>...</td>\n",
       "      <td>4g3Ax56IslQkI6XVfYKVc5</td>\n",
       "      <td>spotify:track:4g3Ax56IslQkI6XVfYKVc5</td>\n",
       "      <td>https://api.spotify.com/v1/tracks/4g3Ax56IslQk...</td>\n",
       "      <td>https://api.spotify.com/v1/audio-analysis/4g3A...</td>\n",
       "      <td>216319</td>\n",
       "      <td>4</td>\n",
       "      <td>Indie</td>\n",
       "      <td>The Less I Know The Better</td>\n",
       "      <td>4g3Ax56IslQkI6XVfYKVc5</td>\n",
       "      <td>Tame Impala</td>\n",
       "    </tr>\n",
       "    <tr>\n",
       "      <th>2</th>\n",
       "      <td>0.355</td>\n",
       "      <td>0.918</td>\n",
       "      <td>1</td>\n",
       "      <td>-4.360</td>\n",
       "      <td>1</td>\n",
       "      <td>0.0746</td>\n",
       "      <td>0.00119</td>\n",
       "      <td>0.000000</td>\n",
       "      <td>0.0971</td>\n",
       "      <td>0.2400</td>\n",
       "      <td>...</td>\n",
       "      <td>3n3Ppam7vgaVa1iaRUc9Lp</td>\n",
       "      <td>spotify:track:3n3Ppam7vgaVa1iaRUc9Lp</td>\n",
       "      <td>https://api.spotify.com/v1/tracks/3n3Ppam7vgaV...</td>\n",
       "      <td>https://api.spotify.com/v1/audio-analysis/3n3P...</td>\n",
       "      <td>222200</td>\n",
       "      <td>4</td>\n",
       "      <td>Indie</td>\n",
       "      <td>Mr. Brightside</td>\n",
       "      <td>3n3Ppam7vgaVa1iaRUc9Lp</td>\n",
       "      <td>The Killers</td>\n",
       "    </tr>\n",
       "    <tr>\n",
       "      <th>3</th>\n",
       "      <td>0.462</td>\n",
       "      <td>0.836</td>\n",
       "      <td>11</td>\n",
       "      <td>-5.766</td>\n",
       "      <td>0</td>\n",
       "      <td>0.0621</td>\n",
       "      <td>0.00517</td>\n",
       "      <td>0.000000</td>\n",
       "      <td>0.1800</td>\n",
       "      <td>0.6710</td>\n",
       "      <td>...</td>\n",
       "      <td>1QFh8OH1e78dGd3VyJZCAC</td>\n",
       "      <td>spotify:track:1QFh8OH1e78dGd3VyJZCAC</td>\n",
       "      <td>https://api.spotify.com/v1/tracks/1QFh8OH1e78d...</td>\n",
       "      <td>https://api.spotify.com/v1/audio-analysis/1QFh...</td>\n",
       "      <td>155973</td>\n",
       "      <td>4</td>\n",
       "      <td>Indie</td>\n",
       "      <td>Boys Don't Cry</td>\n",
       "      <td>1QFh8OH1e78dGd3VyJZCAC</td>\n",
       "      <td>The Cure</td>\n",
       "    </tr>\n",
       "    <tr>\n",
       "      <th>4</th>\n",
       "      <td>0.808</td>\n",
       "      <td>0.381</td>\n",
       "      <td>1</td>\n",
       "      <td>-9.758</td>\n",
       "      <td>1</td>\n",
       "      <td>0.0584</td>\n",
       "      <td>0.34400</td>\n",
       "      <td>0.000003</td>\n",
       "      <td>0.1120</td>\n",
       "      <td>0.6870</td>\n",
       "      <td>...</td>\n",
       "      <td>1H6A86dQ7BMdbxofxpQvcK</td>\n",
       "      <td>spotify:track:1H6A86dQ7BMdbxofxpQvcK</td>\n",
       "      <td>https://api.spotify.com/v1/tracks/1H6A86dQ7BMd...</td>\n",
       "      <td>https://api.spotify.com/v1/audio-analysis/1H6A...</td>\n",
       "      <td>174118</td>\n",
       "      <td>4</td>\n",
       "      <td>Indie</td>\n",
       "      <td>wake me up</td>\n",
       "      <td>1H6A86dQ7BMdbxofxpQvcK</td>\n",
       "      <td>Ruby</td>\n",
       "    </tr>\n",
       "    <tr>\n",
       "      <th>...</th>\n",
       "      <td>...</td>\n",
       "      <td>...</td>\n",
       "      <td>...</td>\n",
       "      <td>...</td>\n",
       "      <td>...</td>\n",
       "      <td>...</td>\n",
       "      <td>...</td>\n",
       "      <td>...</td>\n",
       "      <td>...</td>\n",
       "      <td>...</td>\n",
       "      <td>...</td>\n",
       "      <td>...</td>\n",
       "      <td>...</td>\n",
       "      <td>...</td>\n",
       "      <td>...</td>\n",
       "      <td>...</td>\n",
       "      <td>...</td>\n",
       "      <td>...</td>\n",
       "      <td>...</td>\n",
       "      <td>...</td>\n",
       "      <td>...</td>\n",
       "    </tr>\n",
       "    <tr>\n",
       "      <th>3758</th>\n",
       "      <td>0.751</td>\n",
       "      <td>0.739</td>\n",
       "      <td>5</td>\n",
       "      <td>-8.557</td>\n",
       "      <td>0</td>\n",
       "      <td>0.0380</td>\n",
       "      <td>0.01450</td>\n",
       "      <td>0.884000</td>\n",
       "      <td>0.0902</td>\n",
       "      <td>0.0988</td>\n",
       "      <td>...</td>\n",
       "      <td>3KaDPp6hfbnL4dAo57PNCI</td>\n",
       "      <td>spotify:track:3KaDPp6hfbnL4dAo57PNCI</td>\n",
       "      <td>https://api.spotify.com/v1/tracks/3KaDPp6hfbnL...</td>\n",
       "      <td>https://api.spotify.com/v1/audio-analysis/3KaD...</td>\n",
       "      <td>255630</td>\n",
       "      <td>4</td>\n",
       "      <td>Techno</td>\n",
       "      <td>Martian</td>\n",
       "      <td>3KaDPp6hfbnL4dAo57PNCI</td>\n",
       "      <td>Colyn</td>\n",
       "    </tr>\n",
       "    <tr>\n",
       "      <th>3759</th>\n",
       "      <td>0.619</td>\n",
       "      <td>0.746</td>\n",
       "      <td>7</td>\n",
       "      <td>-10.770</td>\n",
       "      <td>1</td>\n",
       "      <td>0.0407</td>\n",
       "      <td>0.11600</td>\n",
       "      <td>0.880000</td>\n",
       "      <td>0.1370</td>\n",
       "      <td>0.1700</td>\n",
       "      <td>...</td>\n",
       "      <td>4nSn1svDL1elP43MZuEc0K</td>\n",
       "      <td>spotify:track:4nSn1svDL1elP43MZuEc0K</td>\n",
       "      <td>https://api.spotify.com/v1/tracks/4nSn1svDL1el...</td>\n",
       "      <td>https://api.spotify.com/v1/audio-analysis/4nSn...</td>\n",
       "      <td>287213</td>\n",
       "      <td>4</td>\n",
       "      <td>Techno</td>\n",
       "      <td>Mandate - Original Mix</td>\n",
       "      <td>4nSn1svDL1elP43MZuEc0K</td>\n",
       "      <td>D-Formation</td>\n",
       "    </tr>\n",
       "    <tr>\n",
       "      <th>3760</th>\n",
       "      <td>0.781</td>\n",
       "      <td>0.658</td>\n",
       "      <td>1</td>\n",
       "      <td>-10.312</td>\n",
       "      <td>1</td>\n",
       "      <td>0.0446</td>\n",
       "      <td>0.03060</td>\n",
       "      <td>0.742000</td>\n",
       "      <td>0.1120</td>\n",
       "      <td>0.1060</td>\n",
       "      <td>...</td>\n",
       "      <td>4M5K6HYMIIoXLutK1v7g7U</td>\n",
       "      <td>spotify:track:4M5K6HYMIIoXLutK1v7g7U</td>\n",
       "      <td>https://api.spotify.com/v1/tracks/4M5K6HYMIIoX...</td>\n",
       "      <td>https://api.spotify.com/v1/audio-analysis/4M5K...</td>\n",
       "      <td>418065</td>\n",
       "      <td>4</td>\n",
       "      <td>Techno</td>\n",
       "      <td>Hunting - Senses of Mind Remix</td>\n",
       "      <td>4M5K6HYMIIoXLutK1v7g7U</td>\n",
       "      <td>Mark Tarmonea</td>\n",
       "    </tr>\n",
       "    <tr>\n",
       "      <th>3761</th>\n",
       "      <td>0.792</td>\n",
       "      <td>0.932</td>\n",
       "      <td>10</td>\n",
       "      <td>-6.781</td>\n",
       "      <td>1</td>\n",
       "      <td>0.0500</td>\n",
       "      <td>0.00117</td>\n",
       "      <td>0.916000</td>\n",
       "      <td>0.0723</td>\n",
       "      <td>0.3560</td>\n",
       "      <td>...</td>\n",
       "      <td>0hUsx4d1Ur32PPQS9CX7yU</td>\n",
       "      <td>spotify:track:0hUsx4d1Ur32PPQS9CX7yU</td>\n",
       "      <td>https://api.spotify.com/v1/tracks/0hUsx4d1Ur32...</td>\n",
       "      <td>https://api.spotify.com/v1/audio-analysis/0hUs...</td>\n",
       "      <td>388696</td>\n",
       "      <td>4</td>\n",
       "      <td>Techno</td>\n",
       "      <td>Evolving Flow</td>\n",
       "      <td>0hUsx4d1Ur32PPQS9CX7yU</td>\n",
       "      <td>Anturage</td>\n",
       "    </tr>\n",
       "    <tr>\n",
       "      <th>3762</th>\n",
       "      <td>0.693</td>\n",
       "      <td>0.542</td>\n",
       "      <td>0</td>\n",
       "      <td>-14.384</td>\n",
       "      <td>1</td>\n",
       "      <td>0.0526</td>\n",
       "      <td>0.00379</td>\n",
       "      <td>0.834000</td>\n",
       "      <td>0.1160</td>\n",
       "      <td>0.3960</td>\n",
       "      <td>...</td>\n",
       "      <td>3fDRPg5MmTsr15Fax4bFyN</td>\n",
       "      <td>spotify:track:3fDRPg5MmTsr15Fax4bFyN</td>\n",
       "      <td>https://api.spotify.com/v1/tracks/3fDRPg5MmTsr...</td>\n",
       "      <td>https://api.spotify.com/v1/audio-analysis/3fDR...</td>\n",
       "      <td>476341</td>\n",
       "      <td>4</td>\n",
       "      <td>Techno</td>\n",
       "      <td>Aya</td>\n",
       "      <td>3fDRPg5MmTsr15Fax4bFyN</td>\n",
       "      <td>Stan Kolev</td>\n",
       "    </tr>\n",
       "  </tbody>\n",
       "</table>\n",
       "<p>3763 rows × 22 columns</p>\n",
       "</div>"
      ],
      "text/plain": [
       "      danceability  energy  key  loudness  mode  speechiness  acousticness  \\\n",
       "0            0.714   0.800   11    -4.808     0       0.0504       0.12700   \n",
       "1            0.640   0.755    1    -4.077     0       0.0287       0.01380   \n",
       "2            0.355   0.918    1    -4.360     1       0.0746       0.00119   \n",
       "3            0.462   0.836   11    -5.766     0       0.0621       0.00517   \n",
       "4            0.808   0.381    1    -9.758     1       0.0584       0.34400   \n",
       "...            ...     ...  ...       ...   ...          ...           ...   \n",
       "3758         0.751   0.739    5    -8.557     0       0.0380       0.01450   \n",
       "3759         0.619   0.746    7   -10.770     1       0.0407       0.11600   \n",
       "3760         0.781   0.658    1   -10.312     1       0.0446       0.03060   \n",
       "3761         0.792   0.932   10    -6.781     1       0.0500       0.00117   \n",
       "3762         0.693   0.542    0   -14.384     1       0.0526       0.00379   \n",
       "\n",
       "      instrumentalness  liveness  valence  ...                      id  \\\n",
       "0             0.000000    0.3590   0.5890  ...  3Wrjm47oTz2sjIgck11l5e   \n",
       "1             0.020800    0.1200   0.7440  ...  4g3Ax56IslQkI6XVfYKVc5   \n",
       "2             0.000000    0.0971   0.2400  ...  3n3Ppam7vgaVa1iaRUc9Lp   \n",
       "3             0.000000    0.1800   0.6710  ...  1QFh8OH1e78dGd3VyJZCAC   \n",
       "4             0.000003    0.1120   0.6870  ...  1H6A86dQ7BMdbxofxpQvcK   \n",
       "...                ...       ...      ...  ...                     ...   \n",
       "3758          0.884000    0.0902   0.0988  ...  3KaDPp6hfbnL4dAo57PNCI   \n",
       "3759          0.880000    0.1370   0.1700  ...  4nSn1svDL1elP43MZuEc0K   \n",
       "3760          0.742000    0.1120   0.1060  ...  4M5K6HYMIIoXLutK1v7g7U   \n",
       "3761          0.916000    0.0723   0.3560  ...  0hUsx4d1Ur32PPQS9CX7yU   \n",
       "3762          0.834000    0.1160   0.3960  ...  3fDRPg5MmTsr15Fax4bFyN   \n",
       "\n",
       "                                       uri  \\\n",
       "0     spotify:track:3Wrjm47oTz2sjIgck11l5e   \n",
       "1     spotify:track:4g3Ax56IslQkI6XVfYKVc5   \n",
       "2     spotify:track:3n3Ppam7vgaVa1iaRUc9Lp   \n",
       "3     spotify:track:1QFh8OH1e78dGd3VyJZCAC   \n",
       "4     spotify:track:1H6A86dQ7BMdbxofxpQvcK   \n",
       "...                                    ...   \n",
       "3758  spotify:track:3KaDPp6hfbnL4dAo57PNCI   \n",
       "3759  spotify:track:4nSn1svDL1elP43MZuEc0K   \n",
       "3760  spotify:track:4M5K6HYMIIoXLutK1v7g7U   \n",
       "3761  spotify:track:0hUsx4d1Ur32PPQS9CX7yU   \n",
       "3762  spotify:track:3fDRPg5MmTsr15Fax4bFyN   \n",
       "\n",
       "                                             track_href  \\\n",
       "0     https://api.spotify.com/v1/tracks/3Wrjm47oTz2s...   \n",
       "1     https://api.spotify.com/v1/tracks/4g3Ax56IslQk...   \n",
       "2     https://api.spotify.com/v1/tracks/3n3Ppam7vgaV...   \n",
       "3     https://api.spotify.com/v1/tracks/1QFh8OH1e78d...   \n",
       "4     https://api.spotify.com/v1/tracks/1H6A86dQ7BMd...   \n",
       "...                                                 ...   \n",
       "3758  https://api.spotify.com/v1/tracks/3KaDPp6hfbnL...   \n",
       "3759  https://api.spotify.com/v1/tracks/4nSn1svDL1el...   \n",
       "3760  https://api.spotify.com/v1/tracks/4M5K6HYMIIoX...   \n",
       "3761  https://api.spotify.com/v1/tracks/0hUsx4d1Ur32...   \n",
       "3762  https://api.spotify.com/v1/tracks/3fDRPg5MmTsr...   \n",
       "\n",
       "                                           analysis_url duration_ms  \\\n",
       "0     https://api.spotify.com/v1/audio-analysis/3Wrj...      211560   \n",
       "1     https://api.spotify.com/v1/audio-analysis/4g3A...      216319   \n",
       "2     https://api.spotify.com/v1/audio-analysis/3n3P...      222200   \n",
       "3     https://api.spotify.com/v1/audio-analysis/1QFh...      155973   \n",
       "4     https://api.spotify.com/v1/audio-analysis/1H6A...      174118   \n",
       "...                                                 ...         ...   \n",
       "3758  https://api.spotify.com/v1/audio-analysis/3KaD...      255630   \n",
       "3759  https://api.spotify.com/v1/audio-analysis/4nSn...      287213   \n",
       "3760  https://api.spotify.com/v1/audio-analysis/4M5K...      418065   \n",
       "3761  https://api.spotify.com/v1/audio-analysis/0hUs...      388696   \n",
       "3762  https://api.spotify.com/v1/audio-analysis/3fDR...      476341   \n",
       "\n",
       "     time_signature   Genre                       song_name  \\\n",
       "0                 4   Indie                         Beggin'   \n",
       "1                 4   Indie      The Less I Know The Better   \n",
       "2                 4   Indie                  Mr. Brightside   \n",
       "3                 4   Indie                  Boys Don't Cry   \n",
       "4                 4   Indie                      wake me up   \n",
       "...             ...     ...                             ...   \n",
       "3758              4  Techno                         Martian   \n",
       "3759              4  Techno          Mandate - Original Mix   \n",
       "3760              4  Techno  Hunting - Senses of Mind Remix   \n",
       "3761              4  Techno                   Evolving Flow   \n",
       "3762              4  Techno                             Aya   \n",
       "\n",
       "                     song_ID    song_artist  \n",
       "0     3Wrjm47oTz2sjIgck11l5e       Måneskin  \n",
       "1     4g3Ax56IslQkI6XVfYKVc5    Tame Impala  \n",
       "2     3n3Ppam7vgaVa1iaRUc9Lp    The Killers  \n",
       "3     1QFh8OH1e78dGd3VyJZCAC       The Cure  \n",
       "4     1H6A86dQ7BMdbxofxpQvcK           Ruby  \n",
       "...                      ...            ...  \n",
       "3758  3KaDPp6hfbnL4dAo57PNCI          Colyn  \n",
       "3759  4nSn1svDL1elP43MZuEc0K    D-Formation  \n",
       "3760  4M5K6HYMIIoXLutK1v7g7U  Mark Tarmonea  \n",
       "3761  0hUsx4d1Ur32PPQS9CX7yU       Anturage  \n",
       "3762  3fDRPg5MmTsr15Fax4bFyN     Stan Kolev  \n",
       "\n",
       "[3763 rows x 22 columns]"
      ]
     },
     "execution_count": 219,
     "metadata": {},
     "output_type": "execute_result"
    }
   ],
   "source": [
    "feats_df"
   ]
  },
  {
   "cell_type": "code",
   "execution_count": 220,
   "id": "e3544e13",
   "metadata": {},
   "outputs": [],
   "source": [
    "all_df=feats_df"
   ]
  },
  {
   "cell_type": "code",
   "execution_count": 221,
   "id": "2d0d6b2e",
   "metadata": {},
   "outputs": [
    {
     "data": {
      "text/html": [
       "<div>\n",
       "<style scoped>\n",
       "    .dataframe tbody tr th:only-of-type {\n",
       "        vertical-align: middle;\n",
       "    }\n",
       "\n",
       "    .dataframe tbody tr th {\n",
       "        vertical-align: top;\n",
       "    }\n",
       "\n",
       "    .dataframe thead th {\n",
       "        text-align: right;\n",
       "    }\n",
       "</style>\n",
       "<table border=\"1\" class=\"dataframe\">\n",
       "  <thead>\n",
       "    <tr style=\"text-align: right;\">\n",
       "      <th></th>\n",
       "      <th>danceability</th>\n",
       "      <th>energy</th>\n",
       "      <th>key</th>\n",
       "      <th>loudness</th>\n",
       "      <th>mode</th>\n",
       "      <th>speechiness</th>\n",
       "      <th>acousticness</th>\n",
       "      <th>instrumentalness</th>\n",
       "      <th>liveness</th>\n",
       "      <th>valence</th>\n",
       "      <th>...</th>\n",
       "      <th>id</th>\n",
       "      <th>uri</th>\n",
       "      <th>track_href</th>\n",
       "      <th>analysis_url</th>\n",
       "      <th>duration_ms</th>\n",
       "      <th>time_signature</th>\n",
       "      <th>Genre</th>\n",
       "      <th>song_name</th>\n",
       "      <th>song_ID</th>\n",
       "      <th>song_artist</th>\n",
       "    </tr>\n",
       "  </thead>\n",
       "  <tbody>\n",
       "    <tr>\n",
       "      <th>0</th>\n",
       "      <td>0.714</td>\n",
       "      <td>0.800</td>\n",
       "      <td>11</td>\n",
       "      <td>-4.808</td>\n",
       "      <td>0</td>\n",
       "      <td>0.0504</td>\n",
       "      <td>0.12700</td>\n",
       "      <td>0.000000</td>\n",
       "      <td>0.3590</td>\n",
       "      <td>0.5890</td>\n",
       "      <td>...</td>\n",
       "      <td>3Wrjm47oTz2sjIgck11l5e</td>\n",
       "      <td>spotify:track:3Wrjm47oTz2sjIgck11l5e</td>\n",
       "      <td>https://api.spotify.com/v1/tracks/3Wrjm47oTz2s...</td>\n",
       "      <td>https://api.spotify.com/v1/audio-analysis/3Wrj...</td>\n",
       "      <td>211560</td>\n",
       "      <td>4</td>\n",
       "      <td>Indie</td>\n",
       "      <td>Beggin'</td>\n",
       "      <td>3Wrjm47oTz2sjIgck11l5e</td>\n",
       "      <td>Måneskin</td>\n",
       "    </tr>\n",
       "    <tr>\n",
       "      <th>1</th>\n",
       "      <td>0.640</td>\n",
       "      <td>0.755</td>\n",
       "      <td>1</td>\n",
       "      <td>-4.077</td>\n",
       "      <td>0</td>\n",
       "      <td>0.0287</td>\n",
       "      <td>0.01380</td>\n",
       "      <td>0.020800</td>\n",
       "      <td>0.1200</td>\n",
       "      <td>0.7440</td>\n",
       "      <td>...</td>\n",
       "      <td>4g3Ax56IslQkI6XVfYKVc5</td>\n",
       "      <td>spotify:track:4g3Ax56IslQkI6XVfYKVc5</td>\n",
       "      <td>https://api.spotify.com/v1/tracks/4g3Ax56IslQk...</td>\n",
       "      <td>https://api.spotify.com/v1/audio-analysis/4g3A...</td>\n",
       "      <td>216319</td>\n",
       "      <td>4</td>\n",
       "      <td>Indie</td>\n",
       "      <td>The Less I Know The Better</td>\n",
       "      <td>4g3Ax56IslQkI6XVfYKVc5</td>\n",
       "      <td>Tame Impala</td>\n",
       "    </tr>\n",
       "    <tr>\n",
       "      <th>2</th>\n",
       "      <td>0.355</td>\n",
       "      <td>0.918</td>\n",
       "      <td>1</td>\n",
       "      <td>-4.360</td>\n",
       "      <td>1</td>\n",
       "      <td>0.0746</td>\n",
       "      <td>0.00119</td>\n",
       "      <td>0.000000</td>\n",
       "      <td>0.0971</td>\n",
       "      <td>0.2400</td>\n",
       "      <td>...</td>\n",
       "      <td>3n3Ppam7vgaVa1iaRUc9Lp</td>\n",
       "      <td>spotify:track:3n3Ppam7vgaVa1iaRUc9Lp</td>\n",
       "      <td>https://api.spotify.com/v1/tracks/3n3Ppam7vgaV...</td>\n",
       "      <td>https://api.spotify.com/v1/audio-analysis/3n3P...</td>\n",
       "      <td>222200</td>\n",
       "      <td>4</td>\n",
       "      <td>Indie</td>\n",
       "      <td>Mr. Brightside</td>\n",
       "      <td>3n3Ppam7vgaVa1iaRUc9Lp</td>\n",
       "      <td>The Killers</td>\n",
       "    </tr>\n",
       "    <tr>\n",
       "      <th>3</th>\n",
       "      <td>0.462</td>\n",
       "      <td>0.836</td>\n",
       "      <td>11</td>\n",
       "      <td>-5.766</td>\n",
       "      <td>0</td>\n",
       "      <td>0.0621</td>\n",
       "      <td>0.00517</td>\n",
       "      <td>0.000000</td>\n",
       "      <td>0.1800</td>\n",
       "      <td>0.6710</td>\n",
       "      <td>...</td>\n",
       "      <td>1QFh8OH1e78dGd3VyJZCAC</td>\n",
       "      <td>spotify:track:1QFh8OH1e78dGd3VyJZCAC</td>\n",
       "      <td>https://api.spotify.com/v1/tracks/1QFh8OH1e78d...</td>\n",
       "      <td>https://api.spotify.com/v1/audio-analysis/1QFh...</td>\n",
       "      <td>155973</td>\n",
       "      <td>4</td>\n",
       "      <td>Indie</td>\n",
       "      <td>Boys Don't Cry</td>\n",
       "      <td>1QFh8OH1e78dGd3VyJZCAC</td>\n",
       "      <td>The Cure</td>\n",
       "    </tr>\n",
       "    <tr>\n",
       "      <th>4</th>\n",
       "      <td>0.808</td>\n",
       "      <td>0.381</td>\n",
       "      <td>1</td>\n",
       "      <td>-9.758</td>\n",
       "      <td>1</td>\n",
       "      <td>0.0584</td>\n",
       "      <td>0.34400</td>\n",
       "      <td>0.000003</td>\n",
       "      <td>0.1120</td>\n",
       "      <td>0.6870</td>\n",
       "      <td>...</td>\n",
       "      <td>1H6A86dQ7BMdbxofxpQvcK</td>\n",
       "      <td>spotify:track:1H6A86dQ7BMdbxofxpQvcK</td>\n",
       "      <td>https://api.spotify.com/v1/tracks/1H6A86dQ7BMd...</td>\n",
       "      <td>https://api.spotify.com/v1/audio-analysis/1H6A...</td>\n",
       "      <td>174118</td>\n",
       "      <td>4</td>\n",
       "      <td>Indie</td>\n",
       "      <td>wake me up</td>\n",
       "      <td>1H6A86dQ7BMdbxofxpQvcK</td>\n",
       "      <td>Ruby</td>\n",
       "    </tr>\n",
       "    <tr>\n",
       "      <th>...</th>\n",
       "      <td>...</td>\n",
       "      <td>...</td>\n",
       "      <td>...</td>\n",
       "      <td>...</td>\n",
       "      <td>...</td>\n",
       "      <td>...</td>\n",
       "      <td>...</td>\n",
       "      <td>...</td>\n",
       "      <td>...</td>\n",
       "      <td>...</td>\n",
       "      <td>...</td>\n",
       "      <td>...</td>\n",
       "      <td>...</td>\n",
       "      <td>...</td>\n",
       "      <td>...</td>\n",
       "      <td>...</td>\n",
       "      <td>...</td>\n",
       "      <td>...</td>\n",
       "      <td>...</td>\n",
       "      <td>...</td>\n",
       "      <td>...</td>\n",
       "    </tr>\n",
       "    <tr>\n",
       "      <th>3758</th>\n",
       "      <td>0.751</td>\n",
       "      <td>0.739</td>\n",
       "      <td>5</td>\n",
       "      <td>-8.557</td>\n",
       "      <td>0</td>\n",
       "      <td>0.0380</td>\n",
       "      <td>0.01450</td>\n",
       "      <td>0.884000</td>\n",
       "      <td>0.0902</td>\n",
       "      <td>0.0988</td>\n",
       "      <td>...</td>\n",
       "      <td>3KaDPp6hfbnL4dAo57PNCI</td>\n",
       "      <td>spotify:track:3KaDPp6hfbnL4dAo57PNCI</td>\n",
       "      <td>https://api.spotify.com/v1/tracks/3KaDPp6hfbnL...</td>\n",
       "      <td>https://api.spotify.com/v1/audio-analysis/3KaD...</td>\n",
       "      <td>255630</td>\n",
       "      <td>4</td>\n",
       "      <td>Techno</td>\n",
       "      <td>Martian</td>\n",
       "      <td>3KaDPp6hfbnL4dAo57PNCI</td>\n",
       "      <td>Colyn</td>\n",
       "    </tr>\n",
       "    <tr>\n",
       "      <th>3759</th>\n",
       "      <td>0.619</td>\n",
       "      <td>0.746</td>\n",
       "      <td>7</td>\n",
       "      <td>-10.770</td>\n",
       "      <td>1</td>\n",
       "      <td>0.0407</td>\n",
       "      <td>0.11600</td>\n",
       "      <td>0.880000</td>\n",
       "      <td>0.1370</td>\n",
       "      <td>0.1700</td>\n",
       "      <td>...</td>\n",
       "      <td>4nSn1svDL1elP43MZuEc0K</td>\n",
       "      <td>spotify:track:4nSn1svDL1elP43MZuEc0K</td>\n",
       "      <td>https://api.spotify.com/v1/tracks/4nSn1svDL1el...</td>\n",
       "      <td>https://api.spotify.com/v1/audio-analysis/4nSn...</td>\n",
       "      <td>287213</td>\n",
       "      <td>4</td>\n",
       "      <td>Techno</td>\n",
       "      <td>Mandate - Original Mix</td>\n",
       "      <td>4nSn1svDL1elP43MZuEc0K</td>\n",
       "      <td>D-Formation</td>\n",
       "    </tr>\n",
       "    <tr>\n",
       "      <th>3760</th>\n",
       "      <td>0.781</td>\n",
       "      <td>0.658</td>\n",
       "      <td>1</td>\n",
       "      <td>-10.312</td>\n",
       "      <td>1</td>\n",
       "      <td>0.0446</td>\n",
       "      <td>0.03060</td>\n",
       "      <td>0.742000</td>\n",
       "      <td>0.1120</td>\n",
       "      <td>0.1060</td>\n",
       "      <td>...</td>\n",
       "      <td>4M5K6HYMIIoXLutK1v7g7U</td>\n",
       "      <td>spotify:track:4M5K6HYMIIoXLutK1v7g7U</td>\n",
       "      <td>https://api.spotify.com/v1/tracks/4M5K6HYMIIoX...</td>\n",
       "      <td>https://api.spotify.com/v1/audio-analysis/4M5K...</td>\n",
       "      <td>418065</td>\n",
       "      <td>4</td>\n",
       "      <td>Techno</td>\n",
       "      <td>Hunting - Senses of Mind Remix</td>\n",
       "      <td>4M5K6HYMIIoXLutK1v7g7U</td>\n",
       "      <td>Mark Tarmonea</td>\n",
       "    </tr>\n",
       "    <tr>\n",
       "      <th>3761</th>\n",
       "      <td>0.792</td>\n",
       "      <td>0.932</td>\n",
       "      <td>10</td>\n",
       "      <td>-6.781</td>\n",
       "      <td>1</td>\n",
       "      <td>0.0500</td>\n",
       "      <td>0.00117</td>\n",
       "      <td>0.916000</td>\n",
       "      <td>0.0723</td>\n",
       "      <td>0.3560</td>\n",
       "      <td>...</td>\n",
       "      <td>0hUsx4d1Ur32PPQS9CX7yU</td>\n",
       "      <td>spotify:track:0hUsx4d1Ur32PPQS9CX7yU</td>\n",
       "      <td>https://api.spotify.com/v1/tracks/0hUsx4d1Ur32...</td>\n",
       "      <td>https://api.spotify.com/v1/audio-analysis/0hUs...</td>\n",
       "      <td>388696</td>\n",
       "      <td>4</td>\n",
       "      <td>Techno</td>\n",
       "      <td>Evolving Flow</td>\n",
       "      <td>0hUsx4d1Ur32PPQS9CX7yU</td>\n",
       "      <td>Anturage</td>\n",
       "    </tr>\n",
       "    <tr>\n",
       "      <th>3762</th>\n",
       "      <td>0.693</td>\n",
       "      <td>0.542</td>\n",
       "      <td>0</td>\n",
       "      <td>-14.384</td>\n",
       "      <td>1</td>\n",
       "      <td>0.0526</td>\n",
       "      <td>0.00379</td>\n",
       "      <td>0.834000</td>\n",
       "      <td>0.1160</td>\n",
       "      <td>0.3960</td>\n",
       "      <td>...</td>\n",
       "      <td>3fDRPg5MmTsr15Fax4bFyN</td>\n",
       "      <td>spotify:track:3fDRPg5MmTsr15Fax4bFyN</td>\n",
       "      <td>https://api.spotify.com/v1/tracks/3fDRPg5MmTsr...</td>\n",
       "      <td>https://api.spotify.com/v1/audio-analysis/3fDR...</td>\n",
       "      <td>476341</td>\n",
       "      <td>4</td>\n",
       "      <td>Techno</td>\n",
       "      <td>Aya</td>\n",
       "      <td>3fDRPg5MmTsr15Fax4bFyN</td>\n",
       "      <td>Stan Kolev</td>\n",
       "    </tr>\n",
       "  </tbody>\n",
       "</table>\n",
       "<p>3763 rows × 22 columns</p>\n",
       "</div>"
      ],
      "text/plain": [
       "      danceability  energy  key  loudness  mode  speechiness  acousticness  \\\n",
       "0            0.714   0.800   11    -4.808     0       0.0504       0.12700   \n",
       "1            0.640   0.755    1    -4.077     0       0.0287       0.01380   \n",
       "2            0.355   0.918    1    -4.360     1       0.0746       0.00119   \n",
       "3            0.462   0.836   11    -5.766     0       0.0621       0.00517   \n",
       "4            0.808   0.381    1    -9.758     1       0.0584       0.34400   \n",
       "...            ...     ...  ...       ...   ...          ...           ...   \n",
       "3758         0.751   0.739    5    -8.557     0       0.0380       0.01450   \n",
       "3759         0.619   0.746    7   -10.770     1       0.0407       0.11600   \n",
       "3760         0.781   0.658    1   -10.312     1       0.0446       0.03060   \n",
       "3761         0.792   0.932   10    -6.781     1       0.0500       0.00117   \n",
       "3762         0.693   0.542    0   -14.384     1       0.0526       0.00379   \n",
       "\n",
       "      instrumentalness  liveness  valence  ...                      id  \\\n",
       "0             0.000000    0.3590   0.5890  ...  3Wrjm47oTz2sjIgck11l5e   \n",
       "1             0.020800    0.1200   0.7440  ...  4g3Ax56IslQkI6XVfYKVc5   \n",
       "2             0.000000    0.0971   0.2400  ...  3n3Ppam7vgaVa1iaRUc9Lp   \n",
       "3             0.000000    0.1800   0.6710  ...  1QFh8OH1e78dGd3VyJZCAC   \n",
       "4             0.000003    0.1120   0.6870  ...  1H6A86dQ7BMdbxofxpQvcK   \n",
       "...                ...       ...      ...  ...                     ...   \n",
       "3758          0.884000    0.0902   0.0988  ...  3KaDPp6hfbnL4dAo57PNCI   \n",
       "3759          0.880000    0.1370   0.1700  ...  4nSn1svDL1elP43MZuEc0K   \n",
       "3760          0.742000    0.1120   0.1060  ...  4M5K6HYMIIoXLutK1v7g7U   \n",
       "3761          0.916000    0.0723   0.3560  ...  0hUsx4d1Ur32PPQS9CX7yU   \n",
       "3762          0.834000    0.1160   0.3960  ...  3fDRPg5MmTsr15Fax4bFyN   \n",
       "\n",
       "                                       uri  \\\n",
       "0     spotify:track:3Wrjm47oTz2sjIgck11l5e   \n",
       "1     spotify:track:4g3Ax56IslQkI6XVfYKVc5   \n",
       "2     spotify:track:3n3Ppam7vgaVa1iaRUc9Lp   \n",
       "3     spotify:track:1QFh8OH1e78dGd3VyJZCAC   \n",
       "4     spotify:track:1H6A86dQ7BMdbxofxpQvcK   \n",
       "...                                    ...   \n",
       "3758  spotify:track:3KaDPp6hfbnL4dAo57PNCI   \n",
       "3759  spotify:track:4nSn1svDL1elP43MZuEc0K   \n",
       "3760  spotify:track:4M5K6HYMIIoXLutK1v7g7U   \n",
       "3761  spotify:track:0hUsx4d1Ur32PPQS9CX7yU   \n",
       "3762  spotify:track:3fDRPg5MmTsr15Fax4bFyN   \n",
       "\n",
       "                                             track_href  \\\n",
       "0     https://api.spotify.com/v1/tracks/3Wrjm47oTz2s...   \n",
       "1     https://api.spotify.com/v1/tracks/4g3Ax56IslQk...   \n",
       "2     https://api.spotify.com/v1/tracks/3n3Ppam7vgaV...   \n",
       "3     https://api.spotify.com/v1/tracks/1QFh8OH1e78d...   \n",
       "4     https://api.spotify.com/v1/tracks/1H6A86dQ7BMd...   \n",
       "...                                                 ...   \n",
       "3758  https://api.spotify.com/v1/tracks/3KaDPp6hfbnL...   \n",
       "3759  https://api.spotify.com/v1/tracks/4nSn1svDL1el...   \n",
       "3760  https://api.spotify.com/v1/tracks/4M5K6HYMIIoX...   \n",
       "3761  https://api.spotify.com/v1/tracks/0hUsx4d1Ur32...   \n",
       "3762  https://api.spotify.com/v1/tracks/3fDRPg5MmTsr...   \n",
       "\n",
       "                                           analysis_url duration_ms  \\\n",
       "0     https://api.spotify.com/v1/audio-analysis/3Wrj...      211560   \n",
       "1     https://api.spotify.com/v1/audio-analysis/4g3A...      216319   \n",
       "2     https://api.spotify.com/v1/audio-analysis/3n3P...      222200   \n",
       "3     https://api.spotify.com/v1/audio-analysis/1QFh...      155973   \n",
       "4     https://api.spotify.com/v1/audio-analysis/1H6A...      174118   \n",
       "...                                                 ...         ...   \n",
       "3758  https://api.spotify.com/v1/audio-analysis/3KaD...      255630   \n",
       "3759  https://api.spotify.com/v1/audio-analysis/4nSn...      287213   \n",
       "3760  https://api.spotify.com/v1/audio-analysis/4M5K...      418065   \n",
       "3761  https://api.spotify.com/v1/audio-analysis/0hUs...      388696   \n",
       "3762  https://api.spotify.com/v1/audio-analysis/3fDR...      476341   \n",
       "\n",
       "     time_signature   Genre                       song_name  \\\n",
       "0                 4   Indie                         Beggin'   \n",
       "1                 4   Indie      The Less I Know The Better   \n",
       "2                 4   Indie                  Mr. Brightside   \n",
       "3                 4   Indie                  Boys Don't Cry   \n",
       "4                 4   Indie                      wake me up   \n",
       "...             ...     ...                             ...   \n",
       "3758              4  Techno                         Martian   \n",
       "3759              4  Techno          Mandate - Original Mix   \n",
       "3760              4  Techno  Hunting - Senses of Mind Remix   \n",
       "3761              4  Techno                   Evolving Flow   \n",
       "3762              4  Techno                             Aya   \n",
       "\n",
       "                     song_ID    song_artist  \n",
       "0     3Wrjm47oTz2sjIgck11l5e       Måneskin  \n",
       "1     4g3Ax56IslQkI6XVfYKVc5    Tame Impala  \n",
       "2     3n3Ppam7vgaVa1iaRUc9Lp    The Killers  \n",
       "3     1QFh8OH1e78dGd3VyJZCAC       The Cure  \n",
       "4     1H6A86dQ7BMdbxofxpQvcK           Ruby  \n",
       "...                      ...            ...  \n",
       "3758  3KaDPp6hfbnL4dAo57PNCI          Colyn  \n",
       "3759  4nSn1svDL1elP43MZuEc0K    D-Formation  \n",
       "3760  4M5K6HYMIIoXLutK1v7g7U  Mark Tarmonea  \n",
       "3761  0hUsx4d1Ur32PPQS9CX7yU       Anturage  \n",
       "3762  3fDRPg5MmTsr15Fax4bFyN     Stan Kolev  \n",
       "\n",
       "[3763 rows x 22 columns]"
      ]
     },
     "execution_count": 221,
     "metadata": {},
     "output_type": "execute_result"
    }
   ],
   "source": [
    "all_df"
   ]
  },
  {
   "cell_type": "code",
   "execution_count": 222,
   "id": "3377c144",
   "metadata": {},
   "outputs": [],
   "source": [
    "# just to test in scaling so if goes wrong dont miss the original one\n",
    "\n",
    "all_df3=all_df"
   ]
  },
  {
   "cell_type": "code",
   "execution_count": 223,
   "id": "5c5965e4",
   "metadata": {},
   "outputs": [
    {
     "data": {
      "text/html": [
       "<div>\n",
       "<style scoped>\n",
       "    .dataframe tbody tr th:only-of-type {\n",
       "        vertical-align: middle;\n",
       "    }\n",
       "\n",
       "    .dataframe tbody tr th {\n",
       "        vertical-align: top;\n",
       "    }\n",
       "\n",
       "    .dataframe thead th {\n",
       "        text-align: right;\n",
       "    }\n",
       "</style>\n",
       "<table border=\"1\" class=\"dataframe\">\n",
       "  <thead>\n",
       "    <tr style=\"text-align: right;\">\n",
       "      <th></th>\n",
       "      <th>danceability</th>\n",
       "      <th>energy</th>\n",
       "      <th>key</th>\n",
       "      <th>loudness</th>\n",
       "      <th>mode</th>\n",
       "      <th>speechiness</th>\n",
       "      <th>acousticness</th>\n",
       "      <th>instrumentalness</th>\n",
       "      <th>liveness</th>\n",
       "      <th>valence</th>\n",
       "      <th>...</th>\n",
       "      <th>id</th>\n",
       "      <th>uri</th>\n",
       "      <th>track_href</th>\n",
       "      <th>analysis_url</th>\n",
       "      <th>duration_ms</th>\n",
       "      <th>time_signature</th>\n",
       "      <th>Genre</th>\n",
       "      <th>song_name</th>\n",
       "      <th>song_ID</th>\n",
       "      <th>song_artist</th>\n",
       "    </tr>\n",
       "  </thead>\n",
       "  <tbody>\n",
       "    <tr>\n",
       "      <th>0</th>\n",
       "      <td>0.714</td>\n",
       "      <td>0.800</td>\n",
       "      <td>11</td>\n",
       "      <td>-4.808</td>\n",
       "      <td>0</td>\n",
       "      <td>0.0504</td>\n",
       "      <td>0.12700</td>\n",
       "      <td>0.000000</td>\n",
       "      <td>0.3590</td>\n",
       "      <td>0.5890</td>\n",
       "      <td>...</td>\n",
       "      <td>3Wrjm47oTz2sjIgck11l5e</td>\n",
       "      <td>spotify:track:3Wrjm47oTz2sjIgck11l5e</td>\n",
       "      <td>https://api.spotify.com/v1/tracks/3Wrjm47oTz2s...</td>\n",
       "      <td>https://api.spotify.com/v1/audio-analysis/3Wrj...</td>\n",
       "      <td>211560</td>\n",
       "      <td>4</td>\n",
       "      <td>Indie</td>\n",
       "      <td>Beggin'</td>\n",
       "      <td>3Wrjm47oTz2sjIgck11l5e</td>\n",
       "      <td>Måneskin</td>\n",
       "    </tr>\n",
       "    <tr>\n",
       "      <th>1</th>\n",
       "      <td>0.640</td>\n",
       "      <td>0.755</td>\n",
       "      <td>1</td>\n",
       "      <td>-4.077</td>\n",
       "      <td>0</td>\n",
       "      <td>0.0287</td>\n",
       "      <td>0.01380</td>\n",
       "      <td>0.020800</td>\n",
       "      <td>0.1200</td>\n",
       "      <td>0.7440</td>\n",
       "      <td>...</td>\n",
       "      <td>4g3Ax56IslQkI6XVfYKVc5</td>\n",
       "      <td>spotify:track:4g3Ax56IslQkI6XVfYKVc5</td>\n",
       "      <td>https://api.spotify.com/v1/tracks/4g3Ax56IslQk...</td>\n",
       "      <td>https://api.spotify.com/v1/audio-analysis/4g3A...</td>\n",
       "      <td>216319</td>\n",
       "      <td>4</td>\n",
       "      <td>Indie</td>\n",
       "      <td>The Less I Know The Better</td>\n",
       "      <td>4g3Ax56IslQkI6XVfYKVc5</td>\n",
       "      <td>Tame Impala</td>\n",
       "    </tr>\n",
       "    <tr>\n",
       "      <th>2</th>\n",
       "      <td>0.355</td>\n",
       "      <td>0.918</td>\n",
       "      <td>1</td>\n",
       "      <td>-4.360</td>\n",
       "      <td>1</td>\n",
       "      <td>0.0746</td>\n",
       "      <td>0.00119</td>\n",
       "      <td>0.000000</td>\n",
       "      <td>0.0971</td>\n",
       "      <td>0.2400</td>\n",
       "      <td>...</td>\n",
       "      <td>3n3Ppam7vgaVa1iaRUc9Lp</td>\n",
       "      <td>spotify:track:3n3Ppam7vgaVa1iaRUc9Lp</td>\n",
       "      <td>https://api.spotify.com/v1/tracks/3n3Ppam7vgaV...</td>\n",
       "      <td>https://api.spotify.com/v1/audio-analysis/3n3P...</td>\n",
       "      <td>222200</td>\n",
       "      <td>4</td>\n",
       "      <td>Indie</td>\n",
       "      <td>Mr. Brightside</td>\n",
       "      <td>3n3Ppam7vgaVa1iaRUc9Lp</td>\n",
       "      <td>The Killers</td>\n",
       "    </tr>\n",
       "    <tr>\n",
       "      <th>3</th>\n",
       "      <td>0.462</td>\n",
       "      <td>0.836</td>\n",
       "      <td>11</td>\n",
       "      <td>-5.766</td>\n",
       "      <td>0</td>\n",
       "      <td>0.0621</td>\n",
       "      <td>0.00517</td>\n",
       "      <td>0.000000</td>\n",
       "      <td>0.1800</td>\n",
       "      <td>0.6710</td>\n",
       "      <td>...</td>\n",
       "      <td>1QFh8OH1e78dGd3VyJZCAC</td>\n",
       "      <td>spotify:track:1QFh8OH1e78dGd3VyJZCAC</td>\n",
       "      <td>https://api.spotify.com/v1/tracks/1QFh8OH1e78d...</td>\n",
       "      <td>https://api.spotify.com/v1/audio-analysis/1QFh...</td>\n",
       "      <td>155973</td>\n",
       "      <td>4</td>\n",
       "      <td>Indie</td>\n",
       "      <td>Boys Don't Cry</td>\n",
       "      <td>1QFh8OH1e78dGd3VyJZCAC</td>\n",
       "      <td>The Cure</td>\n",
       "    </tr>\n",
       "    <tr>\n",
       "      <th>4</th>\n",
       "      <td>0.808</td>\n",
       "      <td>0.381</td>\n",
       "      <td>1</td>\n",
       "      <td>-9.758</td>\n",
       "      <td>1</td>\n",
       "      <td>0.0584</td>\n",
       "      <td>0.34400</td>\n",
       "      <td>0.000003</td>\n",
       "      <td>0.1120</td>\n",
       "      <td>0.6870</td>\n",
       "      <td>...</td>\n",
       "      <td>1H6A86dQ7BMdbxofxpQvcK</td>\n",
       "      <td>spotify:track:1H6A86dQ7BMdbxofxpQvcK</td>\n",
       "      <td>https://api.spotify.com/v1/tracks/1H6A86dQ7BMd...</td>\n",
       "      <td>https://api.spotify.com/v1/audio-analysis/1H6A...</td>\n",
       "      <td>174118</td>\n",
       "      <td>4</td>\n",
       "      <td>Indie</td>\n",
       "      <td>wake me up</td>\n",
       "      <td>1H6A86dQ7BMdbxofxpQvcK</td>\n",
       "      <td>Ruby</td>\n",
       "    </tr>\n",
       "    <tr>\n",
       "      <th>...</th>\n",
       "      <td>...</td>\n",
       "      <td>...</td>\n",
       "      <td>...</td>\n",
       "      <td>...</td>\n",
       "      <td>...</td>\n",
       "      <td>...</td>\n",
       "      <td>...</td>\n",
       "      <td>...</td>\n",
       "      <td>...</td>\n",
       "      <td>...</td>\n",
       "      <td>...</td>\n",
       "      <td>...</td>\n",
       "      <td>...</td>\n",
       "      <td>...</td>\n",
       "      <td>...</td>\n",
       "      <td>...</td>\n",
       "      <td>...</td>\n",
       "      <td>...</td>\n",
       "      <td>...</td>\n",
       "      <td>...</td>\n",
       "      <td>...</td>\n",
       "    </tr>\n",
       "    <tr>\n",
       "      <th>3758</th>\n",
       "      <td>0.751</td>\n",
       "      <td>0.739</td>\n",
       "      <td>5</td>\n",
       "      <td>-8.557</td>\n",
       "      <td>0</td>\n",
       "      <td>0.0380</td>\n",
       "      <td>0.01450</td>\n",
       "      <td>0.884000</td>\n",
       "      <td>0.0902</td>\n",
       "      <td>0.0988</td>\n",
       "      <td>...</td>\n",
       "      <td>3KaDPp6hfbnL4dAo57PNCI</td>\n",
       "      <td>spotify:track:3KaDPp6hfbnL4dAo57PNCI</td>\n",
       "      <td>https://api.spotify.com/v1/tracks/3KaDPp6hfbnL...</td>\n",
       "      <td>https://api.spotify.com/v1/audio-analysis/3KaD...</td>\n",
       "      <td>255630</td>\n",
       "      <td>4</td>\n",
       "      <td>Techno</td>\n",
       "      <td>Martian</td>\n",
       "      <td>3KaDPp6hfbnL4dAo57PNCI</td>\n",
       "      <td>Colyn</td>\n",
       "    </tr>\n",
       "    <tr>\n",
       "      <th>3759</th>\n",
       "      <td>0.619</td>\n",
       "      <td>0.746</td>\n",
       "      <td>7</td>\n",
       "      <td>-10.770</td>\n",
       "      <td>1</td>\n",
       "      <td>0.0407</td>\n",
       "      <td>0.11600</td>\n",
       "      <td>0.880000</td>\n",
       "      <td>0.1370</td>\n",
       "      <td>0.1700</td>\n",
       "      <td>...</td>\n",
       "      <td>4nSn1svDL1elP43MZuEc0K</td>\n",
       "      <td>spotify:track:4nSn1svDL1elP43MZuEc0K</td>\n",
       "      <td>https://api.spotify.com/v1/tracks/4nSn1svDL1el...</td>\n",
       "      <td>https://api.spotify.com/v1/audio-analysis/4nSn...</td>\n",
       "      <td>287213</td>\n",
       "      <td>4</td>\n",
       "      <td>Techno</td>\n",
       "      <td>Mandate - Original Mix</td>\n",
       "      <td>4nSn1svDL1elP43MZuEc0K</td>\n",
       "      <td>D-Formation</td>\n",
       "    </tr>\n",
       "    <tr>\n",
       "      <th>3760</th>\n",
       "      <td>0.781</td>\n",
       "      <td>0.658</td>\n",
       "      <td>1</td>\n",
       "      <td>-10.312</td>\n",
       "      <td>1</td>\n",
       "      <td>0.0446</td>\n",
       "      <td>0.03060</td>\n",
       "      <td>0.742000</td>\n",
       "      <td>0.1120</td>\n",
       "      <td>0.1060</td>\n",
       "      <td>...</td>\n",
       "      <td>4M5K6HYMIIoXLutK1v7g7U</td>\n",
       "      <td>spotify:track:4M5K6HYMIIoXLutK1v7g7U</td>\n",
       "      <td>https://api.spotify.com/v1/tracks/4M5K6HYMIIoX...</td>\n",
       "      <td>https://api.spotify.com/v1/audio-analysis/4M5K...</td>\n",
       "      <td>418065</td>\n",
       "      <td>4</td>\n",
       "      <td>Techno</td>\n",
       "      <td>Hunting - Senses of Mind Remix</td>\n",
       "      <td>4M5K6HYMIIoXLutK1v7g7U</td>\n",
       "      <td>Mark Tarmonea</td>\n",
       "    </tr>\n",
       "    <tr>\n",
       "      <th>3761</th>\n",
       "      <td>0.792</td>\n",
       "      <td>0.932</td>\n",
       "      <td>10</td>\n",
       "      <td>-6.781</td>\n",
       "      <td>1</td>\n",
       "      <td>0.0500</td>\n",
       "      <td>0.00117</td>\n",
       "      <td>0.916000</td>\n",
       "      <td>0.0723</td>\n",
       "      <td>0.3560</td>\n",
       "      <td>...</td>\n",
       "      <td>0hUsx4d1Ur32PPQS9CX7yU</td>\n",
       "      <td>spotify:track:0hUsx4d1Ur32PPQS9CX7yU</td>\n",
       "      <td>https://api.spotify.com/v1/tracks/0hUsx4d1Ur32...</td>\n",
       "      <td>https://api.spotify.com/v1/audio-analysis/0hUs...</td>\n",
       "      <td>388696</td>\n",
       "      <td>4</td>\n",
       "      <td>Techno</td>\n",
       "      <td>Evolving Flow</td>\n",
       "      <td>0hUsx4d1Ur32PPQS9CX7yU</td>\n",
       "      <td>Anturage</td>\n",
       "    </tr>\n",
       "    <tr>\n",
       "      <th>3762</th>\n",
       "      <td>0.693</td>\n",
       "      <td>0.542</td>\n",
       "      <td>0</td>\n",
       "      <td>-14.384</td>\n",
       "      <td>1</td>\n",
       "      <td>0.0526</td>\n",
       "      <td>0.00379</td>\n",
       "      <td>0.834000</td>\n",
       "      <td>0.1160</td>\n",
       "      <td>0.3960</td>\n",
       "      <td>...</td>\n",
       "      <td>3fDRPg5MmTsr15Fax4bFyN</td>\n",
       "      <td>spotify:track:3fDRPg5MmTsr15Fax4bFyN</td>\n",
       "      <td>https://api.spotify.com/v1/tracks/3fDRPg5MmTsr...</td>\n",
       "      <td>https://api.spotify.com/v1/audio-analysis/3fDR...</td>\n",
       "      <td>476341</td>\n",
       "      <td>4</td>\n",
       "      <td>Techno</td>\n",
       "      <td>Aya</td>\n",
       "      <td>3fDRPg5MmTsr15Fax4bFyN</td>\n",
       "      <td>Stan Kolev</td>\n",
       "    </tr>\n",
       "  </tbody>\n",
       "</table>\n",
       "<p>3763 rows × 22 columns</p>\n",
       "</div>"
      ],
      "text/plain": [
       "      danceability  energy  key  loudness  mode  speechiness  acousticness  \\\n",
       "0            0.714   0.800   11    -4.808     0       0.0504       0.12700   \n",
       "1            0.640   0.755    1    -4.077     0       0.0287       0.01380   \n",
       "2            0.355   0.918    1    -4.360     1       0.0746       0.00119   \n",
       "3            0.462   0.836   11    -5.766     0       0.0621       0.00517   \n",
       "4            0.808   0.381    1    -9.758     1       0.0584       0.34400   \n",
       "...            ...     ...  ...       ...   ...          ...           ...   \n",
       "3758         0.751   0.739    5    -8.557     0       0.0380       0.01450   \n",
       "3759         0.619   0.746    7   -10.770     1       0.0407       0.11600   \n",
       "3760         0.781   0.658    1   -10.312     1       0.0446       0.03060   \n",
       "3761         0.792   0.932   10    -6.781     1       0.0500       0.00117   \n",
       "3762         0.693   0.542    0   -14.384     1       0.0526       0.00379   \n",
       "\n",
       "      instrumentalness  liveness  valence  ...                      id  \\\n",
       "0             0.000000    0.3590   0.5890  ...  3Wrjm47oTz2sjIgck11l5e   \n",
       "1             0.020800    0.1200   0.7440  ...  4g3Ax56IslQkI6XVfYKVc5   \n",
       "2             0.000000    0.0971   0.2400  ...  3n3Ppam7vgaVa1iaRUc9Lp   \n",
       "3             0.000000    0.1800   0.6710  ...  1QFh8OH1e78dGd3VyJZCAC   \n",
       "4             0.000003    0.1120   0.6870  ...  1H6A86dQ7BMdbxofxpQvcK   \n",
       "...                ...       ...      ...  ...                     ...   \n",
       "3758          0.884000    0.0902   0.0988  ...  3KaDPp6hfbnL4dAo57PNCI   \n",
       "3759          0.880000    0.1370   0.1700  ...  4nSn1svDL1elP43MZuEc0K   \n",
       "3760          0.742000    0.1120   0.1060  ...  4M5K6HYMIIoXLutK1v7g7U   \n",
       "3761          0.916000    0.0723   0.3560  ...  0hUsx4d1Ur32PPQS9CX7yU   \n",
       "3762          0.834000    0.1160   0.3960  ...  3fDRPg5MmTsr15Fax4bFyN   \n",
       "\n",
       "                                       uri  \\\n",
       "0     spotify:track:3Wrjm47oTz2sjIgck11l5e   \n",
       "1     spotify:track:4g3Ax56IslQkI6XVfYKVc5   \n",
       "2     spotify:track:3n3Ppam7vgaVa1iaRUc9Lp   \n",
       "3     spotify:track:1QFh8OH1e78dGd3VyJZCAC   \n",
       "4     spotify:track:1H6A86dQ7BMdbxofxpQvcK   \n",
       "...                                    ...   \n",
       "3758  spotify:track:3KaDPp6hfbnL4dAo57PNCI   \n",
       "3759  spotify:track:4nSn1svDL1elP43MZuEc0K   \n",
       "3760  spotify:track:4M5K6HYMIIoXLutK1v7g7U   \n",
       "3761  spotify:track:0hUsx4d1Ur32PPQS9CX7yU   \n",
       "3762  spotify:track:3fDRPg5MmTsr15Fax4bFyN   \n",
       "\n",
       "                                             track_href  \\\n",
       "0     https://api.spotify.com/v1/tracks/3Wrjm47oTz2s...   \n",
       "1     https://api.spotify.com/v1/tracks/4g3Ax56IslQk...   \n",
       "2     https://api.spotify.com/v1/tracks/3n3Ppam7vgaV...   \n",
       "3     https://api.spotify.com/v1/tracks/1QFh8OH1e78d...   \n",
       "4     https://api.spotify.com/v1/tracks/1H6A86dQ7BMd...   \n",
       "...                                                 ...   \n",
       "3758  https://api.spotify.com/v1/tracks/3KaDPp6hfbnL...   \n",
       "3759  https://api.spotify.com/v1/tracks/4nSn1svDL1el...   \n",
       "3760  https://api.spotify.com/v1/tracks/4M5K6HYMIIoX...   \n",
       "3761  https://api.spotify.com/v1/tracks/0hUsx4d1Ur32...   \n",
       "3762  https://api.spotify.com/v1/tracks/3fDRPg5MmTsr...   \n",
       "\n",
       "                                           analysis_url duration_ms  \\\n",
       "0     https://api.spotify.com/v1/audio-analysis/3Wrj...      211560   \n",
       "1     https://api.spotify.com/v1/audio-analysis/4g3A...      216319   \n",
       "2     https://api.spotify.com/v1/audio-analysis/3n3P...      222200   \n",
       "3     https://api.spotify.com/v1/audio-analysis/1QFh...      155973   \n",
       "4     https://api.spotify.com/v1/audio-analysis/1H6A...      174118   \n",
       "...                                                 ...         ...   \n",
       "3758  https://api.spotify.com/v1/audio-analysis/3KaD...      255630   \n",
       "3759  https://api.spotify.com/v1/audio-analysis/4nSn...      287213   \n",
       "3760  https://api.spotify.com/v1/audio-analysis/4M5K...      418065   \n",
       "3761  https://api.spotify.com/v1/audio-analysis/0hUs...      388696   \n",
       "3762  https://api.spotify.com/v1/audio-analysis/3fDR...      476341   \n",
       "\n",
       "     time_signature   Genre                       song_name  \\\n",
       "0                 4   Indie                         Beggin'   \n",
       "1                 4   Indie      The Less I Know The Better   \n",
       "2                 4   Indie                  Mr. Brightside   \n",
       "3                 4   Indie                  Boys Don't Cry   \n",
       "4                 4   Indie                      wake me up   \n",
       "...             ...     ...                             ...   \n",
       "3758              4  Techno                         Martian   \n",
       "3759              4  Techno          Mandate - Original Mix   \n",
       "3760              4  Techno  Hunting - Senses of Mind Remix   \n",
       "3761              4  Techno                   Evolving Flow   \n",
       "3762              4  Techno                             Aya   \n",
       "\n",
       "                     song_ID    song_artist  \n",
       "0     3Wrjm47oTz2sjIgck11l5e       Måneskin  \n",
       "1     4g3Ax56IslQkI6XVfYKVc5    Tame Impala  \n",
       "2     3n3Ppam7vgaVa1iaRUc9Lp    The Killers  \n",
       "3     1QFh8OH1e78dGd3VyJZCAC       The Cure  \n",
       "4     1H6A86dQ7BMdbxofxpQvcK           Ruby  \n",
       "...                      ...            ...  \n",
       "3758  3KaDPp6hfbnL4dAo57PNCI          Colyn  \n",
       "3759  4nSn1svDL1elP43MZuEc0K    D-Formation  \n",
       "3760  4M5K6HYMIIoXLutK1v7g7U  Mark Tarmonea  \n",
       "3761  0hUsx4d1Ur32PPQS9CX7yU       Anturage  \n",
       "3762  3fDRPg5MmTsr15Fax4bFyN     Stan Kolev  \n",
       "\n",
       "[3763 rows x 22 columns]"
      ]
     },
     "execution_count": 223,
     "metadata": {},
     "output_type": "execute_result"
    }
   ],
   "source": [
    "all_df3"
   ]
  },
  {
   "cell_type": "markdown",
   "id": "e6fcf910",
   "metadata": {},
   "source": [
    "### Cleaning all_df3"
   ]
  },
  {
   "cell_type": "code",
   "execution_count": 224,
   "id": "507eb0b6",
   "metadata": {},
   "outputs": [],
   "source": [
    "# deleting the categorical colummns instead of song ID\n",
    "all_df_4 = all_df3.drop(['song_name', 'song_ID','song_artist','Genre','type','id', 'uri', 'track_href',\n",
    "                             'analysis_url'], axis=1)"
   ]
  },
  {
   "cell_type": "code",
   "execution_count": 225,
   "id": "26790228",
   "metadata": {},
   "outputs": [
    {
     "name": "stdout",
     "output_type": "stream",
     "text": [
      "<class 'pandas.core.frame.DataFrame'>\n",
      "RangeIndex: 3763 entries, 0 to 3762\n",
      "Data columns (total 13 columns):\n",
      " #   Column            Non-Null Count  Dtype  \n",
      "---  ------            --------------  -----  \n",
      " 0   danceability      3763 non-null   float64\n",
      " 1   energy            3763 non-null   float64\n",
      " 2   key               3763 non-null   int64  \n",
      " 3   loudness          3763 non-null   float64\n",
      " 4   mode              3763 non-null   int64  \n",
      " 5   speechiness       3763 non-null   float64\n",
      " 6   acousticness      3763 non-null   float64\n",
      " 7   instrumentalness  3763 non-null   float64\n",
      " 8   liveness          3763 non-null   float64\n",
      " 9   valence           3763 non-null   float64\n",
      " 10  tempo             3763 non-null   float64\n",
      " 11  duration_ms       3763 non-null   int64  \n",
      " 12  time_signature    3763 non-null   int64  \n",
      "dtypes: float64(9), int64(4)\n",
      "memory usage: 382.3 KB\n"
     ]
    }
   ],
   "source": [
    "all_df_4.info()"
   ]
  },
  {
   "cell_type": "code",
   "execution_count": null,
   "id": "99641485",
   "metadata": {},
   "outputs": [],
   "source": []
  },
  {
   "cell_type": "code",
   "execution_count": null,
   "id": "84d2e153",
   "metadata": {},
   "outputs": [],
   "source": []
  },
  {
   "cell_type": "markdown",
   "id": "1a397c98",
   "metadata": {},
   "source": [
    "# CLUSTERING TRY 1"
   ]
  },
  {
   "cell_type": "code",
   "execution_count": 226,
   "id": "cd502a0b",
   "metadata": {},
   "outputs": [],
   "source": [
    "import numpy as np \n",
    "import pandas as pd \n",
    "import matplotlib.pyplot as plt \n",
    "import plotly \n",
    "import plotly.graph_objs as go\n",
    "from sklearn.cluster import KMeans \n",
    "from sklearn import datasets "
   ]
  },
  {
   "cell_type": "code",
   "execution_count": 227,
   "id": "156769e5",
   "metadata": {},
   "outputs": [],
   "source": [
    "kmeans=KMeans(n_clusters=40)\n",
    "#have to set a starting cluster number "
   ]
  },
  {
   "cell_type": "code",
   "execution_count": 231,
   "id": "4606407d",
   "metadata": {},
   "outputs": [],
   "source": [
    "cluster=kmeans.fit(all_df_4)"
   ]
  },
  {
   "cell_type": "code",
   "execution_count": 232,
   "id": "43e4e97e",
   "metadata": {},
   "outputs": [
    {
     "data": {
      "text/plain": [
       "array([[ 7.31133333e-01,  6.57288889e-01,  4.75555556e+00,\n",
       "        -9.71828889e+00,  6.44444444e-01,  5.61911111e-02,\n",
       "         5.48424844e-02,  6.99499422e-01,  1.14206667e-01,\n",
       "         2.43120000e-01,  1.24492378e+02,  5.10479178e+05,\n",
       "         3.95555556e+00],\n",
       "       [ 6.58207746e-01,  7.36197183e-01,  5.27816901e+00,\n",
       "        -6.26953521e+00,  6.19718310e-01,  8.10387324e-02,\n",
       "         1.70152161e-01,  1.00865552e-01,  1.74330634e-01,\n",
       "         5.60369718e-01,  1.19875211e+02,  2.12757257e+05,\n",
       "         3.96830986e+00],\n",
       "       [ 7.06661538e-01,  6.80061538e-01,  5.43076923e+00,\n",
       "        -8.82718462e+00,  6.00000000e-01,  6.00461538e-02,\n",
       "         1.09089343e-01,  5.21893111e-01,  1.95344615e-01,\n",
       "         3.97883077e-01,  1.20393308e+02,  3.48937000e+05,\n",
       "         3.95384615e+00],\n",
       "       [ 6.67500000e-01,  4.72074468e-01,  5.39361702e+00,\n",
       "        -1.05146383e+01,  4.46808511e-01,  9.21372340e-02,\n",
       "         4.35521085e-01,  5.65729798e-01,  1.70796809e-01,\n",
       "         4.74527660e-01,  1.04738457e+02,  1.37840340e+05,\n",
       "         4.00000000e+00],\n",
       "       [ 6.60090226e-01,  7.10947368e-01,  5.51127820e+00,\n",
       "        -6.89396992e+00,  6.16541353e-01,  9.68135338e-02,\n",
       "         1.90805737e-01,  1.27522987e-01,  1.79381203e-01,\n",
       "         5.22278195e-01,  1.18959383e+02,  2.67004639e+05,\n",
       "         3.97744361e+00],\n",
       "       [ 7.37400000e-01,  6.77337500e-01,  5.25000000e+00,\n",
       "        -9.37330000e+00,  5.62500000e-01,  6.20137500e-02,\n",
       "         6.31877025e-02,  7.28822226e-01,  1.39680000e-01,\n",
       "         3.08846250e-01,  1.22086163e+02,  4.21334688e+05,\n",
       "         3.96250000e+00],\n",
       "       [ 6.60207650e-01,  6.85532787e-01,  5.70491803e+00,\n",
       "        -6.68635519e+00,  6.33879781e-01,  7.69945355e-02,\n",
       "         2.31558434e-01,  1.15765738e-01,  1.81113115e-01,\n",
       "         5.46020219e-01,  1.17953525e+02,  1.83560907e+05,\n",
       "         3.97267760e+00],\n",
       "       [ 6.51884615e-01,  7.47163462e-01,  4.84134615e+00,\n",
       "        -6.36024519e+00,  6.20192308e-01,  8.57610577e-02,\n",
       "         1.55837492e-01,  9.41338506e-02,  1.90483654e-01,\n",
       "         5.60903846e-01,  1.21227269e+02,  2.38243601e+05,\n",
       "         3.97115385e+00],\n",
       "       [ 6.61656716e-01,  7.01208955e-01,  5.97014925e+00,\n",
       "        -7.46302985e+00,  4.62686567e-01,  1.04158209e-01,\n",
       "         1.73110306e-01,  2.35460567e-01,  1.70825373e-01,\n",
       "         4.73401493e-01,  1.20986836e+02,  3.06456373e+05,\n",
       "         3.98507463e+00],\n",
       "       [ 7.56000000e-01,  7.02250000e-01,  6.75000000e+00,\n",
       "        -8.81075000e+00,  7.50000000e-01,  7.88750000e-02,\n",
       "         1.56550000e-01,  4.41225000e-01,  2.49600000e-01,\n",
       "         5.10075000e-01,  1.18369000e+02,  6.26205250e+05,\n",
       "         4.00000000e+00],\n",
       "       [ 7.37052632e-01,  6.86561404e-01,  5.98245614e+00,\n",
       "        -9.27842105e+00,  5.96491228e-01,  6.03578947e-02,\n",
       "         4.36879789e-02,  7.69754386e-01,  1.32563158e-01,\n",
       "         2.80824561e-01,  1.21364193e+02,  4.51644579e+05,\n",
       "         3.94736842e+00],\n",
       "       [ 7.06823529e-01,  7.17352941e-01,  5.67647059e+00,\n",
       "        -8.48229412e+00,  5.44117647e-01,  6.55191176e-02,\n",
       "         5.31278456e-02,  6.79257265e-01,  1.46008824e-01,\n",
       "         3.13211765e-01,  1.23789912e+02,  3.76752735e+05,\n",
       "         3.95588235e+00],\n",
       "       [ 6.66435897e-01,  4.15538462e-01,  6.23076923e+00,\n",
       "        -1.10551795e+01,  3.84615385e-01,  9.65794872e-02,\n",
       "         5.70500000e-01,  6.47694656e-01,  1.58084615e-01,\n",
       "         4.88805128e-01,  1.06307538e+02,  1.12064795e+05,\n",
       "         3.76923077e+00],\n",
       "       [ 6.59136054e-01,  6.67728571e-01,  5.31292517e+00,\n",
       "        -7.20587755e+00,  5.78231293e-01,  7.70714286e-02,\n",
       "         2.13594039e-01,  1.59425299e-01,  2.01046939e-01,\n",
       "         5.41142177e-01,  1.19093531e+02,  1.72068905e+05,\n",
       "         3.98639456e+00],\n",
       "       [ 6.87000000e-01,  6.97037037e-01,  4.18518519e+00,\n",
       "        -9.45396296e+00,  5.55555556e-01,  4.79555556e-02,\n",
       "         3.48193370e-02,  7.78697778e-01,  1.12814815e-01,\n",
       "         2.18033333e-01,  1.16678963e+02,  5.36411000e+05,\n",
       "         4.00000000e+00],\n",
       "       [ 3.40000000e-01,  5.44000000e-01,  2.00000000e+00,\n",
       "        -9.18500000e+00,  1.00000000e+00,  3.58000000e-02,\n",
       "         1.09000000e-02,  9.01000000e-01,  4.20000000e-02,\n",
       "         2.49000000e-01,  1.27019000e+02,  8.10162000e+05,\n",
       "         4.00000000e+00],\n",
       "       [ 7.40127660e-01,  6.69042553e-01,  5.08510638e+00,\n",
       "        -9.51595745e+00,  5.10638298e-01,  6.37936170e-02,\n",
       "         5.12309213e-02,  7.24287234e-01,  1.48848936e-01,\n",
       "         2.70634043e-01,  1.20966681e+02,  4.88379872e+05,\n",
       "         4.00000000e+00],\n",
       "       [ 6.90885714e-01,  6.54028571e-01,  5.07142857e+00,\n",
       "        -8.66244286e+00,  3.71428571e-01,  9.79257143e-02,\n",
       "         1.32502627e-01,  3.79405259e-01,  1.76137143e-01,\n",
       "         3.39388571e-01,  1.20043614e+02,  3.31582657e+05,\n",
       "         3.98571429e+00],\n",
       "       [ 6.59915493e-01,  7.46910798e-01,  5.52582160e+00,\n",
       "        -5.92695775e+00,  6.15023474e-01,  8.75784038e-02,\n",
       "         1.61437078e-01,  1.01997843e-01,  1.96952113e-01,\n",
       "         5.27296714e-01,  1.22319235e+02,  2.29453169e+05,\n",
       "         3.96713615e+00],\n",
       "       [ 6.41379121e-01,  7.26796703e-01,  4.91758242e+00,\n",
       "        -6.29418132e+00,  6.75824176e-01,  9.40950549e-02,\n",
       "         1.68199499e-01,  1.20101157e-01,  1.76793956e-01,\n",
       "         5.52538462e-01,  1.19878033e+02,  2.47890060e+05,\n",
       "         3.99450549e+00],\n",
       "       [ 6.39120930e-01,  7.07688372e-01,  4.77209302e+00,\n",
       "        -6.58982791e+00,  6.23255814e-01,  8.07874419e-02,\n",
       "         1.97199773e-01,  7.59393750e-02,  1.82127907e-01,\n",
       "         5.89465116e-01,  1.20003014e+02,  1.93389070e+05,\n",
       "         4.00000000e+00],\n",
       "       [ 6.39292683e-01,  7.32390244e-01,  5.45121951e+00,\n",
       "        -6.88284146e+00,  6.58536585e-01,  1.05251220e-01,\n",
       "         1.58227780e-01,  1.75440947e-01,  1.57353659e-01,\n",
       "         4.94510976e-01,  1.19956744e+02,  2.76198268e+05,\n",
       "         3.96341463e+00],\n",
       "       [ 7.42590361e-01,  6.92240964e-01,  5.26506024e+00,\n",
       "        -9.75754217e+00,  5.42168675e-01,  6.12012048e-02,\n",
       "         4.66027983e-02,  7.53483393e-01,  1.24924096e-01,\n",
       "         2.48551807e-01,  1.22084711e+02,  4.36268831e+05,\n",
       "         4.00000000e+00],\n",
       "       [ 6.46115385e-01,  6.94000000e-01,  5.37820513e+00,\n",
       "        -6.73023718e+00,  6.28205128e-01,  8.42794872e-02,\n",
       "         1.63579202e-01,  1.43694603e-01,  1.76351923e-01,\n",
       "         5.06612821e-01,  1.20593077e+02,  2.57509494e+05,\n",
       "         3.99358974e+00],\n",
       "       [ 7.47434783e-01,  7.14663043e-01,  5.34782609e+00,\n",
       "        -8.97376087e+00,  5.54347826e-01,  5.91445652e-02,\n",
       "         6.14354804e-02,  7.08940291e-01,  1.52844565e-01,\n",
       "         3.50444565e-01,  1.20727457e+02,  3.89413467e+05,\n",
       "         3.97826087e+00],\n",
       "       [ 6.36223529e-01,  4.78552941e-01,  5.28235294e+00,\n",
       "        -1.02050941e+01,  6.35294118e-01,  9.17152941e-02,\n",
       "         3.85503224e-01,  4.54071692e-01,  1.46789412e-01,\n",
       "         4.97795294e-01,  1.13715059e+02,  1.47808447e+05,\n",
       "         3.95294118e+00],\n",
       "       [ 6.51103960e-01,  7.27044554e-01,  5.11881188e+00,\n",
       "        -6.02068317e+00,  6.23762376e-01,  8.56287129e-02,\n",
       "         1.85170591e-01,  5.91384971e-02,  1.59737624e-01,\n",
       "         5.83768812e-01,  1.23799248e+02,  2.21447144e+05,\n",
       "         3.97029703e+00],\n",
       "       [ 6.78826087e-01,  3.83826087e-01,  3.82608696e+00,\n",
       "        -1.13616087e+01,  5.21739130e-01,  1.90013043e-01,\n",
       "         5.81635217e-01,  5.81323870e-01,  1.29686957e-01,\n",
       "         5.39043478e-01,  1.13487739e+02,  9.61746087e+04,\n",
       "         3.91304348e+00],\n",
       "       [ 6.34600000e-01,  6.78200000e-01,  5.90000000e+00,\n",
       "        -9.23220000e+00,  6.00000000e-01,  5.92500000e-02,\n",
       "         2.91490000e-02,  6.65700000e-01,  8.85900000e-02,\n",
       "         2.62270000e-01,  1.28618600e+02,  5.70158100e+05,\n",
       "         3.90000000e+00],\n",
       "       [ 6.50555556e-01,  6.63555556e-01,  4.69135802e+00,\n",
       "        -7.89285185e+00,  6.29629630e-01,  9.61358025e-02,\n",
       "         2.18597901e-01,  2.06307487e-01,  1.87096296e-01,\n",
       "         4.38254321e-01,  1.22937222e+02,  2.86207247e+05,\n",
       "         4.00000000e+00],\n",
       "       [ 6.57763158e-01,  4.09148684e-01,  5.71052632e+00,\n",
       "        -1.11696579e+01,  4.60526316e-01,  1.35459211e-01,\n",
       "         5.06571618e-01,  5.30643608e-01,  1.47115789e-01,\n",
       "         4.88081579e-01,  1.01271579e+02,  1.25817895e+05,\n",
       "         4.02631579e+00],\n",
       "       [ 6.64867347e-01,  6.02763265e-01,  5.19387755e+00,\n",
       "        -8.08877551e+00,  5.30612245e-01,  8.60653061e-02,\n",
       "         3.36854214e-01,  2.44161834e-01,  1.65808163e-01,\n",
       "         5.17862245e-01,  1.13997653e+02,  1.60355306e+05,\n",
       "         3.98979592e+00],\n",
       "       [ 7.51061224e-01,  6.69816327e-01,  5.75510204e+00,\n",
       "        -9.93630612e+00,  6.12244898e-01,  5.81816327e-02,\n",
       "         3.38851720e-02,  7.70234286e-01,  9.64612245e-02,\n",
       "         2.67665306e-01,  1.21252204e+02,  4.68585980e+05,\n",
       "         3.97959184e+00],\n",
       "       [ 6.56066390e-01,  7.32196266e-01,  5.21576763e+00,\n",
       "        -6.31530290e+00,  6.05809129e-01,  7.90564315e-02,\n",
       "         1.70947174e-01,  7.24130327e-02,  1.81012863e-01,\n",
       "         6.01523651e-01,  1.22919195e+02,  2.02983411e+05,\n",
       "         3.99585062e+00],\n",
       "       [ 6.41666667e-01,  7.26900000e-01,  5.56666667e+00,\n",
       "        -6.83711667e+00,  6.50000000e-01,  1.20658333e-01,\n",
       "         9.42639000e-02,  2.79329998e-01,  1.88523333e-01,\n",
       "         3.90461667e-01,  1.22008383e+02,  3.19044117e+05,\n",
       "         4.00000000e+00],\n",
       "       [ 6.42478261e-01,  7.02492754e-01,  4.65217391e+00,\n",
       "        -7.33265217e+00,  6.08695652e-01,  1.00298551e-01,\n",
       "         1.72923000e-01,  2.03243354e-01,  1.72286957e-01,\n",
       "         4.46176812e-01,  1.21182246e+02,  2.96099754e+05,\n",
       "         3.92753623e+00],\n",
       "       [ 7.39518987e-01,  6.83405063e-01,  6.05063291e+00,\n",
       "        -9.83041772e+00,  5.44303797e-01,  5.60075949e-02,\n",
       "         5.24011709e-02,  7.58538228e-01,  1.32774684e-01,\n",
       "         3.23553165e-01,  1.22225975e+02,  4.04786051e+05,\n",
       "         3.98734177e+00],\n",
       "       [ 7.47000000e-01,  6.46000000e-01,  6.00000000e+00,\n",
       "        -9.57400000e+00,  1.00000000e+00,  4.39000000e-02,\n",
       "         9.86000000e-04,  8.68000000e-01,  8.31000000e-02,\n",
       "         5.75000000e-01,  1.23989000e+02,  7.23673000e+05,\n",
       "         4.00000000e+00],\n",
       "       [ 5.95428571e-01,  3.90885714e-01,  5.85714286e+00,\n",
       "        -1.11805714e+01,  4.28571429e-01,  1.35414286e-01,\n",
       "         6.44571429e-01,  5.13717743e-01,  1.53614286e-01,\n",
       "         7.10285714e-01,  1.27406286e+02,  7.43314286e+04,\n",
       "         4.00000000e+00],\n",
       "       [ 7.10125000e-01,  6.72200000e-01,  5.12500000e+00,\n",
       "        -9.34122500e+00,  5.25000000e-01,  6.56125000e-02,\n",
       "         5.89935000e-02,  6.68527760e-01,  1.31315000e-01,\n",
       "         3.52235000e-01,  1.18485575e+02,  3.63939275e+05,\n",
       "         4.02500000e+00]])"
      ]
     },
     "execution_count": 232,
     "metadata": {},
     "output_type": "execute_result"
    }
   ],
   "source": [
    "# explore the cluster\n",
    "cluster.cluster_centers_"
   ]
  },
  {
   "cell_type": "code",
   "execution_count": 233,
   "id": "6af16903",
   "metadata": {},
   "outputs": [
    {
     "data": {
      "text/plain": [
       "array([ 1,  1, 26, ...,  5, 24, 32], dtype=int32)"
      ]
     },
     "execution_count": 233,
     "metadata": {},
     "output_type": "execute_result"
    }
   ],
   "source": [
    "cluster.labels_"
   ]
  },
  {
   "cell_type": "code",
   "execution_count": 234,
   "id": "54b07e02",
   "metadata": {},
   "outputs": [],
   "source": [
    "#bring cluster into data frame\n",
    "all_df_4_c=all_df_4.copy()\n",
    "all_df_4_c['cluster']=cluster.labels_"
   ]
  },
  {
   "cell_type": "code",
   "execution_count": 235,
   "id": "a50d270e",
   "metadata": {},
   "outputs": [
    {
     "data": {
      "text/html": [
       "<div>\n",
       "<style scoped>\n",
       "    .dataframe tbody tr th:only-of-type {\n",
       "        vertical-align: middle;\n",
       "    }\n",
       "\n",
       "    .dataframe tbody tr th {\n",
       "        vertical-align: top;\n",
       "    }\n",
       "\n",
       "    .dataframe thead th {\n",
       "        text-align: right;\n",
       "    }\n",
       "</style>\n",
       "<table border=\"1\" class=\"dataframe\">\n",
       "  <thead>\n",
       "    <tr style=\"text-align: right;\">\n",
       "      <th></th>\n",
       "      <th>danceability</th>\n",
       "      <th>energy</th>\n",
       "      <th>key</th>\n",
       "      <th>loudness</th>\n",
       "      <th>mode</th>\n",
       "      <th>speechiness</th>\n",
       "      <th>acousticness</th>\n",
       "      <th>instrumentalness</th>\n",
       "      <th>liveness</th>\n",
       "      <th>valence</th>\n",
       "      <th>tempo</th>\n",
       "      <th>duration_ms</th>\n",
       "      <th>time_signature</th>\n",
       "      <th>cluster</th>\n",
       "    </tr>\n",
       "  </thead>\n",
       "  <tbody>\n",
       "    <tr>\n",
       "      <th>0</th>\n",
       "      <td>0.714</td>\n",
       "      <td>0.800</td>\n",
       "      <td>11</td>\n",
       "      <td>-4.808</td>\n",
       "      <td>0</td>\n",
       "      <td>0.0504</td>\n",
       "      <td>0.12700</td>\n",
       "      <td>0.000000</td>\n",
       "      <td>0.3590</td>\n",
       "      <td>0.589</td>\n",
       "      <td>134.002</td>\n",
       "      <td>211560</td>\n",
       "      <td>4</td>\n",
       "      <td>1</td>\n",
       "    </tr>\n",
       "    <tr>\n",
       "      <th>1</th>\n",
       "      <td>0.640</td>\n",
       "      <td>0.755</td>\n",
       "      <td>1</td>\n",
       "      <td>-4.077</td>\n",
       "      <td>0</td>\n",
       "      <td>0.0287</td>\n",
       "      <td>0.01380</td>\n",
       "      <td>0.020800</td>\n",
       "      <td>0.1200</td>\n",
       "      <td>0.744</td>\n",
       "      <td>116.883</td>\n",
       "      <td>216319</td>\n",
       "      <td>4</td>\n",
       "      <td>1</td>\n",
       "    </tr>\n",
       "    <tr>\n",
       "      <th>2</th>\n",
       "      <td>0.355</td>\n",
       "      <td>0.918</td>\n",
       "      <td>1</td>\n",
       "      <td>-4.360</td>\n",
       "      <td>1</td>\n",
       "      <td>0.0746</td>\n",
       "      <td>0.00119</td>\n",
       "      <td>0.000000</td>\n",
       "      <td>0.0971</td>\n",
       "      <td>0.240</td>\n",
       "      <td>148.114</td>\n",
       "      <td>222200</td>\n",
       "      <td>4</td>\n",
       "      <td>26</td>\n",
       "    </tr>\n",
       "    <tr>\n",
       "      <th>3</th>\n",
       "      <td>0.462</td>\n",
       "      <td>0.836</td>\n",
       "      <td>11</td>\n",
       "      <td>-5.766</td>\n",
       "      <td>0</td>\n",
       "      <td>0.0621</td>\n",
       "      <td>0.00517</td>\n",
       "      <td>0.000000</td>\n",
       "      <td>0.1800</td>\n",
       "      <td>0.671</td>\n",
       "      <td>168.766</td>\n",
       "      <td>155973</td>\n",
       "      <td>4</td>\n",
       "      <td>31</td>\n",
       "    </tr>\n",
       "    <tr>\n",
       "      <th>4</th>\n",
       "      <td>0.808</td>\n",
       "      <td>0.381</td>\n",
       "      <td>1</td>\n",
       "      <td>-9.758</td>\n",
       "      <td>1</td>\n",
       "      <td>0.0584</td>\n",
       "      <td>0.34400</td>\n",
       "      <td>0.000003</td>\n",
       "      <td>0.1120</td>\n",
       "      <td>0.687</td>\n",
       "      <td>102.052</td>\n",
       "      <td>174118</td>\n",
       "      <td>4</td>\n",
       "      <td>13</td>\n",
       "    </tr>\n",
       "  </tbody>\n",
       "</table>\n",
       "</div>"
      ],
      "text/plain": [
       "   danceability  energy  key  loudness  mode  speechiness  acousticness  \\\n",
       "0         0.714   0.800   11    -4.808     0       0.0504       0.12700   \n",
       "1         0.640   0.755    1    -4.077     0       0.0287       0.01380   \n",
       "2         0.355   0.918    1    -4.360     1       0.0746       0.00119   \n",
       "3         0.462   0.836   11    -5.766     0       0.0621       0.00517   \n",
       "4         0.808   0.381    1    -9.758     1       0.0584       0.34400   \n",
       "\n",
       "   instrumentalness  liveness  valence    tempo  duration_ms  time_signature  \\\n",
       "0          0.000000    0.3590    0.589  134.002       211560               4   \n",
       "1          0.020800    0.1200    0.744  116.883       216319               4   \n",
       "2          0.000000    0.0971    0.240  148.114       222200               4   \n",
       "3          0.000000    0.1800    0.671  168.766       155973               4   \n",
       "4          0.000003    0.1120    0.687  102.052       174118               4   \n",
       "\n",
       "   cluster  \n",
       "0        1  \n",
       "1        1  \n",
       "2       26  \n",
       "3       31  \n",
       "4       13  "
      ]
     },
     "execution_count": 235,
     "metadata": {},
     "output_type": "execute_result"
    }
   ],
   "source": [
    "all_df_4_c.head()"
   ]
  },
  {
   "cell_type": "code",
   "execution_count": null,
   "id": "f2d22eca",
   "metadata": {},
   "outputs": [],
   "source": []
  },
  {
   "cell_type": "markdown",
   "id": "d376d36a",
   "metadata": {},
   "source": [
    "# SCALING"
   ]
  },
  {
   "cell_type": "code",
   "execution_count": 236,
   "id": "52b9b436",
   "metadata": {},
   "outputs": [],
   "source": [
    "from sklearn.preprocessing import StandardScaler "
   ]
  },
  {
   "cell_type": "code",
   "execution_count": 238,
   "id": "199a617a",
   "metadata": {},
   "outputs": [],
   "source": [
    "all_df_4_scaled=StandardScaler().fit_transform(all_df_4)"
   ]
  },
  {
   "cell_type": "code",
   "execution_count": 239,
   "id": "cb834b22",
   "metadata": {},
   "outputs": [
    {
     "data": {
      "text/plain": [
       "(3763, 13)"
      ]
     },
     "execution_count": 239,
     "metadata": {},
     "output_type": "execute_result"
    }
   ],
   "source": [
    "all_df_4_scaled.shape"
   ]
  },
  {
   "cell_type": "code",
   "execution_count": 241,
   "id": "3cfdc29d",
   "metadata": {},
   "outputs": [],
   "source": [
    "all_df_4_scaled_df=pd.DataFrame(all_df_4_scaled,columns=['danceability','energy','key',\n",
    "                                                         'loudness', 'mode', 'speechiness', 'acousticness', \n",
    "                                                         'instrumentalness', 'liveness', \n",
    "                                                         'valence', 'tempo', 'duration_ms',\n",
    "                                                         'time_signature' ])"
   ]
  },
  {
   "cell_type": "code",
   "execution_count": 242,
   "id": "18285fd6",
   "metadata": {},
   "outputs": [
    {
     "data": {
      "text/html": [
       "<div>\n",
       "<style scoped>\n",
       "    .dataframe tbody tr th:only-of-type {\n",
       "        vertical-align: middle;\n",
       "    }\n",
       "\n",
       "    .dataframe tbody tr th {\n",
       "        vertical-align: top;\n",
       "    }\n",
       "\n",
       "    .dataframe thead th {\n",
       "        text-align: right;\n",
       "    }\n",
       "</style>\n",
       "<table border=\"1\" class=\"dataframe\">\n",
       "  <thead>\n",
       "    <tr style=\"text-align: right;\">\n",
       "      <th></th>\n",
       "      <th>danceability</th>\n",
       "      <th>energy</th>\n",
       "      <th>key</th>\n",
       "      <th>loudness</th>\n",
       "      <th>mode</th>\n",
       "      <th>speechiness</th>\n",
       "      <th>acousticness</th>\n",
       "      <th>instrumentalness</th>\n",
       "      <th>liveness</th>\n",
       "      <th>valence</th>\n",
       "      <th>tempo</th>\n",
       "      <th>duration_ms</th>\n",
       "      <th>time_signature</th>\n",
       "    </tr>\n",
       "  </thead>\n",
       "  <tbody>\n",
       "    <tr>\n",
       "      <th>0</th>\n",
       "      <td>0.344438</td>\n",
       "      <td>0.617348</td>\n",
       "      <td>1.599283</td>\n",
       "      <td>0.832714</td>\n",
       "      <td>-1.203443</td>\n",
       "      <td>-0.411092</td>\n",
       "      <td>-0.233952</td>\n",
       "      <td>-0.739709</td>\n",
       "      <td>1.339714</td>\n",
       "      <td>0.394159</td>\n",
       "      <td>0.587995</td>\n",
       "      <td>-0.500548</td>\n",
       "      <td>0.095874</td>\n",
       "    </tr>\n",
       "    <tr>\n",
       "      <th>1</th>\n",
       "      <td>-0.221363</td>\n",
       "      <td>0.378219</td>\n",
       "      <td>-1.194766</td>\n",
       "      <td>1.054971</td>\n",
       "      <td>-1.203443</td>\n",
       "      <td>-0.677908</td>\n",
       "      <td>-0.706981</td>\n",
       "      <td>-0.684840</td>\n",
       "      <td>-0.348076</td>\n",
       "      <td>0.991843</td>\n",
       "      <td>-0.113532</td>\n",
       "      <td>-0.451870</td>\n",
       "      <td>0.095874</td>\n",
       "    </tr>\n",
       "    <tr>\n",
       "      <th>2</th>\n",
       "      <td>-2.400464</td>\n",
       "      <td>1.244397</td>\n",
       "      <td>-1.194766</td>\n",
       "      <td>0.968926</td>\n",
       "      <td>0.830949</td>\n",
       "      <td>-0.113537</td>\n",
       "      <td>-0.759675</td>\n",
       "      <td>-0.739709</td>\n",
       "      <td>-0.509793</td>\n",
       "      <td>-0.951593</td>\n",
       "      <td>1.166297</td>\n",
       "      <td>-0.391715</td>\n",
       "      <td>0.095874</td>\n",
       "    </tr>\n",
       "    <tr>\n",
       "      <th>3</th>\n",
       "      <td>-1.582345</td>\n",
       "      <td>0.808651</td>\n",
       "      <td>1.599283</td>\n",
       "      <td>0.541440</td>\n",
       "      <td>-1.203443</td>\n",
       "      <td>-0.267233</td>\n",
       "      <td>-0.743043</td>\n",
       "      <td>-0.739709</td>\n",
       "      <td>0.075637</td>\n",
       "      <td>0.710353</td>\n",
       "      <td>2.012604</td>\n",
       "      <td>-1.069125</td>\n",
       "      <td>0.095874</td>\n",
       "    </tr>\n",
       "    <tr>\n",
       "      <th>4</th>\n",
       "      <td>1.063159</td>\n",
       "      <td>-1.609210</td>\n",
       "      <td>-1.194766</td>\n",
       "      <td>-0.672304</td>\n",
       "      <td>0.830949</td>\n",
       "      <td>-0.312727</td>\n",
       "      <td>0.672827</td>\n",
       "      <td>-0.739700</td>\n",
       "      <td>-0.404571</td>\n",
       "      <td>0.772049</td>\n",
       "      <td>-0.721298</td>\n",
       "      <td>-0.883527</td>\n",
       "      <td>0.095874</td>\n",
       "    </tr>\n",
       "  </tbody>\n",
       "</table>\n",
       "</div>"
      ],
      "text/plain": [
       "   danceability    energy       key  loudness      mode  speechiness  \\\n",
       "0      0.344438  0.617348  1.599283  0.832714 -1.203443    -0.411092   \n",
       "1     -0.221363  0.378219 -1.194766  1.054971 -1.203443    -0.677908   \n",
       "2     -2.400464  1.244397 -1.194766  0.968926  0.830949    -0.113537   \n",
       "3     -1.582345  0.808651  1.599283  0.541440 -1.203443    -0.267233   \n",
       "4      1.063159 -1.609210 -1.194766 -0.672304  0.830949    -0.312727   \n",
       "\n",
       "   acousticness  instrumentalness  liveness   valence     tempo  duration_ms  \\\n",
       "0     -0.233952         -0.739709  1.339714  0.394159  0.587995    -0.500548   \n",
       "1     -0.706981         -0.684840 -0.348076  0.991843 -0.113532    -0.451870   \n",
       "2     -0.759675         -0.739709 -0.509793 -0.951593  1.166297    -0.391715   \n",
       "3     -0.743043         -0.739709  0.075637  0.710353  2.012604    -1.069125   \n",
       "4      0.672827         -0.739700 -0.404571  0.772049 -0.721298    -0.883527   \n",
       "\n",
       "   time_signature  \n",
       "0        0.095874  \n",
       "1        0.095874  \n",
       "2        0.095874  \n",
       "3        0.095874  \n",
       "4        0.095874  "
      ]
     },
     "execution_count": 242,
     "metadata": {},
     "output_type": "execute_result"
    }
   ],
   "source": [
    "all_df_4_scaled_df.head()"
   ]
  },
  {
   "cell_type": "code",
   "execution_count": 243,
   "id": "e2775997",
   "metadata": {},
   "outputs": [
    {
     "data": {
      "text/html": [
       "<div>\n",
       "<style scoped>\n",
       "    .dataframe tbody tr th:only-of-type {\n",
       "        vertical-align: middle;\n",
       "    }\n",
       "\n",
       "    .dataframe tbody tr th {\n",
       "        vertical-align: top;\n",
       "    }\n",
       "\n",
       "    .dataframe thead th {\n",
       "        text-align: right;\n",
       "    }\n",
       "</style>\n",
       "<table border=\"1\" class=\"dataframe\">\n",
       "  <thead>\n",
       "    <tr style=\"text-align: right;\">\n",
       "      <th></th>\n",
       "      <th>danceability</th>\n",
       "      <th>energy</th>\n",
       "      <th>key</th>\n",
       "      <th>loudness</th>\n",
       "      <th>mode</th>\n",
       "      <th>speechiness</th>\n",
       "      <th>acousticness</th>\n",
       "      <th>instrumentalness</th>\n",
       "      <th>liveness</th>\n",
       "      <th>valence</th>\n",
       "      <th>tempo</th>\n",
       "      <th>duration_ms</th>\n",
       "      <th>time_signature</th>\n",
       "    </tr>\n",
       "  </thead>\n",
       "  <tbody>\n",
       "    <tr>\n",
       "      <th>count</th>\n",
       "      <td>3.763000e+03</td>\n",
       "      <td>3.763000e+03</td>\n",
       "      <td>3.763000e+03</td>\n",
       "      <td>3.763000e+03</td>\n",
       "      <td>3.763000e+03</td>\n",
       "      <td>3.763000e+03</td>\n",
       "      <td>3.763000e+03</td>\n",
       "      <td>3.763000e+03</td>\n",
       "      <td>3.763000e+03</td>\n",
       "      <td>3.763000e+03</td>\n",
       "      <td>3.763000e+03</td>\n",
       "      <td>3.763000e+03</td>\n",
       "      <td>3.763000e+03</td>\n",
       "    </tr>\n",
       "    <tr>\n",
       "      <th>mean</th>\n",
       "      <td>1.596148e-16</td>\n",
       "      <td>-7.919080e-16</td>\n",
       "      <td>-6.939263e-17</td>\n",
       "      <td>6.067134e-16</td>\n",
       "      <td>3.696220e-16</td>\n",
       "      <td>2.459573e-16</td>\n",
       "      <td>2.526989e-16</td>\n",
       "      <td>-7.667236e-15</td>\n",
       "      <td>-5.028900e-17</td>\n",
       "      <td>1.221747e-16</td>\n",
       "      <td>3.966694e-16</td>\n",
       "      <td>9.240549e-17</td>\n",
       "      <td>1.570281e-15</td>\n",
       "    </tr>\n",
       "    <tr>\n",
       "      <th>std</th>\n",
       "      <td>1.000133e+00</td>\n",
       "      <td>1.000133e+00</td>\n",
       "      <td>1.000133e+00</td>\n",
       "      <td>1.000133e+00</td>\n",
       "      <td>1.000133e+00</td>\n",
       "      <td>1.000133e+00</td>\n",
       "      <td>1.000133e+00</td>\n",
       "      <td>1.000133e+00</td>\n",
       "      <td>1.000133e+00</td>\n",
       "      <td>1.000133e+00</td>\n",
       "      <td>1.000133e+00</td>\n",
       "      <td>1.000133e+00</td>\n",
       "      <td>1.000133e+00</td>\n",
       "    </tr>\n",
       "    <tr>\n",
       "      <th>min</th>\n",
       "      <td>-4.082576e+00</td>\n",
       "      <td>-3.552532e+00</td>\n",
       "      <td>-1.474171e+00</td>\n",
       "      <td>-6.304719e+00</td>\n",
       "      <td>-1.203443e+00</td>\n",
       "      <td>-7.418456e-01</td>\n",
       "      <td>-7.646313e-01</td>\n",
       "      <td>-7.397086e-01</td>\n",
       "      <td>-1.089573e+00</td>\n",
       "      <td>-1.772541e+00</td>\n",
       "      <td>-2.445713e+00</td>\n",
       "      <td>-2.145257e+00</td>\n",
       "      <td>-1.294411e+01</td>\n",
       "    </tr>\n",
       "    <tr>\n",
       "      <th>25%</th>\n",
       "      <td>-5.424938e-01</td>\n",
       "      <td>-5.995536e-01</td>\n",
       "      <td>-9.153611e-01</td>\n",
       "      <td>-6.408350e-01</td>\n",
       "      <td>-1.203443e+00</td>\n",
       "      <td>-5.537220e-01</td>\n",
       "      <td>-7.149207e-01</td>\n",
       "      <td>-7.397086e-01</td>\n",
       "      <td>-5.698186e-01</td>\n",
       "      <td>-8.089203e-01</td>\n",
       "      <td>-7.233474e-01</td>\n",
       "      <td>-6.509800e-01</td>\n",
       "      <td>9.587377e-02</td>\n",
       "    </tr>\n",
       "    <tr>\n",
       "      <th>50%</th>\n",
       "      <td>1.227053e-01</td>\n",
       "      <td>1.709735e-01</td>\n",
       "      <td>2.022586e-01</td>\n",
       "      <td>1.407102e-01</td>\n",
       "      <td>8.309490e-01</td>\n",
       "      <td>-4.000262e-01</td>\n",
       "      <td>-4.604376e-01</td>\n",
       "      <td>-7.383422e-01</td>\n",
       "      <td>-4.045706e-01</td>\n",
       "      <td>1.241275e-02</td>\n",
       "      <td>5.624552e-02</td>\n",
       "      <td>-2.880689e-01</td>\n",
       "      <td>9.587377e-02</td>\n",
       "    </tr>\n",
       "    <tr>\n",
       "      <th>75%</th>\n",
       "      <td>7.343826e-01</td>\n",
       "      <td>7.767672e-01</td>\n",
       "      <td>7.610684e-01</td>\n",
       "      <td>7.811789e-01</td>\n",
       "      <td>8.309490e-01</td>\n",
       "      <td>2.724797e-02</td>\n",
       "      <td>3.301734e-01</td>\n",
       "      <td>1.230806e+00</td>\n",
       "      <td>1.886275e-01</td>\n",
       "      <td>8.144657e-01</td>\n",
       "      <td>3.403970e-01</td>\n",
       "      <td>4.241951e-01</td>\n",
       "      <td>9.587377e-02</td>\n",
       "    </tr>\n",
       "    <tr>\n",
       "      <th>max</th>\n",
       "      <td>2.286514e+00</td>\n",
       "      <td>1.648260e+00</td>\n",
       "      <td>1.599283e+00</td>\n",
       "      <td>2.136151e+00</td>\n",
       "      <td>8.309490e-01</td>\n",
       "      <td>7.613055e+00</td>\n",
       "      <td>3.388985e+00</td>\n",
       "      <td>1.829611e+00</td>\n",
       "      <td>5.795762e+00</td>\n",
       "      <td>1.944281e+00</td>\n",
       "      <td>3.575437e+00</td>\n",
       "      <td>5.622318e+00</td>\n",
       "      <td>4.442536e+00</td>\n",
       "    </tr>\n",
       "  </tbody>\n",
       "</table>\n",
       "</div>"
      ],
      "text/plain": [
       "       danceability        energy           key      loudness          mode  \\\n",
       "count  3.763000e+03  3.763000e+03  3.763000e+03  3.763000e+03  3.763000e+03   \n",
       "mean   1.596148e-16 -7.919080e-16 -6.939263e-17  6.067134e-16  3.696220e-16   \n",
       "std    1.000133e+00  1.000133e+00  1.000133e+00  1.000133e+00  1.000133e+00   \n",
       "min   -4.082576e+00 -3.552532e+00 -1.474171e+00 -6.304719e+00 -1.203443e+00   \n",
       "25%   -5.424938e-01 -5.995536e-01 -9.153611e-01 -6.408350e-01 -1.203443e+00   \n",
       "50%    1.227053e-01  1.709735e-01  2.022586e-01  1.407102e-01  8.309490e-01   \n",
       "75%    7.343826e-01  7.767672e-01  7.610684e-01  7.811789e-01  8.309490e-01   \n",
       "max    2.286514e+00  1.648260e+00  1.599283e+00  2.136151e+00  8.309490e-01   \n",
       "\n",
       "        speechiness  acousticness  instrumentalness      liveness  \\\n",
       "count  3.763000e+03  3.763000e+03      3.763000e+03  3.763000e+03   \n",
       "mean   2.459573e-16  2.526989e-16     -7.667236e-15 -5.028900e-17   \n",
       "std    1.000133e+00  1.000133e+00      1.000133e+00  1.000133e+00   \n",
       "min   -7.418456e-01 -7.646313e-01     -7.397086e-01 -1.089573e+00   \n",
       "25%   -5.537220e-01 -7.149207e-01     -7.397086e-01 -5.698186e-01   \n",
       "50%   -4.000262e-01 -4.604376e-01     -7.383422e-01 -4.045706e-01   \n",
       "75%    2.724797e-02  3.301734e-01      1.230806e+00  1.886275e-01   \n",
       "max    7.613055e+00  3.388985e+00      1.829611e+00  5.795762e+00   \n",
       "\n",
       "            valence         tempo   duration_ms  time_signature  \n",
       "count  3.763000e+03  3.763000e+03  3.763000e+03    3.763000e+03  \n",
       "mean   1.221747e-16  3.966694e-16  9.240549e-17    1.570281e-15  \n",
       "std    1.000133e+00  1.000133e+00  1.000133e+00    1.000133e+00  \n",
       "min   -1.772541e+00 -2.445713e+00 -2.145257e+00   -1.294411e+01  \n",
       "25%   -8.089203e-01 -7.233474e-01 -6.509800e-01    9.587377e-02  \n",
       "50%    1.241275e-02  5.624552e-02 -2.880689e-01    9.587377e-02  \n",
       "75%    8.144657e-01  3.403970e-01  4.241951e-01    9.587377e-02  \n",
       "max    1.944281e+00  3.575437e+00  5.622318e+00    4.442536e+00  "
      ]
     },
     "execution_count": 243,
     "metadata": {},
     "output_type": "execute_result"
    }
   ],
   "source": [
    "all_df_4_scaled_df.describe()"
   ]
  },
  {
   "cell_type": "code",
   "execution_count": 244,
   "id": "ae64332a",
   "metadata": {},
   "outputs": [
    {
     "data": {
      "image/png": "[encoded data removed]",
      "text/plain": [
       "<Figure size 1080x1080 with 16 Axes>"
      ]
     },
     "metadata": {
      "needs_background": "light"
     },
     "output_type": "display_data"
    }
   ],
   "source": [
    "all_df_4_scaled_df.hist(bins=15, figsize=(15,15));"
   ]
  },
  {
   "cell_type": "code",
   "execution_count": null,
   "id": "4dc04cbc",
   "metadata": {},
   "outputs": [],
   "source": []
  },
  {
   "cell_type": "code",
   "execution_count": null,
   "id": "8b6a02c0",
   "metadata": {},
   "outputs": [],
   "source": []
  },
  {
   "cell_type": "markdown",
   "id": "48c83681",
   "metadata": {},
   "source": [
    "# Finding the optimal K"
   ]
  },
  {
   "cell_type": "code",
   "execution_count": 245,
   "id": "3bd05281",
   "metadata": {},
   "outputs": [
    {
     "data": {
      "text/plain": [
       "42946832102.35966"
      ]
     },
     "execution_count": 245,
     "metadata": {},
     "output_type": "execute_result"
    }
   ],
   "source": [
    "kmeans.inertia_"
   ]
  },
  {
   "cell_type": "code",
   "execution_count": 246,
   "id": "c444d846",
   "metadata": {},
   "outputs": [
    {
     "name": "stdout",
     "output_type": "stream",
     "text": [
      "2302126414036.34\n"
     ]
    }
   ],
   "source": [
    "kmeans=KMeans(n_clusters=5)\n",
    "kmeans.fit(all_df_4)\n",
    "print(kmeans.inertia_)"
   ]
  },
  {
   "cell_type": "code",
   "execution_count": 247,
   "id": "bb26083f",
   "metadata": {},
   "outputs": [],
   "source": [
    "K= range(16,50)"
   ]
  },
  {
   "cell_type": "code",
   "execution_count": 248,
   "id": "2526a74a",
   "metadata": {},
   "outputs": [
    {
     "name": "stdout",
     "output_type": "stream",
     "text": [
      "[282074519212.9764, 249863281772.64642, 218507743442.42093, 197689381566.5128, 179620535080.75714, 162336882745.41205, 146288391793.48547, 133679453342.13069, 123394961770.71707, 111798614932.75151, 103284208218.42691, 96710815720.34723, 91396865221.77448, 83400989030.02036, 78589204616.8597, 73447046513.32239, 68492529264.2198, 63932273779.56746, 60180702029.97256, 54687802818.90204, 52790924844.684204, 49884537919.35776, 47260641354.7227, 45937205036.33078, 42664204891.55602, 40660927931.96574, 38300816311.603004, 36849243915.2406, 34994115765.753365, 33406488329.13992, 31341016669.794395, 29470509177.085796, 29081588418.909786, 27767726747.41699]\n"
     ]
    }
   ],
   "source": [
    "inertia = []\n",
    "for k in K:\n",
    "    kmeans=KMeans(n_clusters=k,random_state=40)\n",
    "    kmeans.fit(all_df_4)\n",
    "    inertia.append(kmeans.inertia_)\n",
    "    \n",
    "print(inertia)"
   ]
  },
  {
   "cell_type": "code",
   "execution_count": 249,
   "id": "ad0c8233",
   "metadata": {},
   "outputs": [
    {
     "data": {
      "image/png": "[encoded data removed]",
      "text/plain": [
       "<Figure size 1152x576 with 1 Axes>"
      ]
     },
     "metadata": {
      "needs_background": "light"
     },
     "output_type": "display_data"
    }
   ],
   "source": [
    "# plot the results\n",
    "\n",
    "plt.figure(figsize=(16,8))\n",
    "plt.plot(K, inertia, 'bx-')\n",
    "plt.xlabel('k')\n",
    "plt.ylabel('inertia')\n",
    "plt.xticks(np.arange(min(K),max(K)+1,1.0))\n",
    "plt.title('elbow method, optimal k by inertia');"
   ]
  },
  {
   "cell_type": "code",
   "execution_count": null,
   "id": "19d283f8",
   "metadata": {},
   "outputs": [],
   "source": []
  },
  {
   "cell_type": "code",
   "execution_count": null,
   "id": "36abaf61",
   "metadata": {},
   "outputs": [],
   "source": []
  },
  {
   "cell_type": "markdown",
   "id": "862e315a",
   "metadata": {},
   "source": [
    "# CLUSTERING TRY 2"
   ]
  },
  {
   "cell_type": "code",
   "execution_count": 285,
   "id": "8b5dc1ac",
   "metadata": {},
   "outputs": [],
   "source": [
    "kmeans=KMeans(n_clusters=28)\n",
    "#have to set a starting cluster number "
   ]
  },
  {
   "cell_type": "code",
   "execution_count": 286,
   "id": "846c8d0d",
   "metadata": {},
   "outputs": [],
   "source": [
    "cluster_2=kmeans.fit(all_df_4)"
   ]
  },
  {
   "cell_type": "raw",
   "id": "d637bda7",
   "metadata": {},
   "source": [
    "# explore the cluster\n",
    "cluster_2.cluster_centers_"
   ]
  },
  {
   "cell_type": "code",
   "execution_count": 287,
   "id": "9ca891a2",
   "metadata": {},
   "outputs": [
    {
     "data": {
      "text/plain": [
       "array([ 0,  0, 21, ..., 19, 11,  1], dtype=int32)"
      ]
     },
     "execution_count": 287,
     "metadata": {},
     "output_type": "execute_result"
    }
   ],
   "source": [
    "cluster_2.labels_"
   ]
  },
  {
   "cell_type": "code",
   "execution_count": 288,
   "id": "15107abe",
   "metadata": {},
   "outputs": [],
   "source": [
    "#bring cluster into data frame\n",
    "all_df_4_copy=all_df_4.copy()\n",
    "all_df_4_copy['cluster']=cluster_2.labels_"
   ]
  },
  {
   "cell_type": "code",
   "execution_count": 289,
   "id": "b61618ff",
   "metadata": {},
   "outputs": [
    {
     "data": {
      "text/html": [
       "<div>\n",
       "<style scoped>\n",
       "    .dataframe tbody tr th:only-of-type {\n",
       "        vertical-align: middle;\n",
       "    }\n",
       "\n",
       "    .dataframe tbody tr th {\n",
       "        vertical-align: top;\n",
       "    }\n",
       "\n",
       "    .dataframe thead th {\n",
       "        text-align: right;\n",
       "    }\n",
       "</style>\n",
       "<table border=\"1\" class=\"dataframe\">\n",
       "  <thead>\n",
       "    <tr style=\"text-align: right;\">\n",
       "      <th></th>\n",
       "      <th>danceability</th>\n",
       "      <th>energy</th>\n",
       "      <th>key</th>\n",
       "      <th>loudness</th>\n",
       "      <th>mode</th>\n",
       "      <th>speechiness</th>\n",
       "      <th>acousticness</th>\n",
       "      <th>instrumentalness</th>\n",
       "      <th>liveness</th>\n",
       "      <th>valence</th>\n",
       "      <th>tempo</th>\n",
       "      <th>duration_ms</th>\n",
       "      <th>time_signature</th>\n",
       "      <th>cluster</th>\n",
       "    </tr>\n",
       "  </thead>\n",
       "  <tbody>\n",
       "    <tr>\n",
       "      <th>0</th>\n",
       "      <td>0.714</td>\n",
       "      <td>0.800</td>\n",
       "      <td>11</td>\n",
       "      <td>-4.808</td>\n",
       "      <td>0</td>\n",
       "      <td>0.0504</td>\n",
       "      <td>0.12700</td>\n",
       "      <td>0.000000</td>\n",
       "      <td>0.3590</td>\n",
       "      <td>0.589</td>\n",
       "      <td>134.002</td>\n",
       "      <td>211560</td>\n",
       "      <td>4</td>\n",
       "      <td>0</td>\n",
       "    </tr>\n",
       "    <tr>\n",
       "      <th>1</th>\n",
       "      <td>0.640</td>\n",
       "      <td>0.755</td>\n",
       "      <td>1</td>\n",
       "      <td>-4.077</td>\n",
       "      <td>0</td>\n",
       "      <td>0.0287</td>\n",
       "      <td>0.01380</td>\n",
       "      <td>0.020800</td>\n",
       "      <td>0.1200</td>\n",
       "      <td>0.744</td>\n",
       "      <td>116.883</td>\n",
       "      <td>216319</td>\n",
       "      <td>4</td>\n",
       "      <td>0</td>\n",
       "    </tr>\n",
       "    <tr>\n",
       "      <th>2</th>\n",
       "      <td>0.355</td>\n",
       "      <td>0.918</td>\n",
       "      <td>1</td>\n",
       "      <td>-4.360</td>\n",
       "      <td>1</td>\n",
       "      <td>0.0746</td>\n",
       "      <td>0.00119</td>\n",
       "      <td>0.000000</td>\n",
       "      <td>0.0971</td>\n",
       "      <td>0.240</td>\n",
       "      <td>148.114</td>\n",
       "      <td>222200</td>\n",
       "      <td>4</td>\n",
       "      <td>21</td>\n",
       "    </tr>\n",
       "    <tr>\n",
       "      <th>3</th>\n",
       "      <td>0.462</td>\n",
       "      <td>0.836</td>\n",
       "      <td>11</td>\n",
       "      <td>-5.766</td>\n",
       "      <td>0</td>\n",
       "      <td>0.0621</td>\n",
       "      <td>0.00517</td>\n",
       "      <td>0.000000</td>\n",
       "      <td>0.1800</td>\n",
       "      <td>0.671</td>\n",
       "      <td>168.766</td>\n",
       "      <td>155973</td>\n",
       "      <td>4</td>\n",
       "      <td>3</td>\n",
       "    </tr>\n",
       "    <tr>\n",
       "      <th>4</th>\n",
       "      <td>0.808</td>\n",
       "      <td>0.381</td>\n",
       "      <td>1</td>\n",
       "      <td>-9.758</td>\n",
       "      <td>1</td>\n",
       "      <td>0.0584</td>\n",
       "      <td>0.34400</td>\n",
       "      <td>0.000003</td>\n",
       "      <td>0.1120</td>\n",
       "      <td>0.687</td>\n",
       "      <td>102.052</td>\n",
       "      <td>174118</td>\n",
       "      <td>4</td>\n",
       "      <td>6</td>\n",
       "    </tr>\n",
       "  </tbody>\n",
       "</table>\n",
       "</div>"
      ],
      "text/plain": [
       "   danceability  energy  key  loudness  mode  speechiness  acousticness  \\\n",
       "0         0.714   0.800   11    -4.808     0       0.0504       0.12700   \n",
       "1         0.640   0.755    1    -4.077     0       0.0287       0.01380   \n",
       "2         0.355   0.918    1    -4.360     1       0.0746       0.00119   \n",
       "3         0.462   0.836   11    -5.766     0       0.0621       0.00517   \n",
       "4         0.808   0.381    1    -9.758     1       0.0584       0.34400   \n",
       "\n",
       "   instrumentalness  liveness  valence    tempo  duration_ms  time_signature  \\\n",
       "0          0.000000    0.3590    0.589  134.002       211560               4   \n",
       "1          0.020800    0.1200    0.744  116.883       216319               4   \n",
       "2          0.000000    0.0971    0.240  148.114       222200               4   \n",
       "3          0.000000    0.1800    0.671  168.766       155973               4   \n",
       "4          0.000003    0.1120    0.687  102.052       174118               4   \n",
       "\n",
       "   cluster  \n",
       "0        0  \n",
       "1        0  \n",
       "2       21  \n",
       "3        3  \n",
       "4        6  "
      ]
     },
     "execution_count": 289,
     "metadata": {},
     "output_type": "execute_result"
    }
   ],
   "source": [
    "all_df_4_copy.head()"
   ]
  },
  {
   "cell_type": "code",
   "execution_count": 290,
   "id": "9819e559",
   "metadata": {},
   "outputs": [
    {
     "data": {
      "text/html": [
       "<div>\n",
       "<style scoped>\n",
       "    .dataframe tbody tr th:only-of-type {\n",
       "        vertical-align: middle;\n",
       "    }\n",
       "\n",
       "    .dataframe tbody tr th {\n",
       "        vertical-align: top;\n",
       "    }\n",
       "\n",
       "    .dataframe thead th {\n",
       "        text-align: right;\n",
       "    }\n",
       "</style>\n",
       "<table border=\"1\" class=\"dataframe\">\n",
       "  <thead>\n",
       "    <tr style=\"text-align: right;\">\n",
       "      <th></th>\n",
       "      <th>danceability</th>\n",
       "      <th>energy</th>\n",
       "      <th>key</th>\n",
       "      <th>loudness</th>\n",
       "      <th>mode</th>\n",
       "      <th>speechiness</th>\n",
       "      <th>acousticness</th>\n",
       "      <th>instrumentalness</th>\n",
       "      <th>liveness</th>\n",
       "      <th>valence</th>\n",
       "      <th>tempo</th>\n",
       "      <th>duration_ms</th>\n",
       "      <th>time_signature</th>\n",
       "      <th>cluster</th>\n",
       "    </tr>\n",
       "  </thead>\n",
       "  <tbody>\n",
       "    <tr>\n",
       "      <th>0</th>\n",
       "      <td>0.714</td>\n",
       "      <td>0.800</td>\n",
       "      <td>11</td>\n",
       "      <td>-4.808</td>\n",
       "      <td>0</td>\n",
       "      <td>0.0504</td>\n",
       "      <td>0.12700</td>\n",
       "      <td>0.000000</td>\n",
       "      <td>0.3590</td>\n",
       "      <td>0.5890</td>\n",
       "      <td>134.002</td>\n",
       "      <td>211560</td>\n",
       "      <td>4</td>\n",
       "      <td>0</td>\n",
       "    </tr>\n",
       "    <tr>\n",
       "      <th>1</th>\n",
       "      <td>0.640</td>\n",
       "      <td>0.755</td>\n",
       "      <td>1</td>\n",
       "      <td>-4.077</td>\n",
       "      <td>0</td>\n",
       "      <td>0.0287</td>\n",
       "      <td>0.01380</td>\n",
       "      <td>0.020800</td>\n",
       "      <td>0.1200</td>\n",
       "      <td>0.7440</td>\n",
       "      <td>116.883</td>\n",
       "      <td>216319</td>\n",
       "      <td>4</td>\n",
       "      <td>0</td>\n",
       "    </tr>\n",
       "    <tr>\n",
       "      <th>2</th>\n",
       "      <td>0.355</td>\n",
       "      <td>0.918</td>\n",
       "      <td>1</td>\n",
       "      <td>-4.360</td>\n",
       "      <td>1</td>\n",
       "      <td>0.0746</td>\n",
       "      <td>0.00119</td>\n",
       "      <td>0.000000</td>\n",
       "      <td>0.0971</td>\n",
       "      <td>0.2400</td>\n",
       "      <td>148.114</td>\n",
       "      <td>222200</td>\n",
       "      <td>4</td>\n",
       "      <td>21</td>\n",
       "    </tr>\n",
       "    <tr>\n",
       "      <th>3</th>\n",
       "      <td>0.462</td>\n",
       "      <td>0.836</td>\n",
       "      <td>11</td>\n",
       "      <td>-5.766</td>\n",
       "      <td>0</td>\n",
       "      <td>0.0621</td>\n",
       "      <td>0.00517</td>\n",
       "      <td>0.000000</td>\n",
       "      <td>0.1800</td>\n",
       "      <td>0.6710</td>\n",
       "      <td>168.766</td>\n",
       "      <td>155973</td>\n",
       "      <td>4</td>\n",
       "      <td>3</td>\n",
       "    </tr>\n",
       "    <tr>\n",
       "      <th>4</th>\n",
       "      <td>0.808</td>\n",
       "      <td>0.381</td>\n",
       "      <td>1</td>\n",
       "      <td>-9.758</td>\n",
       "      <td>1</td>\n",
       "      <td>0.0584</td>\n",
       "      <td>0.34400</td>\n",
       "      <td>0.000003</td>\n",
       "      <td>0.1120</td>\n",
       "      <td>0.6870</td>\n",
       "      <td>102.052</td>\n",
       "      <td>174118</td>\n",
       "      <td>4</td>\n",
       "      <td>6</td>\n",
       "    </tr>\n",
       "    <tr>\n",
       "      <th>...</th>\n",
       "      <td>...</td>\n",
       "      <td>...</td>\n",
       "      <td>...</td>\n",
       "      <td>...</td>\n",
       "      <td>...</td>\n",
       "      <td>...</td>\n",
       "      <td>...</td>\n",
       "      <td>...</td>\n",
       "      <td>...</td>\n",
       "      <td>...</td>\n",
       "      <td>...</td>\n",
       "      <td>...</td>\n",
       "      <td>...</td>\n",
       "      <td>...</td>\n",
       "    </tr>\n",
       "    <tr>\n",
       "      <th>3758</th>\n",
       "      <td>0.751</td>\n",
       "      <td>0.739</td>\n",
       "      <td>5</td>\n",
       "      <td>-8.557</td>\n",
       "      <td>0</td>\n",
       "      <td>0.0380</td>\n",
       "      <td>0.01450</td>\n",
       "      <td>0.884000</td>\n",
       "      <td>0.0902</td>\n",
       "      <td>0.0988</td>\n",
       "      <td>123.023</td>\n",
       "      <td>255630</td>\n",
       "      <td>4</td>\n",
       "      <td>20</td>\n",
       "    </tr>\n",
       "    <tr>\n",
       "      <th>3759</th>\n",
       "      <td>0.619</td>\n",
       "      <td>0.746</td>\n",
       "      <td>7</td>\n",
       "      <td>-10.770</td>\n",
       "      <td>1</td>\n",
       "      <td>0.0407</td>\n",
       "      <td>0.11600</td>\n",
       "      <td>0.880000</td>\n",
       "      <td>0.1370</td>\n",
       "      <td>0.1700</td>\n",
       "      <td>122.005</td>\n",
       "      <td>287213</td>\n",
       "      <td>4</td>\n",
       "      <td>25</td>\n",
       "    </tr>\n",
       "    <tr>\n",
       "      <th>3760</th>\n",
       "      <td>0.781</td>\n",
       "      <td>0.658</td>\n",
       "      <td>1</td>\n",
       "      <td>-10.312</td>\n",
       "      <td>1</td>\n",
       "      <td>0.0446</td>\n",
       "      <td>0.03060</td>\n",
       "      <td>0.742000</td>\n",
       "      <td>0.1120</td>\n",
       "      <td>0.1060</td>\n",
       "      <td>124.017</td>\n",
       "      <td>418065</td>\n",
       "      <td>4</td>\n",
       "      <td>19</td>\n",
       "    </tr>\n",
       "    <tr>\n",
       "      <th>3761</th>\n",
       "      <td>0.792</td>\n",
       "      <td>0.932</td>\n",
       "      <td>10</td>\n",
       "      <td>-6.781</td>\n",
       "      <td>1</td>\n",
       "      <td>0.0500</td>\n",
       "      <td>0.00117</td>\n",
       "      <td>0.916000</td>\n",
       "      <td>0.0723</td>\n",
       "      <td>0.3560</td>\n",
       "      <td>120.997</td>\n",
       "      <td>388696</td>\n",
       "      <td>4</td>\n",
       "      <td>11</td>\n",
       "    </tr>\n",
       "    <tr>\n",
       "      <th>3762</th>\n",
       "      <td>0.693</td>\n",
       "      <td>0.542</td>\n",
       "      <td>0</td>\n",
       "      <td>-14.384</td>\n",
       "      <td>1</td>\n",
       "      <td>0.0526</td>\n",
       "      <td>0.00379</td>\n",
       "      <td>0.834000</td>\n",
       "      <td>0.1160</td>\n",
       "      <td>0.3960</td>\n",
       "      <td>122.994</td>\n",
       "      <td>476341</td>\n",
       "      <td>4</td>\n",
       "      <td>1</td>\n",
       "    </tr>\n",
       "  </tbody>\n",
       "</table>\n",
       "<p>3763 rows × 14 columns</p>\n",
       "</div>"
      ],
      "text/plain": [
       "      danceability  energy  key  loudness  mode  speechiness  acousticness  \\\n",
       "0            0.714   0.800   11    -4.808     0       0.0504       0.12700   \n",
       "1            0.640   0.755    1    -4.077     0       0.0287       0.01380   \n",
       "2            0.355   0.918    1    -4.360     1       0.0746       0.00119   \n",
       "3            0.462   0.836   11    -5.766     0       0.0621       0.00517   \n",
       "4            0.808   0.381    1    -9.758     1       0.0584       0.34400   \n",
       "...            ...     ...  ...       ...   ...          ...           ...   \n",
       "3758         0.751   0.739    5    -8.557     0       0.0380       0.01450   \n",
       "3759         0.619   0.746    7   -10.770     1       0.0407       0.11600   \n",
       "3760         0.781   0.658    1   -10.312     1       0.0446       0.03060   \n",
       "3761         0.792   0.932   10    -6.781     1       0.0500       0.00117   \n",
       "3762         0.693   0.542    0   -14.384     1       0.0526       0.00379   \n",
       "\n",
       "      instrumentalness  liveness  valence    tempo  duration_ms  \\\n",
       "0             0.000000    0.3590   0.5890  134.002       211560   \n",
       "1             0.020800    0.1200   0.7440  116.883       216319   \n",
       "2             0.000000    0.0971   0.2400  148.114       222200   \n",
       "3             0.000000    0.1800   0.6710  168.766       155973   \n",
       "4             0.000003    0.1120   0.6870  102.052       174118   \n",
       "...                ...       ...      ...      ...          ...   \n",
       "3758          0.884000    0.0902   0.0988  123.023       255630   \n",
       "3759          0.880000    0.1370   0.1700  122.005       287213   \n",
       "3760          0.742000    0.1120   0.1060  124.017       418065   \n",
       "3761          0.916000    0.0723   0.3560  120.997       388696   \n",
       "3762          0.834000    0.1160   0.3960  122.994       476341   \n",
       "\n",
       "      time_signature  cluster  \n",
       "0                  4        0  \n",
       "1                  4        0  \n",
       "2                  4       21  \n",
       "3                  4        3  \n",
       "4                  4        6  \n",
       "...              ...      ...  \n",
       "3758               4       20  \n",
       "3759               4       25  \n",
       "3760               4       19  \n",
       "3761               4       11  \n",
       "3762               4        1  \n",
       "\n",
       "[3763 rows x 14 columns]"
      ]
     },
     "execution_count": 290,
     "metadata": {},
     "output_type": "execute_result"
    }
   ],
   "source": [
    "all_df_4_copy"
   ]
  },
  {
   "cell_type": "code",
   "execution_count": null,
   "id": "91d768de",
   "metadata": {},
   "outputs": [],
   "source": []
  },
  {
   "cell_type": "markdown",
   "id": "756158a8",
   "metadata": {},
   "source": [
    "### Visually explore the clusters"
   ]
  },
  {
   "cell_type": "code",
   "execution_count": 291,
   "id": "e31832f0",
   "metadata": {},
   "outputs": [
    {
     "data": {
      "text/plain": [
       "<AxesSubplot:xlabel='energy', ylabel='liveness'>"
      ]
     },
     "execution_count": 291,
     "metadata": {},
     "output_type": "execute_result"
    },
    {
     "data": {
      "image/png": "[encoded data removed]",
      "text/plain": [
       "<Figure size 432x288 with 1 Axes>"
      ]
     },
     "metadata": {
      "needs_background": "light"
     },
     "output_type": "display_data"
    }
   ],
   "source": [
    "sns.scatterplot(data=all_df_4_copy, x=\"energy\", y=\"liveness\",hue='cluster')"
   ]
  },
  {
   "cell_type": "markdown",
   "id": "c1806204",
   "metadata": {},
   "source": [
    "### 3-D plotting with plotly "
   ]
  },
  {
   "cell_type": "code",
   "execution_count": 292,
   "id": "1cc20b6c",
   "metadata": {},
   "outputs": [],
   "source": [
    "markersize= all_df_4_copy['tempo']\n",
    "markercolour= all_df_4_copy['cluster']\n",
    "\n",
    "fig1=go.Scatter3d(x=all_df_4_copy['danceability'],\n",
    "                  y=all_df_4_copy['energy'],\n",
    "                  z=all_df_4_copy['acousticness'],\n",
    "                 marker=dict (size=markersize,\n",
    "                              color=markercolour,\n",
    "                              opacity=0.9,\n",
    "                              colorscale='Blues'),\n",
    "                 line=dict (width=0.2),\n",
    "                 mode='markers')\n",
    "#make layout \n",
    "mylayout=go.Layout(scene=dict(xaxis=dict(title=\"danceability\"),\n",
    "                              yaxis=dict(title='energy'),\n",
    "                              zaxis=dict(title='acousticness')))"
   ]
  },
  {
   "cell_type": "code",
   "execution_count": 293,
   "id": "77f578da",
   "metadata": {},
   "outputs": [
    {
     "data": {
      "text/plain": [
       "'5Dplot.html'"
      ]
     },
     "execution_count": 293,
     "metadata": {},
     "output_type": "execute_result"
    }
   ],
   "source": [
    "plotly.offline.plot({\"data\":[fig1],\n",
    "                    \"layout\":mylayout},\n",
    "                   auto_open=True,\n",
    "                   filename=(\"5Dplot.html\"))"
   ]
  },
  {
   "cell_type": "markdown",
   "id": "d362ace1",
   "metadata": {},
   "source": [
    "# Getting the final DF with the cluster and features"
   ]
  },
  {
   "cell_type": "code",
   "execution_count": 294,
   "id": "dfbfa9f4",
   "metadata": {},
   "outputs": [
    {
     "data": {
      "text/html": [
       "<div>\n",
       "<style scoped>\n",
       "    .dataframe tbody tr th:only-of-type {\n",
       "        vertical-align: middle;\n",
       "    }\n",
       "\n",
       "    .dataframe tbody tr th {\n",
       "        vertical-align: top;\n",
       "    }\n",
       "\n",
       "    .dataframe thead th {\n",
       "        text-align: right;\n",
       "    }\n",
       "</style>\n",
       "<table border=\"1\" class=\"dataframe\">\n",
       "  <thead>\n",
       "    <tr style=\"text-align: right;\">\n",
       "      <th></th>\n",
       "      <th>danceability</th>\n",
       "      <th>energy</th>\n",
       "      <th>key</th>\n",
       "      <th>loudness</th>\n",
       "      <th>mode</th>\n",
       "      <th>speechiness</th>\n",
       "      <th>acousticness</th>\n",
       "      <th>instrumentalness</th>\n",
       "      <th>liveness</th>\n",
       "      <th>valence</th>\n",
       "      <th>tempo</th>\n",
       "      <th>duration_ms</th>\n",
       "      <th>time_signature</th>\n",
       "      <th>cluster</th>\n",
       "    </tr>\n",
       "  </thead>\n",
       "  <tbody>\n",
       "    <tr>\n",
       "      <th>0</th>\n",
       "      <td>0.714</td>\n",
       "      <td>0.800</td>\n",
       "      <td>11</td>\n",
       "      <td>-4.808</td>\n",
       "      <td>0</td>\n",
       "      <td>0.0504</td>\n",
       "      <td>0.12700</td>\n",
       "      <td>0.000000</td>\n",
       "      <td>0.3590</td>\n",
       "      <td>0.5890</td>\n",
       "      <td>134.002</td>\n",
       "      <td>211560</td>\n",
       "      <td>4</td>\n",
       "      <td>0</td>\n",
       "    </tr>\n",
       "    <tr>\n",
       "      <th>1</th>\n",
       "      <td>0.640</td>\n",
       "      <td>0.755</td>\n",
       "      <td>1</td>\n",
       "      <td>-4.077</td>\n",
       "      <td>0</td>\n",
       "      <td>0.0287</td>\n",
       "      <td>0.01380</td>\n",
       "      <td>0.020800</td>\n",
       "      <td>0.1200</td>\n",
       "      <td>0.7440</td>\n",
       "      <td>116.883</td>\n",
       "      <td>216319</td>\n",
       "      <td>4</td>\n",
       "      <td>0</td>\n",
       "    </tr>\n",
       "    <tr>\n",
       "      <th>2</th>\n",
       "      <td>0.355</td>\n",
       "      <td>0.918</td>\n",
       "      <td>1</td>\n",
       "      <td>-4.360</td>\n",
       "      <td>1</td>\n",
       "      <td>0.0746</td>\n",
       "      <td>0.00119</td>\n",
       "      <td>0.000000</td>\n",
       "      <td>0.0971</td>\n",
       "      <td>0.2400</td>\n",
       "      <td>148.114</td>\n",
       "      <td>222200</td>\n",
       "      <td>4</td>\n",
       "      <td>21</td>\n",
       "    </tr>\n",
       "    <tr>\n",
       "      <th>3</th>\n",
       "      <td>0.462</td>\n",
       "      <td>0.836</td>\n",
       "      <td>11</td>\n",
       "      <td>-5.766</td>\n",
       "      <td>0</td>\n",
       "      <td>0.0621</td>\n",
       "      <td>0.00517</td>\n",
       "      <td>0.000000</td>\n",
       "      <td>0.1800</td>\n",
       "      <td>0.6710</td>\n",
       "      <td>168.766</td>\n",
       "      <td>155973</td>\n",
       "      <td>4</td>\n",
       "      <td>3</td>\n",
       "    </tr>\n",
       "    <tr>\n",
       "      <th>4</th>\n",
       "      <td>0.808</td>\n",
       "      <td>0.381</td>\n",
       "      <td>1</td>\n",
       "      <td>-9.758</td>\n",
       "      <td>1</td>\n",
       "      <td>0.0584</td>\n",
       "      <td>0.34400</td>\n",
       "      <td>0.000003</td>\n",
       "      <td>0.1120</td>\n",
       "      <td>0.6870</td>\n",
       "      <td>102.052</td>\n",
       "      <td>174118</td>\n",
       "      <td>4</td>\n",
       "      <td>6</td>\n",
       "    </tr>\n",
       "    <tr>\n",
       "      <th>...</th>\n",
       "      <td>...</td>\n",
       "      <td>...</td>\n",
       "      <td>...</td>\n",
       "      <td>...</td>\n",
       "      <td>...</td>\n",
       "      <td>...</td>\n",
       "      <td>...</td>\n",
       "      <td>...</td>\n",
       "      <td>...</td>\n",
       "      <td>...</td>\n",
       "      <td>...</td>\n",
       "      <td>...</td>\n",
       "      <td>...</td>\n",
       "      <td>...</td>\n",
       "    </tr>\n",
       "    <tr>\n",
       "      <th>3758</th>\n",
       "      <td>0.751</td>\n",
       "      <td>0.739</td>\n",
       "      <td>5</td>\n",
       "      <td>-8.557</td>\n",
       "      <td>0</td>\n",
       "      <td>0.0380</td>\n",
       "      <td>0.01450</td>\n",
       "      <td>0.884000</td>\n",
       "      <td>0.0902</td>\n",
       "      <td>0.0988</td>\n",
       "      <td>123.023</td>\n",
       "      <td>255630</td>\n",
       "      <td>4</td>\n",
       "      <td>20</td>\n",
       "    </tr>\n",
       "    <tr>\n",
       "      <th>3759</th>\n",
       "      <td>0.619</td>\n",
       "      <td>0.746</td>\n",
       "      <td>7</td>\n",
       "      <td>-10.770</td>\n",
       "      <td>1</td>\n",
       "      <td>0.0407</td>\n",
       "      <td>0.11600</td>\n",
       "      <td>0.880000</td>\n",
       "      <td>0.1370</td>\n",
       "      <td>0.1700</td>\n",
       "      <td>122.005</td>\n",
       "      <td>287213</td>\n",
       "      <td>4</td>\n",
       "      <td>25</td>\n",
       "    </tr>\n",
       "    <tr>\n",
       "      <th>3760</th>\n",
       "      <td>0.781</td>\n",
       "      <td>0.658</td>\n",
       "      <td>1</td>\n",
       "      <td>-10.312</td>\n",
       "      <td>1</td>\n",
       "      <td>0.0446</td>\n",
       "      <td>0.03060</td>\n",
       "      <td>0.742000</td>\n",
       "      <td>0.1120</td>\n",
       "      <td>0.1060</td>\n",
       "      <td>124.017</td>\n",
       "      <td>418065</td>\n",
       "      <td>4</td>\n",
       "      <td>19</td>\n",
       "    </tr>\n",
       "    <tr>\n",
       "      <th>3761</th>\n",
       "      <td>0.792</td>\n",
       "      <td>0.932</td>\n",
       "      <td>10</td>\n",
       "      <td>-6.781</td>\n",
       "      <td>1</td>\n",
       "      <td>0.0500</td>\n",
       "      <td>0.00117</td>\n",
       "      <td>0.916000</td>\n",
       "      <td>0.0723</td>\n",
       "      <td>0.3560</td>\n",
       "      <td>120.997</td>\n",
       "      <td>388696</td>\n",
       "      <td>4</td>\n",
       "      <td>11</td>\n",
       "    </tr>\n",
       "    <tr>\n",
       "      <th>3762</th>\n",
       "      <td>0.693</td>\n",
       "      <td>0.542</td>\n",
       "      <td>0</td>\n",
       "      <td>-14.384</td>\n",
       "      <td>1</td>\n",
       "      <td>0.0526</td>\n",
       "      <td>0.00379</td>\n",
       "      <td>0.834000</td>\n",
       "      <td>0.1160</td>\n",
       "      <td>0.3960</td>\n",
       "      <td>122.994</td>\n",
       "      <td>476341</td>\n",
       "      <td>4</td>\n",
       "      <td>1</td>\n",
       "    </tr>\n",
       "  </tbody>\n",
       "</table>\n",
       "<p>3763 rows × 14 columns</p>\n",
       "</div>"
      ],
      "text/plain": [
       "      danceability  energy  key  loudness  mode  speechiness  acousticness  \\\n",
       "0            0.714   0.800   11    -4.808     0       0.0504       0.12700   \n",
       "1            0.640   0.755    1    -4.077     0       0.0287       0.01380   \n",
       "2            0.355   0.918    1    -4.360     1       0.0746       0.00119   \n",
       "3            0.462   0.836   11    -5.766     0       0.0621       0.00517   \n",
       "4            0.808   0.381    1    -9.758     1       0.0584       0.34400   \n",
       "...            ...     ...  ...       ...   ...          ...           ...   \n",
       "3758         0.751   0.739    5    -8.557     0       0.0380       0.01450   \n",
       "3759         0.619   0.746    7   -10.770     1       0.0407       0.11600   \n",
       "3760         0.781   0.658    1   -10.312     1       0.0446       0.03060   \n",
       "3761         0.792   0.932   10    -6.781     1       0.0500       0.00117   \n",
       "3762         0.693   0.542    0   -14.384     1       0.0526       0.00379   \n",
       "\n",
       "      instrumentalness  liveness  valence    tempo  duration_ms  \\\n",
       "0             0.000000    0.3590   0.5890  134.002       211560   \n",
       "1             0.020800    0.1200   0.7440  116.883       216319   \n",
       "2             0.000000    0.0971   0.2400  148.114       222200   \n",
       "3             0.000000    0.1800   0.6710  168.766       155973   \n",
       "4             0.000003    0.1120   0.6870  102.052       174118   \n",
       "...                ...       ...      ...      ...          ...   \n",
       "3758          0.884000    0.0902   0.0988  123.023       255630   \n",
       "3759          0.880000    0.1370   0.1700  122.005       287213   \n",
       "3760          0.742000    0.1120   0.1060  124.017       418065   \n",
       "3761          0.916000    0.0723   0.3560  120.997       388696   \n",
       "3762          0.834000    0.1160   0.3960  122.994       476341   \n",
       "\n",
       "      time_signature  cluster  \n",
       "0                  4        0  \n",
       "1                  4        0  \n",
       "2                  4       21  \n",
       "3                  4        3  \n",
       "4                  4        6  \n",
       "...              ...      ...  \n",
       "3758               4       20  \n",
       "3759               4       25  \n",
       "3760               4       19  \n",
       "3761               4       11  \n",
       "3762               4        1  \n",
       "\n",
       "[3763 rows x 14 columns]"
      ]
     },
     "execution_count": 294,
     "metadata": {},
     "output_type": "execute_result"
    }
   ],
   "source": [
    "all_df_4_copy"
   ]
  },
  {
   "cell_type": "code",
   "execution_count": 295,
   "id": "f4d6d5aa",
   "metadata": {},
   "outputs": [],
   "source": [
    "cluster_column = all_df_4_copy['cluster'].to_list()\n",
    "song_name = big_df['song_name'].to_list()\n",
    "song_artist = big_df['song_artist'].to_list()\n",
    "songid_column = big_df['song_ID'].to_list()\n",
    "Genre_column = big_df['Genre'].to_list()\n",
    "\n",
    "final_df=pd.DataFrame({'song_name':song_name, 'song_ID':songid_column, \n",
    "                       'song_artist':song_artist, 'Genre':Genre_column, 'cluster':cluster_column})\n",
    "\n"
   ]
  },
  {
   "cell_type": "code",
   "execution_count": 296,
   "id": "a8d58a45",
   "metadata": {
    "scrolled": true
   },
   "outputs": [
    {
     "data": {
      "text/html": [
       "<div>\n",
       "<style scoped>\n",
       "    .dataframe tbody tr th:only-of-type {\n",
       "        vertical-align: middle;\n",
       "    }\n",
       "\n",
       "    .dataframe tbody tr th {\n",
       "        vertical-align: top;\n",
       "    }\n",
       "\n",
       "    .dataframe thead th {\n",
       "        text-align: right;\n",
       "    }\n",
       "</style>\n",
       "<table border=\"1\" class=\"dataframe\">\n",
       "  <thead>\n",
       "    <tr style=\"text-align: right;\">\n",
       "      <th></th>\n",
       "      <th>song_name</th>\n",
       "      <th>song_ID</th>\n",
       "      <th>song_artist</th>\n",
       "      <th>Genre</th>\n",
       "      <th>cluster</th>\n",
       "    </tr>\n",
       "  </thead>\n",
       "  <tbody>\n",
       "    <tr>\n",
       "      <th>0</th>\n",
       "      <td>Beggin'</td>\n",
       "      <td>3Wrjm47oTz2sjIgck11l5e</td>\n",
       "      <td>Måneskin</td>\n",
       "      <td>Indie</td>\n",
       "      <td>0</td>\n",
       "    </tr>\n",
       "    <tr>\n",
       "      <th>1</th>\n",
       "      <td>The Less I Know The Better</td>\n",
       "      <td>4g3Ax56IslQkI6XVfYKVc5</td>\n",
       "      <td>Tame Impala</td>\n",
       "      <td>Indie</td>\n",
       "      <td>0</td>\n",
       "    </tr>\n",
       "    <tr>\n",
       "      <th>2</th>\n",
       "      <td>Mr. Brightside</td>\n",
       "      <td>3n3Ppam7vgaVa1iaRUc9Lp</td>\n",
       "      <td>The Killers</td>\n",
       "      <td>Indie</td>\n",
       "      <td>21</td>\n",
       "    </tr>\n",
       "    <tr>\n",
       "      <th>3</th>\n",
       "      <td>Boys Don't Cry</td>\n",
       "      <td>1QFh8OH1e78dGd3VyJZCAC</td>\n",
       "      <td>The Cure</td>\n",
       "      <td>Indie</td>\n",
       "      <td>3</td>\n",
       "    </tr>\n",
       "    <tr>\n",
       "      <th>4</th>\n",
       "      <td>wake me up</td>\n",
       "      <td>1H6A86dQ7BMdbxofxpQvcK</td>\n",
       "      <td>Ruby</td>\n",
       "      <td>Indie</td>\n",
       "      <td>6</td>\n",
       "    </tr>\n",
       "    <tr>\n",
       "      <th>...</th>\n",
       "      <td>...</td>\n",
       "      <td>...</td>\n",
       "      <td>...</td>\n",
       "      <td>...</td>\n",
       "      <td>...</td>\n",
       "    </tr>\n",
       "    <tr>\n",
       "      <th>3758</th>\n",
       "      <td>Martian</td>\n",
       "      <td>3KaDPp6hfbnL4dAo57PNCI</td>\n",
       "      <td>Colyn</td>\n",
       "      <td>Techno</td>\n",
       "      <td>20</td>\n",
       "    </tr>\n",
       "    <tr>\n",
       "      <th>3759</th>\n",
       "      <td>Mandate - Original Mix</td>\n",
       "      <td>4nSn1svDL1elP43MZuEc0K</td>\n",
       "      <td>D-Formation</td>\n",
       "      <td>Techno</td>\n",
       "      <td>25</td>\n",
       "    </tr>\n",
       "    <tr>\n",
       "      <th>3760</th>\n",
       "      <td>Hunting - Senses of Mind Remix</td>\n",
       "      <td>4M5K6HYMIIoXLutK1v7g7U</td>\n",
       "      <td>Mark Tarmonea</td>\n",
       "      <td>Techno</td>\n",
       "      <td>19</td>\n",
       "    </tr>\n",
       "    <tr>\n",
       "      <th>3761</th>\n",
       "      <td>Evolving Flow</td>\n",
       "      <td>0hUsx4d1Ur32PPQS9CX7yU</td>\n",
       "      <td>Anturage</td>\n",
       "      <td>Techno</td>\n",
       "      <td>11</td>\n",
       "    </tr>\n",
       "    <tr>\n",
       "      <th>3762</th>\n",
       "      <td>Aya</td>\n",
       "      <td>3fDRPg5MmTsr15Fax4bFyN</td>\n",
       "      <td>Stan Kolev</td>\n",
       "      <td>Techno</td>\n",
       "      <td>1</td>\n",
       "    </tr>\n",
       "  </tbody>\n",
       "</table>\n",
       "<p>3763 rows × 5 columns</p>\n",
       "</div>"
      ],
      "text/plain": [
       "                           song_name                 song_ID    song_artist  \\\n",
       "0                            Beggin'  3Wrjm47oTz2sjIgck11l5e       Måneskin   \n",
       "1         The Less I Know The Better  4g3Ax56IslQkI6XVfYKVc5    Tame Impala   \n",
       "2                     Mr. Brightside  3n3Ppam7vgaVa1iaRUc9Lp    The Killers   \n",
       "3                     Boys Don't Cry  1QFh8OH1e78dGd3VyJZCAC       The Cure   \n",
       "4                         wake me up  1H6A86dQ7BMdbxofxpQvcK           Ruby   \n",
       "...                              ...                     ...            ...   \n",
       "3758                         Martian  3KaDPp6hfbnL4dAo57PNCI          Colyn   \n",
       "3759          Mandate - Original Mix  4nSn1svDL1elP43MZuEc0K    D-Formation   \n",
       "3760  Hunting - Senses of Mind Remix  4M5K6HYMIIoXLutK1v7g7U  Mark Tarmonea   \n",
       "3761                   Evolving Flow  0hUsx4d1Ur32PPQS9CX7yU       Anturage   \n",
       "3762                             Aya  3fDRPg5MmTsr15Fax4bFyN     Stan Kolev   \n",
       "\n",
       "       Genre  cluster  \n",
       "0      Indie        0  \n",
       "1      Indie        0  \n",
       "2      Indie       21  \n",
       "3      Indie        3  \n",
       "4      Indie        6  \n",
       "...      ...      ...  \n",
       "3758  Techno       20  \n",
       "3759  Techno       25  \n",
       "3760  Techno       19  \n",
       "3761  Techno       11  \n",
       "3762  Techno        1  \n",
       "\n",
       "[3763 rows x 5 columns]"
      ]
     },
     "execution_count": 296,
     "metadata": {},
     "output_type": "execute_result"
    }
   ],
   "source": [
    "final_df"
   ]
  },
  {
   "cell_type": "markdown",
   "id": "572ee248",
   "metadata": {},
   "source": [
    "## Testing the product"
   ]
  },
  {
   "cell_type": "code",
   "execution_count": 373,
   "id": "e85a529b",
   "metadata": {},
   "outputs": [
    {
     "name": "stdout",
     "output_type": "stream",
     "text": [
      "Give us a song name to get a recommendation!: shivers\n",
      "Do you mean Shivers by Ed Sheeran?yes\n",
      "Nice! This is a hot song! You might also like Already Dead by Juice WRLD\n"
     ]
    }
   ],
   "source": [
    "song= input(\"Give us a song name to get a recommendation!: \")\n",
    "\n",
    "check = songs_top100[songs_top100['Title'].str.lower().str.replace(\" \",\" \").str.contains(song)]\n",
    "index = check.index.tolist()\n",
    "\n",
    "if len(index) == 0:\n",
    "    print(\"This song is not on the Top 100 hot playlist! \")\n",
    "    \n",
    "else:\n",
    "    answer = input(\"Do you mean \" + songs_top100.Title[index].values[0] + \" by \" + songs_top100.Artist[index].values[0] + \"?\")\n",
    "\n",
    "    if answer.lower() == 'yes':\n",
    "        suggestion = songs_top100.sample().index.tolist()\n",
    "        print(\"Nice! This is a hot song! You might also like \" + songs_top100['Title'][suggestion].item() + \" by \" + songs_top100['Artist'][suggestion].item())\n",
    "\n",
    "    else:\n",
    "        print(\"that song is not in the playlist, try another song!\")\n",
    "        \n",
    "        "
   ]
  },
  {
   "cell_type": "code",
   "execution_count": 406,
   "id": "f0cef779",
   "metadata": {
    "scrolled": true
   },
   "outputs": [
    {
     "name": "stdout",
     "output_type": "stream",
     "text": [
      "Give us a song name to get a recommendation!: zapatillas\n",
      "This song is not on the Top 100 hot playlist! Let me check on Spotify \n",
      "The song you want is Zapatillas'by'El Canto Del Loco? (Yes/No)yes\n",
      "Nice! You might also like: High And Low'by'Sam Feldt\n",
      "Nice! This is a hot song! You might also like Happier Than Ever by Billie Eilish\n"
     ]
    }
   ],
   "source": [
    "## test 2 MI CODIGO\n",
    "\n",
    "song= input(\"Give us a song name to get a recommendation!: \")\n",
    "\n",
    "check = songs_top100[songs_top100['Title'].str.lower().str.replace(\" \",\" \").str.contains(song)]\n",
    "index = check.index.tolist()\n",
    "\n",
    "\n",
    "if len(index) == 0:\n",
    "    print(\"This song is not on the Top 100 hot playlist! Let me check on Spotify \")\n",
    "    \n",
    "# go to Spotify \n",
    "spotify = final_df[final_df['song_name'].str.lower().str.replace(\" \",\" \").str.contains(song)]\n",
    "\n",
    "index = spotify.index.tolist()\n",
    "\n",
    "# suggest another song of spotify\n",
    "\n",
    "if len(index) == 0:\n",
    "    print(\"Dont have this song!\")\n",
    "    \n",
    "else:\n",
    "    answer = input(\"The song you want is \"+final_df.song_name[index].values[0] +\"'by'\"+ final_df.song_artist[index].values[0]+\"? (Yes/No)\")\n",
    "    \n",
    "    if answer.lower() == 'yes':\n",
    "        song_cluster = final_df.cluster[index].values[0]\n",
    "        suggestion = final_df[final_df['cluster'] == song_cluster].sample().index.tolist()\n",
    "        print('Nice! You might also like: '+ final_df['song_name']\n",
    "              [suggestion].item()+ \"'by'\"+final_df['song_artist'][suggestion].item())                   \n",
    "    else:\n",
    "        print('Dont know that song, try another one!')\n",
    "    \n",
    "# if its on the top100\n",
    "\n",
    "    if answer.lower() == 'yes':\n",
    "        suggestion = songs_top100.sample().index.tolist()\n",
    "        print(\"Nice! This is a hot song! You might also like \" + songs_top100['Title'][suggestion].item() + \n",
    "              \" by \" + songs_top100['Artist'][suggestion].item())\n",
    "    else:\n",
    "        print(\"That song is not in the playlist, try another song!\")\n",
    "        "
   ]
  },
  {
   "cell_type": "code",
   "execution_count": null,
   "id": "a22bdac1",
   "metadata": {},
   "outputs": [],
   "source": [
    "## test 2 MI CODIGO COPY!!!!!\n",
    "\n",
    "song= input(\"Give us a song name to get a recommendation!: \")\n",
    "\n",
    "check = songs_top100[songs_top100['Title'].str.lower().str.replace(\" \",\" \").str.contains(song)]\n",
    "index = check.index.tolist()\n",
    "\n",
    "\n",
    "if len(index) == 0:\n",
    "    print(\"This song is not on the Top 100 hot playlist! Let me check on Spotify \")\n",
    "    \n",
    "# go to Spotify \n",
    "spotify = final_df[final_df['song_name'].str.lower().str.replace(\" \",\" \").str.contains(song)]\n",
    "\n",
    "index = spotify.index.tolist()\n",
    "\n",
    "# suggest another song of spotify\n",
    "\n",
    "if len(index) == 0:\n",
    "    print(\"Dont have this song!\")\n",
    "    \n",
    "else:\n",
    "    answer = input(\"The song you want is \"+final_df.song_name[index].values[0] +\"'by'\"+ final_df.song_artist[index].values[0]+\"? (Yes/No)\")\n",
    "    \n",
    "    if answer.lower() == 'yes':\n",
    "        song_cluster = final_df.cluster[index].values[0]\n",
    "        suggestion = final_df[final_df['cluster'] == song_cluster].sample().index.tolist()\n",
    "        print('Nice! You might also like: '+ final_df['song_name']\n",
    "              [suggestion].item()+ \"'by'\"+final_df['song_artist'][suggestion].item())                   \n",
    "    else:\n",
    "        print('Dont know that song, try another one!')\n",
    "    \n",
    "# if its on the top100\n",
    "\n",
    "    if answer.lower() == 'yes':\n",
    "        suggestion = songs_top100.sample().index.tolist()\n",
    "        print(\"Nice! This is a hot song! You might also like \" + songs_top100['Title'][suggestion].item() + \n",
    "              \" by \" + songs_top100['Artist'][suggestion].item())\n",
    "    else:\n",
    "        print(\"That song is not in the playlist, try another song!\")\n",
    "        "
   ]
  },
  {
   "cell_type": "code",
   "execution_count": null,
   "id": "7539b3c2",
   "metadata": {},
   "outputs": [],
   "source": [
    "final_df[final_df['song_name']=='stay']['cluster']"
   ]
  },
  {
   "cell_type": "code",
   "execution_count": 399,
   "id": "f9814fa9",
   "metadata": {},
   "outputs": [
    {
     "data": {
      "text/html": [
       "<div>\n",
       "<style scoped>\n",
       "    .dataframe tbody tr th:only-of-type {\n",
       "        vertical-align: middle;\n",
       "    }\n",
       "\n",
       "    .dataframe tbody tr th {\n",
       "        vertical-align: top;\n",
       "    }\n",
       "\n",
       "    .dataframe thead th {\n",
       "        text-align: right;\n",
       "    }\n",
       "</style>\n",
       "<table border=\"1\" class=\"dataframe\">\n",
       "  <thead>\n",
       "    <tr style=\"text-align: right;\">\n",
       "      <th></th>\n",
       "      <th>song_name</th>\n",
       "      <th>song_ID</th>\n",
       "      <th>song_artist</th>\n",
       "      <th>Genre</th>\n",
       "      <th>cluster</th>\n",
       "    </tr>\n",
       "  </thead>\n",
       "  <tbody>\n",
       "    <tr>\n",
       "      <th>906</th>\n",
       "      <td>Montrose Ave</td>\n",
       "      <td>1kFu2TuUmsARXGYc2eYXiC</td>\n",
       "      <td>Y.V.E. 48</td>\n",
       "      <td>Tropical</td>\n",
       "      <td>17</td>\n",
       "    </tr>\n",
       "  </tbody>\n",
       "</table>\n",
       "</div>"
      ],
      "text/plain": [
       "        song_name                 song_ID song_artist     Genre  cluster\n",
       "906  Montrose Ave  1kFu2TuUmsARXGYc2eYXiC   Y.V.E. 48  Tropical       17"
      ]
     },
     "execution_count": 399,
     "metadata": {},
     "output_type": "execute_result"
    }
   ],
   "source": [
    "#verify if value is in the df and cluster\n",
    "final_df.loc[final_df['song_name'] == \"Montrose Ave\"]"
   ]
  },
  {
   "cell_type": "code",
   "execution_count": 400,
   "id": "0942ca7d",
   "metadata": {},
   "outputs": [
    {
     "data": {
      "text/html": [
       "<div>\n",
       "<style scoped>\n",
       "    .dataframe tbody tr th:only-of-type {\n",
       "        vertical-align: middle;\n",
       "    }\n",
       "\n",
       "    .dataframe tbody tr th {\n",
       "        vertical-align: top;\n",
       "    }\n",
       "\n",
       "    .dataframe thead th {\n",
       "        text-align: right;\n",
       "    }\n",
       "</style>\n",
       "<table border=\"1\" class=\"dataframe\">\n",
       "  <thead>\n",
       "    <tr style=\"text-align: right;\">\n",
       "      <th></th>\n",
       "      <th>song_name</th>\n",
       "      <th>song_ID</th>\n",
       "      <th>song_artist</th>\n",
       "      <th>Genre</th>\n",
       "      <th>cluster</th>\n",
       "    </tr>\n",
       "  </thead>\n",
       "  <tbody>\n",
       "    <tr>\n",
       "      <th>1608</th>\n",
       "      <td>Zapatillas</td>\n",
       "      <td>42VgiRyg0YjtRVLiPFNxPJ</td>\n",
       "      <td>El Canto Del Loco</td>\n",
       "      <td>Spanish</td>\n",
       "      <td>17</td>\n",
       "    </tr>\n",
       "    <tr>\n",
       "      <th>1630</th>\n",
       "      <td>Zapatillas</td>\n",
       "      <td>6yVTl3yEdpwQmFT9PtBMc5</td>\n",
       "      <td>El Canto Del Loco</td>\n",
       "      <td>Spanish</td>\n",
       "      <td>17</td>\n",
       "    </tr>\n",
       "  </tbody>\n",
       "</table>\n",
       "</div>"
      ],
      "text/plain": [
       "       song_name                 song_ID        song_artist    Genre  cluster\n",
       "1608  Zapatillas  42VgiRyg0YjtRVLiPFNxPJ  El Canto Del Loco  Spanish       17\n",
       "1630  Zapatillas  6yVTl3yEdpwQmFT9PtBMc5  El Canto Del Loco  Spanish       17"
      ]
     },
     "execution_count": 400,
     "metadata": {},
     "output_type": "execute_result"
    }
   ],
   "source": [
    "final_df.loc[final_df['song_name'] == \"Zapatillas\"]"
   ]
  },
  {
   "cell_type": "code",
   "execution_count": 343,
   "id": "556fa075",
   "metadata": {},
   "outputs": [],
   "source": []
  },
  {
   "cell_type": "code",
   "execution_count": null,
   "id": "6481351c",
   "metadata": {},
   "outputs": [],
   "source": []
  },
  {
   "cell_type": "markdown",
   "id": "d3d520b6",
   "metadata": {},
   "source": [
    "### I put into \"Raw NBConvert\" some lines to make the notebook easily to read"
   ]
  }
 ],
 "metadata": {
  "kernelspec": {
   "display_name": "Python 3",
   "language": "python",
   "name": "python3"
  },
  "language_info": {
   "codemirror_mode": {
    "name": "ipython",
    "version": 3
   },
   "file_extension": ".py",
   "mimetype": "text/x-python",
   "name": "python",
   "nbconvert_exporter": "python",
   "pygments_lexer": "ipython3",
   "version": "3.8.8"
  }
 },
 "nbformat": 4,
 "nbformat_minor": 5
}
